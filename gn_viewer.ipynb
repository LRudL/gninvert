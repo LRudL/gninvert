{
 "cells": [
  {
   "cell_type": "code",
   "execution_count": 1,
   "id": "e2f75d04-cf68-4aae-bf61-302d03882d49",
   "metadata": {},
   "outputs": [],
   "source": [
    "%load_ext autoreload\n",
    "%autoreload 2"
   ]
  },
  {
   "cell_type": "code",
   "execution_count": 5,
   "id": "5e381112-c53a-44f3-9e9e-f855b9f14fc3",
   "metadata": {},
   "outputs": [],
   "source": [
    "import numpy as np\n",
    "import matplotlib.pyplot as plt\n",
    "import matplotlib.colors as pltcolors\n",
    "\n",
    "import torch as t\n",
    "import torch_geometric as ptgeo\n",
    "\n",
    "from torch_geometric.utils import to_networkx, from_networkx\n",
    "import networkx as nx\n",
    "\n",
    "from gninvert.functions import run_GN, gn_time_series, make_color_scale,\\\n",
    "gdisplay, run_and_draw, generate_training_data,\\\n",
    "generate_graphs_from_connections, generate_grid_edge_index\n",
    "from gninvert.gns import SingleDiffusionGN, MultiDiffusionGN, EquationGN, ActivatorInhibitorGN, FullActInhGN\n",
    "from gninvert.gnns import LinearGNN, GNN_full\n",
    "from gninvert.graph_compare import graph_compare, model_compare, model_steps_compare\n",
    "from gninvert.data_generation import get_TrainingData\n",
    "from gninvert.gnns import GNN_3Layer\n",
    "from gninvert.training import fit\n",
    "from gninvert.hyperparamsearch import hpsearch\n",
    "import gninvert\n",
    "\n",
    "import ipywidgets as widgets\n",
    "\n",
    "plt.rcParams['figure.figsize'] = [10, 4] # set plot size below\n"
   ]
  },
  {
   "cell_type": "code",
   "execution_count": 7,
   "id": "56573cac-5bec-4bc8-adb8-81d1c7d2b0c0",
   "metadata": {},
   "outputs": [],
   "source": [
    "gn_d1 = SingleDiffusionGN(diffusion_constant=0.1)\n",
    "gn_d2 = MultiDiffusionGN(diffusion_constants=[0.1, 0.1])\n",
    "gn_d3 = MultiDiffusionGN(diffusion_constants=[0.1, 0.1, 0.1])\n",
    "gn_d3v = MultiDiffusionGN(diffusion_constants=[0.15, 0.1, 0.05]) \n",
    "gn_as = ActivatorInhibitorGN(act_diff_const=0.1,\n",
    "                             inh_diff_const=0.05,\n",
    "                             growth_const=0.05)\n",
    "gn_af = FullActInhGN(\n",
    "    spatial_const = 10,\n",
    "    temporal_const = 0.01,\n",
    "    growth_alpha = 10,\n",
    "    growth_rho = 1,\n",
    "    growth_scale = 0.05,\n",
    "    reaction_const = 0.2,\n",
    "    reference_conc = 2\n",
    ")"
   ]
  },
  {
   "cell_type": "markdown",
   "id": "b62ac57b-e60d-4df8-a2ff-ee99dd6ec40b",
   "metadata": {},
   "source": [
    "# Select GN:"
   ]
  },
  {
   "cell_type": "code",
   "execution_count": 17,
   "id": "8325b3b2-a8ae-447c-a495-d695206b9067",
   "metadata": {},
   "outputs": [],
   "source": [
    "gn = gn_as"
   ]
  },
  {
   "cell_type": "markdown",
   "id": "678403e6-8d22-405e-9752-02fe5963dff4",
   "metadata": {},
   "source": [
    "---\n",
    "... and then run everything below:"
   ]
  },
  {
   "cell_type": "code",
   "execution_count": 22,
   "id": "42f56460-0e7d-473b-8959-479d2f51b38b",
   "metadata": {
    "tags": []
   },
   "outputs": [],
   "source": [
    "gdata = generate_graphs_from_connections(\n",
    "    generate_grid_edge_index(6),\n",
    "    node_feature_num=gn.node_features,\n",
    "    num=1)[0]\n",
    "\n",
    "is_act_inh_gn = gn.node_features == 3 and not hasattr(gn, 'diffusion_constants')\n",
    "\n",
    "if is_act_inh_gn and 1 == 2:\n",
    "    # ^ then assume this is an activator-inhibitor model\n",
    "    # make the cell sizes homogenous:\n",
    "    gdata.x[:, 0] = 0.1\n",
    "    # activator/inhibitor all start in one corner:\n",
    "    gdata.x[:, 1] = 0\n",
    "    gdata.x[:, 2] = 0\n",
    "    gdata.x[0, 1] = 1\n",
    "    gdata.x[1, 1] = 0.5\n",
    "    gdata.x[1, 2] = 0.4\n",
    "    gdata.x[2, 2] = 0.4\n",
    "time_series = gn_time_series(gn, 50, gdata)"
   ]
  },
  {
   "cell_type": "code",
   "execution_count": 23,
   "id": "49fe1029-0c87-40c4-ba06-2254aa7b89c8",
   "metadata": {},
   "outputs": [
    {
     "data": {
      "application/vnd.jupyter.widget-view+json": {
       "model_id": "a2f53f04f4eb4115956d96081e3f91bd",
       "version_major": 2,
       "version_minor": 0
      },
      "text/plain": [
       "interactive(children=(IntSlider(value=0, description='x', max=50), Output()), _dom_classes=('widget-interact',…"
      ]
     },
     "metadata": {},
     "output_type": "display_data"
    },
    {
     "data": {
      "text/plain": [
       "<function __main__.f(x)>"
      ]
     },
     "execution_count": 23,
     "metadata": {},
     "output_type": "execute_result"
    }
   ],
   "source": [
    "def f(x):\n",
    "    gdisplay(\n",
    "        time_series[x],\n",
    "        color_scales = [\n",
    "            make_color_scale(0, 3, plt.cm.plasma),\n",
    "            make_color_scale(0, 1, plt.cm.BuGn),\n",
    "            make_color_scale(0, 1, plt.cm.Reds)\n",
    "        ] if is_act_inh_gn else [make_color_scale(0, 1, plt.cm.cividis) for _ in range(gn.node_features)]\n",
    "    )\n",
    "    print(time_series[x].x)\n",
    "\n",
    "widgets.interact(\n",
    "    f,\n",
    "    x=widgets.IntSlider(min=0, max=len(time_series)-1, step=1, value=0)\n",
    ")"
   ]
  },
  {
   "cell_type": "code",
   "execution_count": null,
   "id": "d5e7d875-75bd-4df8-8ec6-8cc359a3dd3f",
   "metadata": {},
   "outputs": [],
   "source": []
  },
  {
   "cell_type": "code",
   "execution_count": null,
   "id": "f9a91235-10bf-44e1-af1f-709b277be3d0",
   "metadata": {},
   "outputs": [],
   "source": []
  }
 ],
 "metadata": {
  "kernelspec": {
   "display_name": "Python 3 (ipykernel)",
   "language": "python",
   "name": "python3"
  },
  "language_info": {
   "codemirror_mode": {
    "name": "ipython",
    "version": 3
   },
   "file_extension": ".py",
   "mimetype": "text/x-python",
   "name": "python",
   "nbconvert_exporter": "python",
   "pygments_lexer": "ipython3",
   "version": "3.9.10"
  }
 },
 "nbformat": 4,
 "nbformat_minor": 5
}

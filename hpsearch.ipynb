{
 "cells": [
  {
   "cell_type": "code",
   "execution_count": 2,
   "id": "36c26d47-7435-4564-a5c1-db241f4d38cc",
   "metadata": {},
   "outputs": [],
   "source": [
    "%load_ext autoreload\n",
    "%autoreload 2"
   ]
  },
  {
   "cell_type": "code",
   "execution_count": 3,
   "id": "ba4192c8-9104-490c-a82e-315533db8829",
   "metadata": {},
   "outputs": [],
   "source": [
    "import torch as t\n",
    "from gninvert.gns import MultiDiffusionGN\n",
    "from gninvert.gnns import LinearGNN\n",
    "from gninvert.hyperparamsearch import hpsearch\n",
    "from gninvert.graph_compare import model_steps_compare\n",
    "import matplotlib.pyplot as plt"
   ]
  },
  {
   "cell_type": "code",
   "execution_count": 3,
   "id": "270497a2-a540-43c1-8056-2901bff3fc7a",
   "metadata": {},
   "outputs": [],
   "source": [
    "diffusionGN = MultiDiffusionGN([0.1, 0.1])"
   ]
  },
  {
   "cell_type": "code",
   "execution_count": 4,
   "id": "db7e3b00-2461-4c39-b9bf-e661a9ab4e2f",
   "metadata": {},
   "outputs": [],
   "source": [
    "device = t.device('cuda' if t.cuda.is_available() else 'cpu')"
   ]
  },
  {
   "cell_type": "code",
   "execution_count": 5,
   "id": "a10b0ba9-1a82-4759-baa8-efbd20e29157",
   "metadata": {},
   "outputs": [],
   "source": [
    "params = {\n",
    "    'starting_lr': [0.1, 0.05, 0.01, 0.001],\n",
    "    'lr_scheduler_dec_factor': [0.2],\n",
    "    'lr_scheduler_patience': [20, 100],\n",
    "    'lr_scheduler_cooldown': [20],\n",
    "    'batch_size': [1, 10],\n",
    "    'adam_weight_decay': [5e-7, 5e-6, 5e-5],\n",
    "    'epochs': [300],\n",
    "    'loss_func': [t.nn.MSELoss()]\n",
    "}"
   ]
  },
  {
   "cell_type": "code",
   "execution_count": 16,
   "id": "00f2aff6-3567-4e1f-a853-d8a1145f977d",
   "metadata": {},
   "outputs": [],
   "source": [
    "params_simple = {\n",
    "    'starting_lr': [0.001],\n",
    "    'lr_scheduler_dec_factor': [0.2],\n",
    "    'lr_scheduler_patience': [20],\n",
    "    'lr_scheduler_cooldown': [20],\n",
    "    'batch_size': [10],\n",
    "    'adam_weight_decay': [5e-5],\n",
    "    'epochs': [300],\n",
    "    'loss_func': [t.nn.MSELoss()]\n",
    "}"
   ]
  },
  {
   "cell_type": "code",
   "execution_count": 23,
   "id": "222e8d26-4ee5-48a4-b27a-e9e6eea6710d",
   "metadata": {},
   "outputs": [
    {
     "data": {
      "application/vnd.jupyter.widget-view+json": {
       "model_id": "3e0bd9a845d945c7a7d7d2620d8316bb",
       "version_major": 2,
       "version_minor": 0
      },
      "text/plain": [
       "  0%|          | 0/48 [00:00<?, ?it/s]"
      ]
     },
     "metadata": {},
     "output_type": "display_data"
    },
    {
     "data": {
      "application/vnd.jupyter.widget-view+json": {
       "model_id": "e7180ceb8051482f85084e1b272def3b",
       "version_major": 2,
       "version_minor": 0
      },
      "text/plain": [
       "  0%|          | 0/300 [00:00<?, ?it/s]"
      ]
     },
     "metadata": {},
     "output_type": "display_data"
    },
    {
     "data": {
      "application/vnd.jupyter.widget-view+json": {
       "model_id": "e6d2edd7d4cb451fbb98483af0eea992",
       "version_major": 2,
       "version_minor": 0
      },
      "text/plain": [
       "  0%|          | 0/300 [00:00<?, ?it/s]"
      ]
     },
     "metadata": {},
     "output_type": "display_data"
    },
    {
     "data": {
      "application/vnd.jupyter.widget-view+json": {
       "model_id": "380b76ccf9004ee382167ee674297c3a",
       "version_major": 2,
       "version_minor": 0
      },
      "text/plain": [
       "  0%|          | 0/300 [00:00<?, ?it/s]"
      ]
     },
     "metadata": {},
     "output_type": "display_data"
    },
    {
     "data": {
      "application/vnd.jupyter.widget-view+json": {
       "model_id": "1c097a84b20e439ead0f165937aa6ca1",
       "version_major": 2,
       "version_minor": 0
      },
      "text/plain": [
       "  0%|          | 0/300 [00:00<?, ?it/s]"
      ]
     },
     "metadata": {},
     "output_type": "display_data"
    },
    {
     "data": {
      "application/vnd.jupyter.widget-view+json": {
       "model_id": "ffa747dbaa9348cb9e3de6b62cf269cc",
       "version_major": 2,
       "version_minor": 0
      },
      "text/plain": [
       "  0%|          | 0/300 [00:00<?, ?it/s]"
      ]
     },
     "metadata": {},
     "output_type": "display_data"
    },
    {
     "data": {
      "application/vnd.jupyter.widget-view+json": {
       "model_id": "86c544c50dc145c38328f3dd447671bb",
       "version_major": 2,
       "version_minor": 0
      },
      "text/plain": [
       "  0%|          | 0/300 [00:00<?, ?it/s]"
      ]
     },
     "metadata": {},
     "output_type": "display_data"
    },
    {
     "data": {
      "application/vnd.jupyter.widget-view+json": {
       "model_id": "2a2a5dc2d2e74592acb9c62d6a29e903",
       "version_major": 2,
       "version_minor": 0
      },
      "text/plain": [
       "  0%|          | 0/300 [00:00<?, ?it/s]"
      ]
     },
     "metadata": {},
     "output_type": "display_data"
    },
    {
     "data": {
      "application/vnd.jupyter.widget-view+json": {
       "model_id": "06e09797befb4e05b68601f15c0008c7",
       "version_major": 2,
       "version_minor": 0
      },
      "text/plain": [
       "  0%|          | 0/300 [00:00<?, ?it/s]"
      ]
     },
     "metadata": {},
     "output_type": "display_data"
    },
    {
     "data": {
      "application/vnd.jupyter.widget-view+json": {
       "model_id": "d66a3009fe08442595343e192c37ed6e",
       "version_major": 2,
       "version_minor": 0
      },
      "text/plain": [
       "  0%|          | 0/300 [00:00<?, ?it/s]"
      ]
     },
     "metadata": {},
     "output_type": "display_data"
    },
    {
     "data": {
      "application/vnd.jupyter.widget-view+json": {
       "model_id": "87429c43f8d84b73b8d42d362f24a55d",
       "version_major": 2,
       "version_minor": 0
      },
      "text/plain": [
       "  0%|          | 0/300 [00:00<?, ?it/s]"
      ]
     },
     "metadata": {},
     "output_type": "display_data"
    },
    {
     "data": {
      "application/vnd.jupyter.widget-view+json": {
       "model_id": "9baeee497e11427ba990bb28c57fa0e0",
       "version_major": 2,
       "version_minor": 0
      },
      "text/plain": [
       "  0%|          | 0/300 [00:00<?, ?it/s]"
      ]
     },
     "metadata": {},
     "output_type": "display_data"
    },
    {
     "data": {
      "application/vnd.jupyter.widget-view+json": {
       "model_id": "7aab5f82423c40c3b0e4b280110be034",
       "version_major": 2,
       "version_minor": 0
      },
      "text/plain": [
       "  0%|          | 0/300 [00:00<?, ?it/s]"
      ]
     },
     "metadata": {},
     "output_type": "display_data"
    },
    {
     "data": {
      "application/vnd.jupyter.widget-view+json": {
       "model_id": "914d4170ec234efbbfaf6c977a7af711",
       "version_major": 2,
       "version_minor": 0
      },
      "text/plain": [
       "  0%|          | 0/300 [00:00<?, ?it/s]"
      ]
     },
     "metadata": {},
     "output_type": "display_data"
    },
    {
     "data": {
      "application/vnd.jupyter.widget-view+json": {
       "model_id": "925dcc85d48b42339fb84890f3beb17c",
       "version_major": 2,
       "version_minor": 0
      },
      "text/plain": [
       "  0%|          | 0/300 [00:00<?, ?it/s]"
      ]
     },
     "metadata": {},
     "output_type": "display_data"
    },
    {
     "data": {
      "application/vnd.jupyter.widget-view+json": {
       "model_id": "254ad9c6023a418f853c4b9bdd22a5fa",
       "version_major": 2,
       "version_minor": 0
      },
      "text/plain": [
       "  0%|          | 0/300 [00:00<?, ?it/s]"
      ]
     },
     "metadata": {},
     "output_type": "display_data"
    },
    {
     "data": {
      "application/vnd.jupyter.widget-view+json": {
       "model_id": "9082b8493c6c497a9bde15aa2e494fed",
       "version_major": 2,
       "version_minor": 0
      },
      "text/plain": [
       "  0%|          | 0/300 [00:00<?, ?it/s]"
      ]
     },
     "metadata": {},
     "output_type": "display_data"
    },
    {
     "data": {
      "application/vnd.jupyter.widget-view+json": {
       "model_id": "4d867379a27a4be884b13d4340e50fcf",
       "version_major": 2,
       "version_minor": 0
      },
      "text/plain": [
       "  0%|          | 0/300 [00:00<?, ?it/s]"
      ]
     },
     "metadata": {},
     "output_type": "display_data"
    },
    {
     "data": {
      "application/vnd.jupyter.widget-view+json": {
       "model_id": "1eb862988a334238a44b42b991ba1af6",
       "version_major": 2,
       "version_minor": 0
      },
      "text/plain": [
       "  0%|          | 0/300 [00:00<?, ?it/s]"
      ]
     },
     "metadata": {},
     "output_type": "display_data"
    },
    {
     "data": {
      "application/vnd.jupyter.widget-view+json": {
       "model_id": "e1dddc11bbf2475290f90834ffeb7bdc",
       "version_major": 2,
       "version_minor": 0
      },
      "text/plain": [
       "  0%|          | 0/300 [00:00<?, ?it/s]"
      ]
     },
     "metadata": {},
     "output_type": "display_data"
    },
    {
     "data": {
      "application/vnd.jupyter.widget-view+json": {
       "model_id": "49fa10457fb744138d14b50a334e658a",
       "version_major": 2,
       "version_minor": 0
      },
      "text/plain": [
       "  0%|          | 0/300 [00:00<?, ?it/s]"
      ]
     },
     "metadata": {},
     "output_type": "display_data"
    },
    {
     "data": {
      "application/vnd.jupyter.widget-view+json": {
       "model_id": "7fd3be5defb04acd97071f82a497171b",
       "version_major": 2,
       "version_minor": 0
      },
      "text/plain": [
       "  0%|          | 0/300 [00:00<?, ?it/s]"
      ]
     },
     "metadata": {},
     "output_type": "display_data"
    },
    {
     "data": {
      "application/vnd.jupyter.widget-view+json": {
       "model_id": "8e7d4e2406014c5c916d209ba8f48153",
       "version_major": 2,
       "version_minor": 0
      },
      "text/plain": [
       "  0%|          | 0/300 [00:00<?, ?it/s]"
      ]
     },
     "metadata": {},
     "output_type": "display_data"
    },
    {
     "data": {
      "application/vnd.jupyter.widget-view+json": {
       "model_id": "7e832427249f42f2a9b615dd98097989",
       "version_major": 2,
       "version_minor": 0
      },
      "text/plain": [
       "  0%|          | 0/300 [00:00<?, ?it/s]"
      ]
     },
     "metadata": {},
     "output_type": "display_data"
    },
    {
     "data": {
      "application/vnd.jupyter.widget-view+json": {
       "model_id": "1c95328f967f48ac96a12fbf85ce0ecd",
       "version_major": 2,
       "version_minor": 0
      },
      "text/plain": [
       "  0%|          | 0/300 [00:00<?, ?it/s]"
      ]
     },
     "metadata": {},
     "output_type": "display_data"
    },
    {
     "data": {
      "application/vnd.jupyter.widget-view+json": {
       "model_id": "d85e8f67c0c848e5957d9571404aa61c",
       "version_major": 2,
       "version_minor": 0
      },
      "text/plain": [
       "  0%|          | 0/300 [00:00<?, ?it/s]"
      ]
     },
     "metadata": {},
     "output_type": "display_data"
    },
    {
     "data": {
      "application/vnd.jupyter.widget-view+json": {
       "model_id": "f7eb9da52132404482cba4d1d1edaed1",
       "version_major": 2,
       "version_minor": 0
      },
      "text/plain": [
       "  0%|          | 0/300 [00:00<?, ?it/s]"
      ]
     },
     "metadata": {},
     "output_type": "display_data"
    },
    {
     "data": {
      "application/vnd.jupyter.widget-view+json": {
       "model_id": "655d35fd0d784704835a237fb4849c66",
       "version_major": 2,
       "version_minor": 0
      },
      "text/plain": [
       "  0%|          | 0/300 [00:00<?, ?it/s]"
      ]
     },
     "metadata": {},
     "output_type": "display_data"
    },
    {
     "data": {
      "application/vnd.jupyter.widget-view+json": {
       "model_id": "5d4042f0d67b4396ac5c55085cd3621a",
       "version_major": 2,
       "version_minor": 0
      },
      "text/plain": [
       "  0%|          | 0/300 [00:00<?, ?it/s]"
      ]
     },
     "metadata": {},
     "output_type": "display_data"
    },
    {
     "data": {
      "application/vnd.jupyter.widget-view+json": {
       "model_id": "9942aac372954b668df0a56b99589ded",
       "version_major": 2,
       "version_minor": 0
      },
      "text/plain": [
       "  0%|          | 0/300 [00:00<?, ?it/s]"
      ]
     },
     "metadata": {},
     "output_type": "display_data"
    },
    {
     "data": {
      "application/vnd.jupyter.widget-view+json": {
       "model_id": "7c4c81be4bac4f70bce8a39a8da8fda4",
       "version_major": 2,
       "version_minor": 0
      },
      "text/plain": [
       "  0%|          | 0/300 [00:00<?, ?it/s]"
      ]
     },
     "metadata": {},
     "output_type": "display_data"
    },
    {
     "data": {
      "application/vnd.jupyter.widget-view+json": {
       "model_id": "7af133c9bbba40baa46c22c0cf6e76aa",
       "version_major": 2,
       "version_minor": 0
      },
      "text/plain": [
       "  0%|          | 0/300 [00:00<?, ?it/s]"
      ]
     },
     "metadata": {},
     "output_type": "display_data"
    },
    {
     "data": {
      "application/vnd.jupyter.widget-view+json": {
       "model_id": "c2ee711d901d42d19a9fd86b9132907a",
       "version_major": 2,
       "version_minor": 0
      },
      "text/plain": [
       "  0%|          | 0/300 [00:00<?, ?it/s]"
      ]
     },
     "metadata": {},
     "output_type": "display_data"
    },
    {
     "data": {
      "application/vnd.jupyter.widget-view+json": {
       "model_id": "3bcf72b43dc440c0b12345bdaf49a6c5",
       "version_major": 2,
       "version_minor": 0
      },
      "text/plain": [
       "  0%|          | 0/300 [00:00<?, ?it/s]"
      ]
     },
     "metadata": {},
     "output_type": "display_data"
    },
    {
     "data": {
      "application/vnd.jupyter.widget-view+json": {
       "model_id": "f4fd0d35cf874d17a74acaf34948d14a",
       "version_major": 2,
       "version_minor": 0
      },
      "text/plain": [
       "  0%|          | 0/300 [00:00<?, ?it/s]"
      ]
     },
     "metadata": {},
     "output_type": "display_data"
    },
    {
     "data": {
      "application/vnd.jupyter.widget-view+json": {
       "model_id": "b6c63b502cc44a33b1b1fac1cc285077",
       "version_major": 2,
       "version_minor": 0
      },
      "text/plain": [
       "  0%|          | 0/300 [00:00<?, ?it/s]"
      ]
     },
     "metadata": {},
     "output_type": "display_data"
    },
    {
     "data": {
      "application/vnd.jupyter.widget-view+json": {
       "model_id": "579955fab99145ba90330018a56c6e23",
       "version_major": 2,
       "version_minor": 0
      },
      "text/plain": [
       "  0%|          | 0/300 [00:00<?, ?it/s]"
      ]
     },
     "metadata": {},
     "output_type": "display_data"
    },
    {
     "data": {
      "application/vnd.jupyter.widget-view+json": {
       "model_id": "4c088ec9ac2f434da211d4292a75c299",
       "version_major": 2,
       "version_minor": 0
      },
      "text/plain": [
       "  0%|          | 0/300 [00:00<?, ?it/s]"
      ]
     },
     "metadata": {},
     "output_type": "display_data"
    },
    {
     "data": {
      "application/vnd.jupyter.widget-view+json": {
       "model_id": "0dc947ccba954d5785531427a6f39b5a",
       "version_major": 2,
       "version_minor": 0
      },
      "text/plain": [
       "  0%|          | 0/300 [00:00<?, ?it/s]"
      ]
     },
     "metadata": {},
     "output_type": "display_data"
    },
    {
     "data": {
      "application/vnd.jupyter.widget-view+json": {
       "model_id": "8d02aca7a02e49659674a37bbcd7fbc5",
       "version_major": 2,
       "version_minor": 0
      },
      "text/plain": [
       "  0%|          | 0/300 [00:00<?, ?it/s]"
      ]
     },
     "metadata": {},
     "output_type": "display_data"
    },
    {
     "data": {
      "application/vnd.jupyter.widget-view+json": {
       "model_id": "45964ecc6ccd439981888d52133afd5a",
       "version_major": 2,
       "version_minor": 0
      },
      "text/plain": [
       "  0%|          | 0/300 [00:00<?, ?it/s]"
      ]
     },
     "metadata": {},
     "output_type": "display_data"
    },
    {
     "data": {
      "application/vnd.jupyter.widget-view+json": {
       "model_id": "b93d624a9b794c6aafbb115cae9c4d26",
       "version_major": 2,
       "version_minor": 0
      },
      "text/plain": [
       "  0%|          | 0/300 [00:00<?, ?it/s]"
      ]
     },
     "metadata": {},
     "output_type": "display_data"
    },
    {
     "data": {
      "application/vnd.jupyter.widget-view+json": {
       "model_id": "d98b0aa2fbe54649a2c3de363a6fb7c3",
       "version_major": 2,
       "version_minor": 0
      },
      "text/plain": [
       "  0%|          | 0/300 [00:00<?, ?it/s]"
      ]
     },
     "metadata": {},
     "output_type": "display_data"
    },
    {
     "data": {
      "application/vnd.jupyter.widget-view+json": {
       "model_id": "034dd5f0dcd44f7eaab05e7e77a1fbe6",
       "version_major": 2,
       "version_minor": 0
      },
      "text/plain": [
       "  0%|          | 0/300 [00:00<?, ?it/s]"
      ]
     },
     "metadata": {},
     "output_type": "display_data"
    },
    {
     "data": {
      "application/vnd.jupyter.widget-view+json": {
       "model_id": "89ff94d4c7494562a1381a4f726677af",
       "version_major": 2,
       "version_minor": 0
      },
      "text/plain": [
       "  0%|          | 0/300 [00:00<?, ?it/s]"
      ]
     },
     "metadata": {},
     "output_type": "display_data"
    },
    {
     "data": {
      "application/vnd.jupyter.widget-view+json": {
       "model_id": "431ec1079ab248538a270a0a26458386",
       "version_major": 2,
       "version_minor": 0
      },
      "text/plain": [
       "  0%|          | 0/300 [00:00<?, ?it/s]"
      ]
     },
     "metadata": {},
     "output_type": "display_data"
    },
    {
     "data": {
      "application/vnd.jupyter.widget-view+json": {
       "model_id": "9b182f859fe944a890c2f88a52b1dcd9",
       "version_major": 2,
       "version_minor": 0
      },
      "text/plain": [
       "  0%|          | 0/300 [00:00<?, ?it/s]"
      ]
     },
     "metadata": {},
     "output_type": "display_data"
    },
    {
     "data": {
      "application/vnd.jupyter.widget-view+json": {
       "model_id": "e401f2addc8c43a3bb59a2d2e353873a",
       "version_major": 2,
       "version_minor": 0
      },
      "text/plain": [
       "  0%|          | 0/300 [00:00<?, ?it/s]"
      ]
     },
     "metadata": {},
     "output_type": "display_data"
    },
    {
     "data": {
      "application/vnd.jupyter.widget-view+json": {
       "model_id": "08270cb698764eba964a8ccd2fc3bab4",
       "version_major": 2,
       "version_minor": 0
      },
      "text/plain": [
       "  0%|          | 0/300 [00:00<?, ?it/s]"
      ]
     },
     "metadata": {},
     "output_type": "display_data"
    }
   ],
   "source": [
    "results = hpsearch(\n",
    "    params,\n",
    "    model_constructor = lambda : LinearGNN(2).to(device),\n",
    "    model_score_fn = lambda model : model_steps_compare(model, diffusionGN)['absolute']['avg_difs'][-1]\n",
    ")"
   ]
  },
  {
   "cell_type": "code",
   "execution_count": 24,
   "id": "20b84b91-bd79-4c66-a10d-a4249a71243d",
   "metadata": {},
   "outputs": [
    {
     "data": {
      "image/png": "[encoded data removed]",
      "text/plain": [
       "<Figure size 432x288 with 1 Axes>"
      ]
     },
     "metadata": {
      "needs_background": "light"
     },
     "output_type": "display_data"
    }
   ],
   "source": [
    "plots = [res['val_loss_history'] for res in results]\n",
    "for p in plots:\n",
    "    plt.plot(p)\n",
    "plt.yscale('log')"
   ]
  },
  {
   "cell_type": "code",
   "execution_count": 25,
   "id": "9ea1f6c8-3972-4e1e-92a2-519ef8d212f1",
   "metadata": {},
   "outputs": [
    {
     "data": {
      "text/plain": [
       "[({'starting_lr': 0.01,\n",
       "   'lr_scheduler_dec_factor': 0.2,\n",
       "   'lr_scheduler_patience': 20,\n",
       "   'lr_scheduler_cooldown': 20,\n",
       "   'batch_size': 1,\n",
       "   'adam_weight_decay': 5e-07,\n",
       "   'epochs': 300,\n",
       "   'loss_func': MSELoss()},),\n",
       " ({'starting_lr': 0.05,\n",
       "   'lr_scheduler_dec_factor': 0.2,\n",
       "   'lr_scheduler_patience': 20,\n",
       "   'lr_scheduler_cooldown': 20,\n",
       "   'batch_size': 1,\n",
       "   'adam_weight_decay': 5e-07,\n",
       "   'epochs': 300,\n",
       "   'loss_func': MSELoss()},),\n",
       " ({'starting_lr': 0.1,\n",
       "   'lr_scheduler_dec_factor': 0.2,\n",
       "   'lr_scheduler_patience': 20,\n",
       "   'lr_scheduler_cooldown': 20,\n",
       "   'batch_size': 1,\n",
       "   'adam_weight_decay': 5e-07,\n",
       "   'epochs': 300,\n",
       "   'loss_func': MSELoss()},)]"
      ]
     },
     "execution_count": 25,
     "metadata": {},
     "output_type": "execute_result"
    }
   ],
   "source": [
    "[(results[i]['settings'],) for i in range(3)]"
   ]
  },
  {
   "cell_type": "markdown",
   "id": "5ba154f5-1e61-4a72-a952-8f2766021348",
   "metadata": {},
   "source": [
    "Best are 0th and 2nd one above"
   ]
  },
  {
   "cell_type": "code",
   "execution_count": 27,
   "id": "0ccf3d59-0f4d-4b95-b409-035ee6ec2ddf",
   "metadata": {},
   "outputs": [
    {
     "data": {
      "text/plain": [
       "[(0.0009941927855834365, 3.874143672533137e-08),\n",
       " (0.0010250404011458158, 4.2558536250680845e-08),\n",
       " (0.0012728460133075714, 6.393215556954601e-08),\n",
       " (0.0017037742072716355, 3.770651630929933e-07),\n",
       " (0.0023620263673365116, 3.06473509681382e-07),\n",
       " (0.004351378884166479, 3.445065203777631e-06),\n",
       " (0.004550764802843332, 1.4032481203685165e-06),\n",
       " (0.006975661963224411, 2.8231793294253293e-06),\n",
       " (0.0077355667017400265, 3.3028175039362395e-06),\n",
       " (0.009398570284247398, 2.7638488973025233e-06),\n",
       " (0.010967586189508438, 7.416993412334705e-06),\n",
       " (0.012371824122965336, 0.00010129853035323322),\n",
       " (0.012592194601893425, 1.1686150173773058e-05),\n",
       " (0.0170334130525589, 0.00011052740592276677),\n",
       " (0.035003501921892166, 0.00015385419828817248),\n",
       " (0.039918117225170135, 2.9191911380621605e-05),\n",
       " (0.044033654034137726, 0.00012754624185618013),\n",
       " (0.04650503024458885, 0.00018827214080374688),\n",
       " (0.049025509506464005, 0.00027141268947161734),\n",
       " (0.0527484305202961, 0.00039123426540754735),\n",
       " (0.05427516624331474, 0.00019032391719520092),\n",
       " (0.05485771968960762, 0.003066227538511157),\n",
       " (0.058396317064762115, 0.0014571544015780091),\n",
       " (0.059494245797395706, 0.005315005779266357),\n",
       " (0.06328879296779633, 0.0023080273531377316),\n",
       " (0.06858479976654053, 0.00027031649369746447),\n",
       " (0.08324345201253891, 0.001191240269690752),\n",
       " (0.0856819599866867, 0.0003908902872353792),\n",
       " (0.09459646046161652, 0.0007392112747766078),\n",
       " (0.09620056301355362, 0.0028766533359885216),\n",
       " (0.1056453213095665, 0.0017403896199539304),\n",
       " (0.11542990058660507, 0.003925466910004616),\n",
       " (0.12719352543354034, 0.01343599334359169),\n",
       " (0.139521524310112, 0.006167146377265453),\n",
       " (0.14497549831867218, 0.0024092711973935366),\n",
       " (0.15483975410461426, 0.001494031515903771),\n",
       " (0.23320963978767395, 0.007232983130961657),\n",
       " (0.26161009073257446, 0.018001481890678406),\n",
       " (0.2645166516304016, 0.01668485254049301),\n",
       " (0.3204468786716461, 0.015083790756762028),\n",
       " (0.524321973323822, 0.010458866134285927),\n",
       " (0.6662699580192566, 0.0202083270996809),\n",
       " (0.6861795783042908, 0.01662462204694748),\n",
       " (1.136142611503601, 0.04054993391036987),\n",
       " (1.3080718517303467, 0.10113486647605896),\n",
       " (1.664659857749939, 0.01890256069600582),\n",
       " (2.4996609687805176, 0.02169531024992466),\n",
       " (6.985341548919678, 0.07381831109523773)]"
      ]
     },
     "execution_count": 27,
     "metadata": {},
     "output_type": "execute_result"
    }
   ],
   "source": [
    "[(results[i]['score'], results[i]['val_loss_history'][-1]) for i in range(len(results))]"
   ]
  },
  {
   "cell_type": "code",
   "execution_count": 28,
   "id": "daa58919-d75d-4e4e-8e0c-2d4661f2cdf2",
   "metadata": {},
   "outputs": [
    {
     "data": {
      "image/png": "[encoded data removed]",
      "text/plain": [
       "<Figure size 432x288 with 1 Axes>"
      ]
     },
     "metadata": {
      "needs_background": "light"
     },
     "output_type": "display_data"
    }
   ],
   "source": [
    "plt.scatter([result['score'] for result in results],\n",
    "            [result['val_loss_history'][-1] for result in results])\n",
    "\n",
    "plt.xlabel('last-step avg. absolute difference')\n",
    "plt.ylabel('final validation loss')\n",
    "\n",
    "plt.yscale('log')\n",
    "plt.xscale('log')"
   ]
  },
  {
   "cell_type": "code",
   "execution_count": 11,
   "id": "d524e3fd-9361-40ea-8c41-e5045b8e9b25",
   "metadata": {},
   "outputs": [
    {
     "ename": "NameError",
     "evalue": "name 'results' is not defined",
     "output_type": "error",
     "traceback": [
      "\u001b[0;31m---------------------------------------------------------------------------\u001b[0m",
      "\u001b[0;31mNameError\u001b[0m                                 Traceback (most recent call last)",
      "Input \u001b[0;32mIn [11]\u001b[0m, in \u001b[0;36m<module>\u001b[0;34m\u001b[0m\n\u001b[0;32m----> 1\u001b[0m plt\u001b[38;5;241m.\u001b[39mscatter([result[\u001b[38;5;124m'\u001b[39m\u001b[38;5;124mscore\u001b[39m\u001b[38;5;124m'\u001b[39m] \u001b[38;5;28;01mfor\u001b[39;00m result \u001b[38;5;129;01min\u001b[39;00m \u001b[43mresults\u001b[49m],\n\u001b[1;32m      2\u001b[0m             [result[\u001b[38;5;124m'\u001b[39m\u001b[38;5;124mval_loss_history\u001b[39m\u001b[38;5;124m'\u001b[39m][\u001b[38;5;241m-\u001b[39m\u001b[38;5;241m1\u001b[39m] \u001b[38;5;28;01mfor\u001b[39;00m result \u001b[38;5;129;01min\u001b[39;00m results])\n\u001b[1;32m      4\u001b[0m plt\u001b[38;5;241m.\u001b[39mxlabel(\u001b[38;5;124m'\u001b[39m\u001b[38;5;124mlast-step avg. absolute difference\u001b[39m\u001b[38;5;124m'\u001b[39m)\n\u001b[1;32m      5\u001b[0m plt\u001b[38;5;241m.\u001b[39mylabel(\u001b[38;5;124m'\u001b[39m\u001b[38;5;124mfinal validation loss\u001b[39m\u001b[38;5;124m'\u001b[39m)\n",
      "\u001b[0;31mNameError\u001b[0m: name 'results' is not defined"
     ]
    }
   ],
   "source": [
    "plt.scatter([result['score'] for result in results],\n",
    "            [result['val_loss_history'][-1] for result in results])\n",
    "\n",
    "plt.xlabel('last-step avg. absolute difference')\n",
    "plt.ylabel('final validation loss')\n",
    "\n",
    "plt.yscale('log')\n",
    "plt.xscale('log')"
   ]
  },
  {
   "cell_type": "code",
   "execution_count": 31,
   "id": "879c2030-bb3e-49bc-a341-5ecf691e6173",
   "metadata": {},
   "outputs": [],
   "source": [
    "t.save(results[0]['model'], \"models/sim2-hpmodel1.pt\")"
   ]
  },
  {
   "cell_type": "markdown",
   "id": "1d7c80dc-52fe-42e9-a3f7-964e2c6dbec5",
   "metadata": {},
   "source": [
    "# Stability check"
   ]
  },
  {
   "cell_type": "code",
   "execution_count": 32,
   "id": "2a8dea29-7b4f-48f6-970f-e0f8f8874c23",
   "metadata": {},
   "outputs": [],
   "source": [
    "params_stability = {\n",
    "    'starting_lr': [0.01, 0.01, 0.01, 0.01],\n",
    "    'lr_scheduler_dec_factor': [0.2],\n",
    "    'lr_scheduler_patience': [20],\n",
    "    'lr_scheduler_cooldown': [20],\n",
    "    'batch_size': [1],\n",
    "    'adam_weight_decay': [5e-7],\n",
    "    'epochs': [600],\n",
    "    'loss_func': [t.nn.MSELoss()]\n",
    "}"
   ]
  },
  {
   "cell_type": "code",
   "execution_count": 33,
   "id": "c9350bc2-0a84-4015-b6f6-23910825c3c7",
   "metadata": {},
   "outputs": [
    {
     "data": {
      "application/vnd.jupyter.widget-view+json": {
       "model_id": "ee1e1ab4d41f46d180afc5d4cd4a0469",
       "version_major": 2,
       "version_minor": 0
      },
      "text/plain": [
       "  0%|          | 0/4 [00:00<?, ?it/s]"
      ]
     },
     "metadata": {},
     "output_type": "display_data"
    },
    {
     "data": {
      "application/vnd.jupyter.widget-view+json": {
       "model_id": "d5c908a7f68d4bad9a78ffe0359f9ab9",
       "version_major": 2,
       "version_minor": 0
      },
      "text/plain": [
       "  0%|          | 0/600 [00:00<?, ?it/s]"
      ]
     },
     "metadata": {},
     "output_type": "display_data"
    },
    {
     "data": {
      "application/vnd.jupyter.widget-view+json": {
       "model_id": "647f1053903d48a8981ae18c793776c0",
       "version_major": 2,
       "version_minor": 0
      },
      "text/plain": [
       "  0%|          | 0/600 [00:00<?, ?it/s]"
      ]
     },
     "metadata": {},
     "output_type": "display_data"
    },
    {
     "data": {
      "application/vnd.jupyter.widget-view+json": {
       "model_id": "ec7cb152c6624bcd95d5b46ec77605e8",
       "version_major": 2,
       "version_minor": 0
      },
      "text/plain": [
       "  0%|          | 0/600 [00:00<?, ?it/s]"
      ]
     },
     "metadata": {},
     "output_type": "display_data"
    },
    {
     "data": {
      "application/vnd.jupyter.widget-view+json": {
       "model_id": "dd4e630fb16144a9a3d56bb3dda2583b",
       "version_major": 2,
       "version_minor": 0
      },
      "text/plain": [
       "  0%|          | 0/600 [00:00<?, ?it/s]"
      ]
     },
     "metadata": {},
     "output_type": "display_data"
    }
   ],
   "source": [
    "sresults = hpsearch(\n",
    "    params_stability,\n",
    "    lambda : LinearGNN(2).to(device),\n",
    "    lambda model : model_steps_compare(model, diffusionGN)['absolute']['avg_difs'][-1]\n",
    ")"
   ]
  },
  {
   "cell_type": "code",
   "execution_count": 34,
   "id": "7a117a77-bf55-4c55-afbd-5c017abff54a",
   "metadata": {},
   "outputs": [
    {
     "data": {
      "image/png": "[encoded data removed]",
      "text/plain": [
       "<Figure size 432x288 with 1 Axes>"
      ]
     },
     "metadata": {
      "needs_background": "light"
     },
     "output_type": "display_data"
    }
   ],
   "source": [
    "plots = [res['val_loss_history'] for res in sresults]\n",
    "for p in plots:\n",
    "    plt.plot(p)\n",
    "plt.yscale('log')"
   ]
  },
  {
   "cell_type": "code",
   "execution_count": 38,
   "id": "c17a1180-f274-49d3-9c35-f0097f14ae14",
   "metadata": {},
   "outputs": [],
   "source": [
    "t.save(sresults[0]['model'], 'models/sim2-hpmodel2.pt')"
   ]
  },
  {
   "cell_type": "markdown",
   "id": "8a3444e4-97c1-43fb-a1dc-ac8b5757ff60",
   "metadata": {},
   "source": [
    "## Above: some idea of extent of randomness-induced instability in training with same hyperparams"
   ]
  },
  {
   "cell_type": "code",
   "execution_count": 35,
   "id": "a83012f1-b406-4020-a6fb-ce99a109ff58",
   "metadata": {},
   "outputs": [
    {
     "data": {
      "image/png": "[encoded data removed]",
      "text/plain": [
       "<Figure size 432x288 with 1 Axes>"
      ]
     },
     "metadata": {
      "needs_background": "light"
     },
     "output_type": "display_data"
    }
   ],
   "source": [
    "plt.scatter([result['score'] for result in sresults],\n",
    "            [result['val_loss_history'][-1] for result in sresults])\n",
    "\n",
    "plt.xlabel('last-step avg similarity')\n",
    "plt.ylabel('final validation loss')\n",
    "\n",
    "plt.yscale('log')\n",
    "plt.xscale('log')"
   ]
  },
  {
   "cell_type": "code",
   "execution_count": null,
   "id": "12dbf2dd-e5a8-4cf9-9ca8-f72bc284e5ae",
   "metadata": {},
   "outputs": [],
   "source": []
  }
 ],
 "metadata": {
  "kernelspec": {
   "display_name": "Python 3 (ipykernel)",
   "language": "python",
   "name": "python3"
  },
  "language_info": {
   "codemirror_mode": {
    "name": "ipython",
    "version": 3
   },
   "file_extension": ".py",
   "mimetype": "text/x-python",
   "name": "python",
   "nbconvert_exporter": "python",
   "pygments_lexer": "ipython3",
   "version": "3.9.10"
  }
 },
 "nbformat": 4,
 "nbformat_minor": 5
}

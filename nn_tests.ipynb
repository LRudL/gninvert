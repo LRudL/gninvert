{
 "cells": [
  {
   "cell_type": "code",
   "execution_count": 431,
   "id": "46734d58-2dab-4d5c-94fe-ffa2a9a9530e",
   "metadata": {},
   "outputs": [
    {
     "name": "stdout",
     "output_type": "stream",
     "text": [
      "The autoreload extension is already loaded. To reload it, use:\n",
      "  %reload_ext autoreload\n"
     ]
    }
   ],
   "source": [
    "%load_ext autoreload\n",
    "%autoreload 2\n",
    "\n",
    "from gninvert.nn import GeneralLinearFullNet\n",
    "import torch as t\n",
    "import math\n",
    "import matplotlib.pyplot as plt\n",
    "from gninvert.hyperparamsearch import hpsearch\n",
    "from gninvert.data_generation import TrainingData\n"
   ]
  },
  {
   "cell_type": "code",
   "execution_count": 432,
   "id": "954be8f7-89b3-4ad8-b44d-166c4b6da59c",
   "metadata": {},
   "outputs": [],
   "source": [
    "glfn = GeneralLinearFullNet(2, 2, [10],\n",
    "                            t.nn.GELU, True)"
   ]
  },
  {
   "cell_type": "code",
   "execution_count": 433,
   "id": "9aac34c5-60ae-45e6-9be6-817a19dc7330",
   "metadata": {},
   "outputs": [
    {
     "data": {
      "text/plain": [
       "ModuleList(\n",
       "  (0): Linear(in_features=2, out_features=10, bias=True)\n",
       "  (1): GELU()\n",
       "  (2): Linear(in_features=10, out_features=2, bias=True)\n",
       "  (3): GELU()\n",
       ")"
      ]
     },
     "execution_count": 433,
     "metadata": {},
     "output_type": "execute_result"
    }
   ],
   "source": [
    "glfn.layers"
   ]
  },
  {
   "cell_type": "code",
   "execution_count": 434,
   "id": "b118eaee-07f6-47d2-a22c-98deb7505f92",
   "metadata": {},
   "outputs": [],
   "source": [
    "x = t.tensor([1., 1.])"
   ]
  },
  {
   "cell_type": "code",
   "execution_count": 435,
   "id": "2d1c2641-aa9a-42d0-b439-ebe286dbb490",
   "metadata": {},
   "outputs": [
    {
     "data": {
      "text/plain": [
       "tensor([-0.0851,  0.0005], grad_fn=<GeluBackward0>)"
      ]
     },
     "execution_count": 435,
     "metadata": {},
     "output_type": "execute_result"
    }
   ],
   "source": [
    "glfn.forward(x)"
   ]
  },
  {
   "cell_type": "code",
   "execution_count": 436,
   "id": "12674bf9-76ff-43b2-87d2-fd478438dd26",
   "metadata": {},
   "outputs": [
    {
     "data": {
      "text/plain": [
       "GeneralLinearFullNet(\n",
       "  (layers): ModuleList(\n",
       "    (0): Linear(in_features=2, out_features=10, bias=True)\n",
       "    (1): GELU()\n",
       "    (2): Linear(in_features=10, out_features=2, bias=True)\n",
       "    (3): GELU()\n",
       "  )\n",
       ")"
      ]
     },
     "execution_count": 436,
     "metadata": {},
     "output_type": "execute_result"
    }
   ],
   "source": [
    "glfn"
   ]
  },
  {
   "cell_type": "code",
   "execution_count": 437,
   "id": "7d69465c-c521-4d3c-9b69-ccbe950ec011",
   "metadata": {},
   "outputs": [],
   "source": [
    "params = {\n",
    "    'starting_lr': [0.1],\n",
    "    'lr_scheduler_dec_factor': [0.2],\n",
    "    'lr_scheduler_patience': [30],\n",
    "    'lr_scheduler_cooldown': [30],\n",
    "    'batch_size': [32, 128],\n",
    "    'optimizer': ['adam', 'sgd'],\n",
    "    'adam_weight_decay': [1e-6],\n",
    "    'momentum': [1e-4, 1e-2, 1e-1],\n",
    "    'epochs': [150],\n",
    "    'loss_func': [t.nn.MSELoss()]\n",
    "}"
   ]
  },
  {
   "cell_type": "code",
   "execution_count": 438,
   "id": "2b8d767a-d293-4887-a589-106294008e16",
   "metadata": {},
   "outputs": [
    {
     "data": {
      "text/plain": [
       "<gninvert.data_generation.TrainingData, 1499 train size / 500 validation size / shuffle True>"
      ]
     },
     "execution_count": 438,
     "metadata": {},
     "output_type": "execute_result"
    }
   ],
   "source": [
    "xs = t.arange(0, 1, 0.0005)[1:].unsqueeze(dim=-1)\n",
    "ys = xs\n",
    "tdata = TrainingData(xs, ys, shuffle=True)\n",
    "tdata"
   ]
  },
  {
   "cell_type": "code",
   "execution_count": 424,
   "id": "b6b2cc5f-51c8-4102-b565-33fb49f7a05a",
   "metadata": {
    "tags": []
   },
   "outputs": [
    {
     "data": {
      "application/vnd.jupyter.widget-view+json": {
       "model_id": "1518df1a1c2d4a49838c9706c64c73b1",
       "version_major": 2,
       "version_minor": 0
      },
      "text/plain": [
       "  0%|          | 0/12 [00:00<?, ?it/s]"
      ]
     },
     "metadata": {},
     "output_type": "display_data"
    },
    {
     "data": {
      "application/vnd.jupyter.widget-view+json": {
       "model_id": "ea778e6413114513ba8a3c708a60ebc6",
       "version_major": 2,
       "version_minor": 0
      },
      "text/plain": [
       "  0%|          | 0/28 [00:00<?, ?it/s]"
      ]
     },
     "metadata": {},
     "output_type": "display_data"
    },
    {
     "data": {
      "application/vnd.jupyter.widget-view+json": {
       "model_id": "698abbc75f0441e7a390e0eb423e774d",
       "version_major": 2,
       "version_minor": 0
      },
      "text/plain": [
       "  0%|          | 0/150 [00:00<?, ?it/s]"
      ]
     },
     "metadata": {},
     "output_type": "display_data"
    },
    {
     "data": {
      "application/vnd.jupyter.widget-view+json": {
       "model_id": "81d08127e3d94df9830920e5535950d9",
       "version_major": 2,
       "version_minor": 0
      },
      "text/plain": [
       "  0%|          | 0/150 [00:00<?, ?it/s]"
      ]
     },
     "metadata": {},
     "output_type": "display_data"
    },
    {
     "data": {
      "application/vnd.jupyter.widget-view+json": {
       "model_id": "9b47b5c6091e4baeaaa4345e1200c53d",
       "version_major": 2,
       "version_minor": 0
      },
      "text/plain": [
       "  0%|          | 0/150 [00:00<?, ?it/s]"
      ]
     },
     "metadata": {},
     "output_type": "display_data"
    },
    {
     "data": {
      "application/vnd.jupyter.widget-view+json": {
       "model_id": "c40cfbf73b4844ac8733f118a1c0a43a",
       "version_major": 2,
       "version_minor": 0
      },
      "text/plain": [
       "  0%|          | 0/150 [00:00<?, ?it/s]"
      ]
     },
     "metadata": {},
     "output_type": "display_data"
    },
    {
     "data": {
      "application/vnd.jupyter.widget-view+json": {
       "model_id": "b504ca8b1b9c488ea448997e2efde9cb",
       "version_major": 2,
       "version_minor": 0
      },
      "text/plain": [
       "  0%|          | 0/150 [00:00<?, ?it/s]"
      ]
     },
     "metadata": {},
     "output_type": "display_data"
    },
    {
     "data": {
      "application/vnd.jupyter.widget-view+json": {
       "model_id": "94bba36c9add43049a5fb35f523ed528",
       "version_major": 2,
       "version_minor": 0
      },
      "text/plain": [
       "  0%|          | 0/150 [00:00<?, ?it/s]"
      ]
     },
     "metadata": {},
     "output_type": "display_data"
    },
    {
     "data": {
      "application/vnd.jupyter.widget-view+json": {
       "model_id": "b57a146e617843b39d4da65bcc991c5a",
       "version_major": 2,
       "version_minor": 0
      },
      "text/plain": [
       "  0%|          | 0/150 [00:00<?, ?it/s]"
      ]
     },
     "metadata": {},
     "output_type": "display_data"
    },
    {
     "data": {
      "application/vnd.jupyter.widget-view+json": {
       "model_id": "9418c0892b4f483ab3847296c0bf255e",
       "version_major": 2,
       "version_minor": 0
      },
      "text/plain": [
       "  0%|          | 0/150 [00:00<?, ?it/s]"
      ]
     },
     "metadata": {},
     "output_type": "display_data"
    },
    {
     "data": {
      "application/vnd.jupyter.widget-view+json": {
       "model_id": "692b4fd8901f40f889177242dab98970",
       "version_major": 2,
       "version_minor": 0
      },
      "text/plain": [
       "  0%|          | 0/150 [00:00<?, ?it/s]"
      ]
     },
     "metadata": {},
     "output_type": "display_data"
    },
    {
     "data": {
      "application/vnd.jupyter.widget-view+json": {
       "model_id": "da2fb30d7a874bf5922e1463fcae65e8",
       "version_major": 2,
       "version_minor": 0
      },
      "text/plain": [
       "  0%|          | 0/150 [00:00<?, ?it/s]"
      ]
     },
     "metadata": {},
     "output_type": "display_data"
    },
    {
     "data": {
      "application/vnd.jupyter.widget-view+json": {
       "model_id": "d64e94b31b844c9fa837a59ec24cdfc3",
       "version_major": 2,
       "version_minor": 0
      },
      "text/plain": [
       "  0%|          | 0/150 [00:00<?, ?it/s]"
      ]
     },
     "metadata": {},
     "output_type": "display_data"
    },
    {
     "data": {
      "application/vnd.jupyter.widget-view+json": {
       "model_id": "2b9f3fe9f1164c5bbe79b0fb0ce60eb4",
       "version_major": 2,
       "version_minor": 0
      },
      "text/plain": [
       "  0%|          | 0/150 [00:00<?, ?it/s]"
      ]
     },
     "metadata": {},
     "output_type": "display_data"
    },
    {
     "data": {
      "application/vnd.jupyter.widget-view+json": {
       "model_id": "d4a747cd06cb4f4d8d5102500b7470ef",
       "version_major": 2,
       "version_minor": 0
      },
      "text/plain": [
       "  0%|          | 0/150 [00:00<?, ?it/s]"
      ]
     },
     "metadata": {},
     "output_type": "display_data"
    },
    {
     "data": {
      "application/vnd.jupyter.widget-view+json": {
       "model_id": "42e6faf8465842c5993f4ac0939210eb",
       "version_major": 2,
       "version_minor": 0
      },
      "text/plain": [
       "  0%|          | 0/150 [00:00<?, ?it/s]"
      ]
     },
     "metadata": {},
     "output_type": "display_data"
    },
    {
     "data": {
      "application/vnd.jupyter.widget-view+json": {
       "model_id": "d8fbb91d6a5b4e189ddde76666706c70",
       "version_major": 2,
       "version_minor": 0
      },
      "text/plain": [
       "  0%|          | 0/150 [00:00<?, ?it/s]"
      ]
     },
     "metadata": {},
     "output_type": "display_data"
    },
    {
     "data": {
      "application/vnd.jupyter.widget-view+json": {
       "model_id": "fa2306fdb1e646aba3ed4c4567554449",
       "version_major": 2,
       "version_minor": 0
      },
      "text/plain": [
       "  0%|          | 0/150 [00:00<?, ?it/s]"
      ]
     },
     "metadata": {},
     "output_type": "display_data"
    },
    {
     "data": {
      "application/vnd.jupyter.widget-view+json": {
       "model_id": "d0d75ff2e3fb4b1f9915fa0de340de6a",
       "version_major": 2,
       "version_minor": 0
      },
      "text/plain": [
       "  0%|          | 0/150 [00:00<?, ?it/s]"
      ]
     },
     "metadata": {},
     "output_type": "display_data"
    },
    {
     "data": {
      "application/vnd.jupyter.widget-view+json": {
       "model_id": "84250b41a35a4104aacb53cb133d1f66",
       "version_major": 2,
       "version_minor": 0
      },
      "text/plain": [
       "  0%|          | 0/150 [00:00<?, ?it/s]"
      ]
     },
     "metadata": {},
     "output_type": "display_data"
    },
    {
     "data": {
      "application/vnd.jupyter.widget-view+json": {
       "model_id": "b72d92a37dc74b9bb13b39eaa46119c4",
       "version_major": 2,
       "version_minor": 0
      },
      "text/plain": [
       "  0%|          | 0/150 [00:00<?, ?it/s]"
      ]
     },
     "metadata": {},
     "output_type": "display_data"
    },
    {
     "data": {
      "application/vnd.jupyter.widget-view+json": {
       "model_id": "dcef569fa23f4602a6aaf6c42e580c62",
       "version_major": 2,
       "version_minor": 0
      },
      "text/plain": [
       "  0%|          | 0/150 [00:00<?, ?it/s]"
      ]
     },
     "metadata": {},
     "output_type": "display_data"
    },
    {
     "data": {
      "application/vnd.jupyter.widget-view+json": {
       "model_id": "16dbff6c4e014380b056fa32dfc5d0b9",
       "version_major": 2,
       "version_minor": 0
      },
      "text/plain": [
       "  0%|          | 0/150 [00:00<?, ?it/s]"
      ]
     },
     "metadata": {},
     "output_type": "display_data"
    },
    {
     "data": {
      "application/vnd.jupyter.widget-view+json": {
       "model_id": "2606fdf8f4294c6985f092fb4c5703c8",
       "version_major": 2,
       "version_minor": 0
      },
      "text/plain": [
       "  0%|          | 0/150 [00:00<?, ?it/s]"
      ]
     },
     "metadata": {},
     "output_type": "display_data"
    },
    {
     "data": {
      "application/vnd.jupyter.widget-view+json": {
       "model_id": "f4fdb39071534540bef78840c04761f6",
       "version_major": 2,
       "version_minor": 0
      },
      "text/plain": [
       "  0%|          | 0/150 [00:00<?, ?it/s]"
      ]
     },
     "metadata": {},
     "output_type": "display_data"
    },
    {
     "data": {
      "application/vnd.jupyter.widget-view+json": {
       "model_id": "09e9e8b4d7d34ce1856f7f51dd4d7b36",
       "version_major": 2,
       "version_minor": 0
      },
      "text/plain": [
       "  0%|          | 0/150 [00:00<?, ?it/s]"
      ]
     },
     "metadata": {},
     "output_type": "display_data"
    },
    {
     "data": {
      "application/vnd.jupyter.widget-view+json": {
       "model_id": "6e42611cff5b4438a97d6bd9b2aaff5e",
       "version_major": 2,
       "version_minor": 0
      },
      "text/plain": [
       "  0%|          | 0/150 [00:00<?, ?it/s]"
      ]
     },
     "metadata": {},
     "output_type": "display_data"
    },
    {
     "data": {
      "application/vnd.jupyter.widget-view+json": {
       "model_id": "bc4d2e439e7747e1bfeb51a5f72de097",
       "version_major": 2,
       "version_minor": 0
      },
      "text/plain": [
       "  0%|          | 0/150 [00:00<?, ?it/s]"
      ]
     },
     "metadata": {},
     "output_type": "display_data"
    },
    {
     "data": {
      "application/vnd.jupyter.widget-view+json": {
       "model_id": "76080bdd267a4806ac1fb1153d9736cf",
       "version_major": 2,
       "version_minor": 0
      },
      "text/plain": [
       "  0%|          | 0/150 [00:00<?, ?it/s]"
      ]
     },
     "metadata": {},
     "output_type": "display_data"
    },
    {
     "data": {
      "application/vnd.jupyter.widget-view+json": {
       "model_id": "8461154368fd457ea21432915891cffc",
       "version_major": 2,
       "version_minor": 0
      },
      "text/plain": [
       "  0%|          | 0/150 [00:00<?, ?it/s]"
      ]
     },
     "metadata": {},
     "output_type": "display_data"
    },
    {
     "data": {
      "application/vnd.jupyter.widget-view+json": {
       "model_id": "0bae93d771464a0985b363185a4a8a3e",
       "version_major": 2,
       "version_minor": 0
      },
      "text/plain": [
       "  0%|          | 0/28 [00:00<?, ?it/s]"
      ]
     },
     "metadata": {},
     "output_type": "display_data"
    },
    {
     "data": {
      "application/vnd.jupyter.widget-view+json": {
       "model_id": "4d488774e0444720b45bd66a1f98575d",
       "version_major": 2,
       "version_minor": 0
      },
      "text/plain": [
       "  0%|          | 0/150 [00:00<?, ?it/s]"
      ]
     },
     "metadata": {},
     "output_type": "display_data"
    },
    {
     "data": {
      "application/vnd.jupyter.widget-view+json": {
       "model_id": "58751ec1a2d14469ab23fbb7bf202126",
       "version_major": 2,
       "version_minor": 0
      },
      "text/plain": [
       "  0%|          | 0/150 [00:00<?, ?it/s]"
      ]
     },
     "metadata": {},
     "output_type": "display_data"
    },
    {
     "data": {
      "application/vnd.jupyter.widget-view+json": {
       "model_id": "6866124a289c47408c3a9adccd83eb60",
       "version_major": 2,
       "version_minor": 0
      },
      "text/plain": [
       "  0%|          | 0/150 [00:00<?, ?it/s]"
      ]
     },
     "metadata": {},
     "output_type": "display_data"
    },
    {
     "data": {
      "application/vnd.jupyter.widget-view+json": {
       "model_id": "910f1920e5b84c1ea287017a6d19a74e",
       "version_major": 2,
       "version_minor": 0
      },
      "text/plain": [
       "  0%|          | 0/150 [00:00<?, ?it/s]"
      ]
     },
     "metadata": {},
     "output_type": "display_data"
    },
    {
     "data": {
      "application/vnd.jupyter.widget-view+json": {
       "model_id": "ab99d797be2746258173902d33b7ed2b",
       "version_major": 2,
       "version_minor": 0
      },
      "text/plain": [
       "  0%|          | 0/150 [00:00<?, ?it/s]"
      ]
     },
     "metadata": {},
     "output_type": "display_data"
    },
    {
     "data": {
      "application/vnd.jupyter.widget-view+json": {
       "model_id": "1f9320c250d4432499e1ba104ff71282",
       "version_major": 2,
       "version_minor": 0
      },
      "text/plain": [
       "  0%|          | 0/150 [00:00<?, ?it/s]"
      ]
     },
     "metadata": {},
     "output_type": "display_data"
    },
    {
     "data": {
      "application/vnd.jupyter.widget-view+json": {
       "model_id": "321ca508e91444a0be08e9043c2db84a",
       "version_major": 2,
       "version_minor": 0
      },
      "text/plain": [
       "  0%|          | 0/150 [00:00<?, ?it/s]"
      ]
     },
     "metadata": {},
     "output_type": "display_data"
    },
    {
     "data": {
      "application/vnd.jupyter.widget-view+json": {
       "model_id": "a34034d95c1d44389555a5588d63f0b1",
       "version_major": 2,
       "version_minor": 0
      },
      "text/plain": [
       "  0%|          | 0/150 [00:00<?, ?it/s]"
      ]
     },
     "metadata": {},
     "output_type": "display_data"
    },
    {
     "data": {
      "application/vnd.jupyter.widget-view+json": {
       "model_id": "4987d13daf224184ac09ac8e0cdc019a",
       "version_major": 2,
       "version_minor": 0
      },
      "text/plain": [
       "  0%|          | 0/150 [00:00<?, ?it/s]"
      ]
     },
     "metadata": {},
     "output_type": "display_data"
    },
    {
     "data": {
      "application/vnd.jupyter.widget-view+json": {
       "model_id": "cac43eb45b704a41a6875dae875c0c89",
       "version_major": 2,
       "version_minor": 0
      },
      "text/plain": [
       "  0%|          | 0/150 [00:00<?, ?it/s]"
      ]
     },
     "metadata": {},
     "output_type": "display_data"
    },
    {
     "data": {
      "application/vnd.jupyter.widget-view+json": {
       "model_id": "6eedefd7854649a0bf886285dc73b955",
       "version_major": 2,
       "version_minor": 0
      },
      "text/plain": [
       "  0%|          | 0/150 [00:00<?, ?it/s]"
      ]
     },
     "metadata": {},
     "output_type": "display_data"
    },
    {
     "data": {
      "application/vnd.jupyter.widget-view+json": {
       "model_id": "3a4f29accb5f46879fed9025ef454ca3",
       "version_major": 2,
       "version_minor": 0
      },
      "text/plain": [
       "  0%|          | 0/150 [00:00<?, ?it/s]"
      ]
     },
     "metadata": {},
     "output_type": "display_data"
    },
    {
     "data": {
      "application/vnd.jupyter.widget-view+json": {
       "model_id": "6f2b8bff406e42abba23f3f3efe98bb1",
       "version_major": 2,
       "version_minor": 0
      },
      "text/plain": [
       "  0%|          | 0/150 [00:00<?, ?it/s]"
      ]
     },
     "metadata": {},
     "output_type": "display_data"
    },
    {
     "data": {
      "application/vnd.jupyter.widget-view+json": {
       "model_id": "64edb76c10644c0a8ddd9186bbe0c107",
       "version_major": 2,
       "version_minor": 0
      },
      "text/plain": [
       "  0%|          | 0/150 [00:00<?, ?it/s]"
      ]
     },
     "metadata": {},
     "output_type": "display_data"
    },
    {
     "data": {
      "application/vnd.jupyter.widget-view+json": {
       "model_id": "fc41835c5fd842eab3a850d15b28c7cf",
       "version_major": 2,
       "version_minor": 0
      },
      "text/plain": [
       "  0%|          | 0/150 [00:00<?, ?it/s]"
      ]
     },
     "metadata": {},
     "output_type": "display_data"
    },
    {
     "data": {
      "application/vnd.jupyter.widget-view+json": {
       "model_id": "f8234cbb2c804cb48987ab34a5f6d187",
       "version_major": 2,
       "version_minor": 0
      },
      "text/plain": [
       "  0%|          | 0/150 [00:00<?, ?it/s]"
      ]
     },
     "metadata": {},
     "output_type": "display_data"
    },
    {
     "data": {
      "application/vnd.jupyter.widget-view+json": {
       "model_id": "30fd2e0285634216aaf96a64baa20b8f",
       "version_major": 2,
       "version_minor": 0
      },
      "text/plain": [
       "  0%|          | 0/150 [00:00<?, ?it/s]"
      ]
     },
     "metadata": {},
     "output_type": "display_data"
    },
    {
     "data": {
      "application/vnd.jupyter.widget-view+json": {
       "model_id": "57081b02d3e24af3a499956b3c0d948e",
       "version_major": 2,
       "version_minor": 0
      },
      "text/plain": [
       "  0%|          | 0/150 [00:00<?, ?it/s]"
      ]
     },
     "metadata": {},
     "output_type": "display_data"
    },
    {
     "data": {
      "application/vnd.jupyter.widget-view+json": {
       "model_id": "47b1de9f307f43cbb684704b0bc03dbd",
       "version_major": 2,
       "version_minor": 0
      },
      "text/plain": [
       "  0%|          | 0/150 [00:00<?, ?it/s]"
      ]
     },
     "metadata": {},
     "output_type": "display_data"
    },
    {
     "data": {
      "application/vnd.jupyter.widget-view+json": {
       "model_id": "69de3f6b94ce439db5879ff5ad254dde",
       "version_major": 2,
       "version_minor": 0
      },
      "text/plain": [
       "  0%|          | 0/150 [00:00<?, ?it/s]"
      ]
     },
     "metadata": {},
     "output_type": "display_data"
    },
    {
     "data": {
      "application/vnd.jupyter.widget-view+json": {
       "model_id": "537138e0095e4427a96d8de8c3577e4e",
       "version_major": 2,
       "version_minor": 0
      },
      "text/plain": [
       "  0%|          | 0/150 [00:00<?, ?it/s]"
      ]
     },
     "metadata": {},
     "output_type": "display_data"
    },
    {
     "data": {
      "application/vnd.jupyter.widget-view+json": {
       "model_id": "d1c3829516b348f897ca90372fce5410",
       "version_major": 2,
       "version_minor": 0
      },
      "text/plain": [
       "  0%|          | 0/150 [00:00<?, ?it/s]"
      ]
     },
     "metadata": {},
     "output_type": "display_data"
    },
    {
     "data": {
      "application/vnd.jupyter.widget-view+json": {
       "model_id": "d0f9dafb94b54ffba1f030caf7b1e632",
       "version_major": 2,
       "version_minor": 0
      },
      "text/plain": [
       "  0%|          | 0/150 [00:00<?, ?it/s]"
      ]
     },
     "metadata": {},
     "output_type": "display_data"
    },
    {
     "data": {
      "application/vnd.jupyter.widget-view+json": {
       "model_id": "dcb0c25d33ec4e2194c228530069b70a",
       "version_major": 2,
       "version_minor": 0
      },
      "text/plain": [
       "  0%|          | 0/150 [00:00<?, ?it/s]"
      ]
     },
     "metadata": {},
     "output_type": "display_data"
    },
    {
     "data": {
      "application/vnd.jupyter.widget-view+json": {
       "model_id": "5e5ae2b082fe4408a4390afc1f3d226b",
       "version_major": 2,
       "version_minor": 0
      },
      "text/plain": [
       "  0%|          | 0/150 [00:00<?, ?it/s]"
      ]
     },
     "metadata": {},
     "output_type": "display_data"
    },
    {
     "data": {
      "application/vnd.jupyter.widget-view+json": {
       "model_id": "c58bfc181b7d4ec281688f59dd6a13eb",
       "version_major": 2,
       "version_minor": 0
      },
      "text/plain": [
       "  0%|          | 0/150 [00:00<?, ?it/s]"
      ]
     },
     "metadata": {},
     "output_type": "display_data"
    },
    {
     "data": {
      "application/vnd.jupyter.widget-view+json": {
       "model_id": "d59d85220126457e84fa528567708cd5",
       "version_major": 2,
       "version_minor": 0
      },
      "text/plain": [
       "  0%|          | 0/150 [00:00<?, ?it/s]"
      ]
     },
     "metadata": {},
     "output_type": "display_data"
    },
    {
     "data": {
      "application/vnd.jupyter.widget-view+json": {
       "model_id": "6d610072ebcf4fa3bebdef710b5af87a",
       "version_major": 2,
       "version_minor": 0
      },
      "text/plain": [
       "  0%|          | 0/150 [00:00<?, ?it/s]"
      ]
     },
     "metadata": {},
     "output_type": "display_data"
    },
    {
     "data": {
      "application/vnd.jupyter.widget-view+json": {
       "model_id": "4d422261ac4242899c1d82f5c79ec010",
       "version_major": 2,
       "version_minor": 0
      },
      "text/plain": [
       "  0%|          | 0/28 [00:00<?, ?it/s]"
      ]
     },
     "metadata": {},
     "output_type": "display_data"
    },
    {
     "data": {
      "application/vnd.jupyter.widget-view+json": {
       "model_id": "f913d8c3c2e24c50a7e51c2f2e131ac2",
       "version_major": 2,
       "version_minor": 0
      },
      "text/plain": [
       "  0%|          | 0/150 [00:00<?, ?it/s]"
      ]
     },
     "metadata": {},
     "output_type": "display_data"
    },
    {
     "data": {
      "application/vnd.jupyter.widget-view+json": {
       "model_id": "07350d1fab4c4e53b14d92d8ab8897f6",
       "version_major": 2,
       "version_minor": 0
      },
      "text/plain": [
       "  0%|          | 0/150 [00:00<?, ?it/s]"
      ]
     },
     "metadata": {},
     "output_type": "display_data"
    },
    {
     "data": {
      "application/vnd.jupyter.widget-view+json": {
       "model_id": "866ccb861b1e495fae4b33699a020f7d",
       "version_major": 2,
       "version_minor": 0
      },
      "text/plain": [
       "  0%|          | 0/150 [00:00<?, ?it/s]"
      ]
     },
     "metadata": {},
     "output_type": "display_data"
    },
    {
     "data": {
      "application/vnd.jupyter.widget-view+json": {
       "model_id": "5cc392a58f83472c8096b2c2c23ff9fb",
       "version_major": 2,
       "version_minor": 0
      },
      "text/plain": [
       "  0%|          | 0/150 [00:00<?, ?it/s]"
      ]
     },
     "metadata": {},
     "output_type": "display_data"
    },
    {
     "data": {
      "application/vnd.jupyter.widget-view+json": {
       "model_id": "efee4f9a0db344e4b6a8433d3929c20c",
       "version_major": 2,
       "version_minor": 0
      },
      "text/plain": [
       "  0%|          | 0/150 [00:00<?, ?it/s]"
      ]
     },
     "metadata": {},
     "output_type": "display_data"
    },
    {
     "data": {
      "application/vnd.jupyter.widget-view+json": {
       "model_id": "be29f3dc18374ab88cabf3fbbac57093",
       "version_major": 2,
       "version_minor": 0
      },
      "text/plain": [
       "  0%|          | 0/150 [00:00<?, ?it/s]"
      ]
     },
     "metadata": {},
     "output_type": "display_data"
    },
    {
     "data": {
      "application/vnd.jupyter.widget-view+json": {
       "model_id": "1c07fab9bf27484ea10dc829de49b1c3",
       "version_major": 2,
       "version_minor": 0
      },
      "text/plain": [
       "  0%|          | 0/150 [00:00<?, ?it/s]"
      ]
     },
     "metadata": {},
     "output_type": "display_data"
    },
    {
     "data": {
      "application/vnd.jupyter.widget-view+json": {
       "model_id": "ea2234f0bfa745b98672476f2d9f23ca",
       "version_major": 2,
       "version_minor": 0
      },
      "text/plain": [
       "  0%|          | 0/150 [00:00<?, ?it/s]"
      ]
     },
     "metadata": {},
     "output_type": "display_data"
    },
    {
     "data": {
      "application/vnd.jupyter.widget-view+json": {
       "model_id": "d56bd6ab654e4b1a88afe3d4c42f919f",
       "version_major": 2,
       "version_minor": 0
      },
      "text/plain": [
       "  0%|          | 0/150 [00:00<?, ?it/s]"
      ]
     },
     "metadata": {},
     "output_type": "display_data"
    },
    {
     "data": {
      "application/vnd.jupyter.widget-view+json": {
       "model_id": "789833a626d047929095f25c6817892f",
       "version_major": 2,
       "version_minor": 0
      },
      "text/plain": [
       "  0%|          | 0/150 [00:00<?, ?it/s]"
      ]
     },
     "metadata": {},
     "output_type": "display_data"
    },
    {
     "data": {
      "application/vnd.jupyter.widget-view+json": {
       "model_id": "c7e6e2d6e9cd46419aec0a4b0efa4937",
       "version_major": 2,
       "version_minor": 0
      },
      "text/plain": [
       "  0%|          | 0/150 [00:00<?, ?it/s]"
      ]
     },
     "metadata": {},
     "output_type": "display_data"
    },
    {
     "data": {
      "application/vnd.jupyter.widget-view+json": {
       "model_id": "be98daf59a5449a6963b68bc4c07823b",
       "version_major": 2,
       "version_minor": 0
      },
      "text/plain": [
       "  0%|          | 0/150 [00:00<?, ?it/s]"
      ]
     },
     "metadata": {},
     "output_type": "display_data"
    },
    {
     "data": {
      "application/vnd.jupyter.widget-view+json": {
       "model_id": "a0dce1cc721b4ded81fa2e25e7d383d5",
       "version_major": 2,
       "version_minor": 0
      },
      "text/plain": [
       "  0%|          | 0/150 [00:00<?, ?it/s]"
      ]
     },
     "metadata": {},
     "output_type": "display_data"
    },
    {
     "data": {
      "application/vnd.jupyter.widget-view+json": {
       "model_id": "62c6cb809c66485a954e7080282d811a",
       "version_major": 2,
       "version_minor": 0
      },
      "text/plain": [
       "  0%|          | 0/150 [00:00<?, ?it/s]"
      ]
     },
     "metadata": {},
     "output_type": "display_data"
    },
    {
     "data": {
      "application/vnd.jupyter.widget-view+json": {
       "model_id": "faa75ea199ac4d66a6c6e28588733466",
       "version_major": 2,
       "version_minor": 0
      },
      "text/plain": [
       "  0%|          | 0/150 [00:00<?, ?it/s]"
      ]
     },
     "metadata": {},
     "output_type": "display_data"
    },
    {
     "data": {
      "application/vnd.jupyter.widget-view+json": {
       "model_id": "0abd8ba335964854950920f78143f73b",
       "version_major": 2,
       "version_minor": 0
      },
      "text/plain": [
       "  0%|          | 0/150 [00:00<?, ?it/s]"
      ]
     },
     "metadata": {},
     "output_type": "display_data"
    },
    {
     "data": {
      "application/vnd.jupyter.widget-view+json": {
       "model_id": "883caf81165449f295d8695569c773be",
       "version_major": 2,
       "version_minor": 0
      },
      "text/plain": [
       "  0%|          | 0/150 [00:00<?, ?it/s]"
      ]
     },
     "metadata": {},
     "output_type": "display_data"
    },
    {
     "data": {
      "application/vnd.jupyter.widget-view+json": {
       "model_id": "1bd7b34b9b124298ae508090cfa96f79",
       "version_major": 2,
       "version_minor": 0
      },
      "text/plain": [
       "  0%|          | 0/150 [00:00<?, ?it/s]"
      ]
     },
     "metadata": {},
     "output_type": "display_data"
    },
    {
     "data": {
      "application/vnd.jupyter.widget-view+json": {
       "model_id": "be6382f2e85e490abd91657a08c5bfa0",
       "version_major": 2,
       "version_minor": 0
      },
      "text/plain": [
       "  0%|          | 0/150 [00:00<?, ?it/s]"
      ]
     },
     "metadata": {},
     "output_type": "display_data"
    },
    {
     "data": {
      "application/vnd.jupyter.widget-view+json": {
       "model_id": "c9b89abafce74b0c953be1f2c6248285",
       "version_major": 2,
       "version_minor": 0
      },
      "text/plain": [
       "  0%|          | 0/150 [00:00<?, ?it/s]"
      ]
     },
     "metadata": {},
     "output_type": "display_data"
    },
    {
     "data": {
      "application/vnd.jupyter.widget-view+json": {
       "model_id": "47bae87e34a049af88d4f3041800a2dc",
       "version_major": 2,
       "version_minor": 0
      },
      "text/plain": [
       "  0%|          | 0/150 [00:00<?, ?it/s]"
      ]
     },
     "metadata": {},
     "output_type": "display_data"
    },
    {
     "data": {
      "application/vnd.jupyter.widget-view+json": {
       "model_id": "b7f9e44d29374b08a4a79bfdd1c1bd30",
       "version_major": 2,
       "version_minor": 0
      },
      "text/plain": [
       "  0%|          | 0/150 [00:00<?, ?it/s]"
      ]
     },
     "metadata": {},
     "output_type": "display_data"
    },
    {
     "data": {
      "application/vnd.jupyter.widget-view+json": {
       "model_id": "547bedbd7fb1484aa80a783ee65b5413",
       "version_major": 2,
       "version_minor": 0
      },
      "text/plain": [
       "  0%|          | 0/150 [00:00<?, ?it/s]"
      ]
     },
     "metadata": {},
     "output_type": "display_data"
    },
    {
     "data": {
      "application/vnd.jupyter.widget-view+json": {
       "model_id": "eaa34aca22b5482a8597aefe754daba9",
       "version_major": 2,
       "version_minor": 0
      },
      "text/plain": [
       "  0%|          | 0/150 [00:00<?, ?it/s]"
      ]
     },
     "metadata": {},
     "output_type": "display_data"
    },
    {
     "data": {
      "application/vnd.jupyter.widget-view+json": {
       "model_id": "40b05e0fd2ef4d6a9da7c189d25f7e4b",
       "version_major": 2,
       "version_minor": 0
      },
      "text/plain": [
       "  0%|          | 0/150 [00:00<?, ?it/s]"
      ]
     },
     "metadata": {},
     "output_type": "display_data"
    },
    {
     "data": {
      "application/vnd.jupyter.widget-view+json": {
       "model_id": "be0a6c9a8a6f4f0eb882e1ed91052b12",
       "version_major": 2,
       "version_minor": 0
      },
      "text/plain": [
       "  0%|          | 0/150 [00:00<?, ?it/s]"
      ]
     },
     "metadata": {},
     "output_type": "display_data"
    },
    {
     "data": {
      "application/vnd.jupyter.widget-view+json": {
       "model_id": "79cc6660e64e450fb551a1c21f3e75c4",
       "version_major": 2,
       "version_minor": 0
      },
      "text/plain": [
       "  0%|          | 0/150 [00:00<?, ?it/s]"
      ]
     },
     "metadata": {},
     "output_type": "display_data"
    },
    {
     "data": {
      "application/vnd.jupyter.widget-view+json": {
       "model_id": "de8ea1e89242425d801547cad6dc1922",
       "version_major": 2,
       "version_minor": 0
      },
      "text/plain": [
       "  0%|          | 0/150 [00:00<?, ?it/s]"
      ]
     },
     "metadata": {},
     "output_type": "display_data"
    },
    {
     "data": {
      "application/vnd.jupyter.widget-view+json": {
       "model_id": "0522b2a3b3bd4a2c8ea2ea63599ac972",
       "version_major": 2,
       "version_minor": 0
      },
      "text/plain": [
       "  0%|          | 0/28 [00:00<?, ?it/s]"
      ]
     },
     "metadata": {},
     "output_type": "display_data"
    },
    {
     "data": {
      "application/vnd.jupyter.widget-view+json": {
       "model_id": "b93e49722eaa4e6e8490e2e54e3d92e2",
       "version_major": 2,
       "version_minor": 0
      },
      "text/plain": [
       "  0%|          | 0/150 [00:00<?, ?it/s]"
      ]
     },
     "metadata": {},
     "output_type": "display_data"
    },
    {
     "data": {
      "application/vnd.jupyter.widget-view+json": {
       "model_id": "51084b3bc7bf4ed8b0568787e90d2c76",
       "version_major": 2,
       "version_minor": 0
      },
      "text/plain": [
       "  0%|          | 0/150 [00:00<?, ?it/s]"
      ]
     },
     "metadata": {},
     "output_type": "display_data"
    },
    {
     "data": {
      "application/vnd.jupyter.widget-view+json": {
       "model_id": "adb90456f8224bb6ade4a4d4ec1ed4e5",
       "version_major": 2,
       "version_minor": 0
      },
      "text/plain": [
       "  0%|          | 0/150 [00:00<?, ?it/s]"
      ]
     },
     "metadata": {},
     "output_type": "display_data"
    },
    {
     "data": {
      "application/vnd.jupyter.widget-view+json": {
       "model_id": "f5ff594b65a44f56b3186fa01a66ac7e",
       "version_major": 2,
       "version_minor": 0
      },
      "text/plain": [
       "  0%|          | 0/150 [00:00<?, ?it/s]"
      ]
     },
     "metadata": {},
     "output_type": "display_data"
    },
    {
     "data": {
      "application/vnd.jupyter.widget-view+json": {
       "model_id": "e464434ca4e14aa4a3f510b2a93c81c6",
       "version_major": 2,
       "version_minor": 0
      },
      "text/plain": [
       "  0%|          | 0/150 [00:00<?, ?it/s]"
      ]
     },
     "metadata": {},
     "output_type": "display_data"
    },
    {
     "data": {
      "application/vnd.jupyter.widget-view+json": {
       "model_id": "88c1b6a8fd644fa0922ed35ffc4c5bbb",
       "version_major": 2,
       "version_minor": 0
      },
      "text/plain": [
       "  0%|          | 0/150 [00:00<?, ?it/s]"
      ]
     },
     "metadata": {},
     "output_type": "display_data"
    },
    {
     "data": {
      "application/vnd.jupyter.widget-view+json": {
       "model_id": "b76d48428aaa4f30a8fb399a726fc55e",
       "version_major": 2,
       "version_minor": 0
      },
      "text/plain": [
       "  0%|          | 0/150 [00:00<?, ?it/s]"
      ]
     },
     "metadata": {},
     "output_type": "display_data"
    },
    {
     "data": {
      "application/vnd.jupyter.widget-view+json": {
       "model_id": "8206850c8cad4e218b6a17fa69343fe5",
       "version_major": 2,
       "version_minor": 0
      },
      "text/plain": [
       "  0%|          | 0/150 [00:00<?, ?it/s]"
      ]
     },
     "metadata": {},
     "output_type": "display_data"
    },
    {
     "data": {
      "application/vnd.jupyter.widget-view+json": {
       "model_id": "4539693c8c454a5fb994ccd3e5ad423c",
       "version_major": 2,
       "version_minor": 0
      },
      "text/plain": [
       "  0%|          | 0/150 [00:00<?, ?it/s]"
      ]
     },
     "metadata": {},
     "output_type": "display_data"
    },
    {
     "data": {
      "application/vnd.jupyter.widget-view+json": {
       "model_id": "ccb4cd8ee9de4109ada7223365b07fde",
       "version_major": 2,
       "version_minor": 0
      },
      "text/plain": [
       "  0%|          | 0/150 [00:00<?, ?it/s]"
      ]
     },
     "metadata": {},
     "output_type": "display_data"
    },
    {
     "data": {
      "application/vnd.jupyter.widget-view+json": {
       "model_id": "28e2c03b149744fcb66c55b3665e0867",
       "version_major": 2,
       "version_minor": 0
      },
      "text/plain": [
       "  0%|          | 0/150 [00:00<?, ?it/s]"
      ]
     },
     "metadata": {},
     "output_type": "display_data"
    },
    {
     "data": {
      "application/vnd.jupyter.widget-view+json": {
       "model_id": "da7af1a1786c4d11b00c32558d208478",
       "version_major": 2,
       "version_minor": 0
      },
      "text/plain": [
       "  0%|          | 0/150 [00:00<?, ?it/s]"
      ]
     },
     "metadata": {},
     "output_type": "display_data"
    },
    {
     "data": {
      "application/vnd.jupyter.widget-view+json": {
       "model_id": "5a484a6daf664a929df3a3da18dd057c",
       "version_major": 2,
       "version_minor": 0
      },
      "text/plain": [
       "  0%|          | 0/150 [00:00<?, ?it/s]"
      ]
     },
     "metadata": {},
     "output_type": "display_data"
    },
    {
     "data": {
      "application/vnd.jupyter.widget-view+json": {
       "model_id": "bb5f58df740d4e4fae3bbdccc97badc4",
       "version_major": 2,
       "version_minor": 0
      },
      "text/plain": [
       "  0%|          | 0/150 [00:00<?, ?it/s]"
      ]
     },
     "metadata": {},
     "output_type": "display_data"
    },
    {
     "data": {
      "application/vnd.jupyter.widget-view+json": {
       "model_id": "2d51c61bf45f41ee951eabf2691779a3",
       "version_major": 2,
       "version_minor": 0
      },
      "text/plain": [
       "  0%|          | 0/150 [00:00<?, ?it/s]"
      ]
     },
     "metadata": {},
     "output_type": "display_data"
    },
    {
     "data": {
      "application/vnd.jupyter.widget-view+json": {
       "model_id": "40176cea26274c8797c40855f389612f",
       "version_major": 2,
       "version_minor": 0
      },
      "text/plain": [
       "  0%|          | 0/150 [00:00<?, ?it/s]"
      ]
     },
     "metadata": {},
     "output_type": "display_data"
    },
    {
     "data": {
      "application/vnd.jupyter.widget-view+json": {
       "model_id": "3fcc9ad0fd774589a06181953f18f527",
       "version_major": 2,
       "version_minor": 0
      },
      "text/plain": [
       "  0%|          | 0/150 [00:00<?, ?it/s]"
      ]
     },
     "metadata": {},
     "output_type": "display_data"
    },
    {
     "data": {
      "application/vnd.jupyter.widget-view+json": {
       "model_id": "7df33e85ba9c43d58efa23b72b72ddf5",
       "version_major": 2,
       "version_minor": 0
      },
      "text/plain": [
       "  0%|          | 0/150 [00:00<?, ?it/s]"
      ]
     },
     "metadata": {},
     "output_type": "display_data"
    },
    {
     "data": {
      "application/vnd.jupyter.widget-view+json": {
       "model_id": "d4d38578b166479f8c2b0f2489d9ea96",
       "version_major": 2,
       "version_minor": 0
      },
      "text/plain": [
       "  0%|          | 0/150 [00:00<?, ?it/s]"
      ]
     },
     "metadata": {},
     "output_type": "display_data"
    },
    {
     "data": {
      "application/vnd.jupyter.widget-view+json": {
       "model_id": "d2bfe828603f4bfba10bc7625bbc0d14",
       "version_major": 2,
       "version_minor": 0
      },
      "text/plain": [
       "  0%|          | 0/150 [00:00<?, ?it/s]"
      ]
     },
     "metadata": {},
     "output_type": "display_data"
    },
    {
     "data": {
      "application/vnd.jupyter.widget-view+json": {
       "model_id": "968bd5f74fb94e36964c9912f325877a",
       "version_major": 2,
       "version_minor": 0
      },
      "text/plain": [
       "  0%|          | 0/150 [00:00<?, ?it/s]"
      ]
     },
     "metadata": {},
     "output_type": "display_data"
    },
    {
     "data": {
      "application/vnd.jupyter.widget-view+json": {
       "model_id": "c17c36880df44e95add5a7025ae8a90a",
       "version_major": 2,
       "version_minor": 0
      },
      "text/plain": [
       "  0%|          | 0/150 [00:00<?, ?it/s]"
      ]
     },
     "metadata": {},
     "output_type": "display_data"
    },
    {
     "data": {
      "application/vnd.jupyter.widget-view+json": {
       "model_id": "fb29ff128c524c4780b24ce43ae31020",
       "version_major": 2,
       "version_minor": 0
      },
      "text/plain": [
       "  0%|          | 0/150 [00:00<?, ?it/s]"
      ]
     },
     "metadata": {},
     "output_type": "display_data"
    },
    {
     "data": {
      "application/vnd.jupyter.widget-view+json": {
       "model_id": "2c46b408e4bf4d2fb406a3089adf6b2f",
       "version_major": 2,
       "version_minor": 0
      },
      "text/plain": [
       "  0%|          | 0/150 [00:00<?, ?it/s]"
      ]
     },
     "metadata": {},
     "output_type": "display_data"
    },
    {
     "data": {
      "application/vnd.jupyter.widget-view+json": {
       "model_id": "73611b5249cf4f7abcd1f9480ea1b666",
       "version_major": 2,
       "version_minor": 0
      },
      "text/plain": [
       "  0%|          | 0/150 [00:00<?, ?it/s]"
      ]
     },
     "metadata": {},
     "output_type": "display_data"
    },
    {
     "data": {
      "application/vnd.jupyter.widget-view+json": {
       "model_id": "4e1e6585e461499994fc78fb5a0f692a",
       "version_major": 2,
       "version_minor": 0
      },
      "text/plain": [
       "  0%|          | 0/150 [00:00<?, ?it/s]"
      ]
     },
     "metadata": {},
     "output_type": "display_data"
    },
    {
     "data": {
      "application/vnd.jupyter.widget-view+json": {
       "model_id": "5e68eb4c0752457b85397862a8994577",
       "version_major": 2,
       "version_minor": 0
      },
      "text/plain": [
       "  0%|          | 0/150 [00:00<?, ?it/s]"
      ]
     },
     "metadata": {},
     "output_type": "display_data"
    },
    {
     "data": {
      "application/vnd.jupyter.widget-view+json": {
       "model_id": "c802163bbd3244daaa4a92fcf8326971",
       "version_major": 2,
       "version_minor": 0
      },
      "text/plain": [
       "  0%|          | 0/150 [00:00<?, ?it/s]"
      ]
     },
     "metadata": {},
     "output_type": "display_data"
    },
    {
     "data": {
      "application/vnd.jupyter.widget-view+json": {
       "model_id": "8267635751044724aa34c69f5e8bf1c8",
       "version_major": 2,
       "version_minor": 0
      },
      "text/plain": [
       "  0%|          | 0/28 [00:00<?, ?it/s]"
      ]
     },
     "metadata": {},
     "output_type": "display_data"
    },
    {
     "data": {
      "application/vnd.jupyter.widget-view+json": {
       "model_id": "f600f7523d2c486ea23c51fa52c93a22",
       "version_major": 2,
       "version_minor": 0
      },
      "text/plain": [
       "  0%|          | 0/150 [00:00<?, ?it/s]"
      ]
     },
     "metadata": {},
     "output_type": "display_data"
    },
    {
     "data": {
      "application/vnd.jupyter.widget-view+json": {
       "model_id": "9a1987ab38344fa3ba08103059f33881",
       "version_major": 2,
       "version_minor": 0
      },
      "text/plain": [
       "  0%|          | 0/150 [00:00<?, ?it/s]"
      ]
     },
     "metadata": {},
     "output_type": "display_data"
    },
    {
     "data": {
      "application/vnd.jupyter.widget-view+json": {
       "model_id": "14428726f5724478ad88681a41b308bd",
       "version_major": 2,
       "version_minor": 0
      },
      "text/plain": [
       "  0%|          | 0/150 [00:00<?, ?it/s]"
      ]
     },
     "metadata": {},
     "output_type": "display_data"
    },
    {
     "data": {
      "application/vnd.jupyter.widget-view+json": {
       "model_id": "0c81fa8a5e044f44bd867fc4f2337890",
       "version_major": 2,
       "version_minor": 0
      },
      "text/plain": [
       "  0%|          | 0/150 [00:00<?, ?it/s]"
      ]
     },
     "metadata": {},
     "output_type": "display_data"
    },
    {
     "data": {
      "application/vnd.jupyter.widget-view+json": {
       "model_id": "485b66db92154c51967e33fc9028e871",
       "version_major": 2,
       "version_minor": 0
      },
      "text/plain": [
       "  0%|          | 0/150 [00:00<?, ?it/s]"
      ]
     },
     "metadata": {},
     "output_type": "display_data"
    },
    {
     "data": {
      "application/vnd.jupyter.widget-view+json": {
       "model_id": "df453b8b29084d868139ec80fd170bb1",
       "version_major": 2,
       "version_minor": 0
      },
      "text/plain": [
       "  0%|          | 0/150 [00:00<?, ?it/s]"
      ]
     },
     "metadata": {},
     "output_type": "display_data"
    },
    {
     "data": {
      "application/vnd.jupyter.widget-view+json": {
       "model_id": "43002867920b4f2a99807baf9eb97d2f",
       "version_major": 2,
       "version_minor": 0
      },
      "text/plain": [
       "  0%|          | 0/150 [00:00<?, ?it/s]"
      ]
     },
     "metadata": {},
     "output_type": "display_data"
    },
    {
     "data": {
      "application/vnd.jupyter.widget-view+json": {
       "model_id": "c7b8321eb77e459dbb71a53a20a883e3",
       "version_major": 2,
       "version_minor": 0
      },
      "text/plain": [
       "  0%|          | 0/150 [00:00<?, ?it/s]"
      ]
     },
     "metadata": {},
     "output_type": "display_data"
    },
    {
     "data": {
      "application/vnd.jupyter.widget-view+json": {
       "model_id": "91f3b0434f33411397486ed14adae794",
       "version_major": 2,
       "version_minor": 0
      },
      "text/plain": [
       "  0%|          | 0/150 [00:00<?, ?it/s]"
      ]
     },
     "metadata": {},
     "output_type": "display_data"
    },
    {
     "data": {
      "application/vnd.jupyter.widget-view+json": {
       "model_id": "c99bdc96e4884e31a6d6a722f22e974f",
       "version_major": 2,
       "version_minor": 0
      },
      "text/plain": [
       "  0%|          | 0/150 [00:00<?, ?it/s]"
      ]
     },
     "metadata": {},
     "output_type": "display_data"
    },
    {
     "data": {
      "application/vnd.jupyter.widget-view+json": {
       "model_id": "a28e8284ecdd4c2f99d2b8caeade2cd5",
       "version_major": 2,
       "version_minor": 0
      },
      "text/plain": [
       "  0%|          | 0/150 [00:00<?, ?it/s]"
      ]
     },
     "metadata": {},
     "output_type": "display_data"
    },
    {
     "data": {
      "application/vnd.jupyter.widget-view+json": {
       "model_id": "10529d943e74485cafc1caba2b56460d",
       "version_major": 2,
       "version_minor": 0
      },
      "text/plain": [
       "  0%|          | 0/150 [00:00<?, ?it/s]"
      ]
     },
     "metadata": {},
     "output_type": "display_data"
    },
    {
     "data": {
      "application/vnd.jupyter.widget-view+json": {
       "model_id": "8a6e29ecbd0741b9b30350328bc0c8d0",
       "version_major": 2,
       "version_minor": 0
      },
      "text/plain": [
       "  0%|          | 0/150 [00:00<?, ?it/s]"
      ]
     },
     "metadata": {},
     "output_type": "display_data"
    },
    {
     "data": {
      "application/vnd.jupyter.widget-view+json": {
       "model_id": "09a8f2f1e32a42f898ab08e8bec7bb76",
       "version_major": 2,
       "version_minor": 0
      },
      "text/plain": [
       "  0%|          | 0/150 [00:00<?, ?it/s]"
      ]
     },
     "metadata": {},
     "output_type": "display_data"
    },
    {
     "data": {
      "application/vnd.jupyter.widget-view+json": {
       "model_id": "219cfc53c69d4080a97f10603d199aff",
       "version_major": 2,
       "version_minor": 0
      },
      "text/plain": [
       "  0%|          | 0/150 [00:00<?, ?it/s]"
      ]
     },
     "metadata": {},
     "output_type": "display_data"
    },
    {
     "data": {
      "application/vnd.jupyter.widget-view+json": {
       "model_id": "c57d120a35f04a5bac8d1d34ad941856",
       "version_major": 2,
       "version_minor": 0
      },
      "text/plain": [
       "  0%|          | 0/150 [00:00<?, ?it/s]"
      ]
     },
     "metadata": {},
     "output_type": "display_data"
    },
    {
     "data": {
      "application/vnd.jupyter.widget-view+json": {
       "model_id": "cf7711ff877646c99560b2b4fd1747bd",
       "version_major": 2,
       "version_minor": 0
      },
      "text/plain": [
       "  0%|          | 0/150 [00:00<?, ?it/s]"
      ]
     },
     "metadata": {},
     "output_type": "display_data"
    },
    {
     "data": {
      "application/vnd.jupyter.widget-view+json": {
       "model_id": "8db9bd9bcc9b4ae497290ada322e850a",
       "version_major": 2,
       "version_minor": 0
      },
      "text/plain": [
       "  0%|          | 0/150 [00:00<?, ?it/s]"
      ]
     },
     "metadata": {},
     "output_type": "display_data"
    },
    {
     "data": {
      "application/vnd.jupyter.widget-view+json": {
       "model_id": "ac0368294e364ae38b2e7261751d978f",
       "version_major": 2,
       "version_minor": 0
      },
      "text/plain": [
       "  0%|          | 0/150 [00:00<?, ?it/s]"
      ]
     },
     "metadata": {},
     "output_type": "display_data"
    },
    {
     "data": {
      "application/vnd.jupyter.widget-view+json": {
       "model_id": "3e02a46d2d48468ca91ff73a5ef2f6ae",
       "version_major": 2,
       "version_minor": 0
      },
      "text/plain": [
       "  0%|          | 0/150 [00:00<?, ?it/s]"
      ]
     },
     "metadata": {},
     "output_type": "display_data"
    },
    {
     "data": {
      "application/vnd.jupyter.widget-view+json": {
       "model_id": "5b453fd3c15643ac9870a129d3683333",
       "version_major": 2,
       "version_minor": 0
      },
      "text/plain": [
       "  0%|          | 0/150 [00:00<?, ?it/s]"
      ]
     },
     "metadata": {},
     "output_type": "display_data"
    },
    {
     "data": {
      "application/vnd.jupyter.widget-view+json": {
       "model_id": "4f71bc07b1ba47b1ae0d6d200b9c9f95",
       "version_major": 2,
       "version_minor": 0
      },
      "text/plain": [
       "  0%|          | 0/150 [00:00<?, ?it/s]"
      ]
     },
     "metadata": {},
     "output_type": "display_data"
    },
    {
     "data": {
      "application/vnd.jupyter.widget-view+json": {
       "model_id": "a28dc3b3e5c64d09a899b09a2aa68568",
       "version_major": 2,
       "version_minor": 0
      },
      "text/plain": [
       "  0%|          | 0/150 [00:00<?, ?it/s]"
      ]
     },
     "metadata": {},
     "output_type": "display_data"
    },
    {
     "data": {
      "application/vnd.jupyter.widget-view+json": {
       "model_id": "76b6fa9f32904041bf6ed429ae7fac4a",
       "version_major": 2,
       "version_minor": 0
      },
      "text/plain": [
       "  0%|          | 0/150 [00:00<?, ?it/s]"
      ]
     },
     "metadata": {},
     "output_type": "display_data"
    },
    {
     "data": {
      "application/vnd.jupyter.widget-view+json": {
       "model_id": "81bb30ca28e54aff81ed224dbf7952a3",
       "version_major": 2,
       "version_minor": 0
      },
      "text/plain": [
       "  0%|          | 0/150 [00:00<?, ?it/s]"
      ]
     },
     "metadata": {},
     "output_type": "display_data"
    },
    {
     "data": {
      "application/vnd.jupyter.widget-view+json": {
       "model_id": "d9af4f54a454469aa6914d8c36722153",
       "version_major": 2,
       "version_minor": 0
      },
      "text/plain": [
       "  0%|          | 0/150 [00:00<?, ?it/s]"
      ]
     },
     "metadata": {},
     "output_type": "display_data"
    },
    {
     "data": {
      "application/vnd.jupyter.widget-view+json": {
       "model_id": "c96be90963f94fdbb71baa21f981d8ae",
       "version_major": 2,
       "version_minor": 0
      },
      "text/plain": [
       "  0%|          | 0/150 [00:00<?, ?it/s]"
      ]
     },
     "metadata": {},
     "output_type": "display_data"
    },
    {
     "data": {
      "application/vnd.jupyter.widget-view+json": {
       "model_id": "c04c14dc7fb74f0f948cb97a8bfce17a",
       "version_major": 2,
       "version_minor": 0
      },
      "text/plain": [
       "  0%|          | 0/150 [00:00<?, ?it/s]"
      ]
     },
     "metadata": {},
     "output_type": "display_data"
    },
    {
     "data": {
      "application/vnd.jupyter.widget-view+json": {
       "model_id": "960010e79ba64ca08d3bfda9b95a7661",
       "version_major": 2,
       "version_minor": 0
      },
      "text/plain": [
       "  0%|          | 0/28 [00:00<?, ?it/s]"
      ]
     },
     "metadata": {},
     "output_type": "display_data"
    },
    {
     "data": {
      "application/vnd.jupyter.widget-view+json": {
       "model_id": "bfabb5486309442281029e67f94013a7",
       "version_major": 2,
       "version_minor": 0
      },
      "text/plain": [
       "  0%|          | 0/150 [00:00<?, ?it/s]"
      ]
     },
     "metadata": {},
     "output_type": "display_data"
    },
    {
     "data": {
      "application/vnd.jupyter.widget-view+json": {
       "model_id": "9c424d7f55784bc7a358d28c4d566876",
       "version_major": 2,
       "version_minor": 0
      },
      "text/plain": [
       "  0%|          | 0/150 [00:00<?, ?it/s]"
      ]
     },
     "metadata": {},
     "output_type": "display_data"
    },
    {
     "data": {
      "application/vnd.jupyter.widget-view+json": {
       "model_id": "fe64f25a6e0f497cae35a0ca613ac39a",
       "version_major": 2,
       "version_minor": 0
      },
      "text/plain": [
       "  0%|          | 0/150 [00:00<?, ?it/s]"
      ]
     },
     "metadata": {},
     "output_type": "display_data"
    },
    {
     "data": {
      "application/vnd.jupyter.widget-view+json": {
       "model_id": "40293f70e4ae497fa9f317520f471052",
       "version_major": 2,
       "version_minor": 0
      },
      "text/plain": [
       "  0%|          | 0/150 [00:00<?, ?it/s]"
      ]
     },
     "metadata": {},
     "output_type": "display_data"
    },
    {
     "data": {
      "application/vnd.jupyter.widget-view+json": {
       "model_id": "0ea4da8f8c394cd1945c6b73653806b9",
       "version_major": 2,
       "version_minor": 0
      },
      "text/plain": [
       "  0%|          | 0/150 [00:00<?, ?it/s]"
      ]
     },
     "metadata": {},
     "output_type": "display_data"
    },
    {
     "data": {
      "application/vnd.jupyter.widget-view+json": {
       "model_id": "303b901b06b3408db9958eaf29cacd06",
       "version_major": 2,
       "version_minor": 0
      },
      "text/plain": [
       "  0%|          | 0/150 [00:00<?, ?it/s]"
      ]
     },
     "metadata": {},
     "output_type": "display_data"
    },
    {
     "data": {
      "application/vnd.jupyter.widget-view+json": {
       "model_id": "6cd1c94520524522831c695e9ceea4eb",
       "version_major": 2,
       "version_minor": 0
      },
      "text/plain": [
       "  0%|          | 0/150 [00:00<?, ?it/s]"
      ]
     },
     "metadata": {},
     "output_type": "display_data"
    },
    {
     "data": {
      "application/vnd.jupyter.widget-view+json": {
       "model_id": "cbdceda05a40415eb94f8ca5cb0c8efe",
       "version_major": 2,
       "version_minor": 0
      },
      "text/plain": [
       "  0%|          | 0/150 [00:00<?, ?it/s]"
      ]
     },
     "metadata": {},
     "output_type": "display_data"
    },
    {
     "data": {
      "application/vnd.jupyter.widget-view+json": {
       "model_id": "7699507209a0460fbfa410f418c755dc",
       "version_major": 2,
       "version_minor": 0
      },
      "text/plain": [
       "  0%|          | 0/150 [00:00<?, ?it/s]"
      ]
     },
     "metadata": {},
     "output_type": "display_data"
    },
    {
     "data": {
      "application/vnd.jupyter.widget-view+json": {
       "model_id": "19270233288041cc93cc0ffd70ba15e6",
       "version_major": 2,
       "version_minor": 0
      },
      "text/plain": [
       "  0%|          | 0/150 [00:00<?, ?it/s]"
      ]
     },
     "metadata": {},
     "output_type": "display_data"
    },
    {
     "data": {
      "application/vnd.jupyter.widget-view+json": {
       "model_id": "351d58de04034a5092dac1b3484c3226",
       "version_major": 2,
       "version_minor": 0
      },
      "text/plain": [
       "  0%|          | 0/150 [00:00<?, ?it/s]"
      ]
     },
     "metadata": {},
     "output_type": "display_data"
    },
    {
     "data": {
      "application/vnd.jupyter.widget-view+json": {
       "model_id": "7d13d925b4f947bc8439acdea4aa2dac",
       "version_major": 2,
       "version_minor": 0
      },
      "text/plain": [
       "  0%|          | 0/150 [00:00<?, ?it/s]"
      ]
     },
     "metadata": {},
     "output_type": "display_data"
    },
    {
     "data": {
      "application/vnd.jupyter.widget-view+json": {
       "model_id": "7e9892e6e9a74e42bf680cb439fbdbf8",
       "version_major": 2,
       "version_minor": 0
      },
      "text/plain": [
       "  0%|          | 0/150 [00:00<?, ?it/s]"
      ]
     },
     "metadata": {},
     "output_type": "display_data"
    },
    {
     "data": {
      "application/vnd.jupyter.widget-view+json": {
       "model_id": "aaa8090da3264ea5b7f712d061e66950",
       "version_major": 2,
       "version_minor": 0
      },
      "text/plain": [
       "  0%|          | 0/150 [00:00<?, ?it/s]"
      ]
     },
     "metadata": {},
     "output_type": "display_data"
    },
    {
     "data": {
      "application/vnd.jupyter.widget-view+json": {
       "model_id": "8d228190e1e643b888981315d30e4af2",
       "version_major": 2,
       "version_minor": 0
      },
      "text/plain": [
       "  0%|          | 0/150 [00:00<?, ?it/s]"
      ]
     },
     "metadata": {},
     "output_type": "display_data"
    },
    {
     "data": {
      "application/vnd.jupyter.widget-view+json": {
       "model_id": "e9ea156838854f6794b66a0ff854360d",
       "version_major": 2,
       "version_minor": 0
      },
      "text/plain": [
       "  0%|          | 0/150 [00:00<?, ?it/s]"
      ]
     },
     "metadata": {},
     "output_type": "display_data"
    },
    {
     "data": {
      "application/vnd.jupyter.widget-view+json": {
       "model_id": "46183ddc52204c2da1d93f950721b446",
       "version_major": 2,
       "version_minor": 0
      },
      "text/plain": [
       "  0%|          | 0/150 [00:00<?, ?it/s]"
      ]
     },
     "metadata": {},
     "output_type": "display_data"
    },
    {
     "data": {
      "application/vnd.jupyter.widget-view+json": {
       "model_id": "24b330b56886445e8b1e3707844c033f",
       "version_major": 2,
       "version_minor": 0
      },
      "text/plain": [
       "  0%|          | 0/150 [00:00<?, ?it/s]"
      ]
     },
     "metadata": {},
     "output_type": "display_data"
    },
    {
     "data": {
      "application/vnd.jupyter.widget-view+json": {
       "model_id": "64b8d5ab64124e399a389d904d476fe0",
       "version_major": 2,
       "version_minor": 0
      },
      "text/plain": [
       "  0%|          | 0/150 [00:00<?, ?it/s]"
      ]
     },
     "metadata": {},
     "output_type": "display_data"
    },
    {
     "data": {
      "application/vnd.jupyter.widget-view+json": {
       "model_id": "1101746d38d0437ebd321a147b478675",
       "version_major": 2,
       "version_minor": 0
      },
      "text/plain": [
       "  0%|          | 0/150 [00:00<?, ?it/s]"
      ]
     },
     "metadata": {},
     "output_type": "display_data"
    },
    {
     "data": {
      "application/vnd.jupyter.widget-view+json": {
       "model_id": "22b75059f90c4302a4ea2e7595bec3e2",
       "version_major": 2,
       "version_minor": 0
      },
      "text/plain": [
       "  0%|          | 0/150 [00:00<?, ?it/s]"
      ]
     },
     "metadata": {},
     "output_type": "display_data"
    },
    {
     "data": {
      "application/vnd.jupyter.widget-view+json": {
       "model_id": "7338cbbdc78e45efb446c5b58c1207af",
       "version_major": 2,
       "version_minor": 0
      },
      "text/plain": [
       "  0%|          | 0/150 [00:00<?, ?it/s]"
      ]
     },
     "metadata": {},
     "output_type": "display_data"
    },
    {
     "data": {
      "application/vnd.jupyter.widget-view+json": {
       "model_id": "5fdcfc1c3971482289e7ec780c71795b",
       "version_major": 2,
       "version_minor": 0
      },
      "text/plain": [
       "  0%|          | 0/150 [00:00<?, ?it/s]"
      ]
     },
     "metadata": {},
     "output_type": "display_data"
    },
    {
     "data": {
      "application/vnd.jupyter.widget-view+json": {
       "model_id": "ac01eb2dc1e1465eb355d54cf120ade7",
       "version_major": 2,
       "version_minor": 0
      },
      "text/plain": [
       "  0%|          | 0/150 [00:00<?, ?it/s]"
      ]
     },
     "metadata": {},
     "output_type": "display_data"
    },
    {
     "data": {
      "application/vnd.jupyter.widget-view+json": {
       "model_id": "2009a0ad14224efca38f6f087a9337a1",
       "version_major": 2,
       "version_minor": 0
      },
      "text/plain": [
       "  0%|          | 0/150 [00:00<?, ?it/s]"
      ]
     },
     "metadata": {},
     "output_type": "display_data"
    },
    {
     "data": {
      "application/vnd.jupyter.widget-view+json": {
       "model_id": "693bfb7f4be94c9ea659acff3c38fa00",
       "version_major": 2,
       "version_minor": 0
      },
      "text/plain": [
       "  0%|          | 0/150 [00:00<?, ?it/s]"
      ]
     },
     "metadata": {},
     "output_type": "display_data"
    },
    {
     "data": {
      "application/vnd.jupyter.widget-view+json": {
       "model_id": "fedf11070deb4a33a9db8db3b6915d4a",
       "version_major": 2,
       "version_minor": 0
      },
      "text/plain": [
       "  0%|          | 0/150 [00:00<?, ?it/s]"
      ]
     },
     "metadata": {},
     "output_type": "display_data"
    },
    {
     "data": {
      "application/vnd.jupyter.widget-view+json": {
       "model_id": "0d544ba1d73f4f88a0cca33760cdffb4",
       "version_major": 2,
       "version_minor": 0
      },
      "text/plain": [
       "  0%|          | 0/150 [00:00<?, ?it/s]"
      ]
     },
     "metadata": {},
     "output_type": "display_data"
    },
    {
     "data": {
      "application/vnd.jupyter.widget-view+json": {
       "model_id": "86fa83d6eec14624918743f521c36ec7",
       "version_major": 2,
       "version_minor": 0
      },
      "text/plain": [
       "  0%|          | 0/28 [00:00<?, ?it/s]"
      ]
     },
     "metadata": {},
     "output_type": "display_data"
    },
    {
     "data": {
      "application/vnd.jupyter.widget-view+json": {
       "model_id": "43b8aba3ed2a4cbaac1b1cd1f9c924af",
       "version_major": 2,
       "version_minor": 0
      },
      "text/plain": [
       "  0%|          | 0/150 [00:00<?, ?it/s]"
      ]
     },
     "metadata": {},
     "output_type": "display_data"
    },
    {
     "data": {
      "application/vnd.jupyter.widget-view+json": {
       "model_id": "144f1510ad9d439483ab0d89c0b619f0",
       "version_major": 2,
       "version_minor": 0
      },
      "text/plain": [
       "  0%|          | 0/150 [00:00<?, ?it/s]"
      ]
     },
     "metadata": {},
     "output_type": "display_data"
    },
    {
     "data": {
      "application/vnd.jupyter.widget-view+json": {
       "model_id": "de1d70a9d1f944f68b212fa4d6a77cb4",
       "version_major": 2,
       "version_minor": 0
      },
      "text/plain": [
       "  0%|          | 0/150 [00:00<?, ?it/s]"
      ]
     },
     "metadata": {},
     "output_type": "display_data"
    },
    {
     "data": {
      "application/vnd.jupyter.widget-view+json": {
       "model_id": "d309a58d90a849e3803e425b5f6fb603",
       "version_major": 2,
       "version_minor": 0
      },
      "text/plain": [
       "  0%|          | 0/150 [00:00<?, ?it/s]"
      ]
     },
     "metadata": {},
     "output_type": "display_data"
    },
    {
     "data": {
      "application/vnd.jupyter.widget-view+json": {
       "model_id": "4f7de632ef9e4b4095fc2c60cdcbe0ec",
       "version_major": 2,
       "version_minor": 0
      },
      "text/plain": [
       "  0%|          | 0/150 [00:00<?, ?it/s]"
      ]
     },
     "metadata": {},
     "output_type": "display_data"
    },
    {
     "data": {
      "application/vnd.jupyter.widget-view+json": {
       "model_id": "01fb9413fae94a6cb4a52688daab0334",
       "version_major": 2,
       "version_minor": 0
      },
      "text/plain": [
       "  0%|          | 0/150 [00:00<?, ?it/s]"
      ]
     },
     "metadata": {},
     "output_type": "display_data"
    },
    {
     "data": {
      "application/vnd.jupyter.widget-view+json": {
       "model_id": "59754f7cb2a348d09c7ca5ba992a1d4c",
       "version_major": 2,
       "version_minor": 0
      },
      "text/plain": [
       "  0%|          | 0/150 [00:00<?, ?it/s]"
      ]
     },
     "metadata": {},
     "output_type": "display_data"
    },
    {
     "data": {
      "application/vnd.jupyter.widget-view+json": {
       "model_id": "845c135b9e6a4f2e9a4eaf49cecbf907",
       "version_major": 2,
       "version_minor": 0
      },
      "text/plain": [
       "  0%|          | 0/150 [00:00<?, ?it/s]"
      ]
     },
     "metadata": {},
     "output_type": "display_data"
    },
    {
     "data": {
      "application/vnd.jupyter.widget-view+json": {
       "model_id": "20a0eaac4d644b67872d15d3c5dfc62b",
       "version_major": 2,
       "version_minor": 0
      },
      "text/plain": [
       "  0%|          | 0/150 [00:00<?, ?it/s]"
      ]
     },
     "metadata": {},
     "output_type": "display_data"
    },
    {
     "data": {
      "application/vnd.jupyter.widget-view+json": {
       "model_id": "f2f32d6ce601490181cde0fe9c8ce2f8",
       "version_major": 2,
       "version_minor": 0
      },
      "text/plain": [
       "  0%|          | 0/150 [00:00<?, ?it/s]"
      ]
     },
     "metadata": {},
     "output_type": "display_data"
    },
    {
     "data": {
      "application/vnd.jupyter.widget-view+json": {
       "model_id": "a0a84545a4da4e8891063a539b8d8067",
       "version_major": 2,
       "version_minor": 0
      },
      "text/plain": [
       "  0%|          | 0/150 [00:00<?, ?it/s]"
      ]
     },
     "metadata": {},
     "output_type": "display_data"
    },
    {
     "data": {
      "application/vnd.jupyter.widget-view+json": {
       "model_id": "fbf3289b6c474f568dc519f6cf3f8b28",
       "version_major": 2,
       "version_minor": 0
      },
      "text/plain": [
       "  0%|          | 0/150 [00:00<?, ?it/s]"
      ]
     },
     "metadata": {},
     "output_type": "display_data"
    },
    {
     "data": {
      "application/vnd.jupyter.widget-view+json": {
       "model_id": "1614944402b74955b49884eec435a16f",
       "version_major": 2,
       "version_minor": 0
      },
      "text/plain": [
       "  0%|          | 0/150 [00:00<?, ?it/s]"
      ]
     },
     "metadata": {},
     "output_type": "display_data"
    },
    {
     "data": {
      "application/vnd.jupyter.widget-view+json": {
       "model_id": "fe8cfee37ffb4e01851a8f4dbffb8108",
       "version_major": 2,
       "version_minor": 0
      },
      "text/plain": [
       "  0%|          | 0/150 [00:00<?, ?it/s]"
      ]
     },
     "metadata": {},
     "output_type": "display_data"
    },
    {
     "data": {
      "application/vnd.jupyter.widget-view+json": {
       "model_id": "c78be864fba24bcebbb9f43a6e09c254",
       "version_major": 2,
       "version_minor": 0
      },
      "text/plain": [
       "  0%|          | 0/150 [00:00<?, ?it/s]"
      ]
     },
     "metadata": {},
     "output_type": "display_data"
    },
    {
     "data": {
      "application/vnd.jupyter.widget-view+json": {
       "model_id": "9719403247124714b1eb4fca0aae5e40",
       "version_major": 2,
       "version_minor": 0
      },
      "text/plain": [
       "  0%|          | 0/150 [00:00<?, ?it/s]"
      ]
     },
     "metadata": {},
     "output_type": "display_data"
    },
    {
     "data": {
      "application/vnd.jupyter.widget-view+json": {
       "model_id": "e8a0bf204f654b45a3297d5cdc645154",
       "version_major": 2,
       "version_minor": 0
      },
      "text/plain": [
       "  0%|          | 0/150 [00:00<?, ?it/s]"
      ]
     },
     "metadata": {},
     "output_type": "display_data"
    },
    {
     "data": {
      "application/vnd.jupyter.widget-view+json": {
       "model_id": "96a0aca0139a4c63b48eefd802aa6594",
       "version_major": 2,
       "version_minor": 0
      },
      "text/plain": [
       "  0%|          | 0/150 [00:00<?, ?it/s]"
      ]
     },
     "metadata": {},
     "output_type": "display_data"
    },
    {
     "data": {
      "application/vnd.jupyter.widget-view+json": {
       "model_id": "f01cd5ce28664c4d8d085c168f163aa9",
       "version_major": 2,
       "version_minor": 0
      },
      "text/plain": [
       "  0%|          | 0/150 [00:00<?, ?it/s]"
      ]
     },
     "metadata": {},
     "output_type": "display_data"
    },
    {
     "data": {
      "application/vnd.jupyter.widget-view+json": {
       "model_id": "747c49b1783f47c9a5f094cf0f83f207",
       "version_major": 2,
       "version_minor": 0
      },
      "text/plain": [
       "  0%|          | 0/150 [00:00<?, ?it/s]"
      ]
     },
     "metadata": {},
     "output_type": "display_data"
    },
    {
     "data": {
      "application/vnd.jupyter.widget-view+json": {
       "model_id": "86eaac6e569c4b35b6cc1571077cadaa",
       "version_major": 2,
       "version_minor": 0
      },
      "text/plain": [
       "  0%|          | 0/150 [00:00<?, ?it/s]"
      ]
     },
     "metadata": {},
     "output_type": "display_data"
    },
    {
     "data": {
      "application/vnd.jupyter.widget-view+json": {
       "model_id": "f25b816e4aa0411fbc5949f035507057",
       "version_major": 2,
       "version_minor": 0
      },
      "text/plain": [
       "  0%|          | 0/150 [00:00<?, ?it/s]"
      ]
     },
     "metadata": {},
     "output_type": "display_data"
    },
    {
     "data": {
      "application/vnd.jupyter.widget-view+json": {
       "model_id": "7ef11a99b83341c79debf3d8dd8aea13",
       "version_major": 2,
       "version_minor": 0
      },
      "text/plain": [
       "  0%|          | 0/150 [00:00<?, ?it/s]"
      ]
     },
     "metadata": {},
     "output_type": "display_data"
    },
    {
     "data": {
      "application/vnd.jupyter.widget-view+json": {
       "model_id": "82ac738abf6d43cab3a449d51fcc4ba3",
       "version_major": 2,
       "version_minor": 0
      },
      "text/plain": [
       "  0%|          | 0/150 [00:00<?, ?it/s]"
      ]
     },
     "metadata": {},
     "output_type": "display_data"
    },
    {
     "data": {
      "application/vnd.jupyter.widget-view+json": {
       "model_id": "d7d8cbb255224c4b851e10b19efd96bd",
       "version_major": 2,
       "version_minor": 0
      },
      "text/plain": [
       "  0%|          | 0/150 [00:00<?, ?it/s]"
      ]
     },
     "metadata": {},
     "output_type": "display_data"
    },
    {
     "data": {
      "application/vnd.jupyter.widget-view+json": {
       "model_id": "7d72da92dd1f4c13a76cb297c88ffe7a",
       "version_major": 2,
       "version_minor": 0
      },
      "text/plain": [
       "  0%|          | 0/150 [00:00<?, ?it/s]"
      ]
     },
     "metadata": {},
     "output_type": "display_data"
    },
    {
     "data": {
      "application/vnd.jupyter.widget-view+json": {
       "model_id": "63c940fc8938486eb70f8d8bc4f5b5d0",
       "version_major": 2,
       "version_minor": 0
      },
      "text/plain": [
       "  0%|          | 0/150 [00:00<?, ?it/s]"
      ]
     },
     "metadata": {},
     "output_type": "display_data"
    },
    {
     "data": {
      "application/vnd.jupyter.widget-view+json": {
       "model_id": "e924a16089eb407699ae9523c31ec139",
       "version_major": 2,
       "version_minor": 0
      },
      "text/plain": [
       "  0%|          | 0/150 [00:00<?, ?it/s]"
      ]
     },
     "metadata": {},
     "output_type": "display_data"
    },
    {
     "data": {
      "application/vnd.jupyter.widget-view+json": {
       "model_id": "b95c6c9e31d6487490114a28179f86f4",
       "version_major": 2,
       "version_minor": 0
      },
      "text/plain": [
       "  0%|          | 0/28 [00:00<?, ?it/s]"
      ]
     },
     "metadata": {},
     "output_type": "display_data"
    },
    {
     "data": {
      "application/vnd.jupyter.widget-view+json": {
       "model_id": "14c4efb163a74ec9aaaa73ea97f4b866",
       "version_major": 2,
       "version_minor": 0
      },
      "text/plain": [
       "  0%|          | 0/150 [00:00<?, ?it/s]"
      ]
     },
     "metadata": {},
     "output_type": "display_data"
    },
    {
     "data": {
      "application/vnd.jupyter.widget-view+json": {
       "model_id": "da87d461a63444daa152990f9e05aefe",
       "version_major": 2,
       "version_minor": 0
      },
      "text/plain": [
       "  0%|          | 0/150 [00:00<?, ?it/s]"
      ]
     },
     "metadata": {},
     "output_type": "display_data"
    },
    {
     "data": {
      "application/vnd.jupyter.widget-view+json": {
       "model_id": "f4fe4ecefa394867ad42f18f619be06d",
       "version_major": 2,
       "version_minor": 0
      },
      "text/plain": [
       "  0%|          | 0/150 [00:00<?, ?it/s]"
      ]
     },
     "metadata": {},
     "output_type": "display_data"
    },
    {
     "data": {
      "application/vnd.jupyter.widget-view+json": {
       "model_id": "b5ee7753fa3f44f1ba15947ed5565698",
       "version_major": 2,
       "version_minor": 0
      },
      "text/plain": [
       "  0%|          | 0/150 [00:00<?, ?it/s]"
      ]
     },
     "metadata": {},
     "output_type": "display_data"
    },
    {
     "data": {
      "application/vnd.jupyter.widget-view+json": {
       "model_id": "6b58f4c6d9a44846ba477b6aa1632a5c",
       "version_major": 2,
       "version_minor": 0
      },
      "text/plain": [
       "  0%|          | 0/150 [00:00<?, ?it/s]"
      ]
     },
     "metadata": {},
     "output_type": "display_data"
    },
    {
     "data": {
      "application/vnd.jupyter.widget-view+json": {
       "model_id": "f2bbadcd48324152acdd568642c651ac",
       "version_major": 2,
       "version_minor": 0
      },
      "text/plain": [
       "  0%|          | 0/150 [00:00<?, ?it/s]"
      ]
     },
     "metadata": {},
     "output_type": "display_data"
    },
    {
     "data": {
      "application/vnd.jupyter.widget-view+json": {
       "model_id": "792e67c85b914401bfd34fb5bde27974",
       "version_major": 2,
       "version_minor": 0
      },
      "text/plain": [
       "  0%|          | 0/150 [00:00<?, ?it/s]"
      ]
     },
     "metadata": {},
     "output_type": "display_data"
    },
    {
     "data": {
      "application/vnd.jupyter.widget-view+json": {
       "model_id": "51debcbfaafa42aeb556634dd24a34e6",
       "version_major": 2,
       "version_minor": 0
      },
      "text/plain": [
       "  0%|          | 0/150 [00:00<?, ?it/s]"
      ]
     },
     "metadata": {},
     "output_type": "display_data"
    },
    {
     "data": {
      "application/vnd.jupyter.widget-view+json": {
       "model_id": "4ab699434f304d6cb6a7c7d9f10e7a93",
       "version_major": 2,
       "version_minor": 0
      },
      "text/plain": [
       "  0%|          | 0/150 [00:00<?, ?it/s]"
      ]
     },
     "metadata": {},
     "output_type": "display_data"
    },
    {
     "data": {
      "application/vnd.jupyter.widget-view+json": {
       "model_id": "e758e220a4784f1782d7d83751c92fac",
       "version_major": 2,
       "version_minor": 0
      },
      "text/plain": [
       "  0%|          | 0/150 [00:00<?, ?it/s]"
      ]
     },
     "metadata": {},
     "output_type": "display_data"
    },
    {
     "data": {
      "application/vnd.jupyter.widget-view+json": {
       "model_id": "3d7a570ba47a4b2192191117b98313b3",
       "version_major": 2,
       "version_minor": 0
      },
      "text/plain": [
       "  0%|          | 0/150 [00:00<?, ?it/s]"
      ]
     },
     "metadata": {},
     "output_type": "display_data"
    },
    {
     "data": {
      "application/vnd.jupyter.widget-view+json": {
       "model_id": "994d5f713e2d4837b767681818e2492d",
       "version_major": 2,
       "version_minor": 0
      },
      "text/plain": [
       "  0%|          | 0/150 [00:00<?, ?it/s]"
      ]
     },
     "metadata": {},
     "output_type": "display_data"
    },
    {
     "data": {
      "application/vnd.jupyter.widget-view+json": {
       "model_id": "abcd0569a4b142c0a268b55ea6ffc2e9",
       "version_major": 2,
       "version_minor": 0
      },
      "text/plain": [
       "  0%|          | 0/150 [00:00<?, ?it/s]"
      ]
     },
     "metadata": {},
     "output_type": "display_data"
    },
    {
     "data": {
      "application/vnd.jupyter.widget-view+json": {
       "model_id": "6d5ff0a4ab104b2fa17088fa20b1f31a",
       "version_major": 2,
       "version_minor": 0
      },
      "text/plain": [
       "  0%|          | 0/150 [00:00<?, ?it/s]"
      ]
     },
     "metadata": {},
     "output_type": "display_data"
    },
    {
     "data": {
      "application/vnd.jupyter.widget-view+json": {
       "model_id": "36e2d43b038f4e8a836f5916e4b5fa76",
       "version_major": 2,
       "version_minor": 0
      },
      "text/plain": [
       "  0%|          | 0/150 [00:00<?, ?it/s]"
      ]
     },
     "metadata": {},
     "output_type": "display_data"
    },
    {
     "data": {
      "application/vnd.jupyter.widget-view+json": {
       "model_id": "9a22bdbcb3574163a69b81fdbf1dfc1b",
       "version_major": 2,
       "version_minor": 0
      },
      "text/plain": [
       "  0%|          | 0/150 [00:00<?, ?it/s]"
      ]
     },
     "metadata": {},
     "output_type": "display_data"
    },
    {
     "data": {
      "application/vnd.jupyter.widget-view+json": {
       "model_id": "ceffda276f7d485983387a9f5889e649",
       "version_major": 2,
       "version_minor": 0
      },
      "text/plain": [
       "  0%|          | 0/150 [00:00<?, ?it/s]"
      ]
     },
     "metadata": {},
     "output_type": "display_data"
    },
    {
     "data": {
      "application/vnd.jupyter.widget-view+json": {
       "model_id": "f2e06e7335a24919a396c39204bcfeed",
       "version_major": 2,
       "version_minor": 0
      },
      "text/plain": [
       "  0%|          | 0/150 [00:00<?, ?it/s]"
      ]
     },
     "metadata": {},
     "output_type": "display_data"
    },
    {
     "data": {
      "application/vnd.jupyter.widget-view+json": {
       "model_id": "f639dc6980394f76bbf4859f4432b900",
       "version_major": 2,
       "version_minor": 0
      },
      "text/plain": [
       "  0%|          | 0/150 [00:00<?, ?it/s]"
      ]
     },
     "metadata": {},
     "output_type": "display_data"
    },
    {
     "data": {
      "application/vnd.jupyter.widget-view+json": {
       "model_id": "ac897f89b6b5456caf022c6f54c173ef",
       "version_major": 2,
       "version_minor": 0
      },
      "text/plain": [
       "  0%|          | 0/150 [00:00<?, ?it/s]"
      ]
     },
     "metadata": {},
     "output_type": "display_data"
    },
    {
     "data": {
      "application/vnd.jupyter.widget-view+json": {
       "model_id": "0fdf5e1689f54eefa35803ddae8638ce",
       "version_major": 2,
       "version_minor": 0
      },
      "text/plain": [
       "  0%|          | 0/150 [00:00<?, ?it/s]"
      ]
     },
     "metadata": {},
     "output_type": "display_data"
    },
    {
     "data": {
      "application/vnd.jupyter.widget-view+json": {
       "model_id": "0262376617da4658acb3d91f61888cbc",
       "version_major": 2,
       "version_minor": 0
      },
      "text/plain": [
       "  0%|          | 0/150 [00:00<?, ?it/s]"
      ]
     },
     "metadata": {},
     "output_type": "display_data"
    },
    {
     "data": {
      "application/vnd.jupyter.widget-view+json": {
       "model_id": "b04e8e96003d415883f238b89360c15c",
       "version_major": 2,
       "version_minor": 0
      },
      "text/plain": [
       "  0%|          | 0/150 [00:00<?, ?it/s]"
      ]
     },
     "metadata": {},
     "output_type": "display_data"
    },
    {
     "data": {
      "application/vnd.jupyter.widget-view+json": {
       "model_id": "d5bbec3b79c74f30829bbb22280d1bf7",
       "version_major": 2,
       "version_minor": 0
      },
      "text/plain": [
       "  0%|          | 0/150 [00:00<?, ?it/s]"
      ]
     },
     "metadata": {},
     "output_type": "display_data"
    },
    {
     "data": {
      "application/vnd.jupyter.widget-view+json": {
       "model_id": "59cfe608b2264b9ba7034cce205b0c17",
       "version_major": 2,
       "version_minor": 0
      },
      "text/plain": [
       "  0%|          | 0/150 [00:00<?, ?it/s]"
      ]
     },
     "metadata": {},
     "output_type": "display_data"
    },
    {
     "data": {
      "application/vnd.jupyter.widget-view+json": {
       "model_id": "091dee947b0d49b8b45a3919e322811e",
       "version_major": 2,
       "version_minor": 0
      },
      "text/plain": [
       "  0%|          | 0/150 [00:00<?, ?it/s]"
      ]
     },
     "metadata": {},
     "output_type": "display_data"
    },
    {
     "data": {
      "application/vnd.jupyter.widget-view+json": {
       "model_id": "9e84e75580f643d09caef91a7c7aa59e",
       "version_major": 2,
       "version_minor": 0
      },
      "text/plain": [
       "  0%|          | 0/150 [00:00<?, ?it/s]"
      ]
     },
     "metadata": {},
     "output_type": "display_data"
    },
    {
     "data": {
      "application/vnd.jupyter.widget-view+json": {
       "model_id": "7ce045bd5dbc4e91afda3a20dbf50cb4",
       "version_major": 2,
       "version_minor": 0
      },
      "text/plain": [
       "  0%|          | 0/150 [00:00<?, ?it/s]"
      ]
     },
     "metadata": {},
     "output_type": "display_data"
    },
    {
     "data": {
      "application/vnd.jupyter.widget-view+json": {
       "model_id": "be174ec14a654d3b93a1db0c53e8c19e",
       "version_major": 2,
       "version_minor": 0
      },
      "text/plain": [
       "  0%|          | 0/28 [00:00<?, ?it/s]"
      ]
     },
     "metadata": {},
     "output_type": "display_data"
    },
    {
     "data": {
      "application/vnd.jupyter.widget-view+json": {
       "model_id": "843636daa9804ac6bac6043893e71c61",
       "version_major": 2,
       "version_minor": 0
      },
      "text/plain": [
       "  0%|          | 0/150 [00:00<?, ?it/s]"
      ]
     },
     "metadata": {},
     "output_type": "display_data"
    },
    {
     "data": {
      "application/vnd.jupyter.widget-view+json": {
       "model_id": "9b3bd586c294415182326a7c87488c98",
       "version_major": 2,
       "version_minor": 0
      },
      "text/plain": [
       "  0%|          | 0/150 [00:00<?, ?it/s]"
      ]
     },
     "metadata": {},
     "output_type": "display_data"
    },
    {
     "data": {
      "application/vnd.jupyter.widget-view+json": {
       "model_id": "30b691b468564451b113dfc30a8dad14",
       "version_major": 2,
       "version_minor": 0
      },
      "text/plain": [
       "  0%|          | 0/150 [00:00<?, ?it/s]"
      ]
     },
     "metadata": {},
     "output_type": "display_data"
    },
    {
     "data": {
      "application/vnd.jupyter.widget-view+json": {
       "model_id": "10074b2eb2ef4ffaa6bbe8c346583200",
       "version_major": 2,
       "version_minor": 0
      },
      "text/plain": [
       "  0%|          | 0/150 [00:00<?, ?it/s]"
      ]
     },
     "metadata": {},
     "output_type": "display_data"
    },
    {
     "data": {
      "application/vnd.jupyter.widget-view+json": {
       "model_id": "f204d00c70554440b36ef6882682712e",
       "version_major": 2,
       "version_minor": 0
      },
      "text/plain": [
       "  0%|          | 0/150 [00:00<?, ?it/s]"
      ]
     },
     "metadata": {},
     "output_type": "display_data"
    },
    {
     "data": {
      "application/vnd.jupyter.widget-view+json": {
       "model_id": "b8640137f267491890db7db6f4d886b1",
       "version_major": 2,
       "version_minor": 0
      },
      "text/plain": [
       "  0%|          | 0/150 [00:00<?, ?it/s]"
      ]
     },
     "metadata": {},
     "output_type": "display_data"
    },
    {
     "data": {
      "application/vnd.jupyter.widget-view+json": {
       "model_id": "c8df332e881b4552b21e8efc96b6957c",
       "version_major": 2,
       "version_minor": 0
      },
      "text/plain": [
       "  0%|          | 0/150 [00:00<?, ?it/s]"
      ]
     },
     "metadata": {},
     "output_type": "display_data"
    },
    {
     "data": {
      "application/vnd.jupyter.widget-view+json": {
       "model_id": "d6c36f842411405496998b2a68ad1e5f",
       "version_major": 2,
       "version_minor": 0
      },
      "text/plain": [
       "  0%|          | 0/150 [00:00<?, ?it/s]"
      ]
     },
     "metadata": {},
     "output_type": "display_data"
    },
    {
     "data": {
      "application/vnd.jupyter.widget-view+json": {
       "model_id": "eb4462671dc9462392ae7d83319dc540",
       "version_major": 2,
       "version_minor": 0
      },
      "text/plain": [
       "  0%|          | 0/150 [00:00<?, ?it/s]"
      ]
     },
     "metadata": {},
     "output_type": "display_data"
    },
    {
     "data": {
      "application/vnd.jupyter.widget-view+json": {
       "model_id": "88cb15437de044f4ad6b870a0f13f35a",
       "version_major": 2,
       "version_minor": 0
      },
      "text/plain": [
       "  0%|          | 0/150 [00:00<?, ?it/s]"
      ]
     },
     "metadata": {},
     "output_type": "display_data"
    },
    {
     "data": {
      "application/vnd.jupyter.widget-view+json": {
       "model_id": "c3a551eb80c847ef9a21e561a1006ed9",
       "version_major": 2,
       "version_minor": 0
      },
      "text/plain": [
       "  0%|          | 0/150 [00:00<?, ?it/s]"
      ]
     },
     "metadata": {},
     "output_type": "display_data"
    },
    {
     "data": {
      "application/vnd.jupyter.widget-view+json": {
       "model_id": "ed6734e474584d849e7c62da03830e80",
       "version_major": 2,
       "version_minor": 0
      },
      "text/plain": [
       "  0%|          | 0/150 [00:00<?, ?it/s]"
      ]
     },
     "metadata": {},
     "output_type": "display_data"
    },
    {
     "data": {
      "application/vnd.jupyter.widget-view+json": {
       "model_id": "af219ec82f154eb9a440910853731ef2",
       "version_major": 2,
       "version_minor": 0
      },
      "text/plain": [
       "  0%|          | 0/150 [00:00<?, ?it/s]"
      ]
     },
     "metadata": {},
     "output_type": "display_data"
    },
    {
     "data": {
      "application/vnd.jupyter.widget-view+json": {
       "model_id": "db5e779516454b4ea748c3c48b961d19",
       "version_major": 2,
       "version_minor": 0
      },
      "text/plain": [
       "  0%|          | 0/150 [00:00<?, ?it/s]"
      ]
     },
     "metadata": {},
     "output_type": "display_data"
    },
    {
     "data": {
      "application/vnd.jupyter.widget-view+json": {
       "model_id": "ccee96b871f74c369909a0f28012d536",
       "version_major": 2,
       "version_minor": 0
      },
      "text/plain": [
       "  0%|          | 0/150 [00:00<?, ?it/s]"
      ]
     },
     "metadata": {},
     "output_type": "display_data"
    },
    {
     "data": {
      "application/vnd.jupyter.widget-view+json": {
       "model_id": "2da5e9c158854f56b0bd246eeecb1f69",
       "version_major": 2,
       "version_minor": 0
      },
      "text/plain": [
       "  0%|          | 0/150 [00:00<?, ?it/s]"
      ]
     },
     "metadata": {},
     "output_type": "display_data"
    },
    {
     "data": {
      "application/vnd.jupyter.widget-view+json": {
       "model_id": "ff80c3cbee0b4cdda819d6af1026e527",
       "version_major": 2,
       "version_minor": 0
      },
      "text/plain": [
       "  0%|          | 0/150 [00:00<?, ?it/s]"
      ]
     },
     "metadata": {},
     "output_type": "display_data"
    },
    {
     "data": {
      "application/vnd.jupyter.widget-view+json": {
       "model_id": "496acc5679bc42cfb5e03a1da9569208",
       "version_major": 2,
       "version_minor": 0
      },
      "text/plain": [
       "  0%|          | 0/150 [00:00<?, ?it/s]"
      ]
     },
     "metadata": {},
     "output_type": "display_data"
    },
    {
     "data": {
      "application/vnd.jupyter.widget-view+json": {
       "model_id": "f535c351d8be43a8b26556d37ade590c",
       "version_major": 2,
       "version_minor": 0
      },
      "text/plain": [
       "  0%|          | 0/150 [00:00<?, ?it/s]"
      ]
     },
     "metadata": {},
     "output_type": "display_data"
    },
    {
     "data": {
      "application/vnd.jupyter.widget-view+json": {
       "model_id": "f5286c11cd484b1889c4f422b3a2ad59",
       "version_major": 2,
       "version_minor": 0
      },
      "text/plain": [
       "  0%|          | 0/150 [00:00<?, ?it/s]"
      ]
     },
     "metadata": {},
     "output_type": "display_data"
    },
    {
     "data": {
      "application/vnd.jupyter.widget-view+json": {
       "model_id": "2672d6754b364c568fbe435635d1facd",
       "version_major": 2,
       "version_minor": 0
      },
      "text/plain": [
       "  0%|          | 0/150 [00:00<?, ?it/s]"
      ]
     },
     "metadata": {},
     "output_type": "display_data"
    },
    {
     "data": {
      "application/vnd.jupyter.widget-view+json": {
       "model_id": "38035c0f3463434e975e63136835fd1b",
       "version_major": 2,
       "version_minor": 0
      },
      "text/plain": [
       "  0%|          | 0/150 [00:00<?, ?it/s]"
      ]
     },
     "metadata": {},
     "output_type": "display_data"
    },
    {
     "data": {
      "application/vnd.jupyter.widget-view+json": {
       "model_id": "d03e4450b03f47aab2a0daea69517ba1",
       "version_major": 2,
       "version_minor": 0
      },
      "text/plain": [
       "  0%|          | 0/150 [00:00<?, ?it/s]"
      ]
     },
     "metadata": {},
     "output_type": "display_data"
    },
    {
     "data": {
      "application/vnd.jupyter.widget-view+json": {
       "model_id": "5f19c515ba6147488f442f03e96ea023",
       "version_major": 2,
       "version_minor": 0
      },
      "text/plain": [
       "  0%|          | 0/150 [00:00<?, ?it/s]"
      ]
     },
     "metadata": {},
     "output_type": "display_data"
    },
    {
     "data": {
      "application/vnd.jupyter.widget-view+json": {
       "model_id": "c85e89ee909144219724a369014b4c65",
       "version_major": 2,
       "version_minor": 0
      },
      "text/plain": [
       "  0%|          | 0/150 [00:00<?, ?it/s]"
      ]
     },
     "metadata": {},
     "output_type": "display_data"
    },
    {
     "data": {
      "application/vnd.jupyter.widget-view+json": {
       "model_id": "66ed0c5182484db798a63e44f62a8126",
       "version_major": 2,
       "version_minor": 0
      },
      "text/plain": [
       "  0%|          | 0/150 [00:00<?, ?it/s]"
      ]
     },
     "metadata": {},
     "output_type": "display_data"
    },
    {
     "data": {
      "application/vnd.jupyter.widget-view+json": {
       "model_id": "ea20408f1c7f42238942a755584fdbcf",
       "version_major": 2,
       "version_minor": 0
      },
      "text/plain": [
       "  0%|          | 0/150 [00:00<?, ?it/s]"
      ]
     },
     "metadata": {},
     "output_type": "display_data"
    },
    {
     "data": {
      "application/vnd.jupyter.widget-view+json": {
       "model_id": "638ad9a92e1f403186f3a76a4f0a4c2b",
       "version_major": 2,
       "version_minor": 0
      },
      "text/plain": [
       "  0%|          | 0/150 [00:00<?, ?it/s]"
      ]
     },
     "metadata": {},
     "output_type": "display_data"
    },
    {
     "data": {
      "application/vnd.jupyter.widget-view+json": {
       "model_id": "fc7d31d746e54583b5162454b71bd7ab",
       "version_major": 2,
       "version_minor": 0
      },
      "text/plain": [
       "  0%|          | 0/28 [00:00<?, ?it/s]"
      ]
     },
     "metadata": {},
     "output_type": "display_data"
    },
    {
     "data": {
      "application/vnd.jupyter.widget-view+json": {
       "model_id": "3360dbf0b84f4031ae0ecb9a6e530f50",
       "version_major": 2,
       "version_minor": 0
      },
      "text/plain": [
       "  0%|          | 0/150 [00:00<?, ?it/s]"
      ]
     },
     "metadata": {},
     "output_type": "display_data"
    },
    {
     "data": {
      "application/vnd.jupyter.widget-view+json": {
       "model_id": "e91a1998bf8b4f7fb08dcc1cb0633572",
       "version_major": 2,
       "version_minor": 0
      },
      "text/plain": [
       "  0%|          | 0/150 [00:00<?, ?it/s]"
      ]
     },
     "metadata": {},
     "output_type": "display_data"
    },
    {
     "data": {
      "application/vnd.jupyter.widget-view+json": {
       "model_id": "c6ccced8070f456abd1ad44bb3ff1a37",
       "version_major": 2,
       "version_minor": 0
      },
      "text/plain": [
       "  0%|          | 0/150 [00:00<?, ?it/s]"
      ]
     },
     "metadata": {},
     "output_type": "display_data"
    },
    {
     "data": {
      "application/vnd.jupyter.widget-view+json": {
       "model_id": "35662c295d174654b68b1a8e86b45697",
       "version_major": 2,
       "version_minor": 0
      },
      "text/plain": [
       "  0%|          | 0/150 [00:00<?, ?it/s]"
      ]
     },
     "metadata": {},
     "output_type": "display_data"
    },
    {
     "data": {
      "application/vnd.jupyter.widget-view+json": {
       "model_id": "282e7e9447714ddc88a1dca842d7e8fd",
       "version_major": 2,
       "version_minor": 0
      },
      "text/plain": [
       "  0%|          | 0/150 [00:00<?, ?it/s]"
      ]
     },
     "metadata": {},
     "output_type": "display_data"
    },
    {
     "data": {
      "application/vnd.jupyter.widget-view+json": {
       "model_id": "9fda2627debf47289424cecef7b1baf6",
       "version_major": 2,
       "version_minor": 0
      },
      "text/plain": [
       "  0%|          | 0/150 [00:00<?, ?it/s]"
      ]
     },
     "metadata": {},
     "output_type": "display_data"
    },
    {
     "data": {
      "application/vnd.jupyter.widget-view+json": {
       "model_id": "d47a16aa92054c18b34e483658061bc7",
       "version_major": 2,
       "version_minor": 0
      },
      "text/plain": [
       "  0%|          | 0/150 [00:00<?, ?it/s]"
      ]
     },
     "metadata": {},
     "output_type": "display_data"
    },
    {
     "data": {
      "application/vnd.jupyter.widget-view+json": {
       "model_id": "f699a5b26a05445c9c6be4ac1ac43761",
       "version_major": 2,
       "version_minor": 0
      },
      "text/plain": [
       "  0%|          | 0/150 [00:00<?, ?it/s]"
      ]
     },
     "metadata": {},
     "output_type": "display_data"
    },
    {
     "data": {
      "application/vnd.jupyter.widget-view+json": {
       "model_id": "cd8d78b3806d4920b49daa96c6673bd3",
       "version_major": 2,
       "version_minor": 0
      },
      "text/plain": [
       "  0%|          | 0/150 [00:00<?, ?it/s]"
      ]
     },
     "metadata": {},
     "output_type": "display_data"
    },
    {
     "data": {
      "application/vnd.jupyter.widget-view+json": {
       "model_id": "71693da9fa91446197483ffe548577c9",
       "version_major": 2,
       "version_minor": 0
      },
      "text/plain": [
       "  0%|          | 0/150 [00:00<?, ?it/s]"
      ]
     },
     "metadata": {},
     "output_type": "display_data"
    },
    {
     "data": {
      "application/vnd.jupyter.widget-view+json": {
       "model_id": "ec33e74a5355420097f4582f61393d57",
       "version_major": 2,
       "version_minor": 0
      },
      "text/plain": [
       "  0%|          | 0/150 [00:00<?, ?it/s]"
      ]
     },
     "metadata": {},
     "output_type": "display_data"
    },
    {
     "data": {
      "application/vnd.jupyter.widget-view+json": {
       "model_id": "57d3abbc8d67404eb19e9d0cd17acf0e",
       "version_major": 2,
       "version_minor": 0
      },
      "text/plain": [
       "  0%|          | 0/150 [00:00<?, ?it/s]"
      ]
     },
     "metadata": {},
     "output_type": "display_data"
    },
    {
     "data": {
      "application/vnd.jupyter.widget-view+json": {
       "model_id": "7af409150aeb46c190a758bad9af6c5e",
       "version_major": 2,
       "version_minor": 0
      },
      "text/plain": [
       "  0%|          | 0/150 [00:00<?, ?it/s]"
      ]
     },
     "metadata": {},
     "output_type": "display_data"
    },
    {
     "data": {
      "application/vnd.jupyter.widget-view+json": {
       "model_id": "ca353445605043a8ad6789dd65c4fb6e",
       "version_major": 2,
       "version_minor": 0
      },
      "text/plain": [
       "  0%|          | 0/150 [00:00<?, ?it/s]"
      ]
     },
     "metadata": {},
     "output_type": "display_data"
    },
    {
     "data": {
      "application/vnd.jupyter.widget-view+json": {
       "model_id": "33527936dbe84ad291c161cf85fa8ce5",
       "version_major": 2,
       "version_minor": 0
      },
      "text/plain": [
       "  0%|          | 0/150 [00:00<?, ?it/s]"
      ]
     },
     "metadata": {},
     "output_type": "display_data"
    },
    {
     "data": {
      "application/vnd.jupyter.widget-view+json": {
       "model_id": "b6c79c562b7741be917ed66799b957f4",
       "version_major": 2,
       "version_minor": 0
      },
      "text/plain": [
       "  0%|          | 0/150 [00:00<?, ?it/s]"
      ]
     },
     "metadata": {},
     "output_type": "display_data"
    },
    {
     "data": {
      "application/vnd.jupyter.widget-view+json": {
       "model_id": "9a4790ce3b8b4bf8b24aed978832c19f",
       "version_major": 2,
       "version_minor": 0
      },
      "text/plain": [
       "  0%|          | 0/150 [00:00<?, ?it/s]"
      ]
     },
     "metadata": {},
     "output_type": "display_data"
    },
    {
     "data": {
      "application/vnd.jupyter.widget-view+json": {
       "model_id": "19db482b96e54889a0804c52079d4000",
       "version_major": 2,
       "version_minor": 0
      },
      "text/plain": [
       "  0%|          | 0/150 [00:00<?, ?it/s]"
      ]
     },
     "metadata": {},
     "output_type": "display_data"
    },
    {
     "data": {
      "application/vnd.jupyter.widget-view+json": {
       "model_id": "43de03e734b648cf9b698b7af68484cd",
       "version_major": 2,
       "version_minor": 0
      },
      "text/plain": [
       "  0%|          | 0/150 [00:00<?, ?it/s]"
      ]
     },
     "metadata": {},
     "output_type": "display_data"
    },
    {
     "data": {
      "application/vnd.jupyter.widget-view+json": {
       "model_id": "d4e63434704a45d8b1442e347db22531",
       "version_major": 2,
       "version_minor": 0
      },
      "text/plain": [
       "  0%|          | 0/150 [00:00<?, ?it/s]"
      ]
     },
     "metadata": {},
     "output_type": "display_data"
    },
    {
     "data": {
      "application/vnd.jupyter.widget-view+json": {
       "model_id": "ccbe3a2300f6482499775cf562616d5a",
       "version_major": 2,
       "version_minor": 0
      },
      "text/plain": [
       "  0%|          | 0/150 [00:00<?, ?it/s]"
      ]
     },
     "metadata": {},
     "output_type": "display_data"
    },
    {
     "data": {
      "application/vnd.jupyter.widget-view+json": {
       "model_id": "d5c3d806e5124882b72c849d06228021",
       "version_major": 2,
       "version_minor": 0
      },
      "text/plain": [
       "  0%|          | 0/150 [00:00<?, ?it/s]"
      ]
     },
     "metadata": {},
     "output_type": "display_data"
    },
    {
     "data": {
      "application/vnd.jupyter.widget-view+json": {
       "model_id": "fc570a86931f4ed2accb2f8716995e3d",
       "version_major": 2,
       "version_minor": 0
      },
      "text/plain": [
       "  0%|          | 0/150 [00:00<?, ?it/s]"
      ]
     },
     "metadata": {},
     "output_type": "display_data"
    },
    {
     "data": {
      "application/vnd.jupyter.widget-view+json": {
       "model_id": "33230ca05d8b437695686de9e061a642",
       "version_major": 2,
       "version_minor": 0
      },
      "text/plain": [
       "  0%|          | 0/150 [00:00<?, ?it/s]"
      ]
     },
     "metadata": {},
     "output_type": "display_data"
    },
    {
     "data": {
      "application/vnd.jupyter.widget-view+json": {
       "model_id": "4045722f533c40f1a3e9caaf21a36772",
       "version_major": 2,
       "version_minor": 0
      },
      "text/plain": [
       "  0%|          | 0/150 [00:00<?, ?it/s]"
      ]
     },
     "metadata": {},
     "output_type": "display_data"
    },
    {
     "data": {
      "application/vnd.jupyter.widget-view+json": {
       "model_id": "305d7cd4f3f44b68a39264bd5488cf0e",
       "version_major": 2,
       "version_minor": 0
      },
      "text/plain": [
       "  0%|          | 0/150 [00:00<?, ?it/s]"
      ]
     },
     "metadata": {},
     "output_type": "display_data"
    },
    {
     "data": {
      "application/vnd.jupyter.widget-view+json": {
       "model_id": "5a007c2f135f4bf9b08ee29fdfe0c1bc",
       "version_major": 2,
       "version_minor": 0
      },
      "text/plain": [
       "  0%|          | 0/150 [00:00<?, ?it/s]"
      ]
     },
     "metadata": {},
     "output_type": "display_data"
    },
    {
     "data": {
      "application/vnd.jupyter.widget-view+json": {
       "model_id": "942ab8c64c674d9387ac481634555e6c",
       "version_major": 2,
       "version_minor": 0
      },
      "text/plain": [
       "  0%|          | 0/150 [00:00<?, ?it/s]"
      ]
     },
     "metadata": {},
     "output_type": "display_data"
    },
    {
     "data": {
      "application/vnd.jupyter.widget-view+json": {
       "model_id": "0d95d354d7104c96b285793e53757869",
       "version_major": 2,
       "version_minor": 0
      },
      "text/plain": [
       "  0%|          | 0/28 [00:00<?, ?it/s]"
      ]
     },
     "metadata": {},
     "output_type": "display_data"
    },
    {
     "data": {
      "application/vnd.jupyter.widget-view+json": {
       "model_id": "14c4013da72a4c23994d077f69cffcc2",
       "version_major": 2,
       "version_minor": 0
      },
      "text/plain": [
       "  0%|          | 0/150 [00:00<?, ?it/s]"
      ]
     },
     "metadata": {},
     "output_type": "display_data"
    },
    {
     "data": {
      "application/vnd.jupyter.widget-view+json": {
       "model_id": "68cac32d072742dda03d95ecaf23566b",
       "version_major": 2,
       "version_minor": 0
      },
      "text/plain": [
       "  0%|          | 0/150 [00:00<?, ?it/s]"
      ]
     },
     "metadata": {},
     "output_type": "display_data"
    },
    {
     "data": {
      "application/vnd.jupyter.widget-view+json": {
       "model_id": "058182e7d3f34bf5b4a719fc9ec56ce8",
       "version_major": 2,
       "version_minor": 0
      },
      "text/plain": [
       "  0%|          | 0/150 [00:00<?, ?it/s]"
      ]
     },
     "metadata": {},
     "output_type": "display_data"
    },
    {
     "data": {
      "application/vnd.jupyter.widget-view+json": {
       "model_id": "9f0ae52c77c449798425d6f48ba4da94",
       "version_major": 2,
       "version_minor": 0
      },
      "text/plain": [
       "  0%|          | 0/150 [00:00<?, ?it/s]"
      ]
     },
     "metadata": {},
     "output_type": "display_data"
    },
    {
     "data": {
      "application/vnd.jupyter.widget-view+json": {
       "model_id": "9ab38b5351c64fc4a0c14bb2862c38bc",
       "version_major": 2,
       "version_minor": 0
      },
      "text/plain": [
       "  0%|          | 0/150 [00:00<?, ?it/s]"
      ]
     },
     "metadata": {},
     "output_type": "display_data"
    },
    {
     "data": {
      "application/vnd.jupyter.widget-view+json": {
       "model_id": "6e4d637afe66441d804aac1e47d07994",
       "version_major": 2,
       "version_minor": 0
      },
      "text/plain": [
       "  0%|          | 0/150 [00:00<?, ?it/s]"
      ]
     },
     "metadata": {},
     "output_type": "display_data"
    },
    {
     "data": {
      "application/vnd.jupyter.widget-view+json": {
       "model_id": "d391c7f44837469a90638056aaf179b3",
       "version_major": 2,
       "version_minor": 0
      },
      "text/plain": [
       "  0%|          | 0/150 [00:00<?, ?it/s]"
      ]
     },
     "metadata": {},
     "output_type": "display_data"
    },
    {
     "data": {
      "application/vnd.jupyter.widget-view+json": {
       "model_id": "8018ffce3be04b5b9ad69ce252d3a78a",
       "version_major": 2,
       "version_minor": 0
      },
      "text/plain": [
       "  0%|          | 0/150 [00:00<?, ?it/s]"
      ]
     },
     "metadata": {},
     "output_type": "display_data"
    },
    {
     "data": {
      "application/vnd.jupyter.widget-view+json": {
       "model_id": "03bb62e0a717444d9b944fa5ffb45270",
       "version_major": 2,
       "version_minor": 0
      },
      "text/plain": [
       "  0%|          | 0/150 [00:00<?, ?it/s]"
      ]
     },
     "metadata": {},
     "output_type": "display_data"
    },
    {
     "data": {
      "application/vnd.jupyter.widget-view+json": {
       "model_id": "8563feabcf6d4b66a0fe5c60034c7866",
       "version_major": 2,
       "version_minor": 0
      },
      "text/plain": [
       "  0%|          | 0/150 [00:00<?, ?it/s]"
      ]
     },
     "metadata": {},
     "output_type": "display_data"
    },
    {
     "data": {
      "application/vnd.jupyter.widget-view+json": {
       "model_id": "b235187643364c8285dc110183924a9e",
       "version_major": 2,
       "version_minor": 0
      },
      "text/plain": [
       "  0%|          | 0/150 [00:00<?, ?it/s]"
      ]
     },
     "metadata": {},
     "output_type": "display_data"
    },
    {
     "data": {
      "application/vnd.jupyter.widget-view+json": {
       "model_id": "9712b9346ded40c2988f29bb54e61eb0",
       "version_major": 2,
       "version_minor": 0
      },
      "text/plain": [
       "  0%|          | 0/150 [00:00<?, ?it/s]"
      ]
     },
     "metadata": {},
     "output_type": "display_data"
    },
    {
     "data": {
      "application/vnd.jupyter.widget-view+json": {
       "model_id": "1f01a356e9ed47179f386ce516d90b04",
       "version_major": 2,
       "version_minor": 0
      },
      "text/plain": [
       "  0%|          | 0/150 [00:00<?, ?it/s]"
      ]
     },
     "metadata": {},
     "output_type": "display_data"
    },
    {
     "data": {
      "application/vnd.jupyter.widget-view+json": {
       "model_id": "530337ed0fa448bea3caadf2dc9ba962",
       "version_major": 2,
       "version_minor": 0
      },
      "text/plain": [
       "  0%|          | 0/150 [00:00<?, ?it/s]"
      ]
     },
     "metadata": {},
     "output_type": "display_data"
    },
    {
     "data": {
      "application/vnd.jupyter.widget-view+json": {
       "model_id": "e3d770ba90124b96aa617b864c67945a",
       "version_major": 2,
       "version_minor": 0
      },
      "text/plain": [
       "  0%|          | 0/150 [00:00<?, ?it/s]"
      ]
     },
     "metadata": {},
     "output_type": "display_data"
    },
    {
     "data": {
      "application/vnd.jupyter.widget-view+json": {
       "model_id": "79181534315c451f91ccbe9b72c799e5",
       "version_major": 2,
       "version_minor": 0
      },
      "text/plain": [
       "  0%|          | 0/150 [00:00<?, ?it/s]"
      ]
     },
     "metadata": {},
     "output_type": "display_data"
    },
    {
     "data": {
      "application/vnd.jupyter.widget-view+json": {
       "model_id": "e32f4a19dd914ff4b8407a249cf9ea2c",
       "version_major": 2,
       "version_minor": 0
      },
      "text/plain": [
       "  0%|          | 0/150 [00:00<?, ?it/s]"
      ]
     },
     "metadata": {},
     "output_type": "display_data"
    },
    {
     "data": {
      "application/vnd.jupyter.widget-view+json": {
       "model_id": "0396e24abaac47aea4189a76507e50ee",
       "version_major": 2,
       "version_minor": 0
      },
      "text/plain": [
       "  0%|          | 0/150 [00:00<?, ?it/s]"
      ]
     },
     "metadata": {},
     "output_type": "display_data"
    },
    {
     "data": {
      "application/vnd.jupyter.widget-view+json": {
       "model_id": "0cfb6d798b1d4c139dd6a5575e514e4c",
       "version_major": 2,
       "version_minor": 0
      },
      "text/plain": [
       "  0%|          | 0/150 [00:00<?, ?it/s]"
      ]
     },
     "metadata": {},
     "output_type": "display_data"
    },
    {
     "data": {
      "application/vnd.jupyter.widget-view+json": {
       "model_id": "daa1d50c654544528a9ff75cb67a5050",
       "version_major": 2,
       "version_minor": 0
      },
      "text/plain": [
       "  0%|          | 0/150 [00:00<?, ?it/s]"
      ]
     },
     "metadata": {},
     "output_type": "display_data"
    },
    {
     "data": {
      "application/vnd.jupyter.widget-view+json": {
       "model_id": "ff6126b14d664495a4ccbb2bf14b8dae",
       "version_major": 2,
       "version_minor": 0
      },
      "text/plain": [
       "  0%|          | 0/150 [00:00<?, ?it/s]"
      ]
     },
     "metadata": {},
     "output_type": "display_data"
    },
    {
     "data": {
      "application/vnd.jupyter.widget-view+json": {
       "model_id": "876dac35c76146019c8ab5b2c68c32c7",
       "version_major": 2,
       "version_minor": 0
      },
      "text/plain": [
       "  0%|          | 0/150 [00:00<?, ?it/s]"
      ]
     },
     "metadata": {},
     "output_type": "display_data"
    },
    {
     "data": {
      "application/vnd.jupyter.widget-view+json": {
       "model_id": "38a1bd78fd4c49529dde31343e543f54",
       "version_major": 2,
       "version_minor": 0
      },
      "text/plain": [
       "  0%|          | 0/150 [00:00<?, ?it/s]"
      ]
     },
     "metadata": {},
     "output_type": "display_data"
    },
    {
     "data": {
      "application/vnd.jupyter.widget-view+json": {
       "model_id": "21715d0e32b040fdb5f9580bb40a062d",
       "version_major": 2,
       "version_minor": 0
      },
      "text/plain": [
       "  0%|          | 0/150 [00:00<?, ?it/s]"
      ]
     },
     "metadata": {},
     "output_type": "display_data"
    },
    {
     "data": {
      "application/vnd.jupyter.widget-view+json": {
       "model_id": "93f6b4dac54d4cd084da882fb4448ba0",
       "version_major": 2,
       "version_minor": 0
      },
      "text/plain": [
       "  0%|          | 0/150 [00:00<?, ?it/s]"
      ]
     },
     "metadata": {},
     "output_type": "display_data"
    },
    {
     "data": {
      "application/vnd.jupyter.widget-view+json": {
       "model_id": "45e94491ace442d8a40ec218730560d8",
       "version_major": 2,
       "version_minor": 0
      },
      "text/plain": [
       "  0%|          | 0/150 [00:00<?, ?it/s]"
      ]
     },
     "metadata": {},
     "output_type": "display_data"
    },
    {
     "data": {
      "application/vnd.jupyter.widget-view+json": {
       "model_id": "0a92ca9456614bc4a8e7792d39be5f40",
       "version_major": 2,
       "version_minor": 0
      },
      "text/plain": [
       "  0%|          | 0/150 [00:00<?, ?it/s]"
      ]
     },
     "metadata": {},
     "output_type": "display_data"
    },
    {
     "data": {
      "application/vnd.jupyter.widget-view+json": {
       "model_id": "9158bba706d8415989e5bd28396430cd",
       "version_major": 2,
       "version_minor": 0
      },
      "text/plain": [
       "  0%|          | 0/150 [00:00<?, ?it/s]"
      ]
     },
     "metadata": {},
     "output_type": "display_data"
    },
    {
     "data": {
      "application/vnd.jupyter.widget-view+json": {
       "model_id": "717b7d6501cb4928b6707f18dfb14010",
       "version_major": 2,
       "version_minor": 0
      },
      "text/plain": [
       "  0%|          | 0/28 [00:00<?, ?it/s]"
      ]
     },
     "metadata": {},
     "output_type": "display_data"
    },
    {
     "data": {
      "application/vnd.jupyter.widget-view+json": {
       "model_id": "d0334fe12389464aaf052b0abaab7682",
       "version_major": 2,
       "version_minor": 0
      },
      "text/plain": [
       "  0%|          | 0/150 [00:00<?, ?it/s]"
      ]
     },
     "metadata": {},
     "output_type": "display_data"
    },
    {
     "data": {
      "application/vnd.jupyter.widget-view+json": {
       "model_id": "7e320ee5412a4b19bbd0ef5a9b80dfcf",
       "version_major": 2,
       "version_minor": 0
      },
      "text/plain": [
       "  0%|          | 0/150 [00:00<?, ?it/s]"
      ]
     },
     "metadata": {},
     "output_type": "display_data"
    },
    {
     "data": {
      "application/vnd.jupyter.widget-view+json": {
       "model_id": "b286db52646c4da28ddff37d1d8ef8a2",
       "version_major": 2,
       "version_minor": 0
      },
      "text/plain": [
       "  0%|          | 0/150 [00:00<?, ?it/s]"
      ]
     },
     "metadata": {},
     "output_type": "display_data"
    },
    {
     "data": {
      "application/vnd.jupyter.widget-view+json": {
       "model_id": "a4df1270edbd4404b8ffc52ab3c25be1",
       "version_major": 2,
       "version_minor": 0
      },
      "text/plain": [
       "  0%|          | 0/150 [00:00<?, ?it/s]"
      ]
     },
     "metadata": {},
     "output_type": "display_data"
    },
    {
     "data": {
      "application/vnd.jupyter.widget-view+json": {
       "model_id": "cc3919decdcd418e8caa959bd12c457c",
       "version_major": 2,
       "version_minor": 0
      },
      "text/plain": [
       "  0%|          | 0/150 [00:00<?, ?it/s]"
      ]
     },
     "metadata": {},
     "output_type": "display_data"
    },
    {
     "data": {
      "application/vnd.jupyter.widget-view+json": {
       "model_id": "27a00c3cc55742ba8f702b15ae6d4593",
       "version_major": 2,
       "version_minor": 0
      },
      "text/plain": [
       "  0%|          | 0/150 [00:00<?, ?it/s]"
      ]
     },
     "metadata": {},
     "output_type": "display_data"
    },
    {
     "data": {
      "application/vnd.jupyter.widget-view+json": {
       "model_id": "35b5f6a6fb4d4c5c8f7b27d6836c58e5",
       "version_major": 2,
       "version_minor": 0
      },
      "text/plain": [
       "  0%|          | 0/150 [00:00<?, ?it/s]"
      ]
     },
     "metadata": {},
     "output_type": "display_data"
    },
    {
     "data": {
      "application/vnd.jupyter.widget-view+json": {
       "model_id": "76ab42847ad3458db2f1af1c279cd0e3",
       "version_major": 2,
       "version_minor": 0
      },
      "text/plain": [
       "  0%|          | 0/150 [00:00<?, ?it/s]"
      ]
     },
     "metadata": {},
     "output_type": "display_data"
    },
    {
     "data": {
      "application/vnd.jupyter.widget-view+json": {
       "model_id": "9a03b76305514bdc8786c2eb3b856bad",
       "version_major": 2,
       "version_minor": 0
      },
      "text/plain": [
       "  0%|          | 0/150 [00:00<?, ?it/s]"
      ]
     },
     "metadata": {},
     "output_type": "display_data"
    },
    {
     "data": {
      "application/vnd.jupyter.widget-view+json": {
       "model_id": "3936a22587804905b3d71d06b76bd1c2",
       "version_major": 2,
       "version_minor": 0
      },
      "text/plain": [
       "  0%|          | 0/150 [00:00<?, ?it/s]"
      ]
     },
     "metadata": {},
     "output_type": "display_data"
    },
    {
     "data": {
      "application/vnd.jupyter.widget-view+json": {
       "model_id": "8e435c646b4142f49b063709acba396c",
       "version_major": 2,
       "version_minor": 0
      },
      "text/plain": [
       "  0%|          | 0/150 [00:00<?, ?it/s]"
      ]
     },
     "metadata": {},
     "output_type": "display_data"
    },
    {
     "data": {
      "application/vnd.jupyter.widget-view+json": {
       "model_id": "40cbd310aaf347829fb392dbc0c41635",
       "version_major": 2,
       "version_minor": 0
      },
      "text/plain": [
       "  0%|          | 0/150 [00:00<?, ?it/s]"
      ]
     },
     "metadata": {},
     "output_type": "display_data"
    },
    {
     "data": {
      "application/vnd.jupyter.widget-view+json": {
       "model_id": "37c0aeb10d5148e8bc5f0f9f8c71e94d",
       "version_major": 2,
       "version_minor": 0
      },
      "text/plain": [
       "  0%|          | 0/150 [00:00<?, ?it/s]"
      ]
     },
     "metadata": {},
     "output_type": "display_data"
    },
    {
     "data": {
      "application/vnd.jupyter.widget-view+json": {
       "model_id": "ea0db317daea4a19912af4359649fb04",
       "version_major": 2,
       "version_minor": 0
      },
      "text/plain": [
       "  0%|          | 0/150 [00:00<?, ?it/s]"
      ]
     },
     "metadata": {},
     "output_type": "display_data"
    },
    {
     "data": {
      "application/vnd.jupyter.widget-view+json": {
       "model_id": "ced1ad554a69400495f2912ed294269a",
       "version_major": 2,
       "version_minor": 0
      },
      "text/plain": [
       "  0%|          | 0/150 [00:00<?, ?it/s]"
      ]
     },
     "metadata": {},
     "output_type": "display_data"
    },
    {
     "data": {
      "application/vnd.jupyter.widget-view+json": {
       "model_id": "dd217d7fa0964fcdabb416b57becfc0a",
       "version_major": 2,
       "version_minor": 0
      },
      "text/plain": [
       "  0%|          | 0/150 [00:00<?, ?it/s]"
      ]
     },
     "metadata": {},
     "output_type": "display_data"
    },
    {
     "data": {
      "application/vnd.jupyter.widget-view+json": {
       "model_id": "9f6645a7c9944940b55cc1ab868167ae",
       "version_major": 2,
       "version_minor": 0
      },
      "text/plain": [
       "  0%|          | 0/150 [00:00<?, ?it/s]"
      ]
     },
     "metadata": {},
     "output_type": "display_data"
    },
    {
     "data": {
      "application/vnd.jupyter.widget-view+json": {
       "model_id": "b0b00fc7a27f4bc290b7df028c4d7c6c",
       "version_major": 2,
       "version_minor": 0
      },
      "text/plain": [
       "  0%|          | 0/150 [00:00<?, ?it/s]"
      ]
     },
     "metadata": {},
     "output_type": "display_data"
    },
    {
     "data": {
      "application/vnd.jupyter.widget-view+json": {
       "model_id": "818bcab021a742c98828c34d7c90d990",
       "version_major": 2,
       "version_minor": 0
      },
      "text/plain": [
       "  0%|          | 0/150 [00:00<?, ?it/s]"
      ]
     },
     "metadata": {},
     "output_type": "display_data"
    },
    {
     "data": {
      "application/vnd.jupyter.widget-view+json": {
       "model_id": "d2dda6be05f54fd681b464ef26227311",
       "version_major": 2,
       "version_minor": 0
      },
      "text/plain": [
       "  0%|          | 0/150 [00:00<?, ?it/s]"
      ]
     },
     "metadata": {},
     "output_type": "display_data"
    },
    {
     "data": {
      "application/vnd.jupyter.widget-view+json": {
       "model_id": "87b5f4e244c5408f839c6e2910237977",
       "version_major": 2,
       "version_minor": 0
      },
      "text/plain": [
       "  0%|          | 0/150 [00:00<?, ?it/s]"
      ]
     },
     "metadata": {},
     "output_type": "display_data"
    },
    {
     "data": {
      "application/vnd.jupyter.widget-view+json": {
       "model_id": "cce4b6288b094edf93047b1e1e5eea07",
       "version_major": 2,
       "version_minor": 0
      },
      "text/plain": [
       "  0%|          | 0/150 [00:00<?, ?it/s]"
      ]
     },
     "metadata": {},
     "output_type": "display_data"
    },
    {
     "data": {
      "application/vnd.jupyter.widget-view+json": {
       "model_id": "a6dd05d55a3b435b8f7951c6014bae0c",
       "version_major": 2,
       "version_minor": 0
      },
      "text/plain": [
       "  0%|          | 0/150 [00:00<?, ?it/s]"
      ]
     },
     "metadata": {},
     "output_type": "display_data"
    },
    {
     "data": {
      "application/vnd.jupyter.widget-view+json": {
       "model_id": "6213f92c1f0f448093b074e71cf0bfa2",
       "version_major": 2,
       "version_minor": 0
      },
      "text/plain": [
       "  0%|          | 0/150 [00:00<?, ?it/s]"
      ]
     },
     "metadata": {},
     "output_type": "display_data"
    },
    {
     "data": {
      "application/vnd.jupyter.widget-view+json": {
       "model_id": "8d7b62a2430b45c8abee0e5608d8ef4d",
       "version_major": 2,
       "version_minor": 0
      },
      "text/plain": [
       "  0%|          | 0/150 [00:00<?, ?it/s]"
      ]
     },
     "metadata": {},
     "output_type": "display_data"
    },
    {
     "data": {
      "application/vnd.jupyter.widget-view+json": {
       "model_id": "0cdc5bc0b73640b49b7902b08518bc90",
       "version_major": 2,
       "version_minor": 0
      },
      "text/plain": [
       "  0%|          | 0/150 [00:00<?, ?it/s]"
      ]
     },
     "metadata": {},
     "output_type": "display_data"
    },
    {
     "data": {
      "application/vnd.jupyter.widget-view+json": {
       "model_id": "a9eb2d84c2344cc59b83f111125370eb",
       "version_major": 2,
       "version_minor": 0
      },
      "text/plain": [
       "  0%|          | 0/150 [00:00<?, ?it/s]"
      ]
     },
     "metadata": {},
     "output_type": "display_data"
    },
    {
     "data": {
      "application/vnd.jupyter.widget-view+json": {
       "model_id": "2b92753d2c524755bd22aa5534e697f9",
       "version_major": 2,
       "version_minor": 0
      },
      "text/plain": [
       "  0%|          | 0/150 [00:00<?, ?it/s]"
      ]
     },
     "metadata": {},
     "output_type": "display_data"
    },
    {
     "data": {
      "image/png": "[encoded data removed]",
      "text/plain": [
       "<Figure size 432x288 with 1 Axes>"
      ]
     },
     "metadata": {
      "needs_background": "light"
     },
     "output_type": "display_data"
    },
    {
     "data": {
      "image/png": "[encoded data removed]",
      "text/plain": [
       "<Figure size 432x288 with 1 Axes>"
      ]
     },
     "metadata": {
      "needs_background": "light"
     },
     "output_type": "display_data"
    }
   ],
   "source": [
    "results = hpsearch(\n",
    "    params,\n",
    "    [\n",
    "        lambda : GeneralLinearFullNet(1, 1, [1024], t.nn.GELU, False),\n",
    "        lambda : GeneralLinearFullNet(1, 1, [1024], t.nn.GELU, True),\n",
    "        lambda : GeneralLinearFullNet(1, 1, [1024], t.nn.Sigmoid, False),\n",
    "        lambda : GeneralLinearFullNet(1, 1, [1024], t.nn.Sigmoid, True),\n",
    "        lambda : GeneralLinearFullNet(1, 1, [64, 64], t.nn.GELU, False),\n",
    "        lambda : GeneralLinearFullNet(1, 1, [64, 64], t.nn.GELU, True),\n",
    "        lambda : GeneralLinearFullNet(1, 1, [64, 64], t.nn.Sigmoid, False),\n",
    "        lambda : GeneralLinearFullNet(1, 1, [64, 64], t.nn.Sigmoid, True),\n",
    "        lambda : GeneralLinearFullNet(1, 1, [10, 10, 10, 10], t.nn.GELU, False),\n",
    "        lambda : GeneralLinearFullNet(1, 1, [10, 10, 10, 10], t.nn.GELU, True),\n",
    "        lambda : GeneralLinearFullNet(1, 1, [10, 10, 10, 10], t.nn.Sigmoid, False),\n",
    "        lambda : GeneralLinearFullNet(1, 1, [10, 10, 10, 10], t.nn.Sigmoid, True),\n",
    "        lambda : GeneralLinearFullNet(1, 1, [4, 8, 16], t.nn.GELU, False),\n",
    "        lambda : GeneralLinearFullNet(1, 1, [4, 8, 16], t.nn.GELU, True),\n",
    "        lambda : GeneralLinearFullNet(1, 1, [4, 8, 16], t.nn.Sigmoid, False),\n",
    "        lambda : GeneralLinearFullNet(1, 1, [4, 8, 16], t.nn.Sigmoid, True),\n",
    "        lambda : GeneralLinearFullNet(1, 1, [16, 8, 4], t.nn.GELU, False),\n",
    "        lambda : GeneralLinearFullNet(1, 1, [16, 8, 4], tS.nn.GELU, True),\n",
    "        lambda : GeneralLinearFullNet(1, 1, [16, 8, 4], t.nn.Sigmoid, False),\n",
    "        lambda : GeneralLinearFullNet(1, 1, [16, 8, 4], t.nn.Sigmoid, True),\n",
    "        lambda : GeneralLinearFullNet(1, 1, [16], t.nn.GELU, False),\n",
    "        lambda : GeneralLinearFullNet(1, 1, [16], t.nn.GELU, True),\n",
    "        lambda : GeneralLinearFullNet(1, 1, [16], t.nn.Sigmoid, False),\n",
    "        lambda : GeneralLinearFullNet(1, 1, [16], t.nn.Sigmoid, True),\n",
    "        lambda : GeneralLinearFullNet(1, 1, [6, 6, 6, 6, 6], t.nn.GELU, False),\n",
    "        lambda : GeneralLinearFullNet(1, 1, [6, 6, 6, 6, 6], t.nn.GELU, True),\n",
    "        lambda : GeneralLinearFullNet(1, 1, [6, 6, 6, 6, 6], t.nn.Sigmoid, False),\n",
    "        lambda : GeneralLinearFullNet(1, 1, [6, 6, 6, 6, 6], t.nn.Sigmoid, True),\n",
    "    ],\n",
    "    training_data = tdata,\n",
    "    verbose = True\n",
    ")\n",
    "plt.show()\n",
    "plt.plot(xs, ys)\n",
    "for r in results:\n",
    "    plt.plot(xs, r['model'](xs).detach().clone())"
   ]
  },
  {
   "cell_type": "code",
   "execution_count": 426,
   "id": "ef72523d-f20d-4303-9081-a54908fa60c1",
   "metadata": {},
   "outputs": [
    {
     "data": {
      "image/png": "[encoded data removed]",
      "text/plain": [
       "<Figure size 432x288 with 1 Axes>"
      ]
     },
     "metadata": {
      "needs_background": "light"
     },
     "output_type": "display_data"
    }
   ],
   "source": [
    "plt.plot(xs, ys)\n",
    "for r in results:\n",
    "    plt.plot(xs, r['model'](xs).detach().clone())"
   ]
  },
  {
   "cell_type": "code",
   "execution_count": 429,
   "id": "c9eba3a3-a63f-4e3b-bc42-33f6ff1e2573",
   "metadata": {},
   "outputs": [
    {
     "data": {
      "image/png": "[encoded data removed]",
      "text/plain": [
       "<Figure size 432x288 with 1 Axes>"
      ]
     },
     "metadata": {
      "needs_background": "light"
     },
     "output_type": "display_data"
    }
   ],
   "source": [
    "for r in results:\n",
    "    plt.plot(r['val_loss_history'])\n",
    "plt.yscale('log')"
   ]
  },
  {
   "cell_type": "code",
   "execution_count": null,
   "id": "9c21aad8-c6e6-4b01-9583-9d3819089458",
   "metadata": {},
   "outputs": [],
   "source": []
  },
  {
   "cell_type": "code",
   "execution_count": null,
   "id": "e7982ed9-b363-4f03-94c8-9d4cc82170fa",
   "metadata": {},
   "outputs": [],
   "source": []
  },
  {
   "cell_type": "code",
   "execution_count": null,
   "id": "64a7602c-17ab-4bfb-a105-a475a08173b1",
   "metadata": {},
   "outputs": [],
   "source": []
  },
  {
   "cell_type": "code",
   "execution_count": null,
   "id": "89e33f83-8197-4a4e-8e6c-5113b1a5b226",
   "metadata": {},
   "outputs": [],
   "source": []
  },
  {
   "cell_type": "code",
   "execution_count": 387,
   "id": "54b52441-8d5a-40c1-9020-c3f6742add4a",
   "metadata": {},
   "outputs": [
    {
     "data": {
      "application/vnd.jupyter.widget-view+json": {
       "model_id": "da7775cef0434e568836f530b23932d0",
       "version_major": 2,
       "version_minor": 0
      },
      "text/plain": [
       "  0%|          | 0/8 [00:00<?, ?it/s]"
      ]
     },
     "metadata": {},
     "output_type": "display_data"
    },
    {
     "data": {
      "application/vnd.jupyter.widget-view+json": {
       "model_id": "c0690345b74d4bddb9caf802ea08bf34",
       "version_major": 2,
       "version_minor": 0
      },
      "text/plain": [
       "  0%|          | 0/500 [00:00<?, ?it/s]"
      ]
     },
     "metadata": {},
     "output_type": "display_data"
    },
    {
     "data": {
      "application/vnd.jupyter.widget-view+json": {
       "model_id": "196ace67a92d48d08cfca7f0c30780df",
       "version_major": 2,
       "version_minor": 0
      },
      "text/plain": [
       "  0%|          | 0/500 [00:00<?, ?it/s]"
      ]
     },
     "metadata": {},
     "output_type": "display_data"
    },
    {
     "data": {
      "application/vnd.jupyter.widget-view+json": {
       "model_id": "8ce7a52765614dbab88ee756beb86567",
       "version_major": 2,
       "version_minor": 0
      },
      "text/plain": [
       "  0%|          | 0/500 [00:00<?, ?it/s]"
      ]
     },
     "metadata": {},
     "output_type": "display_data"
    },
    {
     "data": {
      "application/vnd.jupyter.widget-view+json": {
       "model_id": "099162d0bb9d4a9c904c34518ceba150",
       "version_major": 2,
       "version_minor": 0
      },
      "text/plain": [
       "  0%|          | 0/500 [00:00<?, ?it/s]"
      ]
     },
     "metadata": {},
     "output_type": "display_data"
    },
    {
     "data": {
      "application/vnd.jupyter.widget-view+json": {
       "model_id": "d40a8de182ec40fa9ba279b200231bad",
       "version_major": 2,
       "version_minor": 0
      },
      "text/plain": [
       "  0%|          | 0/500 [00:00<?, ?it/s]"
      ]
     },
     "metadata": {},
     "output_type": "display_data"
    },
    {
     "data": {
      "application/vnd.jupyter.widget-view+json": {
       "model_id": "5ede9965531a4bc481ceda111a57657e",
       "version_major": 2,
       "version_minor": 0
      },
      "text/plain": [
       "  0%|          | 0/500 [00:00<?, ?it/s]"
      ]
     },
     "metadata": {},
     "output_type": "display_data"
    },
    {
     "data": {
      "application/vnd.jupyter.widget-view+json": {
       "model_id": "b7ead0014dc94344801eeb58f1ae2553",
       "version_major": 2,
       "version_minor": 0
      },
      "text/plain": [
       "  0%|          | 0/500 [00:00<?, ?it/s]"
      ]
     },
     "metadata": {},
     "output_type": "display_data"
    },
    {
     "data": {
      "application/vnd.jupyter.widget-view+json": {
       "model_id": "c5f8cebc64ad47868a0eaf8a9653d4c7",
       "version_major": 2,
       "version_minor": 0
      },
      "text/plain": [
       "  0%|          | 0/500 [00:00<?, ?it/s]"
      ]
     },
     "metadata": {},
     "output_type": "display_data"
    },
    {
     "data": {
      "image/png": "[encoded data removed]",
      "text/plain": [
       "<Figure size 432x288 with 1 Axes>"
      ]
     },
     "metadata": {
      "needs_background": "light"
     },
     "output_type": "display_data"
    },
    {
     "data": {
      "image/png": "[encoded data removed]",
      "text/plain": [
       "<Figure size 432x288 with 1 Axes>"
      ]
     },
     "metadata": {
      "needs_background": "light"
     },
     "output_type": "display_data"
    }
   ],
   "source": [
    "results = hpsearch(\n",
    "    params,\n",
    "    lambda : GeneralLinearFullNet(1, 1, [6, 6, 6, 6], t.nn.GELU, False),\n",
    "    training_data = tdata,\n",
    "    verbose = True\n",
    ")\n",
    "plt.show()\n",
    "plt.plot(xs, ys)\n",
    "for r in results:\n",
    "    plt.plot(xs, r['model'](xs).detach().clone())"
   ]
  },
  {
   "cell_type": "code",
   "execution_count": 388,
   "id": "cce819a7-e111-44dd-94a0-0127bdec4d54",
   "metadata": {},
   "outputs": [
    {
     "data": {
      "application/vnd.jupyter.widget-view+json": {
       "model_id": "08f8edfeb8e744cb8c55b5000eacf738",
       "version_major": 2,
       "version_minor": 0
      },
      "text/plain": [
       "  0%|          | 0/8 [00:00<?, ?it/s]"
      ]
     },
     "metadata": {},
     "output_type": "display_data"
    },
    {
     "data": {
      "application/vnd.jupyter.widget-view+json": {
       "model_id": "0d9a493fe0614efb98b23ee9847cc355",
       "version_major": 2,
       "version_minor": 0
      },
      "text/plain": [
       "  0%|          | 0/500 [00:00<?, ?it/s]"
      ]
     },
     "metadata": {},
     "output_type": "display_data"
    },
    {
     "data": {
      "application/vnd.jupyter.widget-view+json": {
       "model_id": "6c4491bf6f9d47678d898220214548cf",
       "version_major": 2,
       "version_minor": 0
      },
      "text/plain": [
       "  0%|          | 0/500 [00:00<?, ?it/s]"
      ]
     },
     "metadata": {},
     "output_type": "display_data"
    },
    {
     "data": {
      "application/vnd.jupyter.widget-view+json": {
       "model_id": "1df239f9e8cf43b2b987e12722c3ee3a",
       "version_major": 2,
       "version_minor": 0
      },
      "text/plain": [
       "  0%|          | 0/500 [00:00<?, ?it/s]"
      ]
     },
     "metadata": {},
     "output_type": "display_data"
    },
    {
     "data": {
      "application/vnd.jupyter.widget-view+json": {
       "model_id": "21486cb4060b4a6ab17999487e45d16a",
       "version_major": 2,
       "version_minor": 0
      },
      "text/plain": [
       "  0%|          | 0/500 [00:00<?, ?it/s]"
      ]
     },
     "metadata": {},
     "output_type": "display_data"
    },
    {
     "data": {
      "application/vnd.jupyter.widget-view+json": {
       "model_id": "d0fe6b685b2c4f2194553e622eb42423",
       "version_major": 2,
       "version_minor": 0
      },
      "text/plain": [
       "  0%|          | 0/500 [00:00<?, ?it/s]"
      ]
     },
     "metadata": {},
     "output_type": "display_data"
    },
    {
     "data": {
      "application/vnd.jupyter.widget-view+json": {
       "model_id": "3e4a6a2799ca45d0bbcc9f0aea0a27fe",
       "version_major": 2,
       "version_minor": 0
      },
      "text/plain": [
       "  0%|          | 0/500 [00:00<?, ?it/s]"
      ]
     },
     "metadata": {},
     "output_type": "display_data"
    },
    {
     "data": {
      "application/vnd.jupyter.widget-view+json": {
       "model_id": "423f58dd89b84612a0323a0f81d7444e",
       "version_major": 2,
       "version_minor": 0
      },
      "text/plain": [
       "  0%|          | 0/500 [00:00<?, ?it/s]"
      ]
     },
     "metadata": {},
     "output_type": "display_data"
    },
    {
     "data": {
      "application/vnd.jupyter.widget-view+json": {
       "model_id": "60bf8fd7c20548ec86a6bb99825e9efd",
       "version_major": 2,
       "version_minor": 0
      },
      "text/plain": [
       "  0%|          | 0/500 [00:00<?, ?it/s]"
      ]
     },
     "metadata": {},
     "output_type": "display_data"
    },
    {
     "data": {
      "image/png": "[encoded data removed]",
      "text/plain": [
       "<Figure size 432x288 with 1 Axes>"
      ]
     },
     "metadata": {
      "needs_background": "light"
     },
     "output_type": "display_data"
    },
    {
     "data": {
      "image/png": "[encoded data removed]",
      "text/plain": [
       "<Figure size 432x288 with 1 Axes>"
      ]
     },
     "metadata": {
      "needs_background": "light"
     },
     "output_type": "display_data"
    }
   ],
   "source": [
    "results = hpsearch(\n",
    "    params,\n",
    "    lambda : GeneralLinearFullNet(1, 1, [1000], t.nn.GELU, False),\n",
    "    training_data = tdata,\n",
    "    verbose = True\n",
    ")\n",
    "plt.show()\n",
    "plt.plot(xs, ys)\n",
    "for r in results:\n",
    "    plt.plot(xs, r['model'](xs).detach().clone())"
   ]
  },
  {
   "cell_type": "code",
   "execution_count": 439,
   "id": "0b17da99-61b9-4994-a534-898eb8aa9897",
   "metadata": {},
   "outputs": [
    {
     "data": {
      "application/vnd.jupyter.widget-view+json": {
       "model_id": "38c95775542544048f74cae8bc3c1120",
       "version_major": 2,
       "version_minor": 0
      },
      "text/plain": [
       "  0%|          | 0/12 [00:00<?, ?it/s]"
      ]
     },
     "metadata": {},
     "output_type": "display_data"
    },
    {
     "data": {
      "application/vnd.jupyter.widget-view+json": {
       "model_id": "bcc94d4540a64c4786e7a091a076296c",
       "version_major": 2,
       "version_minor": 0
      },
      "text/plain": [
       "  0%|          | 0/1 [00:00<?, ?it/s]"
      ]
     },
     "metadata": {},
     "output_type": "display_data"
    },
    {
     "data": {
      "application/vnd.jupyter.widget-view+json": {
       "model_id": "4932b13362ed40aa91f0701c93005081",
       "version_major": 2,
       "version_minor": 0
      },
      "text/plain": [
       "  0%|          | 0/150 [00:00<?, ?it/s]"
      ]
     },
     "metadata": {},
     "output_type": "display_data"
    },
    {
     "data": {
      "application/vnd.jupyter.widget-view+json": {
       "model_id": "5f4cc9d6c5e0420bad5c8b102d654f7e",
       "version_major": 2,
       "version_minor": 0
      },
      "text/plain": [
       "  0%|          | 0/1 [00:00<?, ?it/s]"
      ]
     },
     "metadata": {},
     "output_type": "display_data"
    },
    {
     "data": {
      "application/vnd.jupyter.widget-view+json": {
       "model_id": "6c18031a0ac34d448e86a5927508358b",
       "version_major": 2,
       "version_minor": 0
      },
      "text/plain": [
       "  0%|          | 0/150 [00:00<?, ?it/s]"
      ]
     },
     "metadata": {},
     "output_type": "display_data"
    },
    {
     "data": {
      "application/vnd.jupyter.widget-view+json": {
       "model_id": "afde04ced5704e14b2a67accef305250",
       "version_major": 2,
       "version_minor": 0
      },
      "text/plain": [
       "  0%|          | 0/1 [00:00<?, ?it/s]"
      ]
     },
     "metadata": {},
     "output_type": "display_data"
    },
    {
     "data": {
      "application/vnd.jupyter.widget-view+json": {
       "model_id": "58d5a830cbbd4cd6b2d1dee95c18930e",
       "version_major": 2,
       "version_minor": 0
      },
      "text/plain": [
       "  0%|          | 0/150 [00:00<?, ?it/s]"
      ]
     },
     "metadata": {},
     "output_type": "display_data"
    },
    {
     "data": {
      "application/vnd.jupyter.widget-view+json": {
       "model_id": "24e0203736b24cd69f5ad10184b22fbc",
       "version_major": 2,
       "version_minor": 0
      },
      "text/plain": [
       "  0%|          | 0/1 [00:00<?, ?it/s]"
      ]
     },
     "metadata": {},
     "output_type": "display_data"
    },
    {
     "data": {
      "application/vnd.jupyter.widget-view+json": {
       "model_id": "c8b93cd2ddd041e7a921bfb9a90f9647",
       "version_major": 2,
       "version_minor": 0
      },
      "text/plain": [
       "  0%|          | 0/150 [00:00<?, ?it/s]"
      ]
     },
     "metadata": {},
     "output_type": "display_data"
    },
    {
     "data": {
      "application/vnd.jupyter.widget-view+json": {
       "model_id": "70d3995ed4c54148a8e4572257f9f5cc",
       "version_major": 2,
       "version_minor": 0
      },
      "text/plain": [
       "  0%|          | 0/1 [00:00<?, ?it/s]"
      ]
     },
     "metadata": {},
     "output_type": "display_data"
    },
    {
     "data": {
      "application/vnd.jupyter.widget-view+json": {
       "model_id": "fce84a469a7947648b4c0561fac75c42",
       "version_major": 2,
       "version_minor": 0
      },
      "text/plain": [
       "  0%|          | 0/150 [00:00<?, ?it/s]"
      ]
     },
     "metadata": {},
     "output_type": "display_data"
    },
    {
     "data": {
      "application/vnd.jupyter.widget-view+json": {
       "model_id": "93600d68edb24e5991096d99ef48ecd9",
       "version_major": 2,
       "version_minor": 0
      },
      "text/plain": [
       "  0%|          | 0/1 [00:00<?, ?it/s]"
      ]
     },
     "metadata": {},
     "output_type": "display_data"
    },
    {
     "data": {
      "application/vnd.jupyter.widget-view+json": {
       "model_id": "f42ca39ffba94d9395b66beeaf2aa458",
       "version_major": 2,
       "version_minor": 0
      },
      "text/plain": [
       "  0%|          | 0/150 [00:00<?, ?it/s]"
      ]
     },
     "metadata": {},
     "output_type": "display_data"
    },
    {
     "data": {
      "application/vnd.jupyter.widget-view+json": {
       "model_id": "092d576e1a40431ca074aecef6944261",
       "version_major": 2,
       "version_minor": 0
      },
      "text/plain": [
       "  0%|          | 0/1 [00:00<?, ?it/s]"
      ]
     },
     "metadata": {},
     "output_type": "display_data"
    },
    {
     "data": {
      "application/vnd.jupyter.widget-view+json": {
       "model_id": "cc53931ec1854a5dbbd949f2aaad7237",
       "version_major": 2,
       "version_minor": 0
      },
      "text/plain": [
       "  0%|          | 0/150 [00:00<?, ?it/s]"
      ]
     },
     "metadata": {},
     "output_type": "display_data"
    },
    {
     "data": {
      "application/vnd.jupyter.widget-view+json": {
       "model_id": "45c0f419ae3849b7adf571b237875f0a",
       "version_major": 2,
       "version_minor": 0
      },
      "text/plain": [
       "  0%|          | 0/1 [00:00<?, ?it/s]"
      ]
     },
     "metadata": {},
     "output_type": "display_data"
    },
    {
     "data": {
      "application/vnd.jupyter.widget-view+json": {
       "model_id": "d91074df44e741efab93521658b106d8",
       "version_major": 2,
       "version_minor": 0
      },
      "text/plain": [
       "  0%|          | 0/150 [00:00<?, ?it/s]"
      ]
     },
     "metadata": {},
     "output_type": "display_data"
    },
    {
     "data": {
      "application/vnd.jupyter.widget-view+json": {
       "model_id": "c3a82c86177544c8bc06c61510c4b4ef",
       "version_major": 2,
       "version_minor": 0
      },
      "text/plain": [
       "  0%|          | 0/1 [00:00<?, ?it/s]"
      ]
     },
     "metadata": {},
     "output_type": "display_data"
    },
    {
     "data": {
      "application/vnd.jupyter.widget-view+json": {
       "model_id": "971f19c756b746feb1ba09032ff7484a",
       "version_major": 2,
       "version_minor": 0
      },
      "text/plain": [
       "  0%|          | 0/150 [00:00<?, ?it/s]"
      ]
     },
     "metadata": {},
     "output_type": "display_data"
    },
    {
     "data": {
      "application/vnd.jupyter.widget-view+json": {
       "model_id": "4ba06c9cbc874ede95db165b6cd8e9ef",
       "version_major": 2,
       "version_minor": 0
      },
      "text/plain": [
       "  0%|          | 0/1 [00:00<?, ?it/s]"
      ]
     },
     "metadata": {},
     "output_type": "display_data"
    },
    {
     "data": {
      "application/vnd.jupyter.widget-view+json": {
       "model_id": "e2aa2041c61e4cea97eeeb57deabdea2",
       "version_major": 2,
       "version_minor": 0
      },
      "text/plain": [
       "  0%|          | 0/150 [00:00<?, ?it/s]"
      ]
     },
     "metadata": {},
     "output_type": "display_data"
    },
    {
     "data": {
      "application/vnd.jupyter.widget-view+json": {
       "model_id": "4b0c0e6d28d24db4b990cf2fc416c3bb",
       "version_major": 2,
       "version_minor": 0
      },
      "text/plain": [
       "  0%|          | 0/1 [00:00<?, ?it/s]"
      ]
     },
     "metadata": {},
     "output_type": "display_data"
    },
    {
     "data": {
      "application/vnd.jupyter.widget-view+json": {
       "model_id": "92da5ed0ba3a45d695552c76e8eae15b",
       "version_major": 2,
       "version_minor": 0
      },
      "text/plain": [
       "  0%|          | 0/150 [00:00<?, ?it/s]"
      ]
     },
     "metadata": {},
     "output_type": "display_data"
    },
    {
     "data": {
      "application/vnd.jupyter.widget-view+json": {
       "model_id": "1e477bc275aa4c60bd47e508285ccb89",
       "version_major": 2,
       "version_minor": 0
      },
      "text/plain": [
       "  0%|          | 0/1 [00:00<?, ?it/s]"
      ]
     },
     "metadata": {},
     "output_type": "display_data"
    },
    {
     "data": {
      "application/vnd.jupyter.widget-view+json": {
       "model_id": "09bfef2fed274853bbda4713f71a2987",
       "version_major": 2,
       "version_minor": 0
      },
      "text/plain": [
       "  0%|          | 0/150 [00:00<?, ?it/s]"
      ]
     },
     "metadata": {},
     "output_type": "display_data"
    },
    {
     "data": {
      "image/png": "[encoded data removed]",
      "text/plain": [
       "<Figure size 432x288 with 1 Axes>"
      ]
     },
     "metadata": {
      "needs_background": "light"
     },
     "output_type": "display_data"
    },
    {
     "data": {
      "image/png": "[encoded data removed]",
      "text/plain": [
       "<Figure size 432x288 with 1 Axes>"
      ]
     },
     "metadata": {
      "needs_background": "light"
     },
     "output_type": "display_data"
    }
   ],
   "source": [
    "results = hpsearch(\n",
    "    params,\n",
    "    lambda : GeneralLinearFullNet(1, 1, [100], t.nn.GELU, True),\n",
    "    training_data = tdata,\n",
    "    verbose = True\n",
    ")\n",
    "plt.show()\n",
    "plt.plot(xs, ys)\n",
    "for r in results:\n",
    "    plt.plot(xs, r['model'](xs).detach().clone())"
   ]
  },
  {
   "cell_type": "code",
   "execution_count": 440,
   "id": "67af75a7-aca2-4c3f-87bc-74ab3f5e8947",
   "metadata": {},
   "outputs": [
    {
     "data": {
      "text/plain": [
       "[{'settings': {'starting_lr': 0.1,\n",
       "   'lr_scheduler_dec_factor': 0.2,\n",
       "   'lr_scheduler_patience': 30,\n",
       "   'lr_scheduler_cooldown': 30,\n",
       "   'batch_size': 32,\n",
       "   'optimizer': 'sgd',\n",
       "   'adam_weight_decay': 1e-06,\n",
       "   'momentum': 0.0001,\n",
       "   'epochs': 150,\n",
       "   'loss_func': MSELoss()},\n",
       "  'model': GeneralLinearFullNet(\n",
       "    (layers): ModuleList(\n",
       "      (0): Linear(in_features=1, out_features=100, bias=True)\n",
       "      (1): GELU()\n",
       "      (2): Linear(in_features=100, out_features=1, bias=True)\n",
       "      (3): GELU()\n",
       "    )\n",
       "  ),\n",
       "  'score': None,\n",
       "  'val_loss_history': [0.29059702157974243,\n",
       "   0.03955228254199028,\n",
       "   0.007210442330688238,\n",
       "   0.0025071173440665007,\n",
       "   0.0016252336790785193,\n",
       "   0.0009291497408412397,\n",
       "   0.0005872719921171665,\n",
       "   0.0004138372605666518,\n",
       "   0.000312275777105242,\n",
       "   0.0002466674486640841,\n",
       "   0.00020437486818991601,\n",
       "   0.00018129068484995514,\n",
       "   0.00017625522741582245,\n",
       "   0.00018810601613949984,\n",
       "   0.00021353874763008207,\n",
       "   0.0002461079857312143,\n",
       "   0.00027728997520171106,\n",
       "   0.0002995564427692443,\n",
       "   0.0003091888502240181,\n",
       "   0.0003066936624236405,\n",
       "   0.00029507881845347583,\n",
       "   0.0002778944617602974,\n",
       "   0.00025807428755797446,\n",
       "   0.00023763043282087892,\n",
       "   0.00021779649250674993,\n",
       "   0.00019918223551940173,\n",
       "   0.00018213516159448773,\n",
       "   0.00016672664787620306,\n",
       "   0.00015293961041606963,\n",
       "   0.00014068555901758373,\n",
       "   0.0001298397983191535,\n",
       "   0.00012027128104818985,\n",
       "   0.00011185115727130324,\n",
       "   0.0001044448945322074,\n",
       "   9.79401811491698e-05,\n",
       "   9.223019878845662e-05,\n",
       "   8.721932681510225e-05,\n",
       "   8.282327326014638e-05,\n",
       "   7.896492024883628e-05,\n",
       "   7.55786313675344e-05,\n",
       "   7.260622078320011e-05,\n",
       "   6.999807374086231e-05,\n",
       "   6.770888285245746e-05,\n",
       "   6.57007985864766e-05,\n",
       "   6.393910007318482e-05,\n",
       "   6.23926316620782e-05,\n",
       "   6.10354618402198e-05,\n",
       "   5.984574090689421e-05,\n",
       "   5.880215758224949e-05,\n",
       "   5.789025453850627e-05,\n",
       "   5.709187826141715e-05,\n",
       "   5.639492883346975e-05,\n",
       "   5.5787069868529215e-05,\n",
       "   5.5258715292438865e-05,\n",
       "   5.479966785060242e-05,\n",
       "   5.440250606625341e-05,\n",
       "   5.4060325055615976e-05,\n",
       "   5.376622357289307e-05,\n",
       "   5.3515370382228866e-05,\n",
       "   5.3302468586480245e-05,\n",
       "   5.3123516408959404e-05,\n",
       "   5.297472307574935e-05,\n",
       "   5.2852217777399346e-05,\n",
       "   5.275353032629937e-05,\n",
       "   5.2675717597594485e-05,\n",
       "   5.26163712493144e-05,\n",
       "   5.257378870737739e-05,\n",
       "   5.2545899961842224e-05,\n",
       "   5.253068229649216e-05,\n",
       "   5.252707705949433e-05,\n",
       "   5.253372364677489e-05,\n",
       "   5.254910865915008e-05,\n",
       "   5.25727155036293e-05,\n",
       "   5.260299803921953e-05,\n",
       "   5.263933417154476e-05,\n",
       "   5.2680781664093956e-05,\n",
       "   5.2727191359736025e-05,\n",
       "   5.277787568047643e-05,\n",
       "   5.2831866923952475e-05,\n",
       "   5.288849206408486e-05,\n",
       "   5.2948038501199335e-05,\n",
       "   5.301064084051177e-05,\n",
       "   5.307349420036189e-05,\n",
       "   5.313872316037305e-05,\n",
       "   5.320522905094549e-05,\n",
       "   5.327236794983037e-05,\n",
       "   5.334043089533225e-05,\n",
       "   5.340933785191737e-05,\n",
       "   5.3478233894566074e-05,\n",
       "   5.354763925424777e-05,\n",
       "   5.361699004424736e-05,\n",
       "   5.3685820603277534e-05,\n",
       "   5.3755044064018875e-05,\n",
       "   5.3823718189960346e-05,\n",
       "   5.389157377067022e-05,\n",
       "   5.395987682277337e-05,\n",
       "   5.402758688433096e-05,\n",
       "   5.409397272160277e-05,\n",
       "   5.4160409490577877e-05,\n",
       "   5.4225656640483066e-05,\n",
       "   5.3396197472466156e-05,\n",
       "   5.339176277630031e-05,\n",
       "   5.338728806236759e-05,\n",
       "   5.338253322406672e-05,\n",
       "   5.3378058510133997e-05,\n",
       "   5.33734419150278e-05,\n",
       "   5.336868343874812e-05,\n",
       "   5.3364099585451186e-05,\n",
       "   5.335931564331986e-05,\n",
       "   5.335469904821366e-05,\n",
       "   5.335009700502269e-05,\n",
       "   5.3345498599810526e-05,\n",
       "   5.334079833119176e-05,\n",
       "   5.333605804480612e-05,\n",
       "   5.33312741026748e-05,\n",
       "   5.332651562639512e-05,\n",
       "   5.3321833547670394e-05,\n",
       "   5.3317027777666226e-05,\n",
       "   5.3312251111492515e-05,\n",
       "   5.330768181011081e-05,\n",
       "   5.330286148819141e-05,\n",
       "   5.3298201237339526e-05,\n",
       "   5.3293399105314165e-05,\n",
       "   5.328855331754312e-05,\n",
       "   5.3283943998394534e-05,\n",
       "   5.327911640051752e-05,\n",
       "   5.327426697476767e-05,\n",
       "   5.326950486050919e-05,\n",
       "   5.326471000444144e-05,\n",
       "   5.326007885742001e-05,\n",
       "   5.325512756826356e-05,\n",
       "   5.32503763679415e-05,\n",
       "   5.324534504325129e-05,\n",
       "   5.324071753420867e-05,\n",
       "   5.3235795348882675e-05,\n",
       "   5.323105870047584e-05,\n",
       "   5.322633660398424e-05,\n",
       "   5.322131255525164e-05,\n",
       "   5.3216655942378566e-05,\n",
       "   5.3211879276204854e-05,\n",
       "   5.3206837037578225e-05,\n",
       "   5.320212949300185e-05,\n",
       "   5.319699994288385e-05,\n",
       "   5.319224510458298e-05,\n",
       "   5.318752664607018e-05,\n",
       "   5.318260446074419e-05,\n",
       "   5.317783507052809e-05,\n",
       "   5.317268005455844e-05,\n",
       "   5.316779061104171e-05,\n",
       "   5.316306123859249e-05]},\n",
       " {'settings': {'starting_lr': 0.1,\n",
       "   'lr_scheduler_dec_factor': 0.2,\n",
       "   'lr_scheduler_patience': 30,\n",
       "   'lr_scheduler_cooldown': 30,\n",
       "   'batch_size': 128,\n",
       "   'optimizer': 'sgd',\n",
       "   'adam_weight_decay': 1e-06,\n",
       "   'momentum': 0.1,\n",
       "   'epochs': 150,\n",
       "   'loss_func': MSELoss()},\n",
       "  'model': GeneralLinearFullNet(\n",
       "    (layers): ModuleList(\n",
       "      (0): Linear(in_features=1, out_features=100, bias=True)\n",
       "      (1): GELU()\n",
       "      (2): Linear(in_features=100, out_features=1, bias=True)\n",
       "      (3): GELU()\n",
       "    )\n",
       "  ),\n",
       "  'score': None,\n",
       "  'val_loss_history': [0.25668415427207947,\n",
       "   0.0007419423782266676,\n",
       "   0.10124500840902328,\n",
       "   0.06422282010316849,\n",
       "   0.0869201049208641,\n",
       "   0.052062470465898514,\n",
       "   0.045384641736745834,\n",
       "   0.03554042801260948,\n",
       "   0.03257058188319206,\n",
       "   0.02415631338953972,\n",
       "   0.02359089069068432,\n",
       "   0.018722981214523315,\n",
       "   0.01763206534087658,\n",
       "   0.013080884702503681,\n",
       "   0.011489697732031345,\n",
       "   0.008530179969966412,\n",
       "   0.007061614189296961,\n",
       "   0.005388801451772451,\n",
       "   0.004274393897503614,\n",
       "   0.0033891391940414906,\n",
       "   0.0026137821841984987,\n",
       "   0.0021652663126587868,\n",
       "   0.0016469417605549097,\n",
       "   0.0014293075073510408,\n",
       "   0.0010881631169468164,\n",
       "   0.000988675281405449,\n",
       "   0.0007643636199645698,\n",
       "   0.0007233388023450971,\n",
       "   0.0005745984381064773,\n",
       "   0.0005611663800664246,\n",
       "   0.00046104411012493074,\n",
       "   0.0004595697682816535,\n",
       "   0.0003908388316631317,\n",
       "   0.0003936825378332287,\n",
       "   0.00034541284549050033,\n",
       "   0.000349008128978312,\n",
       "   0.0003142500063404441,\n",
       "   0.0003171069547533989,\n",
       "   0.00029140731203369796,\n",
       "   0.00029304143390618265,\n",
       "   0.0002735209418460727,\n",
       "   0.00027390752802602947,\n",
       "   0.0002586779010016471,\n",
       "   0.00025798045680858195,\n",
       "   0.00024578964803367853,\n",
       "   0.0002442325640004128,\n",
       "   0.00023423184757120907,\n",
       "   0.0002320325147593394,\n",
       "   0.0002236436412204057,\n",
       "   0.00022099161287769675,\n",
       "   0.00021381181431934237,\n",
       "   0.00021086145716253668,\n",
       "   0.00020460672385524958,\n",
       "   0.00020147993927821517,\n",
       "   0.00019594781042542309,\n",
       "   0.00019273493671789765,\n",
       "   0.00018777939840219915,\n",
       "   0.00018454923701938242,\n",
       "   0.000180062314029783,\n",
       "   0.0001768647925928235,\n",
       "   0.00017276566359214485,\n",
       "   0.00016963467351160944,\n",
       "   0.0001658634573686868,\n",
       "   0.00016282379510812461,\n",
       "   0.00015933430404402316,\n",
       "   0.000156401249114424,\n",
       "   0.00015315753989852965,\n",
       "   0.00015034034731797874,\n",
       "   0.000147313839988783,\n",
       "   0.00014461789396591485,\n",
       "   0.00014178614947013557,\n",
       "   0.00013921329809818417,\n",
       "   0.0001365573116345331,\n",
       "   0.00013410697283688933,\n",
       "   0.00013161165406927466,\n",
       "   0.00012928145588375628,\n",
       "   0.00012693348980974406,\n",
       "   0.00012472060916479677,\n",
       "   0.00012250903819222003,\n",
       "   0.00012040953151881695,\n",
       "   0.00011832432210212573,\n",
       "   0.00011633367103058845,\n",
       "   0.00011436663044150919,\n",
       "   0.00011248010559938848,\n",
       "   0.00011062307021347806,\n",
       "   0.00010883639333769679,\n",
       "   0.00010708250192692503,\n",
       "   0.00010539081995375454,\n",
       "   0.0001037338879541494,\n",
       "   0.00010213208588538691,\n",
       "   0.00010056634346256033,\n",
       "   9.905031765811145e-05,\n",
       "   9.75703660515137e-05,\n",
       "   9.613575093680993e-05,\n",
       "   9.473643876845017e-05,\n",
       "   9.337863593827933e-05,\n",
       "   9.20555175980553e-05,\n",
       "   9.07706780708395e-05,\n",
       "   8.951925701694563e-05,\n",
       "   8.830382284941152e-05,\n",
       "   8.712033741176128e-05,\n",
       "   8.596992847742513e-05,\n",
       "   8.485029684379697e-05,\n",
       "   8.376193000003695e-05,\n",
       "   8.270281250588596e-05,\n",
       "   8.167286432581022e-05,\n",
       "   8.067080489126965e-05,\n",
       "   7.969610305735841e-05,\n",
       "   7.874804578023031e-05,\n",
       "   7.782570173731074e-05,\n",
       "   7.69285106798634e-05,\n",
       "   7.605574501212686e-05,\n",
       "   7.52067644498311e-05,\n",
       "   7.43806958780624e-05,\n",
       "   7.357719732681289e-05,\n",
       "   7.279548299266025e-05,\n",
       "   7.203486165963113e-05,\n",
       "   7.129499135771766e-05,\n",
       "   7.057507173158228e-05,\n",
       "   6.987468805164099e-05,\n",
       "   6.919328006915748e-05,\n",
       "   6.853016384411603e-05,\n",
       "   6.788512837374583e-05,\n",
       "   6.725735875079408e-05,\n",
       "   6.6646549385041e-05,\n",
       "   6.605226371902972e-05,\n",
       "   6.54739560559392e-05,\n",
       "   6.491129170171916e-05,\n",
       "   6.436366675188765e-05,\n",
       "   6.38307974440977e-05,\n",
       "   6.331224722089246e-05,\n",
       "   6.280755769694224e-05,\n",
       "   6.231648876564577e-05,\n",
       "   6.183842197060585e-05,\n",
       "   6.137335003586486e-05,\n",
       "   6.092063995311037e-05,\n",
       "   6.047999340808019e-05,\n",
       "   6.005115938023664e-05,\n",
       "   5.9633614000631496e-05,\n",
       "   5.922733180341311e-05,\n",
       "   5.883180347154848e-05,\n",
       "   5.844686893397011e-05,\n",
       "   5.807205889141187e-05,\n",
       "   5.770733332610689e-05,\n",
       "   5.7352161093149334e-05,\n",
       "   5.700648398487829e-05,\n",
       "   5.666977813234553e-05,\n",
       "   5.634227636619471e-05,\n",
       "   5.602310557151213e-05,\n",
       "   5.57126259081997e-05]},\n",
       " {'settings': {'starting_lr': 0.1,\n",
       "   'lr_scheduler_dec_factor': 0.2,\n",
       "   'lr_scheduler_patience': 30,\n",
       "   'lr_scheduler_cooldown': 30,\n",
       "   'batch_size': 128,\n",
       "   'optimizer': 'sgd',\n",
       "   'adam_weight_decay': 1e-06,\n",
       "   'momentum': 0.0001,\n",
       "   'epochs': 150,\n",
       "   'loss_func': MSELoss()},\n",
       "  'model': GeneralLinearFullNet(\n",
       "    (layers): ModuleList(\n",
       "      (0): Linear(in_features=1, out_features=100, bias=True)\n",
       "      (1): GELU()\n",
       "      (2): Linear(in_features=100, out_features=1, bias=True)\n",
       "      (3): GELU()\n",
       "    )\n",
       "  ),\n",
       "  'score': None,\n",
       "  'val_loss_history': [0.05532049387693405,\n",
       "   0.05707424879074097,\n",
       "   0.037890367209911346,\n",
       "   0.035851456224918365,\n",
       "   0.027161555364727974,\n",
       "   0.026833435520529747,\n",
       "   0.019449397921562195,\n",
       "   0.01816023327410221,\n",
       "   0.01286248303949833,\n",
       "   0.011290695518255234,\n",
       "   0.0081052016466856,\n",
       "   0.006786278914660215,\n",
       "   0.005010803230106831,\n",
       "   0.004061037674546242,\n",
       "   0.0031048418022692204,\n",
       "   0.0024686313699930906,\n",
       "   0.0019623979460448027,\n",
       "   0.0015504843322560191,\n",
       "   0.0012853152584284544,\n",
       "   0.001021879492327571,\n",
       "   0.0008842307142913342,\n",
       "   0.0007154700579121709,\n",
       "   0.0006447047344408929,\n",
       "   0.0005353561718948185,\n",
       "   0.0004993354668840766,\n",
       "   0.00042714961455203593,\n",
       "   0.00040891027310863137,\n",
       "   0.00036008915049023926,\n",
       "   0.0003507406800054014,\n",
       "   0.0003167683898936957,\n",
       "   0.0003116884909104556,\n",
       "   0.0002873032644856721,\n",
       "   0.0002841286768671125,\n",
       "   0.0002660503960214555,\n",
       "   0.0002636107965372503,\n",
       "   0.00024976610438898206,\n",
       "   0.0002475075889378786,\n",
       "   0.0002365720138186589,\n",
       "   0.0002342621301067993,\n",
       "   0.00022537079348694533,\n",
       "   0.0002229339734185487,\n",
       "   0.0002155161346308887,\n",
       "   0.00021295053011272103,\n",
       "   0.00020662075257860124,\n",
       "   0.00020395599131006747,\n",
       "   0.00019845015776809305,\n",
       "   0.00019572407472878695,\n",
       "   0.00019085672101937234,\n",
       "   0.00018810771871358156,\n",
       "   0.0001837467571021989,\n",
       "   0.0001810076937545091,\n",
       "   0.00017705775098875165,\n",
       "   0.00017435484915040433,\n",
       "   0.00017074521747417748,\n",
       "   0.00016809889348223805,\n",
       "   0.0001647763856453821,\n",
       "   0.00016220237012021244,\n",
       "   0.0001591260079294443,\n",
       "   0.00015663457452319562,\n",
       "   0.00015377324598375708,\n",
       "   0.00015137149603106081,\n",
       "   0.0001486996770836413,\n",
       "   0.00014639183063991368,\n",
       "   0.00014388974523171782,\n",
       "   0.00014167767949402332,\n",
       "   0.00013932876754552126,\n",
       "   0.00013721261348109692,\n",
       "   0.00013500326895155013,\n",
       "   0.0001329825317952782,\n",
       "   0.0001309009821852669,\n",
       "   0.00012897378474008292,\n",
       "   0.00012701016385108232,\n",
       "   0.000125174003187567,\n",
       "   0.0001233196526300162,\n",
       "   0.00012157167657278478,\n",
       "   0.00011981921852566302,\n",
       "   0.0001181562984129414,\n",
       "   0.00011649884982034564,\n",
       "   0.0001149176896433346,\n",
       "   0.00011334933515172452,\n",
       "   0.0001118464715545997,\n",
       "   0.00011036158684873953,\n",
       "   0.00010893370199482888,\n",
       "   0.00010752727393992245,\n",
       "   0.00010617113002808765,\n",
       "   0.0001048384074238129,\n",
       "   0.00010355053382227197,\n",
       "   0.00010228744213236496,\n",
       "   0.0001010646519716829,\n",
       "   9.986728400690481e-05,\n",
       "   9.87063322099857e-05,\n",
       "   9.757099178386852e-05,\n",
       "   9.646889520809054e-05,\n",
       "   9.539221355225891e-05,\n",
       "   9.434593084733933e-05,\n",
       "   9.3324706540443e-05,\n",
       "   9.233162563759834e-05,\n",
       "   9.136284643318504e-05,\n",
       "   9.042008605320007e-05,\n",
       "   8.950097253546119e-05,\n",
       "   8.860603702487424e-05,\n",
       "   8.773396984906867e-05,\n",
       "   8.688450179761276e-05,\n",
       "   8.605689799878746e-05,\n",
       "   8.525048178853467e-05,\n",
       "   8.446508581982926e-05,\n",
       "   8.369955321541056e-05,\n",
       "   8.295403677038848e-05,\n",
       "   8.222729957196862e-05,\n",
       "   8.151963265845552e-05,\n",
       "   8.08296535979025e-05,\n",
       "   8.015776984393597e-05,\n",
       "   7.950268627610058e-05,\n",
       "   7.886481762398034e-05,\n",
       "   7.82427960075438e-05,\n",
       "   7.763710163999349e-05,\n",
       "   7.704646122874692e-05,\n",
       "   7.647135498700663e-05,\n",
       "   7.591035682708025e-05,\n",
       "   7.536410703323781e-05,\n",
       "   7.483138324460015e-05,\n",
       "   7.431260746670887e-05,\n",
       "   7.38066082703881e-05,\n",
       "   7.331381493713707e-05,\n",
       "   7.283314334927127e-05,\n",
       "   7.236507371999323e-05,\n",
       "   7.190842006821185e-05,\n",
       "   7.146375719457865e-05,\n",
       "   7.102990639396012e-05,\n",
       "   7.060733332764357e-05,\n",
       "   7.019509939709678e-05,\n",
       "   6.979361205594614e-05,\n",
       "   6.94018744979985e-05,\n",
       "   6.902022869326174e-05,\n",
       "   6.864804163342342e-05,\n",
       "   6.828533514635637e-05,\n",
       "   6.793151260353625e-05,\n",
       "   6.758674862794578e-05,\n",
       "   6.725044659106061e-05,\n",
       "   6.692263559671119e-05,\n",
       "   6.660285725956783e-05,\n",
       "   6.629130803048611e-05,\n",
       "   6.598716572625563e-05,\n",
       "   6.569085962837562e-05,\n",
       "   6.54016257612966e-05,\n",
       "   6.511988613056019e-05,\n",
       "   6.48448767606169e-05,\n",
       "   6.457691051764414e-05,\n",
       "   6.431536166928709e-05,\n",
       "   6.406039756257087e-05]},\n",
       " {'settings': {'starting_lr': 0.1,\n",
       "   'lr_scheduler_dec_factor': 0.2,\n",
       "   'lr_scheduler_patience': 30,\n",
       "   'lr_scheduler_cooldown': 30,\n",
       "   'batch_size': 128,\n",
       "   'optimizer': 'sgd',\n",
       "   'adam_weight_decay': 1e-06,\n",
       "   'momentum': 0.01,\n",
       "   'epochs': 150,\n",
       "   'loss_func': MSELoss()},\n",
       "  'model': GeneralLinearFullNet(\n",
       "    (layers): ModuleList(\n",
       "      (0): Linear(in_features=1, out_features=100, bias=True)\n",
       "      (1): GELU()\n",
       "      (2): Linear(in_features=100, out_features=1, bias=True)\n",
       "      (3): GELU()\n",
       "    )\n",
       "  ),\n",
       "  'score': None,\n",
       "  'val_loss_history': [0.011172324419021606,\n",
       "   0.020333731546998024,\n",
       "   0.019915377721190453,\n",
       "   0.013699417002499104,\n",
       "   0.012224564328789711,\n",
       "   0.008936995640397072,\n",
       "   0.007619605399668217,\n",
       "   0.005869354121387005,\n",
       "   0.004834738560020924,\n",
       "   0.003914461471140385,\n",
       "   0.0031615900807082653,\n",
       "   0.002687397412955761,\n",
       "   0.0021562257315963507,\n",
       "   0.0019182325340807438,\n",
       "   0.0015453185187652707,\n",
       "   0.0014308481477200985,\n",
       "   0.0011662901379168034,\n",
       "   0.0011155466781929135,\n",
       "   0.0009242117521353066,\n",
       "   0.0009056975250132382,\n",
       "   0.0007639575051143765,\n",
       "   0.0007611883338540792,\n",
       "   0.0006534577696584165,\n",
       "   0.0006578644970431924,\n",
       "   0.0005738639738410711,\n",
       "   0.0005810906877741218,\n",
       "   0.0005139838322065771,\n",
       "   0.0005218774313107133,\n",
       "   0.00046706837019883096,\n",
       "   0.0004746201157104224,\n",
       "   0.00042895437218248844,\n",
       "   0.0004357580910436809,\n",
       "   0.0003970375983044505,\n",
       "   0.0004029953561257571,\n",
       "   0.00036965266917832196,\n",
       "   0.00037479866296052933,\n",
       "   0.00034569622948765755,\n",
       "   0.00035013514570891857,\n",
       "   0.0003244347753934562,\n",
       "   0.00032828751136548817,\n",
       "   0.0003053565160371363,\n",
       "   0.000308746297378093,\n",
       "   0.0002880981774069369,\n",
       "   0.0002911368210334331,\n",
       "   0.0002723979705478996,\n",
       "   0.000275186903309077,\n",
       "   0.0002580559521447867,\n",
       "   0.00026068161241710186,\n",
       "   0.0002449243329465389,\n",
       "   0.00024746102280914783,\n",
       "   0.00023288323427550495,\n",
       "   0.0002353973686695099,\n",
       "   0.0002218428417108953,\n",
       "   0.00022439110034611076,\n",
       "   0.00021172990091145039,\n",
       "   0.00021436331735458225,\n",
       "   0.00020249026420060545,\n",
       "   0.00020525154832284898,\n",
       "   0.00019408036314416677,\n",
       "   0.00019701538258232176,\n",
       "   0.00018647211254574358,\n",
       "   0.00018961942987516522,\n",
       "   0.00017965234292205423,\n",
       "   0.00018305631238035858,\n",
       "   0.00017362454673275352,\n",
       "   0.00017732870765030384,\n",
       "   0.000168402140843682,\n",
       "   0.00017245372873730958,\n",
       "   0.00016402020992245525,\n",
       "   0.00016847223741933703,\n",
       "   0.0001605390862096101,\n",
       "   0.0001654529623920098,\n",
       "   0.00015804126451257616,\n",
       "   0.0001634884247323498,\n",
       "   0.00015664433885831386,\n",
       "   0.0001627107267268002,\n",
       "   0.00015650519344490021,\n",
       "   0.00016328602214343846,\n",
       "   0.00015782599803060293,\n",
       "   0.0001654412626521662,\n",
       "   0.0001608715538168326,\n",
       "   0.0001694541278993711,\n",
       "   0.0001659574918448925,\n",
       "   0.0001756595156621188,\n",
       "   0.00017346999084111303,\n",
       "   0.0001844568323576823,\n",
       "   0.00018386416195426136,\n",
       "   0.00019630674796644598,\n",
       "   0.00019764079479500651,\n",
       "   0.0002116919931722805,\n",
       "   0.00021530830417759717,\n",
       "   0.0002310606651008129,\n",
       "   0.00023731107648927718,\n",
       "   0.0002547602343838662,\n",
       "   0.00026394258020445704,\n",
       "   0.0002829072473105043,\n",
       "   0.0002951697679236531,\n",
       "   0.00031519244657829404,\n",
       "   0.0003304348501842469,\n",
       "   0.0003507510700728744,\n",
       "   0.0003685223055072129,\n",
       "   0.00038798764580860734,\n",
       "   0.0004074482712894678,\n",
       "   0.00042460006079636514,\n",
       "   0.0004444961668923497,\n",
       "   0.00045773538295179605,\n",
       "   0.0004765868652611971,\n",
       "   0.00048440980026498437,\n",
       "   8.155078830895945e-05,\n",
       "   8.128873741952702e-05,\n",
       "   8.111161150736734e-05,\n",
       "   8.095442899502814e-05,\n",
       "   8.08049226179719e-05,\n",
       "   8.065755537245423e-05,\n",
       "   8.050996257225052e-05,\n",
       "   8.036135841393843e-05,\n",
       "   8.02118593128398e-05,\n",
       "   8.006163261597976e-05,\n",
       "   7.991102756932378e-05,\n",
       "   7.976032793521881e-05,\n",
       "   7.960962102515623e-05,\n",
       "   7.945943070808426e-05,\n",
       "   7.930965512059629e-05,\n",
       "   7.916059985291213e-05,\n",
       "   7.901228673290461e-05,\n",
       "   7.886467210482806e-05,\n",
       "   7.871795241953805e-05,\n",
       "   7.857217860873789e-05,\n",
       "   7.842720515327528e-05,\n",
       "   7.828315574442968e-05,\n",
       "   7.814007403794676e-05,\n",
       "   7.799776358297095e-05,\n",
       "   7.785654452163726e-05,\n",
       "   7.771619857521728e-05,\n",
       "   7.757676212349907e-05,\n",
       "   7.74382206145674e-05,\n",
       "   7.730056677246466e-05,\n",
       "   7.716382970102131e-05,\n",
       "   7.702805305598304e-05,\n",
       "   7.689310587011278e-05,\n",
       "   7.675913366256282e-05,\n",
       "   7.662597636226565e-05,\n",
       "   7.649372855667025e-05,\n",
       "   7.636233931407332e-05,\n",
       "   7.623177953064442e-05,\n",
       "   7.610215106979012e-05,\n",
       "   7.597333024023101e-05,\n",
       "   7.584535342175514e-05,\n",
       "   7.571816968265921e-05,\n",
       "   7.559193909401074e-05]},\n",
       " {'settings': {'starting_lr': 0.1,\n",
       "   'lr_scheduler_dec_factor': 0.2,\n",
       "   'lr_scheduler_patience': 30,\n",
       "   'lr_scheduler_cooldown': 30,\n",
       "   'batch_size': 32,\n",
       "   'optimizer': 'adam',\n",
       "   'adam_weight_decay': 1e-06,\n",
       "   'momentum': 0.0001,\n",
       "   'epochs': 150,\n",
       "   'loss_func': MSELoss()},\n",
       "  'model': GeneralLinearFullNet(\n",
       "    (layers): ModuleList(\n",
       "      (0): Linear(in_features=1, out_features=100, bias=True)\n",
       "      (1): GELU()\n",
       "      (2): Linear(in_features=100, out_features=1, bias=True)\n",
       "      (3): GELU()\n",
       "    )\n",
       "  ),\n",
       "  'score': None,\n",
       "  'val_loss_history': [0.3351637125015259,\n",
       "   0.3351637125015259,\n",
       "   0.3351637125015259,\n",
       "   0.3351637125015259,\n",
       "   0.3351637125015259,\n",
       "   0.3351637125015259,\n",
       "   0.3351637125015259,\n",
       "   0.3351637125015259,\n",
       "   0.3351637125015259,\n",
       "   0.3351637125015259,\n",
       "   0.3351637125015259,\n",
       "   0.3351637125015259,\n",
       "   0.3351637125015259,\n",
       "   0.3351637125015259,\n",
       "   0.3351637125015259,\n",
       "   0.3351637125015259,\n",
       "   0.3351637125015259,\n",
       "   0.3351637125015259,\n",
       "   0.3351637125015259,\n",
       "   0.3351637125015259,\n",
       "   0.3351637125015259,\n",
       "   0.3351637125015259,\n",
       "   0.3351637125015259,\n",
       "   0.3351637125015259,\n",
       "   0.3351637125015259,\n",
       "   0.3351637125015259,\n",
       "   0.3351637125015259,\n",
       "   0.3351637125015259,\n",
       "   0.3351637125015259,\n",
       "   0.3351637125015259,\n",
       "   0.3351637125015259,\n",
       "   0.3351637125015259,\n",
       "   0.3351637125015259,\n",
       "   0.3351637125015259,\n",
       "   0.3351637125015259,\n",
       "   0.3351637125015259,\n",
       "   0.3351637125015259,\n",
       "   0.3351637125015259,\n",
       "   0.3351637125015259,\n",
       "   0.3351637125015259,\n",
       "   0.3351637125015259,\n",
       "   0.3351637125015259,\n",
       "   0.3351637125015259,\n",
       "   0.3351637125015259,\n",
       "   0.3351637125015259,\n",
       "   0.3351637125015259,\n",
       "   0.3351637125015259,\n",
       "   0.3351637125015259,\n",
       "   0.3351637125015259,\n",
       "   0.3351637125015259,\n",
       "   0.3351637125015259,\n",
       "   0.3351637125015259,\n",
       "   0.3351637125015259,\n",
       "   0.3351637125015259,\n",
       "   0.3351637125015259,\n",
       "   0.3351637125015259,\n",
       "   0.3351637125015259,\n",
       "   0.3351637125015259,\n",
       "   0.3351637125015259,\n",
       "   0.3351637125015259,\n",
       "   0.3351637125015259,\n",
       "   0.3351637125015259,\n",
       "   0.3351637125015259,\n",
       "   0.3351637125015259,\n",
       "   0.3351637125015259,\n",
       "   0.3351637125015259,\n",
       "   0.3351637125015259,\n",
       "   0.3351637125015259,\n",
       "   0.3351637125015259,\n",
       "   0.3351637125015259,\n",
       "   0.3351637125015259,\n",
       "   0.3351637125015259,\n",
       "   0.3351637125015259,\n",
       "   0.3351637125015259,\n",
       "   0.3351637125015259,\n",
       "   0.3351637125015259,\n",
       "   0.3351637125015259,\n",
       "   0.3351637125015259,\n",
       "   0.3351637125015259,\n",
       "   0.3351637125015259,\n",
       "   0.3351637125015259,\n",
       "   0.3351637125015259,\n",
       "   0.3351637125015259,\n",
       "   0.3351637125015259,\n",
       "   0.3351637125015259,\n",
       "   0.3351637125015259,\n",
       "   0.3351637125015259,\n",
       "   0.3351637125015259,\n",
       "   0.3351637125015259,\n",
       "   0.3351637125015259,\n",
       "   0.3351637125015259,\n",
       "   0.3351637125015259,\n",
       "   0.3351637125015259,\n",
       "   0.3351637125015259,\n",
       "   0.3351637125015259,\n",
       "   0.3351637125015259,\n",
       "   0.3351637125015259,\n",
       "   0.3351637125015259,\n",
       "   0.3351637125015259,\n",
       "   0.3351637125015259,\n",
       "   0.3351637125015259,\n",
       "   0.3351637125015259,\n",
       "   0.3351637125015259,\n",
       "   0.3351637125015259,\n",
       "   0.3351637125015259,\n",
       "   0.3351637125015259,\n",
       "   0.3351637125015259,\n",
       "   0.3351637125015259,\n",
       "   0.3351637125015259,\n",
       "   0.3351637125015259,\n",
       "   0.3351637125015259,\n",
       "   0.3351637125015259,\n",
       "   0.3351637125015259,\n",
       "   0.3351637125015259,\n",
       "   0.3351637125015259,\n",
       "   0.3351637125015259,\n",
       "   0.3351637125015259,\n",
       "   0.3351637125015259,\n",
       "   0.3351637125015259,\n",
       "   0.3351637125015259,\n",
       "   0.3351637125015259,\n",
       "   0.3351637125015259,\n",
       "   0.3351637125015259,\n",
       "   0.3351637125015259,\n",
       "   0.3351637125015259,\n",
       "   0.3351637125015259,\n",
       "   0.3351637125015259,\n",
       "   0.3351637125015259,\n",
       "   0.3351637125015259,\n",
       "   0.3351637125015259,\n",
       "   0.3351637125015259,\n",
       "   0.3351637125015259,\n",
       "   0.3351637125015259,\n",
       "   0.3351637125015259,\n",
       "   0.3351637125015259,\n",
       "   0.3351637125015259,\n",
       "   0.3351637125015259,\n",
       "   0.3351637125015259,\n",
       "   0.3351637125015259,\n",
       "   0.3351637125015259,\n",
       "   0.3351637125015259,\n",
       "   0.3351637125015259,\n",
       "   0.3351637125015259,\n",
       "   0.3351637125015259,\n",
       "   0.3351637125015259,\n",
       "   0.3351637125015259,\n",
       "   0.3351637125015259,\n",
       "   0.3351637125015259,\n",
       "   0.3351637125015259,\n",
       "   0.3351637125015259]},\n",
       " {'settings': {'starting_lr': 0.1,\n",
       "   'lr_scheduler_dec_factor': 0.2,\n",
       "   'lr_scheduler_patience': 30,\n",
       "   'lr_scheduler_cooldown': 30,\n",
       "   'batch_size': 32,\n",
       "   'optimizer': 'adam',\n",
       "   'adam_weight_decay': 1e-06,\n",
       "   'momentum': 0.01,\n",
       "   'epochs': 150,\n",
       "   'loss_func': MSELoss()},\n",
       "  'model': GeneralLinearFullNet(\n",
       "    (layers): ModuleList(\n",
       "      (0): Linear(in_features=1, out_features=100, bias=True)\n",
       "      (1): GELU()\n",
       "      (2): Linear(in_features=100, out_features=1, bias=True)\n",
       "      (3): GELU()\n",
       "    )\n",
       "  ),\n",
       "  'score': None,\n",
       "  'val_loss_history': [0.3351637125015259,\n",
       "   0.3351637125015259,\n",
       "   0.3351637125015259,\n",
       "   0.3351637125015259,\n",
       "   0.3351637125015259,\n",
       "   0.3351637125015259,\n",
       "   0.3351637125015259,\n",
       "   0.3351637125015259,\n",
       "   0.3351637125015259,\n",
       "   0.3351637125015259,\n",
       "   0.3351637125015259,\n",
       "   0.3351637125015259,\n",
       "   0.3351637125015259,\n",
       "   0.3351637125015259,\n",
       "   0.3351637125015259,\n",
       "   0.3351637125015259,\n",
       "   0.3351637125015259,\n",
       "   0.3351637125015259,\n",
       "   0.3351637125015259,\n",
       "   0.3351637125015259,\n",
       "   0.3351637125015259,\n",
       "   0.3351637125015259,\n",
       "   0.3351637125015259,\n",
       "   0.3351637125015259,\n",
       "   0.3351637125015259,\n",
       "   0.3351637125015259,\n",
       "   0.3351637125015259,\n",
       "   0.3351637125015259,\n",
       "   0.3351637125015259,\n",
       "   0.3351637125015259,\n",
       "   0.3351637125015259,\n",
       "   0.3351637125015259,\n",
       "   0.3351637125015259,\n",
       "   0.3351637125015259,\n",
       "   0.3351637125015259,\n",
       "   0.3351637125015259,\n",
       "   0.3351637125015259,\n",
       "   0.3351637125015259,\n",
       "   0.3351637125015259,\n",
       "   0.3351637125015259,\n",
       "   0.3351637125015259,\n",
       "   0.3351637125015259,\n",
       "   0.3351637125015259,\n",
       "   0.3351637125015259,\n",
       "   0.3351637125015259,\n",
       "   0.3351637125015259,\n",
       "   0.3351637125015259,\n",
       "   0.3351637125015259,\n",
       "   0.3351637125015259,\n",
       "   0.3351637125015259,\n",
       "   0.3351637125015259,\n",
       "   0.3351637125015259,\n",
       "   0.3351637125015259,\n",
       "   0.3351637125015259,\n",
       "   0.3351637125015259,\n",
       "   0.3351637125015259,\n",
       "   0.3351637125015259,\n",
       "   0.3351637125015259,\n",
       "   0.3351637125015259,\n",
       "   0.3351637125015259,\n",
       "   0.3351637125015259,\n",
       "   0.3351637125015259,\n",
       "   0.3351637125015259,\n",
       "   0.3351637125015259,\n",
       "   0.3351637125015259,\n",
       "   0.3351637125015259,\n",
       "   0.3351637125015259,\n",
       "   0.3351637125015259,\n",
       "   0.3351637125015259,\n",
       "   0.3351637125015259,\n",
       "   0.3351637125015259,\n",
       "   0.3351637125015259,\n",
       "   0.3351637125015259,\n",
       "   0.3351637125015259,\n",
       "   0.3351637125015259,\n",
       "   0.3351637125015259,\n",
       "   0.3351637125015259,\n",
       "   0.3351637125015259,\n",
       "   0.3351637125015259,\n",
       "   0.3351637125015259,\n",
       "   0.3351637125015259,\n",
       "   0.3351637125015259,\n",
       "   0.3351637125015259,\n",
       "   0.3351637125015259,\n",
       "   0.3351637125015259,\n",
       "   0.3351637125015259,\n",
       "   0.3351637125015259,\n",
       "   0.3351637125015259,\n",
       "   0.3351637125015259,\n",
       "   0.3351637125015259,\n",
       "   0.3351637125015259,\n",
       "   0.3351637125015259,\n",
       "   0.3351637125015259,\n",
       "   0.3351637125015259,\n",
       "   0.3351637125015259,\n",
       "   0.3351637125015259,\n",
       "   0.3351637125015259,\n",
       "   0.3351637125015259,\n",
       "   0.3351637125015259,\n",
       "   0.3351637125015259,\n",
       "   0.3351637125015259,\n",
       "   0.3351637125015259,\n",
       "   0.3351637125015259,\n",
       "   0.3351637125015259,\n",
       "   0.3351637125015259,\n",
       "   0.3351637125015259,\n",
       "   0.3351637125015259,\n",
       "   0.3351637125015259,\n",
       "   0.3351637125015259,\n",
       "   0.3351637125015259,\n",
       "   0.3351637125015259,\n",
       "   0.3351637125015259,\n",
       "   0.3351637125015259,\n",
       "   0.3351637125015259,\n",
       "   0.3351637125015259,\n",
       "   0.3351637125015259,\n",
       "   0.3351637125015259,\n",
       "   0.3351637125015259,\n",
       "   0.3351637125015259,\n",
       "   0.3351637125015259,\n",
       "   0.3351637125015259,\n",
       "   0.3351637125015259,\n",
       "   0.3351637125015259,\n",
       "   0.3351637125015259,\n",
       "   0.3351637125015259,\n",
       "   0.3351637125015259,\n",
       "   0.3351637125015259,\n",
       "   0.3351637125015259,\n",
       "   0.3351637125015259,\n",
       "   0.3351637125015259,\n",
       "   0.3351637125015259,\n",
       "   0.3351637125015259,\n",
       "   0.3351637125015259,\n",
       "   0.3351637125015259,\n",
       "   0.3351637125015259,\n",
       "   0.3351637125015259,\n",
       "   0.3351637125015259,\n",
       "   0.3351637125015259,\n",
       "   0.3351637125015259,\n",
       "   0.3351637125015259,\n",
       "   0.3351637125015259,\n",
       "   0.3351637125015259,\n",
       "   0.3351637125015259,\n",
       "   0.3351637125015259,\n",
       "   0.3351637125015259,\n",
       "   0.3351637125015259,\n",
       "   0.3351637125015259,\n",
       "   0.3351637125015259,\n",
       "   0.3351637125015259,\n",
       "   0.3351637125015259]},\n",
       " {'settings': {'starting_lr': 0.1,\n",
       "   'lr_scheduler_dec_factor': 0.2,\n",
       "   'lr_scheduler_patience': 30,\n",
       "   'lr_scheduler_cooldown': 30,\n",
       "   'batch_size': 32,\n",
       "   'optimizer': 'adam',\n",
       "   'adam_weight_decay': 1e-06,\n",
       "   'momentum': 0.1,\n",
       "   'epochs': 150,\n",
       "   'loss_func': MSELoss()},\n",
       "  'model': GeneralLinearFullNet(\n",
       "    (layers): ModuleList(\n",
       "      (0): Linear(in_features=1, out_features=100, bias=True)\n",
       "      (1): GELU()\n",
       "      (2): Linear(in_features=100, out_features=1, bias=True)\n",
       "      (3): GELU()\n",
       "    )\n",
       "  ),\n",
       "  'score': None,\n",
       "  'val_loss_history': [0.3351637125015259,\n",
       "   0.3351637125015259,\n",
       "   0.3351637125015259,\n",
       "   0.3351637125015259,\n",
       "   0.3351637125015259,\n",
       "   0.3351637125015259,\n",
       "   0.3351637125015259,\n",
       "   0.3351637125015259,\n",
       "   0.3351637125015259,\n",
       "   0.3351637125015259,\n",
       "   0.3351637125015259,\n",
       "   0.3351637125015259,\n",
       "   0.3351637125015259,\n",
       "   0.3351637125015259,\n",
       "   0.3351637125015259,\n",
       "   0.3351637125015259,\n",
       "   0.3351637125015259,\n",
       "   0.3351637125015259,\n",
       "   0.3351637125015259,\n",
       "   0.3351637125015259,\n",
       "   0.3351637125015259,\n",
       "   0.3351637125015259,\n",
       "   0.3351637125015259,\n",
       "   0.3351637125015259,\n",
       "   0.3351637125015259,\n",
       "   0.3351637125015259,\n",
       "   0.3351637125015259,\n",
       "   0.3351637125015259,\n",
       "   0.3351637125015259,\n",
       "   0.3351637125015259,\n",
       "   0.3351637125015259,\n",
       "   0.3351637125015259,\n",
       "   0.3351637125015259,\n",
       "   0.3351637125015259,\n",
       "   0.3351637125015259,\n",
       "   0.3351637125015259,\n",
       "   0.3351637125015259,\n",
       "   0.3351637125015259,\n",
       "   0.3351637125015259,\n",
       "   0.3351637125015259,\n",
       "   0.3351637125015259,\n",
       "   0.3351637125015259,\n",
       "   0.3351637125015259,\n",
       "   0.3351637125015259,\n",
       "   0.3351637125015259,\n",
       "   0.3351637125015259,\n",
       "   0.3351637125015259,\n",
       "   0.3351637125015259,\n",
       "   0.3351637125015259,\n",
       "   0.3351637125015259,\n",
       "   0.3351637125015259,\n",
       "   0.3351637125015259,\n",
       "   0.3351637125015259,\n",
       "   0.3351637125015259,\n",
       "   0.3351637125015259,\n",
       "   0.3351637125015259,\n",
       "   0.3351637125015259,\n",
       "   0.3351637125015259,\n",
       "   0.3351637125015259,\n",
       "   0.3351637125015259,\n",
       "   0.3351637125015259,\n",
       "   0.3351637125015259,\n",
       "   0.3351637125015259,\n",
       "   0.3351637125015259,\n",
       "   0.3351637125015259,\n",
       "   0.3351637125015259,\n",
       "   0.3351637125015259,\n",
       "   0.3351637125015259,\n",
       "   0.3351637125015259,\n",
       "   0.3351637125015259,\n",
       "   0.3351637125015259,\n",
       "   0.3351637125015259,\n",
       "   0.3351637125015259,\n",
       "   0.3351637125015259,\n",
       "   0.3351637125015259,\n",
       "   0.3351637125015259,\n",
       "   0.3351637125015259,\n",
       "   0.3351637125015259,\n",
       "   0.3351637125015259,\n",
       "   0.3351637125015259,\n",
       "   0.3351637125015259,\n",
       "   0.3351637125015259,\n",
       "   0.3351637125015259,\n",
       "   0.3351637125015259,\n",
       "   0.3351637125015259,\n",
       "   0.3351637125015259,\n",
       "   0.3351637125015259,\n",
       "   0.3351637125015259,\n",
       "   0.3351637125015259,\n",
       "   0.3351637125015259,\n",
       "   0.3351637125015259,\n",
       "   0.3351637125015259,\n",
       "   0.3351637125015259,\n",
       "   0.3351637125015259,\n",
       "   0.3351637125015259,\n",
       "   0.3351637125015259,\n",
       "   0.3351637125015259,\n",
       "   0.3351637125015259,\n",
       "   0.3351637125015259,\n",
       "   0.3351637125015259,\n",
       "   0.3351637125015259,\n",
       "   0.3351637125015259,\n",
       "   0.3351637125015259,\n",
       "   0.3351637125015259,\n",
       "   0.3351637125015259,\n",
       "   0.3351637125015259,\n",
       "   0.3351637125015259,\n",
       "   0.3351637125015259,\n",
       "   0.3351637125015259,\n",
       "   0.3351637125015259,\n",
       "   0.3351637125015259,\n",
       "   0.3351637125015259,\n",
       "   0.3351637125015259,\n",
       "   0.3351637125015259,\n",
       "   0.3351637125015259,\n",
       "   0.3351637125015259,\n",
       "   0.3351637125015259,\n",
       "   0.3351637125015259,\n",
       "   0.3351637125015259,\n",
       "   0.3351637125015259,\n",
       "   0.3351637125015259,\n",
       "   0.3351637125015259,\n",
       "   0.3351637125015259,\n",
       "   0.3351637125015259,\n",
       "   0.3351637125015259,\n",
       "   0.3351637125015259,\n",
       "   0.3351637125015259,\n",
       "   0.3351637125015259,\n",
       "   0.3351637125015259,\n",
       "   0.3351637125015259,\n",
       "   0.3351637125015259,\n",
       "   0.3351637125015259,\n",
       "   0.3351637125015259,\n",
       "   0.3351637125015259,\n",
       "   0.3351637125015259,\n",
       "   0.3351637125015259,\n",
       "   0.3351637125015259,\n",
       "   0.3351637125015259,\n",
       "   0.3351637125015259,\n",
       "   0.3351637125015259,\n",
       "   0.3351637125015259,\n",
       "   0.3351637125015259,\n",
       "   0.3351637125015259,\n",
       "   0.3351637125015259,\n",
       "   0.3351637125015259,\n",
       "   0.3351637125015259,\n",
       "   0.3351637125015259,\n",
       "   0.3351637125015259,\n",
       "   0.3351637125015259,\n",
       "   0.3351637125015259]},\n",
       " {'settings': {'starting_lr': 0.1,\n",
       "   'lr_scheduler_dec_factor': 0.2,\n",
       "   'lr_scheduler_patience': 30,\n",
       "   'lr_scheduler_cooldown': 30,\n",
       "   'batch_size': 128,\n",
       "   'optimizer': 'adam',\n",
       "   'adam_weight_decay': 1e-06,\n",
       "   'momentum': 0.1,\n",
       "   'epochs': 150,\n",
       "   'loss_func': MSELoss()},\n",
       "  'model': GeneralLinearFullNet(\n",
       "    (layers): ModuleList(\n",
       "      (0): Linear(in_features=1, out_features=100, bias=True)\n",
       "      (1): GELU()\n",
       "      (2): Linear(in_features=100, out_features=1, bias=True)\n",
       "      (3): GELU()\n",
       "    )\n",
       "  ),\n",
       "  'score': None,\n",
       "  'val_loss_history': [0.3352227210998535,\n",
       "   0.33516401052474976,\n",
       "   0.3351637125015259,\n",
       "   0.3351637125015259,\n",
       "   0.3351637125015259,\n",
       "   0.3351637125015259,\n",
       "   0.3351637125015259,\n",
       "   0.3351637125015259,\n",
       "   0.3351637125015259,\n",
       "   0.3351637125015259,\n",
       "   0.3351637125015259,\n",
       "   0.3351637125015259,\n",
       "   0.3351637125015259,\n",
       "   0.3351637125015259,\n",
       "   0.3351637125015259,\n",
       "   0.3351637125015259,\n",
       "   0.3351637125015259,\n",
       "   0.3351637125015259,\n",
       "   0.3351637125015259,\n",
       "   0.3351637125015259,\n",
       "   0.3351637125015259,\n",
       "   0.3351637125015259,\n",
       "   0.3351637125015259,\n",
       "   0.3351637125015259,\n",
       "   0.3351637125015259,\n",
       "   0.3351637125015259,\n",
       "   0.3351637125015259,\n",
       "   0.3351637125015259,\n",
       "   0.3351637125015259,\n",
       "   0.3351637125015259,\n",
       "   0.3351637125015259,\n",
       "   0.3351637125015259,\n",
       "   0.3351637125015259,\n",
       "   0.3351637125015259,\n",
       "   0.3351637125015259,\n",
       "   0.3351637125015259,\n",
       "   0.3351637125015259,\n",
       "   0.3351637125015259,\n",
       "   0.3351637125015259,\n",
       "   0.3351637125015259,\n",
       "   0.3351637125015259,\n",
       "   0.3351637125015259,\n",
       "   0.3351637125015259,\n",
       "   0.3351637125015259,\n",
       "   0.3351637125015259,\n",
       "   0.3351637125015259,\n",
       "   0.3351637125015259,\n",
       "   0.3351637125015259,\n",
       "   0.3351637125015259,\n",
       "   0.3351637125015259,\n",
       "   0.3351637125015259,\n",
       "   0.3351637125015259,\n",
       "   0.3351637125015259,\n",
       "   0.3351637125015259,\n",
       "   0.3351637125015259,\n",
       "   0.3351637125015259,\n",
       "   0.3351637125015259,\n",
       "   0.3351637125015259,\n",
       "   0.3351637125015259,\n",
       "   0.3351637125015259,\n",
       "   0.3351637125015259,\n",
       "   0.3351637125015259,\n",
       "   0.3351637125015259,\n",
       "   0.3351637125015259,\n",
       "   0.3351637125015259,\n",
       "   0.3351637125015259,\n",
       "   0.3351637125015259,\n",
       "   0.3351637125015259,\n",
       "   0.3351637125015259,\n",
       "   0.3351637125015259,\n",
       "   0.3351637125015259,\n",
       "   0.3351637125015259,\n",
       "   0.3351637125015259,\n",
       "   0.3351637125015259,\n",
       "   0.3351637125015259,\n",
       "   0.3351637125015259,\n",
       "   0.3351637125015259,\n",
       "   0.3351637125015259,\n",
       "   0.3351637125015259,\n",
       "   0.3351637125015259,\n",
       "   0.3351637125015259,\n",
       "   0.3351637125015259,\n",
       "   0.3351637125015259,\n",
       "   0.3351637125015259,\n",
       "   0.3351637125015259,\n",
       "   0.3351637125015259,\n",
       "   0.3351637125015259,\n",
       "   0.3351637125015259,\n",
       "   0.3351637125015259,\n",
       "   0.3351637125015259,\n",
       "   0.3351637125015259,\n",
       "   0.3351637125015259,\n",
       "   0.3351637125015259,\n",
       "   0.3351637125015259,\n",
       "   0.3351637125015259,\n",
       "   0.3351637125015259,\n",
       "   0.3351637125015259,\n",
       "   0.3351637125015259,\n",
       "   0.3351637125015259,\n",
       "   0.3351637125015259,\n",
       "   0.3351637125015259,\n",
       "   0.3351637125015259,\n",
       "   0.3351637125015259,\n",
       "   0.3351637125015259,\n",
       "   0.3351637125015259,\n",
       "   0.3351637125015259,\n",
       "   0.3351637125015259,\n",
       "   0.3351637125015259,\n",
       "   0.3351637125015259,\n",
       "   0.3351637125015259,\n",
       "   0.3351637125015259,\n",
       "   0.3351637125015259,\n",
       "   0.3351637125015259,\n",
       "   0.3351637125015259,\n",
       "   0.3351637125015259,\n",
       "   0.3351637125015259,\n",
       "   0.3351637125015259,\n",
       "   0.3351637125015259,\n",
       "   0.3351637125015259,\n",
       "   0.3351637125015259,\n",
       "   0.3351637125015259,\n",
       "   0.3351637125015259,\n",
       "   0.3351637125015259,\n",
       "   0.3351637125015259,\n",
       "   0.3351637125015259,\n",
       "   0.3351637125015259,\n",
       "   0.3351637125015259,\n",
       "   0.3351637125015259,\n",
       "   0.3351637125015259,\n",
       "   0.3351637125015259,\n",
       "   0.3351637125015259,\n",
       "   0.3351637125015259,\n",
       "   0.3351637125015259,\n",
       "   0.3351637125015259,\n",
       "   0.3351637125015259,\n",
       "   0.3351637125015259,\n",
       "   0.3351637125015259,\n",
       "   0.3351637125015259,\n",
       "   0.3351637125015259,\n",
       "   0.3351637125015259,\n",
       "   0.3351637125015259,\n",
       "   0.3351637125015259,\n",
       "   0.3351637125015259,\n",
       "   0.3351637125015259,\n",
       "   0.3351637125015259,\n",
       "   0.3351637125015259,\n",
       "   0.3351637125015259,\n",
       "   0.3351637125015259,\n",
       "   0.3351637125015259,\n",
       "   0.3351637125015259]},\n",
       " {'settings': {'starting_lr': 0.1,\n",
       "   'lr_scheduler_dec_factor': 0.2,\n",
       "   'lr_scheduler_patience': 30,\n",
       "   'lr_scheduler_cooldown': 30,\n",
       "   'batch_size': 128,\n",
       "   'optimizer': 'adam',\n",
       "   'adam_weight_decay': 1e-06,\n",
       "   'momentum': 0.01,\n",
       "   'epochs': 150,\n",
       "   'loss_func': MSELoss()},\n",
       "  'model': GeneralLinearFullNet(\n",
       "    (layers): ModuleList(\n",
       "      (0): Linear(in_features=1, out_features=100, bias=True)\n",
       "      (1): GELU()\n",
       "      (2): Linear(in_features=100, out_features=1, bias=True)\n",
       "      (3): GELU()\n",
       "    )\n",
       "  ),\n",
       "  'score': None,\n",
       "  'val_loss_history': [0.335318386554718,\n",
       "   0.335178017616272,\n",
       "   0.3351728618144989,\n",
       "   0.3351704180240631,\n",
       "   0.33516862988471985,\n",
       "   0.33516743779182434,\n",
       "   0.33516666293144226,\n",
       "   0.3351661264896393,\n",
       "   0.33516576886177063,\n",
       "   0.33516544103622437,\n",
       "   0.33516523241996765,\n",
       "   0.3351650536060333,\n",
       "   0.335164874792099,\n",
       "   0.33516478538513184,\n",
       "   0.3351646661758423,\n",
       "   0.3351645767688751,\n",
       "   0.33516448736190796,\n",
       "   0.33516445755958557,\n",
       "   0.3351643681526184,\n",
       "   0.335164338350296,\n",
       "   0.335164338350296,\n",
       "   0.33516424894332886,\n",
       "   0.33516421914100647,\n",
       "   0.3351641893386841,\n",
       "   0.3351641297340393,\n",
       "   0.3351641297340393,\n",
       "   0.3351641297340393,\n",
       "   0.3351640999317169,\n",
       "   0.3351640999317169,\n",
       "   0.3351640999317169,\n",
       "   0.33516407012939453,\n",
       "   0.33516407012939453,\n",
       "   0.33516401052474976,\n",
       "   0.33516401052474976,\n",
       "   0.33516401052474976,\n",
       "   0.33516401052474976,\n",
       "   0.33516401052474976,\n",
       "   0.33516401052474976,\n",
       "   0.33516401052474976,\n",
       "   0.33516401052474976,\n",
       "   0.33516401052474976,\n",
       "   0.33516401052474976,\n",
       "   0.33516401052474976,\n",
       "   0.33516401052474976,\n",
       "   0.33516401052474976,\n",
       "   0.33516398072242737,\n",
       "   0.33516398072242737,\n",
       "   0.33516398072242737,\n",
       "   0.33516398072242737,\n",
       "   0.33516398072242737,\n",
       "   0.33516398072242737,\n",
       "   0.33516398072242737,\n",
       "   0.33516398072242737,\n",
       "   0.335163950920105,\n",
       "   0.335163950920105,\n",
       "   0.335163950920105,\n",
       "   0.335163950920105,\n",
       "   0.335163950920105,\n",
       "   0.335163950920105,\n",
       "   0.335163950920105,\n",
       "   0.335163950920105,\n",
       "   0.335163950920105,\n",
       "   0.335163950920105,\n",
       "   0.335163950920105,\n",
       "   0.335163950920105,\n",
       "   0.335163950920105,\n",
       "   0.335163950920105,\n",
       "   0.335163950920105,\n",
       "   0.335163950920105,\n",
       "   0.335163950920105,\n",
       "   0.335163950920105,\n",
       "   0.335163950920105,\n",
       "   0.335163950920105,\n",
       "   0.335163950920105,\n",
       "   0.335163950920105,\n",
       "   0.3351639211177826,\n",
       "   0.3351639211177826,\n",
       "   0.3351639211177826,\n",
       "   0.3351639211177826,\n",
       "   0.3351639211177826,\n",
       "   0.3351639211177826,\n",
       "   0.3351639211177826,\n",
       "   0.3351639211177826,\n",
       "   0.3351639211177826,\n",
       "   0.3351639211177826,\n",
       "   0.3351639211177826,\n",
       "   0.3351639211177826,\n",
       "   0.3351639211177826,\n",
       "   0.3351639211177826,\n",
       "   0.3351639211177826,\n",
       "   0.3351639211177826,\n",
       "   0.3351639211177826,\n",
       "   0.3351639211177826,\n",
       "   0.3351638913154602,\n",
       "   0.3351638913154602,\n",
       "   0.3351638913154602,\n",
       "   0.3351638913154602,\n",
       "   0.3351638913154602,\n",
       "   0.3351638913154602,\n",
       "   0.3351638913154602,\n",
       "   0.3351638913154602,\n",
       "   0.3351638913154602,\n",
       "   0.3351638913154602,\n",
       "   0.3351638913154602,\n",
       "   0.3351638913154602,\n",
       "   0.3351638913154602,\n",
       "   0.3351638913154602,\n",
       "   0.3351638913154602,\n",
       "   0.3351638913154602,\n",
       "   0.3351638913154602,\n",
       "   0.3351638913154602,\n",
       "   0.3351638913154602,\n",
       "   0.3351638913154602,\n",
       "   0.3351638913154602,\n",
       "   0.3351638913154602,\n",
       "   0.3351638913154602,\n",
       "   0.3351638913154602,\n",
       "   0.3351638913154602,\n",
       "   0.3351638913154602,\n",
       "   0.3351638913154602,\n",
       "   0.3351638913154602,\n",
       "   0.3351638913154602,\n",
       "   0.3351638913154602,\n",
       "   0.3351638913154602,\n",
       "   0.3351638913154602,\n",
       "   0.3351638913154602,\n",
       "   0.3351638913154602,\n",
       "   0.3351638913154602,\n",
       "   0.3351638913154602,\n",
       "   0.3351638913154602,\n",
       "   0.3351638913154602,\n",
       "   0.3351638913154602,\n",
       "   0.3351638913154602,\n",
       "   0.3351638913154602,\n",
       "   0.3351638913154602,\n",
       "   0.3351638913154602,\n",
       "   0.3351638913154602,\n",
       "   0.3351638913154602,\n",
       "   0.3351638913154602,\n",
       "   0.3351638913154602,\n",
       "   0.3351638913154602,\n",
       "   0.3351638913154602,\n",
       "   0.3351638913154602,\n",
       "   0.3351638913154602,\n",
       "   0.3351638913154602,\n",
       "   0.3351638913154602,\n",
       "   0.3351638913154602,\n",
       "   0.3351638913154602,\n",
       "   0.3351638913154602,\n",
       "   0.3351638913154602]},\n",
       " {'settings': {'starting_lr': 0.1,\n",
       "   'lr_scheduler_dec_factor': 0.2,\n",
       "   'lr_scheduler_patience': 30,\n",
       "   'lr_scheduler_cooldown': 30,\n",
       "   'batch_size': 128,\n",
       "   'optimizer': 'adam',\n",
       "   'adam_weight_decay': 1e-06,\n",
       "   'momentum': 0.0001,\n",
       "   'epochs': 150,\n",
       "   'loss_func': MSELoss()},\n",
       "  'model': GeneralLinearFullNet(\n",
       "    (layers): ModuleList(\n",
       "      (0): Linear(in_features=1, out_features=100, bias=True)\n",
       "      (1): GELU()\n",
       "      (2): Linear(in_features=100, out_features=1, bias=True)\n",
       "      (3): GELU()\n",
       "    )\n",
       "  ),\n",
       "  'score': None,\n",
       "  'val_loss_history': [0.3356543481349945,\n",
       "   0.335170716047287,\n",
       "   0.3351653814315796,\n",
       "   0.33516472578048706,\n",
       "   0.33516454696655273,\n",
       "   0.3351644277572632,\n",
       "   0.3351643979549408,\n",
       "   0.3351643979549408,\n",
       "   0.3351643979549408,\n",
       "   0.3351643681526184,\n",
       "   0.335164338350296,\n",
       "   0.33516430854797363,\n",
       "   0.33516430854797363,\n",
       "   0.33516427874565125,\n",
       "   0.33516424894332886,\n",
       "   0.33516424894332886,\n",
       "   0.33516421914100647,\n",
       "   0.33516421914100647,\n",
       "   0.3351641893386841,\n",
       "   0.3351641893386841,\n",
       "   0.3351641893386841,\n",
       "   0.3351641595363617,\n",
       "   0.3351641595363617,\n",
       "   0.3351641297340393,\n",
       "   0.3351641297340393,\n",
       "   0.3351641297340393,\n",
       "   0.3351641297340393,\n",
       "   0.3351641297340393,\n",
       "   0.33516407012939453,\n",
       "   0.33516407012939453,\n",
       "   0.33516407012939453,\n",
       "   0.33516407012939453,\n",
       "   0.33516407012939453,\n",
       "   0.33516407012939453,\n",
       "   0.33516407012939453,\n",
       "   0.33516407012939453,\n",
       "   0.33516407012939453,\n",
       "   0.33516407012939453,\n",
       "   0.33516407012939453,\n",
       "   0.33516401052474976,\n",
       "   0.33516401052474976,\n",
       "   0.33516401052474976,\n",
       "   0.33516401052474976,\n",
       "   0.33516401052474976,\n",
       "   0.33516401052474976,\n",
       "   0.33516401052474976,\n",
       "   0.33516401052474976,\n",
       "   0.33516401052474976,\n",
       "   0.33516401052474976,\n",
       "   0.33516401052474976,\n",
       "   0.33516401052474976,\n",
       "   0.33516401052474976,\n",
       "   0.33516401052474976,\n",
       "   0.33516401052474976,\n",
       "   0.33516401052474976,\n",
       "   0.33516401052474976,\n",
       "   0.33516401052474976,\n",
       "   0.33516401052474976,\n",
       "   0.33516401052474976,\n",
       "   0.33516401052474976,\n",
       "   0.33516401052474976,\n",
       "   0.33516401052474976,\n",
       "   0.33516401052474976,\n",
       "   0.33516401052474976,\n",
       "   0.33516398072242737,\n",
       "   0.33516398072242737,\n",
       "   0.33516398072242737,\n",
       "   0.33516398072242737,\n",
       "   0.33516398072242737,\n",
       "   0.33516398072242737,\n",
       "   0.33516398072242737,\n",
       "   0.33516398072242737,\n",
       "   0.33516398072242737,\n",
       "   0.33516398072242737,\n",
       "   0.33516398072242737,\n",
       "   0.33516398072242737,\n",
       "   0.33516398072242737,\n",
       "   0.33516398072242737,\n",
       "   0.33516398072242737,\n",
       "   0.33516398072242737,\n",
       "   0.33516398072242737,\n",
       "   0.335163950920105,\n",
       "   0.335163950920105,\n",
       "   0.335163950920105,\n",
       "   0.335163950920105,\n",
       "   0.335163950920105,\n",
       "   0.335163950920105,\n",
       "   0.335163950920105,\n",
       "   0.335163950920105,\n",
       "   0.335163950920105,\n",
       "   0.335163950920105,\n",
       "   0.335163950920105,\n",
       "   0.335163950920105,\n",
       "   0.335163950920105,\n",
       "   0.335163950920105,\n",
       "   0.335163950920105,\n",
       "   0.335163950920105,\n",
       "   0.335163950920105,\n",
       "   0.335163950920105,\n",
       "   0.335163950920105,\n",
       "   0.335163950920105,\n",
       "   0.335163950920105,\n",
       "   0.335163950920105,\n",
       "   0.335163950920105,\n",
       "   0.335163950920105,\n",
       "   0.335163950920105,\n",
       "   0.335163950920105,\n",
       "   0.335163950920105,\n",
       "   0.3351639211177826,\n",
       "   0.3351639211177826,\n",
       "   0.3351639211177826,\n",
       "   0.3351639211177826,\n",
       "   0.3351639211177826,\n",
       "   0.3351639211177826,\n",
       "   0.3351639211177826,\n",
       "   0.3351639211177826,\n",
       "   0.3351639211177826,\n",
       "   0.3351639211177826,\n",
       "   0.3351639211177826,\n",
       "   0.3351639211177826,\n",
       "   0.3351639211177826,\n",
       "   0.3351639211177826,\n",
       "   0.3351639211177826,\n",
       "   0.3351639211177826,\n",
       "   0.3351639211177826,\n",
       "   0.3351639211177826,\n",
       "   0.3351639211177826,\n",
       "   0.3351639211177826,\n",
       "   0.3351639211177826,\n",
       "   0.3351639211177826,\n",
       "   0.3351639211177826,\n",
       "   0.3351639211177826,\n",
       "   0.3351639211177826,\n",
       "   0.3351639211177826,\n",
       "   0.3351639211177826,\n",
       "   0.3351639211177826,\n",
       "   0.3351639211177826,\n",
       "   0.3351639211177826,\n",
       "   0.3351639211177826,\n",
       "   0.3351639211177826,\n",
       "   0.3351639211177826,\n",
       "   0.3351639211177826,\n",
       "   0.3351639211177826,\n",
       "   0.3351639211177826,\n",
       "   0.3351639211177826,\n",
       "   0.3351639211177826,\n",
       "   0.3351639211177826,\n",
       "   0.3351639211177826,\n",
       "   0.3351639211177826,\n",
       "   0.3351639211177826]},\n",
       " {'settings': {'starting_lr': 0.1,\n",
       "   'lr_scheduler_dec_factor': 0.2,\n",
       "   'lr_scheduler_patience': 30,\n",
       "   'lr_scheduler_cooldown': 30,\n",
       "   'batch_size': 32,\n",
       "   'optimizer': 'sgd',\n",
       "   'adam_weight_decay': 1e-06,\n",
       "   'momentum': 0.01,\n",
       "   'epochs': 150,\n",
       "   'loss_func': MSELoss()},\n",
       "  'model': GeneralLinearFullNet(\n",
       "    (layers): ModuleList(\n",
       "      (0): Linear(in_features=1, out_features=100, bias=True)\n",
       "      (1): GELU()\n",
       "      (2): Linear(in_features=100, out_features=1, bias=True)\n",
       "      (3): GELU()\n",
       "    )\n",
       "  ),\n",
       "  'score': None,\n",
       "  'val_loss_history': [0.33671313524246216,\n",
       "   0.33575141429901123,\n",
       "   0.33551380038261414,\n",
       "   0.3354092538356781,\n",
       "   0.33535119891166687,\n",
       "   0.33531454205513,\n",
       "   0.3352894186973572,\n",
       "   0.3352711796760559,\n",
       "   0.3352573812007904,\n",
       "   0.33524659276008606,\n",
       "   0.33523792028427124,\n",
       "   0.33523082733154297,\n",
       "   0.3352249264717102,\n",
       "   0.3352199196815491,\n",
       "   0.33521565794944763,\n",
       "   0.3352119028568268,\n",
       "   0.3352087438106537,\n",
       "   0.33520588278770447,\n",
       "   0.3352033793926239,\n",
       "   0.3352011442184448,\n",
       "   0.33519911766052246,\n",
       "   0.3351972699165344,\n",
       "   0.3351956605911255,\n",
       "   0.33519411087036133,\n",
       "   0.3351927697658539,\n",
       "   0.3351914882659912,\n",
       "   0.3351902961730957,\n",
       "   0.3351892828941345,\n",
       "   0.3351882994174957,\n",
       "   0.3351873457431793,\n",
       "   0.3351864814758301,\n",
       "   0.3351856768131256,\n",
       "   0.3351849615573883,\n",
       "   0.335184246301651,\n",
       "   0.33518359065055847,\n",
       "   0.33518296480178833,\n",
       "   0.3351823687553406,\n",
       "   0.3351818323135376,\n",
       "   0.3351812958717346,\n",
       "   0.33518078923225403,\n",
       "   0.3351803719997406,\n",
       "   0.3351798951625824,\n",
       "   0.33517950773239136,\n",
       "   0.33517909049987793,\n",
       "   0.3351786434650421,\n",
       "   0.33517834544181824,\n",
       "   0.335178017616272,\n",
       "   0.33517760038375854,\n",
       "   0.33517733216285706,\n",
       "   0.3351770341396332,\n",
       "   0.3351767361164093,\n",
       "   0.3351764380931854,\n",
       "   0.3351761996746063,\n",
       "   0.33517614006996155,\n",
       "   0.3351760804653168,\n",
       "   0.335176020860672,\n",
       "   0.3351759910583496,\n",
       "   0.33517593145370483,\n",
       "   0.33517590165138245,\n",
       "   0.33517584204673767,\n",
       "   0.3351757824420929,\n",
       "   0.3351757526397705,\n",
       "   0.33517566323280334,\n",
       "   0.33517566323280334,\n",
       "   0.33517560362815857,\n",
       "   0.3351755440235138,\n",
       "   0.3351755142211914,\n",
       "   0.33517545461654663,\n",
       "   0.33517542481422424,\n",
       "   0.33517536520957947,\n",
       "   0.3351753056049347,\n",
       "   0.3351752758026123,\n",
       "   0.3351752460002899,\n",
       "   0.33517515659332275,\n",
       "   0.33517512679100037,\n",
       "   0.335175096988678,\n",
       "   0.3351750075817108,\n",
       "   0.3351750075817108,\n",
       "   0.33517494797706604,\n",
       "   0.33517491817474365,\n",
       "   0.3351748585700989,\n",
       "   0.3351747989654541,\n",
       "   0.3351747691631317,\n",
       "   0.33517470955848694,\n",
       "   0.33517467975616455,\n",
       "   0.33517467975616455,\n",
       "   0.3351746201515198,\n",
       "   0.3351746201515198,\n",
       "   0.335174560546875,\n",
       "   0.33517447113990784,\n",
       "   0.33517447113990784,\n",
       "   0.33517441153526306,\n",
       "   0.3351743817329407,\n",
       "   0.3351743817329407,\n",
       "   0.3351743221282959,\n",
       "   0.3351742625236511,\n",
       "   0.33517423272132874,\n",
       "   0.33517417311668396,\n",
       "   0.33517417311668396,\n",
       "   0.3351741433143616,\n",
       "   0.3351741135120392,\n",
       "   0.3351740539073944,\n",
       "   0.33517399430274963,\n",
       "   0.33517399430274963,\n",
       "   0.33517390489578247,\n",
       "   0.33517390489578247,\n",
       "   0.3351738452911377,\n",
       "   0.3351738154888153,\n",
       "   0.33517375588417053,\n",
       "   0.33517375588417053,\n",
       "   0.33517369627952576,\n",
       "   0.33517366647720337,\n",
       "   0.335173636674881,\n",
       "   0.3351736068725586,\n",
       "   0.3351736068725586,\n",
       "   0.3351736068725586,\n",
       "   0.3351736068725586,\n",
       "   0.3351736068725586,\n",
       "   0.3351736068725586,\n",
       "   0.3351736068725586,\n",
       "   0.3351735770702362,\n",
       "   0.3351735770702362,\n",
       "   0.3351735770702362,\n",
       "   0.3351735472679138,\n",
       "   0.3351735472679138,\n",
       "   0.33517351746559143,\n",
       "   0.33517351746559143,\n",
       "   0.33517351746559143,\n",
       "   0.33517351746559143,\n",
       "   0.33517351746559143,\n",
       "   0.33517351746559143,\n",
       "   0.33517348766326904,\n",
       "   0.33517348766326904,\n",
       "   0.33517348766326904,\n",
       "   0.33517348766326904,\n",
       "   0.33517345786094666,\n",
       "   0.33517342805862427,\n",
       "   0.33517342805862427,\n",
       "   0.33517342805862427,\n",
       "   0.33517342805862427,\n",
       "   0.33517342805862427,\n",
       "   0.33517342805862427,\n",
       "   0.33517342805862427,\n",
       "   0.33517342805862427,\n",
       "   0.3351733982563019,\n",
       "   0.3351733982563019,\n",
       "   0.3351733982563019,\n",
       "   0.3351733982563019,\n",
       "   0.3351733982563019,\n",
       "   0.3351733982563019]},\n",
       " {'settings': {'starting_lr': 0.1,\n",
       "   'lr_scheduler_dec_factor': 0.2,\n",
       "   'lr_scheduler_patience': 30,\n",
       "   'lr_scheduler_cooldown': 30,\n",
       "   'batch_size': 32,\n",
       "   'optimizer': 'sgd',\n",
       "   'adam_weight_decay': 1e-06,\n",
       "   'momentum': 0.1,\n",
       "   'epochs': 150,\n",
       "   'loss_func': MSELoss()},\n",
       "  'model': GeneralLinearFullNet(\n",
       "    (layers): ModuleList(\n",
       "      (0): Linear(in_features=1, out_features=100, bias=True)\n",
       "      (1): GELU()\n",
       "      (2): Linear(in_features=100, out_features=1, bias=True)\n",
       "      (3): GELU()\n",
       "    )\n",
       "  ),\n",
       "  'score': None,\n",
       "  'val_loss_history': [0.33657634258270264,\n",
       "   0.3357451260089874,\n",
       "   0.3355187475681305,\n",
       "   0.335415780544281,\n",
       "   0.33535757660865784,\n",
       "   0.33532044291496277,\n",
       "   0.33529481291770935,\n",
       "   0.3352760970592499,\n",
       "   0.33526182174682617,\n",
       "   0.3352506458759308,\n",
       "   0.3352417051792145,\n",
       "   0.33523428440093994,\n",
       "   0.3352281153202057,\n",
       "   0.33522292971611023,\n",
       "   0.3352184593677521,\n",
       "   0.3352145552635193,\n",
       "   0.3352111876010895,\n",
       "   0.3352082371711731,\n",
       "   0.3352055847644806,\n",
       "   0.33520326018333435,\n",
       "   0.33520111441612244,\n",
       "   0.3351992070674896,\n",
       "   0.33519744873046875,\n",
       "   0.3351958990097046,\n",
       "   0.3351944386959076,\n",
       "   0.33519312739372253,\n",
       "   0.33519187569618225,\n",
       "   0.3351908028125763,\n",
       "   0.33518972992897034,\n",
       "   0.33518874645233154,\n",
       "   0.3351878225803375,\n",
       "   0.33518701791763306,\n",
       "   0.3351862132549286,\n",
       "   0.3351854979991913,\n",
       "   0.335184782743454,\n",
       "   0.33518415689468384,\n",
       "   0.3351835012435913,\n",
       "   0.33518290519714355,\n",
       "   0.3351823687553406,\n",
       "   0.3351818323135376,\n",
       "   0.335181325674057,\n",
       "   0.3351808786392212,\n",
       "   0.3351804316043854,\n",
       "   0.33518001437187195,\n",
       "   0.3351796269416809,\n",
       "   0.33517923951148987,\n",
       "   0.33517882227897644,\n",
       "   0.3351784944534302,\n",
       "   0.3351781964302063,\n",
       "   0.33517786860466003,\n",
       "   0.33517780900001526,\n",
       "   0.3351776897907257,\n",
       "   0.3351776599884033,\n",
       "   0.33517757058143616,\n",
       "   0.33517754077911377,\n",
       "   0.3351774513721466,\n",
       "   0.3351774215698242,\n",
       "   0.33517733216285706,\n",
       "   0.33517730236053467,\n",
       "   0.3351772129535675,\n",
       "   0.33517715334892273,\n",
       "   0.33517712354660034,\n",
       "   0.33517709374427795,\n",
       "   0.3351770043373108,\n",
       "   0.335176944732666,\n",
       "   0.33517688512802124,\n",
       "   0.33517685532569885,\n",
       "   0.3351767659187317,\n",
       "   0.3351767659187317,\n",
       "   0.3351766765117645,\n",
       "   0.33517664670944214,\n",
       "   0.33517658710479736,\n",
       "   0.335176557302475,\n",
       "   0.3351764380931854,\n",
       "   0.33517640829086304,\n",
       "   0.33517634868621826,\n",
       "   0.3351763188838959,\n",
       "   0.3351762592792511,\n",
       "   0.3351761996746063,\n",
       "   0.33517616987228394,\n",
       "   0.3351760804653168,\n",
       "   0.3351760506629944,\n",
       "   0.335176020860672,\n",
       "   0.3351759612560272,\n",
       "   0.33517593145370483,\n",
       "   0.33517587184906006,\n",
       "   0.33517584204673767,\n",
       "   0.3351757824420929,\n",
       "   0.3351757526397705,\n",
       "   0.3351757228374481,\n",
       "   0.33517566323280334,\n",
       "   0.33517560362815857,\n",
       "   0.3351755440235138,\n",
       "   0.3351755440235138,\n",
       "   0.335175484418869,\n",
       "   0.33517542481422424,\n",
       "   0.33517539501190186,\n",
       "   0.3351753354072571,\n",
       "   0.3351752758026123,\n",
       "   0.3351752758026123,\n",
       "   0.3351752460002899,\n",
       "   0.33517515659332275,\n",
       "   0.335175096988678,\n",
       "   0.3351750373840332,\n",
       "   0.3351750373840332,\n",
       "   0.3351749777793884,\n",
       "   0.3351749777793884,\n",
       "   0.33517491817474365,\n",
       "   0.3351748585700989,\n",
       "   0.3351748287677765,\n",
       "   0.3351747989654541,\n",
       "   0.3351747691631317,\n",
       "   0.3351747393608093,\n",
       "   0.3351747393608093,\n",
       "   0.3351747393608093,\n",
       "   0.3351747393608093,\n",
       "   0.3351747393608093,\n",
       "   0.3351747393608093,\n",
       "   0.33517470955848694,\n",
       "   0.33517470955848694,\n",
       "   0.33517470955848694,\n",
       "   0.33517470955848694,\n",
       "   0.33517470955848694,\n",
       "   0.33517467975616455,\n",
       "   0.33517467975616455,\n",
       "   0.33517467975616455,\n",
       "   0.33517467975616455,\n",
       "   0.33517467975616455,\n",
       "   0.33517467975616455,\n",
       "   0.33517467975616455,\n",
       "   0.3351746201515198,\n",
       "   0.3351746201515198,\n",
       "   0.3351746201515198,\n",
       "   0.3351746201515198,\n",
       "   0.3351746201515198,\n",
       "   0.3351746201515198,\n",
       "   0.3351746201515198,\n",
       "   0.3351745903491974,\n",
       "   0.335174560546875,\n",
       "   0.335174560546875,\n",
       "   0.335174560546875,\n",
       "   0.335174560546875,\n",
       "   0.335174560546875,\n",
       "   0.335174560546875,\n",
       "   0.335174560546875,\n",
       "   0.3351745009422302,\n",
       "   0.3351745009422302,\n",
       "   0.3351745009422302,\n",
       "   0.3351745009422302,\n",
       "   0.3351745009422302]}]"
      ]
     },
     "execution_count": 440,
     "metadata": {},
     "output_type": "execute_result"
    }
   ],
   "source": [
    "results"
   ]
  },
  {
   "cell_type": "code",
   "execution_count": 392,
   "id": "511d9e75-ba4c-49f8-a409-2f64b5eee7c9",
   "metadata": {},
   "outputs": [
    {
     "data": {
      "application/vnd.jupyter.widget-view+json": {
       "model_id": "13a4b736f19b41c4b69f7f4d7032a235",
       "version_major": 2,
       "version_minor": 0
      },
      "text/plain": [
       "  0%|          | 0/8 [00:00<?, ?it/s]"
      ]
     },
     "metadata": {},
     "output_type": "display_data"
    },
    {
     "data": {
      "application/vnd.jupyter.widget-view+json": {
       "model_id": "b447af6b10c3403eb921c68c3bc2be28",
       "version_major": 2,
       "version_minor": 0
      },
      "text/plain": [
       "  0%|          | 0/500 [00:00<?, ?it/s]"
      ]
     },
     "metadata": {},
     "output_type": "display_data"
    },
    {
     "data": {
      "application/vnd.jupyter.widget-view+json": {
       "model_id": "ec008f7325e542deb8d4233534a15136",
       "version_major": 2,
       "version_minor": 0
      },
      "text/plain": [
       "  0%|          | 0/500 [00:00<?, ?it/s]"
      ]
     },
     "metadata": {},
     "output_type": "display_data"
    },
    {
     "data": {
      "application/vnd.jupyter.widget-view+json": {
       "model_id": "92726a5167aa4233bf123a257b9f73b1",
       "version_major": 2,
       "version_minor": 0
      },
      "text/plain": [
       "  0%|          | 0/500 [00:00<?, ?it/s]"
      ]
     },
     "metadata": {},
     "output_type": "display_data"
    },
    {
     "data": {
      "application/vnd.jupyter.widget-view+json": {
       "model_id": "7f55d2f59ed64c23a171fc11d767aa0a",
       "version_major": 2,
       "version_minor": 0
      },
      "text/plain": [
       "  0%|          | 0/500 [00:00<?, ?it/s]"
      ]
     },
     "metadata": {},
     "output_type": "display_data"
    },
    {
     "data": {
      "application/vnd.jupyter.widget-view+json": {
       "model_id": "61bd1048f9c14ceb926fd5cd386c8019",
       "version_major": 2,
       "version_minor": 0
      },
      "text/plain": [
       "  0%|          | 0/500 [00:00<?, ?it/s]"
      ]
     },
     "metadata": {},
     "output_type": "display_data"
    },
    {
     "data": {
      "application/vnd.jupyter.widget-view+json": {
       "model_id": "86c53c26aa334b5598e4fc53cf901529",
       "version_major": 2,
       "version_minor": 0
      },
      "text/plain": [
       "  0%|          | 0/500 [00:00<?, ?it/s]"
      ]
     },
     "metadata": {},
     "output_type": "display_data"
    },
    {
     "data": {
      "application/vnd.jupyter.widget-view+json": {
       "model_id": "5cfb353c5daf415c9081a24aaa21e712",
       "version_major": 2,
       "version_minor": 0
      },
      "text/plain": [
       "  0%|          | 0/500 [00:00<?, ?it/s]"
      ]
     },
     "metadata": {},
     "output_type": "display_data"
    },
    {
     "data": {
      "application/vnd.jupyter.widget-view+json": {
       "model_id": "3a40e27a3a2a497e88e2b15541a49bc4",
       "version_major": 2,
       "version_minor": 0
      },
      "text/plain": [
       "  0%|          | 0/500 [00:00<?, ?it/s]"
      ]
     },
     "metadata": {},
     "output_type": "display_data"
    },
    {
     "data": {
      "image/png": "[encoded data removed]",
      "text/plain": [
       "<Figure size 432x288 with 1 Axes>"
      ]
     },
     "metadata": {
      "needs_background": "light"
     },
     "output_type": "display_data"
    },
    {
     "data": {
      "image/png": "[encoded data removed]",
      "text/plain": [
       "<Figure size 432x288 with 1 Axes>"
      ]
     },
     "metadata": {
      "needs_background": "light"
     },
     "output_type": "display_data"
    }
   ],
   "source": [
    "results = hpsearch(\n",
    "    params,\n",
    "    lambda : GeneralLinearFullNet(1, 1, [6, 6, 6, 6], t.nn.GELU, True),\n",
    "    training_data = tdata,\n",
    "    verbose = True\n",
    ")\n",
    "plt.show()\n",
    "plt.plot(xs, ys)\n",
    "for r in results:\n",
    "    plt.plot(xs, r['model'](xs).detach().clone())"
   ]
  },
  {
   "cell_type": "code",
   "execution_count": 393,
   "id": "47a9e52e-b304-4e5c-b92f-188f3ce60f8a",
   "metadata": {},
   "outputs": [
    {
     "data": {
      "application/vnd.jupyter.widget-view+json": {
       "model_id": "669253d7827f4fa6983019ff2e10d608",
       "version_major": 2,
       "version_minor": 0
      },
      "text/plain": [
       "  0%|          | 0/8 [00:00<?, ?it/s]"
      ]
     },
     "metadata": {},
     "output_type": "display_data"
    },
    {
     "data": {
      "application/vnd.jupyter.widget-view+json": {
       "model_id": "313f1f079f27457d8abceec346e0feb6",
       "version_major": 2,
       "version_minor": 0
      },
      "text/plain": [
       "  0%|          | 0/500 [00:00<?, ?it/s]"
      ]
     },
     "metadata": {},
     "output_type": "display_data"
    },
    {
     "data": {
      "application/vnd.jupyter.widget-view+json": {
       "model_id": "631176dd390046ce9532349931c96cc5",
       "version_major": 2,
       "version_minor": 0
      },
      "text/plain": [
       "  0%|          | 0/500 [00:00<?, ?it/s]"
      ]
     },
     "metadata": {},
     "output_type": "display_data"
    },
    {
     "data": {
      "application/vnd.jupyter.widget-view+json": {
       "model_id": "553408dfe15f428e91be46d2cb2b11bc",
       "version_major": 2,
       "version_minor": 0
      },
      "text/plain": [
       "  0%|          | 0/500 [00:00<?, ?it/s]"
      ]
     },
     "metadata": {},
     "output_type": "display_data"
    },
    {
     "data": {
      "application/vnd.jupyter.widget-view+json": {
       "model_id": "8feb2d6c6b5349e29653f462f146045d",
       "version_major": 2,
       "version_minor": 0
      },
      "text/plain": [
       "  0%|          | 0/500 [00:00<?, ?it/s]"
      ]
     },
     "metadata": {},
     "output_type": "display_data"
    },
    {
     "data": {
      "application/vnd.jupyter.widget-view+json": {
       "model_id": "e817781e866a4c40bdebecab04fdb033",
       "version_major": 2,
       "version_minor": 0
      },
      "text/plain": [
       "  0%|          | 0/500 [00:00<?, ?it/s]"
      ]
     },
     "metadata": {},
     "output_type": "display_data"
    },
    {
     "data": {
      "application/vnd.jupyter.widget-view+json": {
       "model_id": "c80cedafa2cc439496ce4e68630500ae",
       "version_major": 2,
       "version_minor": 0
      },
      "text/plain": [
       "  0%|          | 0/500 [00:00<?, ?it/s]"
      ]
     },
     "metadata": {},
     "output_type": "display_data"
    },
    {
     "data": {
      "application/vnd.jupyter.widget-view+json": {
       "model_id": "ecba028333ad4bcd8225885a37da1e2f",
       "version_major": 2,
       "version_minor": 0
      },
      "text/plain": [
       "  0%|          | 0/500 [00:00<?, ?it/s]"
      ]
     },
     "metadata": {},
     "output_type": "display_data"
    },
    {
     "data": {
      "application/vnd.jupyter.widget-view+json": {
       "model_id": "2f9b51770b7e4f4c849c03e6bd446818",
       "version_major": 2,
       "version_minor": 0
      },
      "text/plain": [
       "  0%|          | 0/500 [00:00<?, ?it/s]"
      ]
     },
     "metadata": {},
     "output_type": "display_data"
    },
    {
     "data": {
      "image/png": "[encoded data removed]",
      "text/plain": [
       "<Figure size 432x288 with 1 Axes>"
      ]
     },
     "metadata": {
      "needs_background": "light"
     },
     "output_type": "display_data"
    },
    {
     "data": {
      "image/png": "[encoded data removed]",
      "text/plain": [
       "<Figure size 432x288 with 1 Axes>"
      ]
     },
     "metadata": {
      "needs_background": "light"
     },
     "output_type": "display_data"
    }
   ],
   "source": [
    "results = hpsearch(\n",
    "    params,\n",
    "    lambda : GeneralLinearFullNet(1, 1, [1000], t.nn.GELU, True),\n",
    "    training_data = tdata,\n",
    "    verbose = True\n",
    ")\n",
    "plt.show()\n",
    "plt.plot(xs, ys)\n",
    "for r in results:\n",
    "    plt.plot(xs, r['model'](xs).detach().clone())"
   ]
  },
  {
   "cell_type": "code",
   "execution_count": 394,
   "id": "88cdd20a-2c18-4f8b-8f84-393afc2764ee",
   "metadata": {},
   "outputs": [
    {
     "data": {
      "application/vnd.jupyter.widget-view+json": {
       "model_id": "82ee8616879548c98a03dbab6a853d58",
       "version_major": 2,
       "version_minor": 0
      },
      "text/plain": [
       "  0%|          | 0/8 [00:00<?, ?it/s]"
      ]
     },
     "metadata": {},
     "output_type": "display_data"
    },
    {
     "data": {
      "application/vnd.jupyter.widget-view+json": {
       "model_id": "e712a4acaa1b4f1d8fffb17b2260ea5b",
       "version_major": 2,
       "version_minor": 0
      },
      "text/plain": [
       "  0%|          | 0/500 [00:00<?, ?it/s]"
      ]
     },
     "metadata": {},
     "output_type": "display_data"
    },
    {
     "data": {
      "application/vnd.jupyter.widget-view+json": {
       "model_id": "8dcae027c07749719b5d49bbc108db54",
       "version_major": 2,
       "version_minor": 0
      },
      "text/plain": [
       "  0%|          | 0/500 [00:00<?, ?it/s]"
      ]
     },
     "metadata": {},
     "output_type": "display_data"
    },
    {
     "data": {
      "application/vnd.jupyter.widget-view+json": {
       "model_id": "5486331adfa74489a514e87cf027f57e",
       "version_major": 2,
       "version_minor": 0
      },
      "text/plain": [
       "  0%|          | 0/500 [00:00<?, ?it/s]"
      ]
     },
     "metadata": {},
     "output_type": "display_data"
    },
    {
     "data": {
      "application/vnd.jupyter.widget-view+json": {
       "model_id": "84a1a8456a4649948ad3dbb40b037470",
       "version_major": 2,
       "version_minor": 0
      },
      "text/plain": [
       "  0%|          | 0/500 [00:00<?, ?it/s]"
      ]
     },
     "metadata": {},
     "output_type": "display_data"
    },
    {
     "data": {
      "application/vnd.jupyter.widget-view+json": {
       "model_id": "29fe01437aed41b2931b44f90237fd8d",
       "version_major": 2,
       "version_minor": 0
      },
      "text/plain": [
       "  0%|          | 0/500 [00:00<?, ?it/s]"
      ]
     },
     "metadata": {},
     "output_type": "display_data"
    },
    {
     "data": {
      "application/vnd.jupyter.widget-view+json": {
       "model_id": "cb89e809900a4e91ad56de711337cf6b",
       "version_major": 2,
       "version_minor": 0
      },
      "text/plain": [
       "  0%|          | 0/500 [00:00<?, ?it/s]"
      ]
     },
     "metadata": {},
     "output_type": "display_data"
    },
    {
     "data": {
      "application/vnd.jupyter.widget-view+json": {
       "model_id": "6e3655c24fb349e0bc9a29dddcae735b",
       "version_major": 2,
       "version_minor": 0
      },
      "text/plain": [
       "  0%|          | 0/500 [00:00<?, ?it/s]"
      ]
     },
     "metadata": {},
     "output_type": "display_data"
    },
    {
     "data": {
      "application/vnd.jupyter.widget-view+json": {
       "model_id": "e09c1919bcca4129a5cf98809027f546",
       "version_major": 2,
       "version_minor": 0
      },
      "text/plain": [
       "  0%|          | 0/500 [00:00<?, ?it/s]"
      ]
     },
     "metadata": {},
     "output_type": "display_data"
    },
    {
     "data": {
      "image/png": "[encoded data removed]",
      "text/plain": [
       "<Figure size 432x288 with 1 Axes>"
      ]
     },
     "metadata": {
      "needs_background": "light"
     },
     "output_type": "display_data"
    },
    {
     "data": {
      "image/png": "[encoded data removed]",
      "text/plain": [
       "<Figure size 432x288 with 1 Axes>"
      ]
     },
     "metadata": {
      "needs_background": "light"
     },
     "output_type": "display_data"
    }
   ],
   "source": [
    "results = hpsearch(\n",
    "    params,\n",
    "    lambda : GeneralLinearFullNet(1, 1, [100, 100], t.nn.Sigmoid, True),\n",
    "    training_data = tdata,\n",
    "    verbose = True\n",
    ")\n",
    "plt.show()\n",
    "plt.plot(xs, ys)\n",
    "for r in results:\n",
    "    plt.plot(xs, r['model'](xs).detach().clone())"
   ]
  },
  {
   "cell_type": "code",
   "execution_count": 395,
   "id": "25e11081-083a-4a58-8c8a-9bcd9a143d2a",
   "metadata": {},
   "outputs": [
    {
     "data": {
      "application/vnd.jupyter.widget-view+json": {
       "model_id": "8f564a2441a24c2bad339d9a8acb19a1",
       "version_major": 2,
       "version_minor": 0
      },
      "text/plain": [
       "  0%|          | 0/8 [00:00<?, ?it/s]"
      ]
     },
     "metadata": {},
     "output_type": "display_data"
    },
    {
     "data": {
      "application/vnd.jupyter.widget-view+json": {
       "model_id": "cbeac8884a534ed2aee8b1ab4d25715b",
       "version_major": 2,
       "version_minor": 0
      },
      "text/plain": [
       "  0%|          | 0/500 [00:00<?, ?it/s]"
      ]
     },
     "metadata": {},
     "output_type": "display_data"
    },
    {
     "data": {
      "application/vnd.jupyter.widget-view+json": {
       "model_id": "7757ea654f9d4bcc8e4ca6e4f38ce759",
       "version_major": 2,
       "version_minor": 0
      },
      "text/plain": [
       "  0%|          | 0/500 [00:00<?, ?it/s]"
      ]
     },
     "metadata": {},
     "output_type": "display_data"
    },
    {
     "data": {
      "application/vnd.jupyter.widget-view+json": {
       "model_id": "8aa4ff012e294d0e9692010044a9f015",
       "version_major": 2,
       "version_minor": 0
      },
      "text/plain": [
       "  0%|          | 0/500 [00:00<?, ?it/s]"
      ]
     },
     "metadata": {},
     "output_type": "display_data"
    },
    {
     "data": {
      "application/vnd.jupyter.widget-view+json": {
       "model_id": "f0e4c22e38fe42fd93d45eb74f651fd3",
       "version_major": 2,
       "version_minor": 0
      },
      "text/plain": [
       "  0%|          | 0/500 [00:00<?, ?it/s]"
      ]
     },
     "metadata": {},
     "output_type": "display_data"
    },
    {
     "data": {
      "application/vnd.jupyter.widget-view+json": {
       "model_id": "3af281c2c8354610a6e0513ee1571fad",
       "version_major": 2,
       "version_minor": 0
      },
      "text/plain": [
       "  0%|          | 0/500 [00:00<?, ?it/s]"
      ]
     },
     "metadata": {},
     "output_type": "display_data"
    },
    {
     "data": {
      "application/vnd.jupyter.widget-view+json": {
       "model_id": "89915138495b42019745fec813196847",
       "version_major": 2,
       "version_minor": 0
      },
      "text/plain": [
       "  0%|          | 0/500 [00:00<?, ?it/s]"
      ]
     },
     "metadata": {},
     "output_type": "display_data"
    },
    {
     "data": {
      "application/vnd.jupyter.widget-view+json": {
       "model_id": "82cd4b056e394cfdbcadb5ed366ac06a",
       "version_major": 2,
       "version_minor": 0
      },
      "text/plain": [
       "  0%|          | 0/500 [00:00<?, ?it/s]"
      ]
     },
     "metadata": {},
     "output_type": "display_data"
    },
    {
     "data": {
      "application/vnd.jupyter.widget-view+json": {
       "model_id": "a2ce5a1f3b6d476da7847939b399736a",
       "version_major": 2,
       "version_minor": 0
      },
      "text/plain": [
       "  0%|          | 0/500 [00:00<?, ?it/s]"
      ]
     },
     "metadata": {},
     "output_type": "display_data"
    },
    {
     "data": {
      "image/png": "[encoded data removed]",
      "text/plain": [
       "<Figure size 432x288 with 1 Axes>"
      ]
     },
     "metadata": {
      "needs_background": "light"
     },
     "output_type": "display_data"
    },
    {
     "data": {
      "image/png": "[encoded data removed]",
      "text/plain": [
       "<Figure size 432x288 with 1 Axes>"
      ]
     },
     "metadata": {
      "needs_background": "light"
     },
     "output_type": "display_data"
    }
   ],
   "source": [
    "results = hpsearch(\n",
    "    params,\n",
    "    lambda : GeneralLinearFullNet(1, 1, [6, 6, 6, 6], t.nn.Sigmoid, True),\n",
    "    training_data = tdata,\n",
    "    verbose = True\n",
    ")\n",
    "plt.show()\n",
    "plt.plot(xs, ys)\n",
    "for r in results:\n",
    "    plt.plot(xs, r['model'](xs).detach().clone())"
   ]
  },
  {
   "cell_type": "code",
   "execution_count": 396,
   "id": "8369bec7-98a1-4644-9ce3-47093bdb5444",
   "metadata": {},
   "outputs": [
    {
     "data": {
      "application/vnd.jupyter.widget-view+json": {
       "model_id": "7b43463d0c8a4669875e147b1e1a5e73",
       "version_major": 2,
       "version_minor": 0
      },
      "text/plain": [
       "  0%|          | 0/8 [00:00<?, ?it/s]"
      ]
     },
     "metadata": {},
     "output_type": "display_data"
    },
    {
     "data": {
      "application/vnd.jupyter.widget-view+json": {
       "model_id": "b0d2fd5016644d298c0e4e078892b319",
       "version_major": 2,
       "version_minor": 0
      },
      "text/plain": [
       "  0%|          | 0/500 [00:00<?, ?it/s]"
      ]
     },
     "metadata": {},
     "output_type": "display_data"
    },
    {
     "data": {
      "application/vnd.jupyter.widget-view+json": {
       "model_id": "954faae84a1a4a31964815d199be5b74",
       "version_major": 2,
       "version_minor": 0
      },
      "text/plain": [
       "  0%|          | 0/500 [00:00<?, ?it/s]"
      ]
     },
     "metadata": {},
     "output_type": "display_data"
    },
    {
     "data": {
      "application/vnd.jupyter.widget-view+json": {
       "model_id": "23a491f42385427e8e687e567a0742ec",
       "version_major": 2,
       "version_minor": 0
      },
      "text/plain": [
       "  0%|          | 0/500 [00:00<?, ?it/s]"
      ]
     },
     "metadata": {},
     "output_type": "display_data"
    },
    {
     "data": {
      "application/vnd.jupyter.widget-view+json": {
       "model_id": "5db12d2790394bc79798b52bf89948bc",
       "version_major": 2,
       "version_minor": 0
      },
      "text/plain": [
       "  0%|          | 0/500 [00:00<?, ?it/s]"
      ]
     },
     "metadata": {},
     "output_type": "display_data"
    },
    {
     "data": {
      "application/vnd.jupyter.widget-view+json": {
       "model_id": "c405a2ca74bd418495e0c05bb8ef2916",
       "version_major": 2,
       "version_minor": 0
      },
      "text/plain": [
       "  0%|          | 0/500 [00:00<?, ?it/s]"
      ]
     },
     "metadata": {},
     "output_type": "display_data"
    },
    {
     "data": {
      "application/vnd.jupyter.widget-view+json": {
       "model_id": "df77f951ed2748c79b109e7b5a376db7",
       "version_major": 2,
       "version_minor": 0
      },
      "text/plain": [
       "  0%|          | 0/500 [00:00<?, ?it/s]"
      ]
     },
     "metadata": {},
     "output_type": "display_data"
    },
    {
     "data": {
      "application/vnd.jupyter.widget-view+json": {
       "model_id": "5b89cf2338f04814acc415f14ff565b4",
       "version_major": 2,
       "version_minor": 0
      },
      "text/plain": [
       "  0%|          | 0/500 [00:00<?, ?it/s]"
      ]
     },
     "metadata": {},
     "output_type": "display_data"
    },
    {
     "data": {
      "application/vnd.jupyter.widget-view+json": {
       "model_id": "fd569be007ae484d982d904a8a9f3010",
       "version_major": 2,
       "version_minor": 0
      },
      "text/plain": [
       "  0%|          | 0/500 [00:00<?, ?it/s]"
      ]
     },
     "metadata": {},
     "output_type": "display_data"
    },
    {
     "data": {
      "image/png": "[encoded data removed]",
      "text/plain": [
       "<Figure size 432x288 with 1 Axes>"
      ]
     },
     "metadata": {
      "needs_background": "light"
     },
     "output_type": "display_data"
    },
    {
     "data": {
      "image/png": "[encoded data removed]",
      "text/plain": [
       "<Figure size 432x288 with 1 Axes>"
      ]
     },
     "metadata": {
      "needs_background": "light"
     },
     "output_type": "display_data"
    }
   ],
   "source": [
    "results = hpsearch(\n",
    "    params,\n",
    "    lambda : GeneralLinearFullNet(1, 1, [1000], t.nn.Sigmoid, True),\n",
    "    training_data = tdata,\n",
    "    verbose = True\n",
    ")\n",
    "plt.show()\n",
    "plt.plot(xs, ys)\n",
    "for r in results:\n",
    "    plt.plot(xs, r['model'](xs).detach().clone())"
   ]
  },
  {
   "cell_type": "code",
   "execution_count": 390,
   "id": "16731c49-4a12-40cd-841a-46eac1d58d80",
   "metadata": {},
   "outputs": [
    {
     "data": {
      "application/vnd.jupyter.widget-view+json": {
       "model_id": "1c62e44f8a304000a95e9654e7efae41",
       "version_major": 2,
       "version_minor": 0
      },
      "text/plain": [
       "  0%|          | 0/8 [00:00<?, ?it/s]"
      ]
     },
     "metadata": {},
     "output_type": "display_data"
    },
    {
     "data": {
      "application/vnd.jupyter.widget-view+json": {
       "model_id": "5f7f2875a08b439f8b9da611637cb593",
       "version_major": 2,
       "version_minor": 0
      },
      "text/plain": [
       "  0%|          | 0/500 [00:00<?, ?it/s]"
      ]
     },
     "metadata": {},
     "output_type": "display_data"
    },
    {
     "data": {
      "application/vnd.jupyter.widget-view+json": {
       "model_id": "97e5cc6e220447339113a4685e27e1e0",
       "version_major": 2,
       "version_minor": 0
      },
      "text/plain": [
       "  0%|          | 0/500 [00:00<?, ?it/s]"
      ]
     },
     "metadata": {},
     "output_type": "display_data"
    },
    {
     "data": {
      "application/vnd.jupyter.widget-view+json": {
       "model_id": "6f4eace57a634ed38d906c8e9e9f9432",
       "version_major": 2,
       "version_minor": 0
      },
      "text/plain": [
       "  0%|          | 0/500 [00:00<?, ?it/s]"
      ]
     },
     "metadata": {},
     "output_type": "display_data"
    },
    {
     "data": {
      "application/vnd.jupyter.widget-view+json": {
       "model_id": "8bfa5b0c778a4d18b9a61a15599653d6",
       "version_major": 2,
       "version_minor": 0
      },
      "text/plain": [
       "  0%|          | 0/500 [00:00<?, ?it/s]"
      ]
     },
     "metadata": {},
     "output_type": "display_data"
    },
    {
     "data": {
      "application/vnd.jupyter.widget-view+json": {
       "model_id": "5c762cf7a0ec466f814599daf6357e72",
       "version_major": 2,
       "version_minor": 0
      },
      "text/plain": [
       "  0%|          | 0/500 [00:00<?, ?it/s]"
      ]
     },
     "metadata": {},
     "output_type": "display_data"
    },
    {
     "data": {
      "application/vnd.jupyter.widget-view+json": {
       "model_id": "ed5ab6450cd04aa2a0c2cff7c82cdd7d",
       "version_major": 2,
       "version_minor": 0
      },
      "text/plain": [
       "  0%|          | 0/500 [00:00<?, ?it/s]"
      ]
     },
     "metadata": {},
     "output_type": "display_data"
    },
    {
     "data": {
      "application/vnd.jupyter.widget-view+json": {
       "model_id": "ea5bcc09e0f042e2a1e3c4381478a1d8",
       "version_major": 2,
       "version_minor": 0
      },
      "text/plain": [
       "  0%|          | 0/500 [00:00<?, ?it/s]"
      ]
     },
     "metadata": {},
     "output_type": "display_data"
    },
    {
     "data": {
      "application/vnd.jupyter.widget-view+json": {
       "model_id": "8a07bb89734342cd99d964f6cfe5895c",
       "version_major": 2,
       "version_minor": 0
      },
      "text/plain": [
       "  0%|          | 0/500 [00:00<?, ?it/s]"
      ]
     },
     "metadata": {},
     "output_type": "display_data"
    },
    {
     "data": {
      "image/png": "[encoded data removed]",
      "text/plain": [
       "<Figure size 432x288 with 1 Axes>"
      ]
     },
     "metadata": {
      "needs_background": "light"
     },
     "output_type": "display_data"
    },
    {
     "data": {
      "image/png": "[encoded data removed]",
      "text/plain": [
       "<Figure size 432x288 with 1 Axes>"
      ]
     },
     "metadata": {
      "needs_background": "light"
     },
     "output_type": "display_data"
    }
   ],
   "source": [
    "results = hpsearch(\n",
    "    params,\n",
    "    lambda : GeneralLinearFullNet(1, 1, [100, 100], t.nn.Sigmoid, False),\n",
    "    training_data = tdata,\n",
    "    verbose = True\n",
    ")\n",
    "plt.show()\n",
    "plt.plot(xs, ys)\n",
    "for r in results:\n",
    "    plt.plot(xs, r['model'](xs).detach().clone())"
   ]
  },
  {
   "cell_type": "code",
   "execution_count": 397,
   "id": "287f33ea-af54-4779-beb7-e9b3fa7eaa2e",
   "metadata": {},
   "outputs": [
    {
     "data": {
      "application/vnd.jupyter.widget-view+json": {
       "model_id": "b50de5bca8c54853a06466984485c56c",
       "version_major": 2,
       "version_minor": 0
      },
      "text/plain": [
       "  0%|          | 0/8 [00:00<?, ?it/s]"
      ]
     },
     "metadata": {},
     "output_type": "display_data"
    },
    {
     "data": {
      "application/vnd.jupyter.widget-view+json": {
       "model_id": "4aee1abd63a940e3a2be6000bd626fbd",
       "version_major": 2,
       "version_minor": 0
      },
      "text/plain": [
       "  0%|          | 0/500 [00:00<?, ?it/s]"
      ]
     },
     "metadata": {},
     "output_type": "display_data"
    },
    {
     "data": {
      "application/vnd.jupyter.widget-view+json": {
       "model_id": "aeaf3a6bb9e44c9cbbdc27417e22ba19",
       "version_major": 2,
       "version_minor": 0
      },
      "text/plain": [
       "  0%|          | 0/500 [00:00<?, ?it/s]"
      ]
     },
     "metadata": {},
     "output_type": "display_data"
    },
    {
     "data": {
      "application/vnd.jupyter.widget-view+json": {
       "model_id": "91c7b26b3bda4b0ba1581b7cf30bf861",
       "version_major": 2,
       "version_minor": 0
      },
      "text/plain": [
       "  0%|          | 0/500 [00:00<?, ?it/s]"
      ]
     },
     "metadata": {},
     "output_type": "display_data"
    },
    {
     "data": {
      "application/vnd.jupyter.widget-view+json": {
       "model_id": "c051f80f202b46e1a16ab808d853c0cc",
       "version_major": 2,
       "version_minor": 0
      },
      "text/plain": [
       "  0%|          | 0/500 [00:00<?, ?it/s]"
      ]
     },
     "metadata": {},
     "output_type": "display_data"
    },
    {
     "data": {
      "application/vnd.jupyter.widget-view+json": {
       "model_id": "b1d9895e6cd24dd98766176d83e5c958",
       "version_major": 2,
       "version_minor": 0
      },
      "text/plain": [
       "  0%|          | 0/500 [00:00<?, ?it/s]"
      ]
     },
     "metadata": {},
     "output_type": "display_data"
    },
    {
     "data": {
      "application/vnd.jupyter.widget-view+json": {
       "model_id": "3936a25aab7a4e239f8ecca7fc271e65",
       "version_major": 2,
       "version_minor": 0
      },
      "text/plain": [
       "  0%|          | 0/500 [00:00<?, ?it/s]"
      ]
     },
     "metadata": {},
     "output_type": "display_data"
    },
    {
     "data": {
      "application/vnd.jupyter.widget-view+json": {
       "model_id": "befa242e9a29492e95179fabadc543f3",
       "version_major": 2,
       "version_minor": 0
      },
      "text/plain": [
       "  0%|          | 0/500 [00:00<?, ?it/s]"
      ]
     },
     "metadata": {},
     "output_type": "display_data"
    },
    {
     "data": {
      "application/vnd.jupyter.widget-view+json": {
       "model_id": "95f75ff28d6543d89c24af6dfe706e3e",
       "version_major": 2,
       "version_minor": 0
      },
      "text/plain": [
       "  0%|          | 0/500 [00:00<?, ?it/s]"
      ]
     },
     "metadata": {},
     "output_type": "display_data"
    },
    {
     "data": {
      "image/png": "[encoded data removed]",
      "text/plain": [
       "<Figure size 432x288 with 1 Axes>"
      ]
     },
     "metadata": {
      "needs_background": "light"
     },
     "output_type": "display_data"
    },
    {
     "data": {
      "image/png": "[encoded data removed]",
      "text/plain": [
       "<Figure size 432x288 with 1 Axes>"
      ]
     },
     "metadata": {
      "needs_background": "light"
     },
     "output_type": "display_data"
    }
   ],
   "source": [
    "results = hpsearch(\n",
    "    params,\n",
    "    lambda : GeneralLinearFullNet(1, 1, [6, 6, 6, 6], t.nn.Sigmoid, False),\n",
    "    training_data = tdata,\n",
    "    verbose = True\n",
    ")\n",
    "plt.show()\n",
    "plt.plot(xs, ys)\n",
    "for r in results:\n",
    "    plt.plot(xs, r['model'](xs).detach().clone())"
   ]
  },
  {
   "cell_type": "code",
   "execution_count": 398,
   "id": "6bc817f3-a060-4bac-a197-7de853f7dd47",
   "metadata": {},
   "outputs": [
    {
     "data": {
      "application/vnd.jupyter.widget-view+json": {
       "model_id": "e722227d4fc34b158014fbe6a733515f",
       "version_major": 2,
       "version_minor": 0
      },
      "text/plain": [
       "  0%|          | 0/8 [00:00<?, ?it/s]"
      ]
     },
     "metadata": {},
     "output_type": "display_data"
    },
    {
     "data": {
      "application/vnd.jupyter.widget-view+json": {
       "model_id": "c477f1c827b44c738f58bee2478b49eb",
       "version_major": 2,
       "version_minor": 0
      },
      "text/plain": [
       "  0%|          | 0/500 [00:00<?, ?it/s]"
      ]
     },
     "metadata": {},
     "output_type": "display_data"
    },
    {
     "data": {
      "application/vnd.jupyter.widget-view+json": {
       "model_id": "7f52e2bd3fc34bcb8bbdc249157dc296",
       "version_major": 2,
       "version_minor": 0
      },
      "text/plain": [
       "  0%|          | 0/500 [00:00<?, ?it/s]"
      ]
     },
     "metadata": {},
     "output_type": "display_data"
    },
    {
     "data": {
      "application/vnd.jupyter.widget-view+json": {
       "model_id": "d4e9221e4df44954a464b7750f296204",
       "version_major": 2,
       "version_minor": 0
      },
      "text/plain": [
       "  0%|          | 0/500 [00:00<?, ?it/s]"
      ]
     },
     "metadata": {},
     "output_type": "display_data"
    },
    {
     "data": {
      "application/vnd.jupyter.widget-view+json": {
       "model_id": "31809f852f6540dca6075f0ac0157fb8",
       "version_major": 2,
       "version_minor": 0
      },
      "text/plain": [
       "  0%|          | 0/500 [00:00<?, ?it/s]"
      ]
     },
     "metadata": {},
     "output_type": "display_data"
    },
    {
     "data": {
      "application/vnd.jupyter.widget-view+json": {
       "model_id": "31ff4d9edee541d98228ed04b7816f65",
       "version_major": 2,
       "version_minor": 0
      },
      "text/plain": [
       "  0%|          | 0/500 [00:00<?, ?it/s]"
      ]
     },
     "metadata": {},
     "output_type": "display_data"
    },
    {
     "data": {
      "application/vnd.jupyter.widget-view+json": {
       "model_id": "5e1fef7b1dfd479693ab89fbfea27ca6",
       "version_major": 2,
       "version_minor": 0
      },
      "text/plain": [
       "  0%|          | 0/500 [00:00<?, ?it/s]"
      ]
     },
     "metadata": {},
     "output_type": "display_data"
    },
    {
     "data": {
      "application/vnd.jupyter.widget-view+json": {
       "model_id": "4a40fa08f82d43dd8bc33e7375d78d1b",
       "version_major": 2,
       "version_minor": 0
      },
      "text/plain": [
       "  0%|          | 0/500 [00:00<?, ?it/s]"
      ]
     },
     "metadata": {},
     "output_type": "display_data"
    },
    {
     "data": {
      "application/vnd.jupyter.widget-view+json": {
       "model_id": "492081006c564b2198b8d645f82bc5ad",
       "version_major": 2,
       "version_minor": 0
      },
      "text/plain": [
       "  0%|          | 0/500 [00:00<?, ?it/s]"
      ]
     },
     "metadata": {},
     "output_type": "display_data"
    },
    {
     "data": {
      "image/png": "[encoded data removed]",
      "text/plain": [
       "<Figure size 432x288 with 1 Axes>"
      ]
     },
     "metadata": {
      "needs_background": "light"
     },
     "output_type": "display_data"
    },
    {
     "data": {
      "image/png": "[encoded data removed]",
      "text/plain": [
       "<Figure size 432x288 with 1 Axes>"
      ]
     },
     "metadata": {
      "needs_background": "light"
     },
     "output_type": "display_data"
    }
   ],
   "source": [
    "results = hpsearch(\n",
    "    params,\n",
    "    lambda : GeneralLinearFullNet(1, 1, [1000], t.nn.Sigmoid, False),\n",
    "    training_data = tdata,\n",
    "    verbose = True\n",
    ")\n",
    "plt.show()\n",
    "plt.plot(xs, ys)\n",
    "for r in results:\n",
    "    plt.plot(xs, r['model'](xs).detach().clone())"
   ]
  },
  {
   "cell_type": "code",
   "execution_count": null,
   "id": "90032e2c-575e-4e90-b0bf-1c1eb2ddf01e",
   "metadata": {},
   "outputs": [],
   "source": []
  }
 ],
 "metadata": {
  "kernelspec": {
   "display_name": "Python 3 (ipykernel)",
   "language": "python",
   "name": "python3"
  },
  "language_info": {
   "codemirror_mode": {
    "name": "ipython",
    "version": 3
   },
   "file_extension": ".py",
   "mimetype": "text/x-python",
   "name": "python",
   "nbconvert_exporter": "python",
   "pygments_lexer": "ipython3",
   "version": "3.10.2"
  }
 },
 "nbformat": 4,
 "nbformat_minor": 5
}

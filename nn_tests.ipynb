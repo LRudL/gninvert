{
 "cells": [
  {
   "cell_type": "code",
   "execution_count": 1,
   "id": "46734d58-2dab-4d5c-94fe-ffa2a9a9530e",
   "metadata": {},
   "outputs": [],
   "source": [
    "%load_ext autoreload\n",
    "%autoreload 2\n",
    "\n",
    "from gninvert.nn import GeneralLinearFullNet\n",
    "import torch as t\n",
    "import math\n",
    "import matplotlib.pyplot as plt\n",
    "from gninvert.hyperparamsearch import hpsearch\n",
    "from gninvert.data_generation import TrainingData\n"
   ]
  },
  {
   "cell_type": "code",
   "execution_count": 3,
   "id": "954be8f7-89b3-4ad8-b44d-166c4b6da59c",
   "metadata": {},
   "outputs": [],
   "source": [
    "glfn = GeneralLinearFullNet(2, 2, [10],\n",
    "                            t.nn.GELU, True)"
   ]
  },
  {
   "cell_type": "code",
   "execution_count": 4,
   "id": "9aac34c5-60ae-45e6-9be6-817a19dc7330",
   "metadata": {},
   "outputs": [
    {
     "data": {
      "text/plain": [
       "ModuleList(\n",
       "  (0): Linear(in_features=2, out_features=10, bias=True)\n",
       "  (1): GELU()\n",
       "  (2): Linear(in_features=10, out_features=2, bias=True)\n",
       "  (3): GELU()\n",
       ")"
      ]
     },
     "execution_count": 4,
     "metadata": {},
     "output_type": "execute_result"
    }
   ],
   "source": [
    "glfn.layers"
   ]
  },
  {
   "cell_type": "code",
   "execution_count": 5,
   "id": "b118eaee-07f6-47d2-a22c-98deb7505f92",
   "metadata": {},
   "outputs": [],
   "source": [
    "x = t.tensor([1., 1.])"
   ]
  },
  {
   "cell_type": "code",
   "execution_count": 6,
   "id": "2d1c2641-aa9a-42d0-b439-ebe286dbb490",
   "metadata": {},
   "outputs": [
    {
     "data": {
      "text/plain": [
       "tensor([0.0161, 0.2336], grad_fn=<GeluBackward0>)"
      ]
     },
     "execution_count": 6,
     "metadata": {},
     "output_type": "execute_result"
    }
   ],
   "source": [
    "glfn.forward(x)"
   ]
  },
  {
   "cell_type": "code",
   "execution_count": 7,
   "id": "12674bf9-76ff-43b2-87d2-fd478438dd26",
   "metadata": {},
   "outputs": [
    {
     "data": {
      "text/plain": [
       "GeneralLinearFullNet(\n",
       "  (layers): ModuleList(\n",
       "    (0): Linear(in_features=2, out_features=10, bias=True)\n",
       "    (1): GELU()\n",
       "    (2): Linear(in_features=10, out_features=2, bias=True)\n",
       "    (3): GELU()\n",
       "  )\n",
       ")"
      ]
     },
     "execution_count": 7,
     "metadata": {},
     "output_type": "execute_result"
    }
   ],
   "source": [
    "glfn"
   ]
  },
  {
   "cell_type": "code",
   "execution_count": 8,
   "id": "6ffda592-1b87-41de-8105-01abd55d567c",
   "metadata": {
    "tags": []
   },
   "outputs": [
    {
     "data": {
      "text/plain": [
       "torch.nn.modules.activation.ReLU"
      ]
     },
     "execution_count": 8,
     "metadata": {},
     "output_type": "execute_result"
    }
   ],
   "source": [
    "t.nn.ReLU"
   ]
  },
  {
   "cell_type": "code",
   "execution_count": 18,
   "id": "7d69465c-c521-4d3c-9b69-ccbe950ec011",
   "metadata": {
    "tags": []
   },
   "outputs": [],
   "source": [
    "params = {\n",
    "    'starting_lr': [0.1],\n",
    "    'lr_scheduler_dec_factor': [0.2],\n",
    "    'lr_scheduler_patience': [30],\n",
    "    'lr_scheduler_cooldown': [30],\n",
    "    'batch_size': [128],\n",
    "    'optimizer': ['adam', 'sgd'],\n",
    "    'adam_weight_decay': [1e-6],\n",
    "    'momentum': [1e-4],\n",
    "    'epochs': [1000],\n",
    "    'loss_func': [t.nn.MSELoss()],\n",
    "    1: [1],\n",
    "    2: [1],\n",
    "    3: [[8]],\n",
    "    4: [t.nn.GELU, t.nn.ReLU],\n",
    "    5: [True, False]\n",
    "}"
   ]
  },
  {
   "cell_type": "code",
   "execution_count": 19,
   "id": "2b8d767a-d293-4887-a589-106294008e16",
   "metadata": {},
   "outputs": [
    {
     "data": {
      "text/plain": [
       "<gninvert.data_generation.TrainingData, 134 train size / 45 validation size / shuffle True>"
      ]
     },
     "execution_count": 19,
     "metadata": {},
     "output_type": "execute_result"
    }
   ],
   "source": [
    "xs = t.arange(0.1, 1, 0.005)[1:].unsqueeze(dim=-1)\n",
    "ys = 1 / xs\n",
    "tdata = TrainingData(xs, ys, shuffle=True, shuffle_seed = 42)\n",
    "tdata"
   ]
  },
  {
   "cell_type": "code",
   "execution_count": 20,
   "id": "b6b2cc5f-51c8-4102-b565-33fb49f7a05a",
   "metadata": {
    "tags": []
   },
   "outputs": [
    {
     "data": {
      "application/vnd.jupyter.widget-view+json": {
       "model_id": "171bc96c526647dc9ae02e4cebe3cbdf",
       "version_major": 2,
       "version_minor": 0
      },
      "text/plain": [
       "  0%|          | 0/8 [00:00<?, ?it/s]"
      ]
     },
     "metadata": {},
     "output_type": "display_data"
    },
    {
     "data": {
      "application/vnd.jupyter.widget-view+json": {
       "model_id": "b3032ca434bf45f99e2c835ed9bb2b18",
       "version_major": 2,
       "version_minor": 0
      },
      "text/plain": [
       "  0%|          | 0/1000 [00:00<?, ?it/s]"
      ]
     },
     "metadata": {},
     "output_type": "display_data"
    },
    {
     "data": {
      "application/vnd.jupyter.widget-view+json": {
       "model_id": "400e644036874fe7a42fbcc020769f2c",
       "version_major": 2,
       "version_minor": 0
      },
      "text/plain": [
       "  0%|          | 0/1000 [00:00<?, ?it/s]"
      ]
     },
     "metadata": {},
     "output_type": "display_data"
    },
    {
     "data": {
      "application/vnd.jupyter.widget-view+json": {
       "model_id": "efdef9785d904d71a0e59aff509465f6",
       "version_major": 2,
       "version_minor": 0
      },
      "text/plain": [
       "  0%|          | 0/1000 [00:00<?, ?it/s]"
      ]
     },
     "metadata": {},
     "output_type": "display_data"
    },
    {
     "data": {
      "application/vnd.jupyter.widget-view+json": {
       "model_id": "018e3d6e56cb4327bc98bd27ad6cbad6",
       "version_major": 2,
       "version_minor": 0
      },
      "text/plain": [
       "  0%|          | 0/1000 [00:00<?, ?it/s]"
      ]
     },
     "metadata": {},
     "output_type": "display_data"
    },
    {
     "data": {
      "application/vnd.jupyter.widget-view+json": {
       "model_id": "7948554724674d5299f0b2ea99186c56",
       "version_major": 2,
       "version_minor": 0
      },
      "text/plain": [
       "  0%|          | 0/1000 [00:00<?, ?it/s]"
      ]
     },
     "metadata": {},
     "output_type": "display_data"
    },
    {
     "data": {
      "application/vnd.jupyter.widget-view+json": {
       "model_id": "9dc046d4d07f4589be53c51e41a32445",
       "version_major": 2,
       "version_minor": 0
      },
      "text/plain": [
       "  0%|          | 0/1000 [00:00<?, ?it/s]"
      ]
     },
     "metadata": {},
     "output_type": "display_data"
    },
    {
     "data": {
      "application/vnd.jupyter.widget-view+json": {
       "model_id": "9b322d5c435b4976925a277c1876f413",
       "version_major": 2,
       "version_minor": 0
      },
      "text/plain": [
       "  0%|          | 0/1000 [00:00<?, ?it/s]"
      ]
     },
     "metadata": {},
     "output_type": "display_data"
    },
    {
     "data": {
      "application/vnd.jupyter.widget-view+json": {
       "model_id": "f20abe5fcda04906bf0b5298f867aba0",
       "version_major": 2,
       "version_minor": 0
      },
      "text/plain": [
       "  0%|          | 0/1000 [00:00<?, ?it/s]"
      ]
     },
     "metadata": {},
     "output_type": "display_data"
    },
    {
     "data": {
      "image/png": "[encoded data removed]",
      "text/plain": [
       "<Figure size 432x288 with 1 Axes>"
      ]
     },
     "metadata": {
      "needs_background": "light"
     },
     "output_type": "display_data"
    },
    {
     "data": {
      "image/png": "[encoded data removed]",
      "text/plain": [
       "<Figure size 432x288 with 1 Axes>"
      ]
     },
     "metadata": {
      "needs_background": "light"
     },
     "output_type": "display_data"
    }
   ],
   "source": [
    "results = hpsearch(\n",
    "    params,\n",
    "    GeneralLinearFullNet,\n",
    "    training_data = tdata,\n",
    "    verbose = True\n",
    ")\n",
    "plt.show()\n",
    "plt.plot(xs, ys)\n",
    "for r in results:\n",
    "    plt.plot(xs, r['model'](xs).detach().clone())"
   ]
  }
 ],
 "metadata": {
  "kernelspec": {
   "display_name": "Python 3 (ipykernel)",
   "language": "python",
   "name": "python3"
  },
  "language_info": {
   "codemirror_mode": {
    "name": "ipython",
    "version": 3
   },
   "file_extension": ".py",
   "mimetype": "text/x-python",
   "name": "python",
   "nbconvert_exporter": "python",
   "pygments_lexer": "ipython3",
   "version": "3.9.10"
  }
 },
 "nbformat": 4,
 "nbformat_minor": 5
}

{
 "cells": [
  {
   "cell_type": "code",
   "execution_count": 2,
   "id": "46734d58-2dab-4d5c-94fe-ffa2a9a9530e",
   "metadata": {},
   "outputs": [
    {
     "name": "stdout",
     "output_type": "stream",
     "text": [
      "The autoreload extension is already loaded. To reload it, use:\n",
      "  %reload_ext autoreload\n"
     ]
    }
   ],
   "source": [
    "%load_ext autoreload\n",
    "%autoreload 2\n",
    "\n",
    "from gninvert.nn import GeneralLinearFullNet\n",
    "import torch as t\n",
    "import math\n",
    "import matplotlib.pyplot as plt\n",
    "from gninvert.hyperparamsearch import hpsearch\n",
    "from gninvert.data_generation import TrainingData\n"
   ]
  },
  {
   "cell_type": "code",
   "execution_count": 3,
   "id": "954be8f7-89b3-4ad8-b44d-166c4b6da59c",
   "metadata": {},
   "outputs": [],
   "source": [
    "glfn = GeneralLinearFullNet(2, 2, [10],\n",
    "                            t.nn.GELU, True)"
   ]
  },
  {
   "cell_type": "code",
   "execution_count": 4,
   "id": "9aac34c5-60ae-45e6-9be6-817a19dc7330",
   "metadata": {},
   "outputs": [
    {
     "data": {
      "text/plain": [
       "ModuleList(\n",
       "  (0): Linear(in_features=2, out_features=10, bias=True)\n",
       "  (1): GELU()\n",
       "  (2): Linear(in_features=10, out_features=2, bias=True)\n",
       "  (3): GELU()\n",
       ")"
      ]
     },
     "execution_count": 4,
     "metadata": {},
     "output_type": "execute_result"
    }
   ],
   "source": [
    "glfn.layers"
   ]
  },
  {
   "cell_type": "code",
   "execution_count": 5,
   "id": "b118eaee-07f6-47d2-a22c-98deb7505f92",
   "metadata": {},
   "outputs": [],
   "source": [
    "x = t.tensor([1., 1.])"
   ]
  },
  {
   "cell_type": "code",
   "execution_count": 6,
   "id": "2d1c2641-aa9a-42d0-b439-ebe286dbb490",
   "metadata": {},
   "outputs": [
    {
     "data": {
      "text/plain": [
       "tensor([0.0161, 0.2336], grad_fn=<GeluBackward0>)"
      ]
     },
     "execution_count": 6,
     "metadata": {},
     "output_type": "execute_result"
    }
   ],
   "source": [
    "glfn.forward(x)"
   ]
  },
  {
   "cell_type": "code",
   "execution_count": 7,
   "id": "12674bf9-76ff-43b2-87d2-fd478438dd26",
   "metadata": {},
   "outputs": [
    {
     "data": {
      "text/plain": [
       "GeneralLinearFullNet(\n",
       "  (layers): ModuleList(\n",
       "    (0): Linear(in_features=2, out_features=10, bias=True)\n",
       "    (1): GELU()\n",
       "    (2): Linear(in_features=10, out_features=2, bias=True)\n",
       "    (3): GELU()\n",
       "  )\n",
       ")"
      ]
     },
     "execution_count": 7,
     "metadata": {},
     "output_type": "execute_result"
    }
   ],
   "source": [
    "glfn"
   ]
  },
  {
   "cell_type": "code",
   "execution_count": 8,
   "id": "6ffda592-1b87-41de-8105-01abd55d567c",
   "metadata": {
    "tags": []
   },
   "outputs": [
    {
     "data": {
      "text/plain": [
       "torch.nn.modules.activation.ReLU"
      ]
     },
     "execution_count": 8,
     "metadata": {},
     "output_type": "execute_result"
    }
   ],
   "source": [
    "t.nn.ReLU"
   ]
  },
  {
   "cell_type": "code",
   "execution_count": 15,
   "id": "7d69465c-c521-4d3c-9b69-ccbe950ec011",
   "metadata": {
    "tags": []
   },
   "outputs": [],
   "source": [
    "params = {\n",
    "    'starting_lr': [0.1],\n",
    "    'lr_scheduler_dec_factor': [0.2],\n",
    "    'lr_scheduler_patience': [30],\n",
    "    'lr_scheduler_cooldown': [30],\n",
    "    'batch_size': [128],\n",
    "    'optimizer': ['adam', 'sgd'],\n",
    "    'adam_weight_decay': [1e-6],\n",
    "    'momentum': [1e-4],\n",
    "    'epochs': [150],\n",
    "    'loss_func': [t.nn.MSELoss()],\n",
    "    1: [1],\n",
    "    2: [1],\n",
    "    3: [[8]],\n",
    "    4: [t.nn.GELU, t.nn.ReLU],\n",
    "    5: [True, False]\n",
    "}"
   ]
  },
  {
   "cell_type": "code",
   "execution_count": 16,
   "id": "2b8d767a-d293-4887-a589-106294008e16",
   "metadata": {},
   "outputs": [
    {
     "data": {
      "text/plain": [
       "<gninvert.data_generation.TrainingData, 134 train size / 45 validation size / shuffle True>"
      ]
     },
     "execution_count": 16,
     "metadata": {},
     "output_type": "execute_result"
    }
   ],
   "source": [
    "xs = t.arange(0.1, 1, 0.005)[1:].unsqueeze(dim=-1)\n",
    "ys = 1 / xs\n",
    "tdata = TrainingData(xs, ys, shuffle=True, shuffle_seed = 42)\n",
    "tdata"
   ]
  },
  {
   "cell_type": "code",
   "execution_count": 17,
   "id": "b6b2cc5f-51c8-4102-b565-33fb49f7a05a",
   "metadata": {
    "tags": []
   },
   "outputs": [
    {
     "data": {
      "application/vnd.jupyter.widget-view+json": {
       "model_id": "8b558fbd942246109aaf6390ea8a313f",
       "version_major": 2,
       "version_minor": 0
      },
      "text/plain": [
       "  0%|          | 0/8 [00:00<?, ?it/s]"
      ]
     },
     "metadata": {},
     "output_type": "display_data"
    },
    {
     "data": {
      "application/vnd.jupyter.widget-view+json": {
       "model_id": "73c95581f9594b4fbd458b950c83943e",
       "version_major": 2,
       "version_minor": 0
      },
      "text/plain": [
       "  0%|          | 0/150 [00:00<?, ?it/s]"
      ]
     },
     "metadata": {},
     "output_type": "display_data"
    },
    {
     "data": {
      "application/vnd.jupyter.widget-view+json": {
       "model_id": "ec34e76363854e7f961a7bb3300b8455",
       "version_major": 2,
       "version_minor": 0
      },
      "text/plain": [
       "  0%|          | 0/150 [00:00<?, ?it/s]"
      ]
     },
     "metadata": {},
     "output_type": "display_data"
    },
    {
     "data": {
      "application/vnd.jupyter.widget-view+json": {
       "model_id": "3090d393bac74805a46ab1f66ff611ac",
       "version_major": 2,
       "version_minor": 0
      },
      "text/plain": [
       "  0%|          | 0/150 [00:00<?, ?it/s]"
      ]
     },
     "metadata": {},
     "output_type": "display_data"
    },
    {
     "data": {
      "application/vnd.jupyter.widget-view+json": {
       "model_id": "5cdd2acb48b44d0f863b82986b1a6b63",
       "version_major": 2,
       "version_minor": 0
      },
      "text/plain": [
       "  0%|          | 0/150 [00:00<?, ?it/s]"
      ]
     },
     "metadata": {},
     "output_type": "display_data"
    },
    {
     "data": {
      "application/vnd.jupyter.widget-view+json": {
       "model_id": "dca0a7ad4db94c6fb591ed5580bf0560",
       "version_major": 2,
       "version_minor": 0
      },
      "text/plain": [
       "  0%|          | 0/150 [00:00<?, ?it/s]"
      ]
     },
     "metadata": {},
     "output_type": "display_data"
    },
    {
     "data": {
      "application/vnd.jupyter.widget-view+json": {
       "model_id": "a3f1fc1e4f2e461a9b9588bf832b9b9e",
       "version_major": 2,
       "version_minor": 0
      },
      "text/plain": [
       "  0%|          | 0/150 [00:00<?, ?it/s]"
      ]
     },
     "metadata": {},
     "output_type": "display_data"
    },
    {
     "data": {
      "application/vnd.jupyter.widget-view+json": {
       "model_id": "dbb3cffc87e14c15963ed5e31cac692d",
       "version_major": 2,
       "version_minor": 0
      },
      "text/plain": [
       "  0%|          | 0/150 [00:00<?, ?it/s]"
      ]
     },
     "metadata": {},
     "output_type": "display_data"
    },
    {
     "data": {
      "application/vnd.jupyter.widget-view+json": {
       "model_id": "04297bf71fac480ab558653f278b9738",
       "version_major": 2,
       "version_minor": 0
      },
      "text/plain": [
       "  0%|          | 0/150 [00:00<?, ?it/s]"
      ]
     },
     "metadata": {},
     "output_type": "display_data"
    },
    {
     "data": {
      "image/png": "[encoded data removed]",
      "text/plain": [
       "<Figure size 432x288 with 1 Axes>"
      ]
     },
     "metadata": {
      "needs_background": "light"
     },
     "output_type": "display_data"
    },
    {
     "data": {
      "image/png": "[encoded data removed]",
      "text/plain": [
       "<Figure size 432x288 with 1 Axes>"
      ]
     },
     "metadata": {
      "needs_background": "light"
     },
     "output_type": "display_data"
    }
   ],
   "source": [
    "results = hpsearch(\n",
    "    params,\n",
    "    GeneralLinearFullNet,\n",
    "    training_data = tdata,\n",
    "    verbose = True\n",
    ")\n",
    "plt.show()\n",
    "plt.plot(xs, ys)\n",
    "for r in results:\n",
    "    plt.plot(xs, r['model'](xs).detach().clone())"
   ]
  },
  {
   "cell_type": "code",
   "execution_count": null,
   "id": "a0f6aa41-973b-4b5d-a865-27a88aea1ecc",
   "metadata": {},
   "outputs": [],
   "source": []
  }
 ],
 "metadata": {
  "kernelspec": {
   "display_name": "Python 3 (ipykernel)",
   "language": "python",
   "name": "python3"
  },
  "language_info": {
   "codemirror_mode": {
    "name": "ipython",
    "version": 3
   },
   "file_extension": ".py",
   "mimetype": "text/x-python",
   "name": "python",
   "nbconvert_exporter": "python",
   "pygments_lexer": "ipython3",
   "version": "3.10.2"
  }
 },
 "nbformat": 4,
 "nbformat_minor": 5
}

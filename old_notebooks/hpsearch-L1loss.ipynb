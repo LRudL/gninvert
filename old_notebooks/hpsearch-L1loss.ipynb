{
 "cells": [
  {
   "cell_type": "code",
   "execution_count": 8,
   "id": "36c26d47-7435-4564-a5c1-db241f4d38cc",
   "metadata": {},
   "outputs": [
    {
     "name": "stdout",
     "output_type": "stream",
     "text": [
      "The autoreload extension is already loaded. To reload it, use:\n",
      "  %reload_ext autoreload\n"
     ]
    }
   ],
   "source": [
    "%load_ext autoreload\n",
    "%autoreload 2"
   ]
  },
  {
   "cell_type": "code",
   "execution_count": 44,
   "id": "ba4192c8-9104-490c-a82e-315533db8829",
   "metadata": {},
   "outputs": [],
   "source": [
    "import torch as t\n",
    "from gninvert.gns import MultiDiffusionGN\n",
    "from gninvert.gnns import LinearGNN\n",
    "from gninvert.hyperparamsearch import hpsearch\n",
    "from gninvert.graph_compare import model_steps_compare\n",
    "import matplotlib.pyplot as plt"
   ]
  },
  {
   "cell_type": "code",
   "execution_count": 45,
   "id": "270497a2-a540-43c1-8056-2901bff3fc7a",
   "metadata": {},
   "outputs": [],
   "source": [
    "diffusionGN = MultiDiffusionGN([0.1, 0.1])"
   ]
  },
  {
   "cell_type": "code",
   "execution_count": 46,
   "id": "db7e3b00-2461-4c39-b9bf-e661a9ab4e2f",
   "metadata": {},
   "outputs": [],
   "source": [
    "device = t.device('cuda' if t.cuda.is_available() else 'cpu')"
   ]
  },
  {
   "cell_type": "code",
   "execution_count": 47,
   "id": "61f9f85f-a130-4a6d-9d51-5b18f9e08a26",
   "metadata": {},
   "outputs": [
    {
     "data": {
      "application/vnd.jupyter.widget-view+json": {
       "model_id": "51923d03be0547f18cceac6f2abf2a3f",
       "version_major": 2,
       "version_minor": 0
      },
      "text/plain": [
       "  0%|          | 0/18 [00:00<?, ?it/s]"
      ]
     },
     "metadata": {},
     "output_type": "display_data"
    },
    {
     "data": {
      "application/vnd.jupyter.widget-view+json": {
       "model_id": "fc9e5b8e2b034eae9ba860982387e5fc",
       "version_major": 2,
       "version_minor": 0
      },
      "text/plain": [
       "  0%|          | 0/300 [00:00<?, ?it/s]"
      ]
     },
     "metadata": {},
     "output_type": "display_data"
    },
    {
     "data": {
      "application/vnd.jupyter.widget-view+json": {
       "model_id": "ffeb8c82112f4fda925507523df130ec",
       "version_major": 2,
       "version_minor": 0
      },
      "text/plain": [
       "  0%|          | 0/300 [00:00<?, ?it/s]"
      ]
     },
     "metadata": {},
     "output_type": "display_data"
    },
    {
     "data": {
      "application/vnd.jupyter.widget-view+json": {
       "model_id": "bcbd9649645b4a41bda0e4e94d21c6a8",
       "version_major": 2,
       "version_minor": 0
      },
      "text/plain": [
       "  0%|          | 0/300 [00:00<?, ?it/s]"
      ]
     },
     "metadata": {},
     "output_type": "display_data"
    },
    {
     "data": {
      "application/vnd.jupyter.widget-view+json": {
       "model_id": "c62a0ea468b948bc939d3c6710821810",
       "version_major": 2,
       "version_minor": 0
      },
      "text/plain": [
       "  0%|          | 0/300 [00:00<?, ?it/s]"
      ]
     },
     "metadata": {},
     "output_type": "display_data"
    },
    {
     "data": {
      "application/vnd.jupyter.widget-view+json": {
       "model_id": "cb2c77a3b1274ae0b403a1c618aee9c0",
       "version_major": 2,
       "version_minor": 0
      },
      "text/plain": [
       "  0%|          | 0/300 [00:00<?, ?it/s]"
      ]
     },
     "metadata": {},
     "output_type": "display_data"
    },
    {
     "data": {
      "application/vnd.jupyter.widget-view+json": {
       "model_id": "226f017967f94fa79d2c5e5ef610058e",
       "version_major": 2,
       "version_minor": 0
      },
      "text/plain": [
       "  0%|          | 0/300 [00:00<?, ?it/s]"
      ]
     },
     "metadata": {},
     "output_type": "display_data"
    },
    {
     "data": {
      "application/vnd.jupyter.widget-view+json": {
       "model_id": "12c8bdef47674217918bb9ccca7f9191",
       "version_major": 2,
       "version_minor": 0
      },
      "text/plain": [
       "  0%|          | 0/300 [00:00<?, ?it/s]"
      ]
     },
     "metadata": {},
     "output_type": "display_data"
    },
    {
     "data": {
      "application/vnd.jupyter.widget-view+json": {
       "model_id": "5007d95c96574ed69103bec15d8828de",
       "version_major": 2,
       "version_minor": 0
      },
      "text/plain": [
       "  0%|          | 0/300 [00:00<?, ?it/s]"
      ]
     },
     "metadata": {},
     "output_type": "display_data"
    },
    {
     "data": {
      "application/vnd.jupyter.widget-view+json": {
       "model_id": "f4ad635e34f4491382ce779c5982e6da",
       "version_major": 2,
       "version_minor": 0
      },
      "text/plain": [
       "  0%|          | 0/300 [00:00<?, ?it/s]"
      ]
     },
     "metadata": {},
     "output_type": "display_data"
    },
    {
     "data": {
      "application/vnd.jupyter.widget-view+json": {
       "model_id": "1604dca370f24e0595b887530d25de29",
       "version_major": 2,
       "version_minor": 0
      },
      "text/plain": [
       "  0%|          | 0/300 [00:00<?, ?it/s]"
      ]
     },
     "metadata": {},
     "output_type": "display_data"
    },
    {
     "data": {
      "application/vnd.jupyter.widget-view+json": {
       "model_id": "eade231344874216b4bc930366a57fa9",
       "version_major": 2,
       "version_minor": 0
      },
      "text/plain": [
       "  0%|          | 0/300 [00:00<?, ?it/s]"
      ]
     },
     "metadata": {},
     "output_type": "display_data"
    },
    {
     "data": {
      "application/vnd.jupyter.widget-view+json": {
       "model_id": "c95c5eafdf5c4c8a8acdf6f5f91bb99c",
       "version_major": 2,
       "version_minor": 0
      },
      "text/plain": [
       "  0%|          | 0/300 [00:00<?, ?it/s]"
      ]
     },
     "metadata": {},
     "output_type": "display_data"
    },
    {
     "data": {
      "application/vnd.jupyter.widget-view+json": {
       "model_id": "d8749c810a854fe9bc03f2062164baaf",
       "version_major": 2,
       "version_minor": 0
      },
      "text/plain": [
       "  0%|          | 0/300 [00:00<?, ?it/s]"
      ]
     },
     "metadata": {},
     "output_type": "display_data"
    },
    {
     "data": {
      "application/vnd.jupyter.widget-view+json": {
       "model_id": "827dadee1fd94df4bf80c59cf8b7fa36",
       "version_major": 2,
       "version_minor": 0
      },
      "text/plain": [
       "  0%|          | 0/300 [00:00<?, ?it/s]"
      ]
     },
     "metadata": {},
     "output_type": "display_data"
    },
    {
     "data": {
      "application/vnd.jupyter.widget-view+json": {
       "model_id": "0763be421b0b41a0b12491f6878be50d",
       "version_major": 2,
       "version_minor": 0
      },
      "text/plain": [
       "  0%|          | 0/300 [00:00<?, ?it/s]"
      ]
     },
     "metadata": {},
     "output_type": "display_data"
    },
    {
     "data": {
      "application/vnd.jupyter.widget-view+json": {
       "model_id": "52ed750519344896a10c7e43a8f37793",
       "version_major": 2,
       "version_minor": 0
      },
      "text/plain": [
       "  0%|          | 0/300 [00:00<?, ?it/s]"
      ]
     },
     "metadata": {},
     "output_type": "display_data"
    },
    {
     "data": {
      "application/vnd.jupyter.widget-view+json": {
       "model_id": "aa481a3376c247fa9484180014b32353",
       "version_major": 2,
       "version_minor": 0
      },
      "text/plain": [
       "  0%|          | 0/300 [00:00<?, ?it/s]"
      ]
     },
     "metadata": {},
     "output_type": "display_data"
    },
    {
     "data": {
      "application/vnd.jupyter.widget-view+json": {
       "model_id": "df0e540cf0494dd1904b658a2408c4f5",
       "version_major": 2,
       "version_minor": 0
      },
      "text/plain": [
       "  0%|          | 0/300 [00:00<?, ?it/s]"
      ]
     },
     "metadata": {},
     "output_type": "display_data"
    },
    {
     "data": {
      "image/png": "[encoded data removed]",
      "text/plain": [
       "<Figure size 432x288 with 1 Axes>"
      ]
     },
     "metadata": {
      "needs_background": "light"
     },
     "output_type": "display_data"
    }
   ],
   "source": [
    "params = {\n",
    "    'starting_lr': [0.05],\n",
    "    'lr_scheduler_dec_factor': [0.2],\n",
    "    'lr_scheduler_patience': [20],\n",
    "    'lr_scheduler_cooldown': [20],\n",
    "    'batch_size': [1],\n",
    "    'adam_weight_decay': [5e-7],\n",
    "    'epochs': [300],\n",
    "    'loss_func': [t.nn.MSELoss(), t.nn.L1Loss()],\n",
    "    'regularization_coefficient': [1e-5, 1e-4, 1e-3],\n",
    "    'regularization_norm': [0.5, 1, 2]\n",
    "}\n",
    "\n",
    "results2 = hpsearch(\n",
    "    params,\n",
    "    model_constructor = lambda : LinearGNN(2).to(device),\n",
    "    model_score_fn = lambda model : model_steps_compare(model, diffusionGN)['absolute']['avg_difs'][-1]\n",
    ")\n",
    "\n",
    "plots2 = [res['val_loss_history'] for res in results2]\n",
    "for p in plots2:\n",
    "    plt.plot(p)\n",
    "plt.yscale('log')"
   ]
  },
  {
   "cell_type": "code",
   "execution_count": 50,
   "id": "b63dde62-16ca-4e7f-86ce-4404b1e8c0e6",
   "metadata": {},
   "outputs": [
    {
     "data": {
      "text/plain": [
       "[{'starting_lr': 0.05,\n",
       "  'lr_scheduler_dec_factor': 0.2,\n",
       "  'lr_scheduler_patience': 20,\n",
       "  'lr_scheduler_cooldown': 20,\n",
       "  'batch_size': 1,\n",
       "  'adam_weight_decay': 5e-07,\n",
       "  'epochs': 300,\n",
       "  'loss_func': MSELoss(),\n",
       "  'regularization_coefficient': 1e-07,\n",
       "  'regularization_norm': 2},\n",
       " {'starting_lr': 0.05,\n",
       "  'lr_scheduler_dec_factor': 0.2,\n",
       "  'lr_scheduler_patience': 20,\n",
       "  'lr_scheduler_cooldown': 20,\n",
       "  'batch_size': 1,\n",
       "  'adam_weight_decay': 5e-07,\n",
       "  'epochs': 300,\n",
       "  'loss_func': MSELoss(),\n",
       "  'regularization_coefficient': 1e-07,\n",
       "  'regularization_norm': 1}]"
      ]
     },
     "execution_count": 50,
     "metadata": {},
     "output_type": "execute_result"
    }
   ],
   "source": [
    "[results[i]['settings'] for i in range(2)]"
   ]
  },
  {
   "cell_type": "code",
   "execution_count": 51,
   "id": "7514cb8f-5507-4e3b-8e45-84a9c0073a39",
   "metadata": {},
   "outputs": [
    {
     "data": {
      "text/plain": [
       "[Parameter containing:\n",
       " tensor([[-0.3146,  0.0270,  0.3154, -0.0268],\n",
       "         [ 0.0188, -0.3391, -0.0186,  0.3397]], requires_grad=True),\n",
       " Parameter containing:\n",
       " tensor([-0.0005, -0.0004], requires_grad=True),\n",
       " Parameter containing:\n",
       " tensor([[ 9.9942e-01, -2.0976e-05,  3.1836e-01,  2.5339e-02],\n",
       "         [-5.1949e-05,  9.9955e-01,  1.7574e-02,  2.9560e-01]],\n",
       "        requires_grad=True),\n",
       " Parameter containing:\n",
       " tensor([0.0003, 0.0003], requires_grad=True)]"
      ]
     },
     "execution_count": 51,
     "metadata": {},
     "output_type": "execute_result"
    }
   ],
   "source": [
    "list(results[0]['model'].parameters())"
   ]
  },
  {
   "cell_type": "code",
   "execution_count": 53,
   "id": "6683fe30-d786-4ce5-9a4b-36ca7cf9723d",
   "metadata": {},
   "outputs": [],
   "source": [
    "t.save(results[0]['model'], 'models/sim2-L2.pt')"
   ]
  },
  {
   "cell_type": "code",
   "execution_count": null,
   "id": "f09ccb17-8a36-4d13-9b9c-2b73190ffa18",
   "metadata": {},
   "outputs": [],
   "source": []
  },
  {
   "cell_type": "code",
   "execution_count": null,
   "id": "a9b95c7c-a229-43ad-b43c-74846adc7ee0",
   "metadata": {},
   "outputs": [],
   "source": []
  },
  {
   "cell_type": "code",
   "execution_count": null,
   "id": "4ae84dbf-2f78-434d-a898-328f40f4d19f",
   "metadata": {},
   "outputs": [],
   "source": []
  },
  {
   "cell_type": "code",
   "execution_count": 17,
   "id": "a10b0ba9-1a82-4759-baa8-efbd20e29157",
   "metadata": {},
   "outputs": [],
   "source": [
    "params = {\n",
    "    'starting_lr': [0.05],\n",
    "    'lr_scheduler_dec_factor': [0.2],\n",
    "    'lr_scheduler_patience': [20],\n",
    "    'lr_scheduler_cooldown': [20],\n",
    "    'batch_size': [1],\n",
    "    'adam_weight_decay': [5e-7],\n",
    "    'epochs': [300],\n",
    "    'loss_func': [t.nn.MSELoss()],\n",
    "    'regularization_coefficient': [1e-7, 1e-5, 1e-3, 1e-1],\n",
    "    'regularization_norm': [1, 2]\n",
    "}"
   ]
  },
  {
   "cell_type": "code",
   "execution_count": 19,
   "id": "222e8d26-4ee5-48a4-b27a-e9e6eea6710d",
   "metadata": {},
   "outputs": [
    {
     "data": {
      "application/vnd.jupyter.widget-view+json": {
       "model_id": "a170f25184d0431aa3c2bd6a89bdae89",
       "version_major": 2,
       "version_minor": 0
      },
      "text/plain": [
       "  0%|          | 0/8 [00:00<?, ?it/s]"
      ]
     },
     "metadata": {},
     "output_type": "display_data"
    },
    {
     "data": {
      "application/vnd.jupyter.widget-view+json": {
       "model_id": "ddf4cc1e91f3443ab72fd71e8d5c3661",
       "version_major": 2,
       "version_minor": 0
      },
      "text/plain": [
       "  0%|          | 0/300 [00:00<?, ?it/s]"
      ]
     },
     "metadata": {},
     "output_type": "display_data"
    },
    {
     "data": {
      "application/vnd.jupyter.widget-view+json": {
       "model_id": "8617486e92c54ffd9ff948cbf5e563f8",
       "version_major": 2,
       "version_minor": 0
      },
      "text/plain": [
       "  0%|          | 0/300 [00:00<?, ?it/s]"
      ]
     },
     "metadata": {},
     "output_type": "display_data"
    },
    {
     "data": {
      "application/vnd.jupyter.widget-view+json": {
       "model_id": "bdf2e845be4e45fe9a6621a274477d05",
       "version_major": 2,
       "version_minor": 0
      },
      "text/plain": [
       "  0%|          | 0/300 [00:00<?, ?it/s]"
      ]
     },
     "metadata": {},
     "output_type": "display_data"
    },
    {
     "data": {
      "application/vnd.jupyter.widget-view+json": {
       "model_id": "290e148e671b4110ab02f890bf1a74e6",
       "version_major": 2,
       "version_minor": 0
      },
      "text/plain": [
       "  0%|          | 0/300 [00:00<?, ?it/s]"
      ]
     },
     "metadata": {},
     "output_type": "display_data"
    },
    {
     "data": {
      "application/vnd.jupyter.widget-view+json": {
       "model_id": "477a9b474a0c44fc937d2db79bede79d",
       "version_major": 2,
       "version_minor": 0
      },
      "text/plain": [
       "  0%|          | 0/300 [00:00<?, ?it/s]"
      ]
     },
     "metadata": {},
     "output_type": "display_data"
    },
    {
     "data": {
      "application/vnd.jupyter.widget-view+json": {
       "model_id": "9f73738d95f742c590a2f2d5b779f1a2",
       "version_major": 2,
       "version_minor": 0
      },
      "text/plain": [
       "  0%|          | 0/300 [00:00<?, ?it/s]"
      ]
     },
     "metadata": {},
     "output_type": "display_data"
    },
    {
     "data": {
      "application/vnd.jupyter.widget-view+json": {
       "model_id": "8bc1a9b44b774a4e89f9aa0ee142ab7e",
       "version_major": 2,
       "version_minor": 0
      },
      "text/plain": [
       "  0%|          | 0/300 [00:00<?, ?it/s]"
      ]
     },
     "metadata": {},
     "output_type": "display_data"
    },
    {
     "data": {
      "application/vnd.jupyter.widget-view+json": {
       "model_id": "50e579f5baed4cf8bad7a1855a68d248",
       "version_major": 2,
       "version_minor": 0
      },
      "text/plain": [
       "  0%|          | 0/300 [00:00<?, ?it/s]"
      ]
     },
     "metadata": {},
     "output_type": "display_data"
    }
   ],
   "source": [
    "results = hpsearch(\n",
    "    params,\n",
    "    model_constructor = lambda : LinearGNN(2).to(device),\n",
    "    model_score_fn = lambda model : model_steps_compare(model, diffusionGN)['absolute']['avg_difs'][-1]\n",
    ")"
   ]
  },
  {
   "cell_type": "code",
   "execution_count": 20,
   "id": "20b84b91-bd79-4c66-a10d-a4249a71243d",
   "metadata": {},
   "outputs": [
    {
     "data": {
      "image/png": "[encoded data removed]",
      "text/plain": [
       "<Figure size 432x288 with 1 Axes>"
      ]
     },
     "metadata": {
      "needs_background": "light"
     },
     "output_type": "display_data"
    }
   ],
   "source": [
    "plots = [res['val_loss_history'] for res in results]\n",
    "for p in plots:\n",
    "    plt.plot(p)\n",
    "plt.yscale('log')"
   ]
  },
  {
   "cell_type": "code",
   "execution_count": 22,
   "id": "9ea1f6c8-3972-4e1e-92a2-519ef8d212f1",
   "metadata": {},
   "outputs": [
    {
     "data": {
      "text/plain": [
       "[({'starting_lr': 0.05,\n",
       "   'lr_scheduler_dec_factor': 0.2,\n",
       "   'lr_scheduler_patience': 20,\n",
       "   'lr_scheduler_cooldown': 20,\n",
       "   'batch_size': 1,\n",
       "   'adam_weight_decay': 5e-07,\n",
       "   'epochs': 300,\n",
       "   'loss_func': MSELoss(),\n",
       "   'regularization_coefficient': 1e-07,\n",
       "   'regularization_norm': 2},),\n",
       " ({'starting_lr': 0.05,\n",
       "   'lr_scheduler_dec_factor': 0.2,\n",
       "   'lr_scheduler_patience': 20,\n",
       "   'lr_scheduler_cooldown': 20,\n",
       "   'batch_size': 1,\n",
       "   'adam_weight_decay': 5e-07,\n",
       "   'epochs': 300,\n",
       "   'loss_func': MSELoss(),\n",
       "   'regularization_coefficient': 1e-07,\n",
       "   'regularization_norm': 1},),\n",
       " ({'starting_lr': 0.05,\n",
       "   'lr_scheduler_dec_factor': 0.2,\n",
       "   'lr_scheduler_patience': 20,\n",
       "   'lr_scheduler_cooldown': 20,\n",
       "   'batch_size': 1,\n",
       "   'adam_weight_decay': 5e-07,\n",
       "   'epochs': 300,\n",
       "   'loss_func': MSELoss(),\n",
       "   'regularization_coefficient': 1e-05,\n",
       "   'regularization_norm': 2},)]"
      ]
     },
     "execution_count": 22,
     "metadata": {},
     "output_type": "execute_result"
    }
   ],
   "source": [
    "[(results[i]['settings'],) for i in range(3)]"
   ]
  },
  {
   "cell_type": "code",
   "execution_count": 23,
   "id": "0ccf3d59-0f4d-4b95-b409-035ee6ec2ddf",
   "metadata": {},
   "outputs": [
    {
     "data": {
      "text/plain": [
       "[(0.00045201927423477173, 5.246272749559466e-08),\n",
       " (0.000646372907795012, 6.019409681812249e-08),\n",
       " (0.0037178099155426025, 2.4325445338035934e-06),\n",
       " (0.10251538455486298, 0.005116369109600782),\n",
       " (0.12995238602161407, 0.6315050721168518),\n",
       " (0.15728004276752472, 0.5598198771476746),\n",
       " (0.18104438483715057, 0.011923183687031269),\n",
       " (0.19624969363212585, 0.01269106101244688)]"
      ]
     },
     "execution_count": 23,
     "metadata": {},
     "output_type": "execute_result"
    }
   ],
   "source": [
    "[(results[i]['score'], results[i]['val_loss_history'][-1]) for i in range(len(results))]"
   ]
  },
  {
   "cell_type": "code",
   "execution_count": 28,
   "id": "39ea4d66-720e-4576-b26c-d0e3ecc47ee4",
   "metadata": {},
   "outputs": [
    {
     "data": {
      "text/plain": [
       "[Parameter containing:\n",
       " tensor([[-0.3146,  0.0270,  0.3154, -0.0268],\n",
       "         [ 0.0188, -0.3391, -0.0186,  0.3397]], requires_grad=True),\n",
       " Parameter containing:\n",
       " tensor([-0.0005, -0.0004], requires_grad=True),\n",
       " Parameter containing:\n",
       " tensor([[ 9.9942e-01, -2.0976e-05,  3.1836e-01,  2.5339e-02],\n",
       "         [-5.1949e-05,  9.9955e-01,  1.7574e-02,  2.9560e-01]],\n",
       "        requires_grad=True),\n",
       " Parameter containing:\n",
       " tensor([0.0003, 0.0003], requires_grad=True)]"
      ]
     },
     "execution_count": 28,
     "metadata": {},
     "output_type": "execute_result"
    }
   ],
   "source": [
    "list(results[0]['model'].parameters())"
   ]
  },
  {
   "cell_type": "code",
   "execution_count": 24,
   "id": "daa58919-d75d-4e4e-8e0c-2d4661f2cdf2",
   "metadata": {},
   "outputs": [
    {
     "data": {
      "image/png": "[encoded data removed]",
      "text/plain": [
       "<Figure size 432x288 with 1 Axes>"
      ]
     },
     "metadata": {
      "needs_background": "light"
     },
     "output_type": "display_data"
    }
   ],
   "source": [
    "plt.scatter([result['score'] for result in results],\n",
    "            [result['val_loss_history'][-1] for result in results])\n",
    "\n",
    "plt.xlabel('last-step avg similarity')\n",
    "plt.ylabel('final validation loss')\n",
    "\n",
    "plt.yscale('log')\n",
    "plt.xscale('log')"
   ]
  },
  {
   "cell_type": "code",
   "execution_count": 31,
   "id": "879c2030-bb3e-49bc-a341-5ecf691e6173",
   "metadata": {},
   "outputs": [],
   "source": [
    "t.save(results[0]['model'], \"models/sim2-hpmodel1.pt\")"
   ]
  },
  {
   "cell_type": "markdown",
   "id": "1d7c80dc-52fe-42e9-a3f7-964e2c6dbec5",
   "metadata": {},
   "source": [
    "# Stability check"
   ]
  },
  {
   "cell_type": "code",
   "execution_count": 32,
   "id": "2a8dea29-7b4f-48f6-970f-e0f8f8874c23",
   "metadata": {},
   "outputs": [],
   "source": [
    "params_stability = {\n",
    "    'starting_lr': [0.01, 0.01, 0.01, 0.01],\n",
    "    'lr_scheduler_dec_factor': [0.2],\n",
    "    'lr_scheduler_patience': [20],\n",
    "    'lr_scheduler_cooldown': [20],\n",
    "    'batch_size': [1],\n",
    "    'adam_weight_decay': [5e-7],\n",
    "    'epochs': [600],\n",
    "    'loss_func': [t.nn.MSELoss()]\n",
    "}"
   ]
  },
  {
   "cell_type": "code",
   "execution_count": 33,
   "id": "c9350bc2-0a84-4015-b6f6-23910825c3c7",
   "metadata": {},
   "outputs": [
    {
     "data": {
      "application/vnd.jupyter.widget-view+json": {
       "model_id": "ee1e1ab4d41f46d180afc5d4cd4a0469",
       "version_major": 2,
       "version_minor": 0
      },
      "text/plain": [
       "  0%|          | 0/4 [00:00<?, ?it/s]"
      ]
     },
     "metadata": {},
     "output_type": "display_data"
    },
    {
     "data": {
      "application/vnd.jupyter.widget-view+json": {
       "model_id": "d5c908a7f68d4bad9a78ffe0359f9ab9",
       "version_major": 2,
       "version_minor": 0
      },
      "text/plain": [
       "  0%|          | 0/600 [00:00<?, ?it/s]"
      ]
     },
     "metadata": {},
     "output_type": "display_data"
    },
    {
     "data": {
      "application/vnd.jupyter.widget-view+json": {
       "model_id": "647f1053903d48a8981ae18c793776c0",
       "version_major": 2,
       "version_minor": 0
      },
      "text/plain": [
       "  0%|          | 0/600 [00:00<?, ?it/s]"
      ]
     },
     "metadata": {},
     "output_type": "display_data"
    },
    {
     "data": {
      "application/vnd.jupyter.widget-view+json": {
       "model_id": "ec7cb152c6624bcd95d5b46ec77605e8",
       "version_major": 2,
       "version_minor": 0
      },
      "text/plain": [
       "  0%|          | 0/600 [00:00<?, ?it/s]"
      ]
     },
     "metadata": {},
     "output_type": "display_data"
    },
    {
     "data": {
      "application/vnd.jupyter.widget-view+json": {
       "model_id": "dd4e630fb16144a9a3d56bb3dda2583b",
       "version_major": 2,
       "version_minor": 0
      },
      "text/plain": [
       "  0%|          | 0/600 [00:00<?, ?it/s]"
      ]
     },
     "metadata": {},
     "output_type": "display_data"
    }
   ],
   "source": [
    "sresults = hpsearch(\n",
    "    params_stability,\n",
    "    lambda : LinearGNN(2).to(device),\n",
    "    lambda model : model_steps_compare(model, diffusionGN)['absolute']['avg_difs'][-1]\n",
    ")"
   ]
  },
  {
   "cell_type": "code",
   "execution_count": 34,
   "id": "7a117a77-bf55-4c55-afbd-5c017abff54a",
   "metadata": {},
   "outputs": [
    {
     "data": {
      "image/png": "[encoded data removed]",
      "text/plain": [
       "<Figure size 432x288 with 1 Axes>"
      ]
     },
     "metadata": {
      "needs_background": "light"
     },
     "output_type": "display_data"
    }
   ],
   "source": [
    "plots = [res['val_loss_history'] for res in sresults]\n",
    "for p in plots:\n",
    "    plt.plot(p)\n",
    "plt.yscale('log')"
   ]
  },
  {
   "cell_type": "code",
   "execution_count": 38,
   "id": "c17a1180-f274-49d3-9c35-f0097f14ae14",
   "metadata": {},
   "outputs": [],
   "source": [
    "t.save(sresults[0]['model'], 'models/sim2-hpmodel2.pt')"
   ]
  },
  {
   "cell_type": "markdown",
   "id": "8a3444e4-97c1-43fb-a1dc-ac8b5757ff60",
   "metadata": {},
   "source": [
    "## Above: some idea of extent of randomness-induced instability in training with same hyperparams"
   ]
  },
  {
   "cell_type": "code",
   "execution_count": 35,
   "id": "a83012f1-b406-4020-a6fb-ce99a109ff58",
   "metadata": {},
   "outputs": [
    {
     "data": {
      "image/png": "[encoded data removed]",
      "text/plain": [
       "<Figure size 432x288 with 1 Axes>"
      ]
     },
     "metadata": {
      "needs_background": "light"
     },
     "output_type": "display_data"
    }
   ],
   "source": [
    "plt.scatter([result['score'] for result in sresults],\n",
    "            [result['val_loss_history'][-1] for result in sresults])\n",
    "\n",
    "plt.xlabel('last-step avg similarity')\n",
    "plt.ylabel('final validation loss')\n",
    "\n",
    "plt.yscale('log')\n",
    "plt.xscale('log')"
   ]
  },
  {
   "cell_type": "code",
   "execution_count": null,
   "id": "12dbf2dd-e5a8-4cf9-9ca8-f72bc284e5ae",
   "metadata": {},
   "outputs": [],
   "source": []
  }
 ],
 "metadata": {
  "kernelspec": {
   "display_name": "Python 3 (ipykernel)",
   "language": "python",
   "name": "python3"
  },
  "language_info": {
   "codemirror_mode": {
    "name": "ipython",
    "version": 3
   },
   "file_extension": ".py",
   "mimetype": "text/x-python",
   "name": "python",
   "nbconvert_exporter": "python",
   "pygments_lexer": "ipython3",
   "version": "3.9.10"
  }
 },
 "nbformat": 4,
 "nbformat_minor": 5
}

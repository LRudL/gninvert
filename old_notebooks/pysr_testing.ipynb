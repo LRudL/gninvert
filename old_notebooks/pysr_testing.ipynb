{
 "cells": [
  {
   "cell_type": "code",
   "execution_count": 18,
   "id": "1a7311df-26ac-42bc-9937-c0885cf2f8b8",
   "metadata": {},
   "outputs": [],
   "source": [
    "import numpy as np\n",
    "from pysr import PySRRegressor\n",
    "\n",
    "X = np.random.randn(100, 3)\n",
    "y = 1 / X[:,0] + X[:,0] / X[:,1] + 1 / (X[:,2] * X[:,2])"
   ]
  },
  {
   "cell_type": "code",
   "execution_count": 19,
   "id": "15652fc3-9a46-459c-9a3a-20aa0905eb8e",
   "metadata": {},
   "outputs": [
    {
     "data": {
      "text/plain": [
       "array([-0.4695879 , -0.86600133,  0.54368693])"
      ]
     },
     "execution_count": 19,
     "metadata": {},
     "output_type": "execute_result"
    }
   ],
   "source": [
    "X[0]"
   ]
  },
  {
   "cell_type": "code",
   "execution_count": 20,
   "id": "36ac82c6-b35a-4af1-97e4-87f2d10471ec",
   "metadata": {},
   "outputs": [
    {
     "data": {
      "text/plain": [
       "1.795723369387698"
      ]
     },
     "execution_count": 20,
     "metadata": {},
     "output_type": "execute_result"
    }
   ],
   "source": [
    "y[0]"
   ]
  },
  {
   "cell_type": "code",
   "execution_count": 21,
   "id": "9cb73260-1de2-4f81-904d-8a9353990f8b",
   "metadata": {},
   "outputs": [],
   "source": [
    "srmodel = PySRRegressor(\n",
    "        niterations=5\n",
    "    )"
   ]
  },
  {
   "cell_type": "code",
   "execution_count": 27,
   "id": "4606ef1a-9355-46f8-902d-aceb2a109bbf",
   "metadata": {},
   "outputs": [
    {
     "name": "stderr",
     "output_type": "stream",
     "text": [
      "/home/lrudl/.pyenv/versions/3.9.10/lib/python3.9/site-packages/pysr/sr.py:1114: UserWarning: Warning: PySR options have changed since the last run. This is experimental and may not work. For example, if the operators change, or even their order, the saved equations will be in the wrong format.\n",
      "\n",
      "To reset the search state, run `.reset()`. \n",
      "  warnings.warn(\n"
     ]
    },
    {
     "name": "stdout",
     "output_type": "stream",
     "text": [
      "Started!\n",
      "\n",
      "Cycles per second: 5.050e+04\n",
      "Head worker occupation: 2.9%\n",
      "Progress: 256 / 500 total iterations (51.200%)\n",
      "==============================\n",
      "Hall of Fame:\n",
      "-----------------------------------------\n",
      "Complexity  Loss       Score     Equation\n",
      "1           3.570e+08  1.025e-07  2567.823\n",
      "3           2.775e+07  1.277e+00  (361.3944 / x2)\n",
      "5           1.219e+02  6.168e+00  ((0.999985 / x2) / x2)\n",
      "7           1.194e+02  1.050e-02  (x1 + ((0.9999878 / x2) / x2))\n",
      "9           2.639e+01  7.547e-01  ((0.9999819 / (x2 * x2)) + (1.010732 / x0))\n",
      "11          2.572e+01  1.276e-02  ((((x0 / (x2 * x2)) - -1.0090524) / x0) + -1.3670781)\n",
      "13          2.560e+01  2.429e-03  (((0.9999902 / x2) / x2) + (((x1 / x0) / x1) - 0.72303325))\n",
      "15          2.444e+01  2.326e-02  (((((x0 / (x2 * x2)) - -1.0349151) / x0) - x0) - (x0 * x0))\n",
      "\n",
      "==============================\n",
      "Press 'q' and then <enter> to stop execution early.\n"
     ]
    },
    {
     "data": {
      "text/plain": [
       "PySRRegressor.equations = [\n",
       "\t   pick     score                                           equation  \\\n",
       "\t0        0.000000                                           2567.823   \n",
       "\t1        1.277196                                    (361.3944 / x2)   \n",
       "\t2  >>>>  6.167671                             ((0.999985 / x2) / x2)   \n",
       "\t3        0.010505                     (x1 + ((0.9999878 / x2) / x2))   \n",
       "\t4        0.754744        ((0.9999819 / (x2 * x2)) + (1.010732 / x0))   \n",
       "\t5        0.012760  ((((x0 / (x2 * x2)) - -1.0090524) / x0) + -1.3...   \n",
       "\t6        0.004055  (((((0.9716173 / x2) + (x2 / x0)) * 1.0292003)...   \n",
       "\t7        0.021634  (((((x0 / (x2 * x2)) - -1.0349151) / x0) - x0)...   \n",
       "\t\n",
       "\t           loss  complexity  \n",
       "\t0  3.569805e+08           1  \n",
       "\t1  2.775145e+07           3  \n",
       "\t2  1.219312e+02           5  \n",
       "\t3  1.193962e+02           7  \n",
       "\t4  2.638933e+01           9  \n",
       "\t5  2.572441e+01          11  \n",
       "\t6  2.551662e+01          13  \n",
       "\t7  2.443611e+01          15  \n",
       "]"
      ]
     },
     "execution_count": 27,
     "metadata": {},
     "output_type": "execute_result"
    }
   ],
   "source": [
    "srmodel.fit(X, y)"
   ]
  },
  {
   "cell_type": "code",
   "execution_count": 28,
   "id": "590cf2ae-9c58-4427-977d-e18a9ea7f497",
   "metadata": {},
   "outputs": [
    {
     "data": {
      "text/plain": [
       "complexity                                     5\n",
       "loss                                   121.93118\n",
       "score                                   6.167671\n",
       "equation                  ((0.999985 / x2) / x2)\n",
       "sympy_format                      0.999985/x2**2\n",
       "lambda_format    PySRFunction(X=>0.999985/x2**2)\n",
       "Name: 2, dtype: object"
      ]
     },
     "execution_count": 28,
     "metadata": {},
     "output_type": "execute_result"
    }
   ],
   "source": [
    "srmodel.get_best()"
   ]
  },
  {
   "cell_type": "code",
   "execution_count": 29,
   "id": "2ae36d50-9b4c-42b6-9628-ff4bce17ab3b",
   "metadata": {},
   "outputs": [
    {
     "data": {
      "text/plain": [
       "'((0.999985 / x2) / x2)'"
      ]
     },
     "execution_count": 29,
     "metadata": {},
     "output_type": "execute_result"
    }
   ],
   "source": [
    "srmodel.get_best().equation"
   ]
  },
  {
   "cell_type": "code",
   "execution_count": 30,
   "id": "b36fbc5a-e245-4216-b0f2-37237b6595e7",
   "metadata": {},
   "outputs": [
    {
     "data": {
      "text/plain": [
       "3.382950935108418"
      ]
     },
     "execution_count": 30,
     "metadata": {},
     "output_type": "execute_result"
    }
   ],
   "source": [
    "srmodel.get_best().lambda_format(X[0])"
   ]
  },
  {
   "cell_type": "code",
   "execution_count": 31,
   "id": "162f34a0-6eb5-44ba-884f-6521f597c678",
   "metadata": {},
   "outputs": [
    {
     "data": {
      "text/plain": [
       "1.795723369387698"
      ]
     },
     "execution_count": 31,
     "metadata": {},
     "output_type": "execute_result"
    }
   ],
   "source": [
    "y[0]"
   ]
  },
  {
   "cell_type": "code",
   "execution_count": null,
   "id": "fe7f9db3-9158-426a-ba95-c5dc30a3fe74",
   "metadata": {},
   "outputs": [],
   "source": []
  }
 ],
 "metadata": {
  "kernelspec": {
   "display_name": "Python 3 (ipykernel)",
   "language": "python",
   "name": "python3"
  },
  "language_info": {
   "codemirror_mode": {
    "name": "ipython",
    "version": 3
   },
   "file_extension": ".py",
   "mimetype": "text/x-python",
   "name": "python",
   "nbconvert_exporter": "python",
   "pygments_lexer": "ipython3",
   "version": "3.9.10"
  }
 },
 "nbformat": 4,
 "nbformat_minor": 5
}

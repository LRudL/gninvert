{
 "cells": [
  {
   "cell_type": "code",
   "execution_count": 1,
   "id": "126c19ec-2abf-46a0-9226-16e7b4c4ad2b",
   "metadata": {},
   "outputs": [],
   "source": [
    "%load_ext autoreload\n",
    "%autoreload 2"
   ]
  },
  {
   "cell_type": "code",
   "execution_count": 15,
   "id": "b4ca3bcc-6289-4d3d-8f5b-e79b5bbb51e0",
   "metadata": {},
   "outputs": [],
   "source": [
    "import torch as t\n",
    "from gninvert.symbolic_regression import get_pysr_equations, get_best_eq, pysr_test\n",
    "from gninvert.rule_discovery import *"
   ]
  },
  {
   "cell_type": "code",
   "execution_count": 3,
   "id": "c8ec5ec9-f628-47dd-ba58-9df5d8ced65c",
   "metadata": {},
   "outputs": [],
   "source": [
    "model1 = t.load('models/find_model_hp_res_sim1')[0]['model']"
   ]
  },
  {
   "cell_type": "code",
   "execution_count": 27,
   "id": "610a3f9f-c0e7-41ec-a29f-ee2454558858",
   "metadata": {},
   "outputs": [],
   "source": [
    "model2 = t.load('models/find_model_hp_res_sim2')[0]['model']"
   ]
  },
  {
   "cell_type": "code",
   "execution_count": 13,
   "id": "129dd46f-f579-4a3f-81c3-4e03cfd94e51",
   "metadata": {},
   "outputs": [
    {
     "data": {
      "text/plain": [
       "True"
      ]
     },
     "execution_count": 13,
     "metadata": {},
     "output_type": "execute_result"
    }
   ],
   "source": [
    "hasattr(model1, 'propagate')"
   ]
  },
  {
   "cell_type": "code",
   "execution_count": 4,
   "id": "0cd955cf-9688-42bc-9298-202e6e5a92a7",
   "metadata": {},
   "outputs": [
    {
     "name": "stderr",
     "output_type": "stream",
     "text": [
      "  Activating project at `~/.julia/environments/pysr-0.7.9`\n",
      "    Updating registry at `~/.julia/registries/General.toml`\n",
      "   Resolving package versions...\n",
      "  No Changes to `~/.julia/environments/pysr-0.7.9/Project.toml`\n",
      "  No Changes to `~/.julia/environments/pysr-0.7.9/Manifest.toml`\n",
      "  No Changes to `~/.julia/environments/pysr-0.7.9/Project.toml`\n",
      "  No Changes to `~/.julia/environments/pysr-0.7.9/Manifest.toml`\n",
      "┌ Warning: Replacing module `Parsers`\n",
      "└ @ Base loading.jl:1036\n",
      "┌ Warning: Replacing module `MacroTools`\n",
      "└ @ Base loading.jl:1036\n"
     ]
    },
    {
     "name": "stdout",
     "output_type": "stream",
     "text": [
      "Started!\n",
      "\n",
      "Cycles per second: 1.100e+04\n",
      "Head worker occupation: 15.2%\n",
      "Progress: 57 / 500 total iterations (11.400%)\n",
      "==============================\n",
      "Hall of Fame:\n",
      "-----------------------------------------\n",
      "Complexity  Loss       Score     Equation\n",
      "1           5.269e-03  -1.670e-08  0.011004856\n",
      "3           4.060e-03  1.303e-01  (x1 * 0.05896171)\n",
      "5           3.231e-06  3.568e+00  ((x0 - x1) * -0.16857849)\n",
      "7           1.584e-06  3.565e-01  (((x0 * 0.9860156) - x1) * -0.16932677)\n",
      "9           1.561e-06  7.201e-03  ((x1 * 0.16896538) + ((x0 - 0.0025535517) * -0.16732775))\n",
      "11          1.561e-06  7.857e-07  (((x0 + ((x1 * -1.0097864) - -0.010029318)) + -0.012583172) * -0.16732782)\n",
      "13          1.181e-06  1.395e-01  ((x1 * 0.3326384) + ((x0 + x1) * ((x0 * -0.0035681631) + -0.16288356)))\n",
      "\n",
      "==============================\n",
      "Press 'q' and then <enter> to stop execution early.\n",
      "\n",
      "Cycles per second: 1.330e+04\n",
      "Head worker occupation: 8.4%\n",
      "Progress: 137 / 500 total iterations (27.400%)\n",
      "==============================\n",
      "Hall of Fame:\n",
      "-----------------------------------------\n",
      "Complexity  Loss       Score     Equation\n",
      "1           5.269e-03  -1.670e-08  0.011004856\n",
      "3           4.060e-03  1.303e-01  (x1 * 0.05896171)\n",
      "5           3.231e-06  3.568e+00  ((x0 - x1) * -0.16857849)\n",
      "7           1.584e-06  3.565e-01  (((x0 * 0.9860156) - x1) * -0.16932677)\n",
      "9           1.561e-06  7.202e-03  (((x1 * 0.16896573) + (x0 * -0.16732822)) - -0.00042731347)\n",
      "11          1.498e-06  2.059e-02  ((((x1 - x0) / -369.65543) * (x0 + -62.619648)) + 0.0010324997)\n",
      "13          1.181e-06  1.190e-01  ((x1 * 0.3326384) + ((x0 + x1) * ((x0 * -0.0035681631) + -0.16288356)))\n",
      "15          1.113e-06  2.964e-02  ((((x0 / x1) + (((x0 - 0.7927207) * 0.033293653) - 1.0066205)) * -0.16523579) * x1)\n",
      "\n",
      "==============================\n",
      "Press 'q' and then <enter> to stop execution early.\n",
      "\n",
      "Cycles per second: 1.450e+04\n",
      "Head worker occupation: 7.6%\n",
      "Progress: 222 / 500 total iterations (44.400%)\n",
      "==============================\n",
      "Hall of Fame:\n",
      "-----------------------------------------\n",
      "Complexity  Loss       Score     Equation\n",
      "1           5.269e-03  -1.670e-08  0.011004856\n",
      "3           4.060e-03  1.303e-01  (x1 * 0.05896171)\n",
      "5           3.231e-06  3.568e+00  ((x0 - x1) * -0.16857849)\n",
      "7           1.584e-06  3.565e-01  (((x0 * 0.9860156) - x1) * -0.16932677)\n",
      "9           1.561e-06  7.202e-03  (((x1 * 0.16896573) + (x0 * -0.16732822)) - -0.00042731347)\n",
      "11          1.358e-06  6.995e-02  (((x1 - x0) * ((x1 * 0.004391316) - -0.16579294)) + 0.0008339997)\n",
      "13          1.181e-06  6.959e-02  ((x1 * 0.3326384) + ((x0 + x1) * ((x0 * -0.0035681631) + -0.16288356)))\n",
      "15          1.113e-06  2.964e-02  ((((x0 / x1) + (((x0 - 0.7927207) * 0.033293653) - 1.0066205)) * -0.16523579) * x1)\n",
      "\n",
      "==============================\n",
      "Press 'q' and then <enter> to stop execution early.\n",
      "\n",
      "Cycles per second: 1.640e+04\n",
      "Head worker occupation: 6.7%\n",
      "Progress: 335 / 500 total iterations (67.000%)\n",
      "==============================\n",
      "Hall of Fame:\n",
      "-----------------------------------------\n",
      "Complexity  Loss       Score     Equation\n",
      "1           5.269e-03  -1.670e-08  0.011004856\n",
      "3           4.060e-03  1.303e-01  (x1 * 0.05896171)\n",
      "5           3.231e-06  3.568e+00  ((x0 - x1) * -0.16857849)\n",
      "7           1.584e-06  3.565e-01  (((x0 * 0.9860156) - x1) * -0.16932677)\n",
      "9           1.561e-06  7.202e-03  (((x1 * 0.16896573) + (x0 * -0.16732822)) - -0.00042731347)\n",
      "11          1.358e-06  6.995e-02  (((x1 - x0) * ((x1 * 0.004391316) - -0.16579294)) + 0.0008339997)\n",
      "13          1.181e-06  6.959e-02  ((x1 * 0.3326384) + ((x0 + x1) * ((x0 * -0.0035681631) + -0.16288356)))\n",
      "15          1.113e-06  2.964e-02  ((((x0 / x1) + (((x0 - 0.7927207) * 0.033293653) - 1.0066205)) * -0.16523579) * x1)\n",
      "17          1.109e-06  1.715e-03  ((x1 * 0.17054872) + (x0 * ((((x1 / -1.2798221) * 0.006795846) - 0.1646831) + (x0 * -0.00073902064))))\n",
      "\n",
      "==============================\n",
      "Press 'q' and then <enter> to stop execution early.\n",
      "\n",
      "Cycles per second: 1.750e+04\n",
      "Head worker occupation: 6.2%\n",
      "Progress: 448 / 500 total iterations (89.600%)\n",
      "==============================\n",
      "Hall of Fame:\n",
      "-----------------------------------------\n",
      "Complexity  Loss       Score     Equation\n",
      "1           5.269e-03  -1.670e-08  0.011004856\n",
      "3           4.060e-03  1.303e-01  (x1 * 0.05896171)\n",
      "5           3.231e-06  3.568e+00  ((x1 - x0) / 5.931955)\n",
      "7           1.584e-06  3.565e-01  (((x0 * 0.9860156) - x1) * -0.16932677)\n",
      "9           1.561e-06  7.202e-03  (((x1 * 0.16896573) + (x0 * -0.16732822)) - -0.00042731347)\n",
      "11          1.358e-06  6.995e-02  (((x1 - x0) * ((x1 * 0.004391316) - -0.16579294)) + 0.0008339997)\n",
      "13          1.113e-06  9.922e-02  (((x1 - x0) * 0.16522822) + ((0.98821527 - x0) * (x1 * 0.005534728)))\n",
      "15          1.113e-06  1.102e-05  ((((x0 / x1) + (((x0 - 0.7927207) * 0.033293653) - 1.0066205)) * -0.16523579) * x1)\n",
      "17          1.109e-06  1.715e-03  ((x1 * 0.17054872) + (x0 * ((((x1 / -1.2798221) * 0.006795846) - 0.1646831) + (x0 * -0.00073902064))))\n",
      "\n",
      "==============================\n",
      "Press 'q' and then <enter> to stop execution early.\n"
     ]
    }
   ],
   "source": [
    "pm = find_rule_for_fn(\n",
    "    model1.message,\n",
    "    [1, 1],\n",
    "    arg_names = [\"a\", \"b\"],\n",
    "    return_all = True\n",
    ")"
   ]
  },
  {
   "cell_type": "code",
   "execution_count": 6,
   "id": "a937bb0f-1f63-41ee-99d2-f9dfc55b9c9e",
   "metadata": {},
   "outputs": [
    {
     "data": {
      "text/plain": [
       "'((x1 - x0) / 5.931955)'"
      ]
     },
     "execution_count": 6,
     "metadata": {},
     "output_type": "execute_result"
    }
   ],
   "source": [
    "pm.get_best()['equation']"
   ]
  },
  {
   "cell_type": "code",
   "execution_count": null,
   "id": "f24636ec-5dd8-4532-8326-03a87fc8e350",
   "metadata": {},
   "outputs": [],
   "source": []
  },
  {
   "cell_type": "code",
   "execution_count": null,
   "id": "08807864-f883-4ca1-82d7-5e1c0924d73a",
   "metadata": {},
   "outputs": [],
   "source": []
  },
  {
   "cell_type": "code",
   "execution_count": 17,
   "id": "ed4e583d-8a6d-4684-a687-fcba8b4599fe",
   "metadata": {
    "scrolled": true,
    "tags": []
   },
   "outputs": [
    {
     "name": "stdout",
     "output_type": "stream",
     "text": [
      "Started!\n",
      "\n",
      "Cycles per second: 1.520e+03\n",
      "Head worker occupation: 0.5%\n",
      "Progress: 8 / 500 total iterations (1.600%)\n",
      "==============================\n",
      "Hall of Fame:\n",
      "-----------------------------------------\n",
      "Complexity  Loss       Score     Equation\n",
      "1           4.135e-03  -1.670e-08  0.0010684069\n",
      "3           3.640e-03  6.368e-02  (xs1 * 0.03826543)\n",
      "5           3.160e-06  3.525e+00  ((xs1 - xt1) * 0.1686402)\n",
      "7           1.889e-06  2.572e-01  (((-0.006685287 - xs1) + xt1) * -0.16864261)\n",
      "9           1.706e-06  5.097e-02  (((xt1 - xs1) + (xs1 * -0.013098233)) * -0.16753864)\n",
      "11          1.706e-06  1.335e-04  (((xt1 - xs1) + ((xt1 - -0.03789656) * -0.012153291)) * -0.16966735)\n",
      "15          1.705e-06  6.844e-06  (((((((xs1 * 2.0375023) - xt1) + xs1) - xt1) + 0.0010537577) - xt1) * 0.055862878)\n",
      "19          1.705e-06  7.053e-08  (((((((((xs1 * 3.0499527) - xt1) + xs1) - xt1) - 0.041028835) + 0.04246177) - xt1) - xt1) * 0.041897457)\n",
      "\n",
      "==============================\n",
      "Press 'q' and then <enter> to stop execution early.\n",
      "\n",
      "Cycles per second: 1.070e+04\n",
      "Head worker occupation: 2.5%\n",
      "Progress: 110 / 500 total iterations (22.000%)\n",
      "==============================\n",
      "Hall of Fame:\n",
      "-----------------------------------------\n",
      "Complexity  Loss       Score     Equation\n",
      "1           4.135e-03  -1.670e-08  0.0010684069\n",
      "3           3.640e-03  6.368e-02  (xs1 * 0.03826543)\n",
      "5           3.160e-06  3.525e+00  ((xs1 - xt1) * 0.1686402)\n",
      "7           1.706e-06  3.082e-01  ((xs1 * 0.16973302) - (xt1 * 0.16753876))\n",
      "9           1.705e-06  1.474e-04  (((xt1 * -0.1675899) + 6.0115566e-5) + (xs1 * 0.16968225))\n",
      "11          1.379e-06  1.064e-01  (-0.22883739 / ((1.3534896 / ((xt1 * 0.99198574) - xs1)) - -0.027150543))\n",
      "17          1.276e-06  1.285e-02  (((xs1 / (((((xs1 / -1.5184127) - xt1) * 0.013026336) + -0.52098495) / 0.54167444)) + xt1) * -0.1667468)\n",
      "\n",
      "==============================\n",
      "Press 'q' and then <enter> to stop execution early.\n",
      "\n",
      "Cycles per second: 1.600e+04\n",
      "Head worker occupation: 2.9%\n",
      "Progress: 243 / 500 total iterations (48.600%)\n",
      "==============================\n",
      "Hall of Fame:\n",
      "-----------------------------------------\n",
      "Complexity  Loss       Score     Equation\n",
      "1           4.135e-03  -1.670e-08  0.0010684069\n",
      "3           3.640e-03  6.368e-02  (xs1 * 0.03826543)\n",
      "5           3.160e-06  3.525e+00  ((xs1 - xt1) * 0.1686402)\n",
      "7           1.706e-06  3.082e-01  ((xs1 * 0.16973302) - (xt1 * 0.16753876))\n",
      "9           1.705e-06  1.474e-04  (((xt1 * -0.1675899) + 6.0115566e-5) + (xs1 * 0.16968225))\n",
      "11          1.147e-06  1.984e-01  (((xs1 * (-1.0358567 - (xt1 * -0.03862887))) + xt1) * -0.16557974)\n",
      "13          1.147e-06  2.098e-07  (((xs1 * (-0.9963642 - ((xt1 - 1.0223414) * -0.03862944))) + xt1) * -0.16557977)\n",
      "17          1.147e-06  1.049e-07  (((((xt1 / xs1) + (((xs1 - xt1) - xs1) * -0.038628872)) + -1.0358567) * xs1) * -0.16557974)\n",
      "\n",
      "==============================\n",
      "Press 'q' and then <enter> to stop execution early.\n",
      "\n",
      "Cycles per second: 1.880e+04\n",
      "Head worker occupation: 3.1%\n",
      "Progress: 383 / 500 total iterations (76.600%)\n",
      "==============================\n",
      "Hall of Fame:\n",
      "-----------------------------------------\n",
      "Complexity  Loss       Score     Equation\n",
      "1           4.135e-03  -1.670e-08  0.0010684069\n",
      "3           3.640e-03  6.368e-02  (xs1 * 0.03826543)\n",
      "5           3.160e-06  3.525e+00  ((xs1 - xt1) * 0.1686402)\n",
      "7           1.706e-06  3.082e-01  ((xs1 * 0.16973302) - (xt1 * 0.16753876))\n",
      "9           1.705e-06  1.474e-04  (((xt1 * -0.1675899) + 6.0115566e-5) + (xs1 * 0.16968225))\n",
      "11          1.147e-06  1.984e-01  (((xs1 * (-1.0358567 - (xt1 * -0.03862887))) + xt1) * -0.16557974)\n",
      "13          1.147e-06  2.098e-07  (((xs1 * (-0.9963642 - ((xt1 - 1.0223414) * -0.03862944))) + xt1) * -0.16557977)\n",
      "17          1.147e-06  1.049e-07  (((((xt1 / xs1) + (((xs1 - xt1) - xs1) * -0.038628872)) + -1.0358567) * xs1) * -0.16557974)\n",
      "\n",
      "==============================\n",
      "Press 'q' and then <enter> to stop execution early.\n",
      "\n",
      "Cycles per second: 1.930e+04\n",
      "Head worker occupation: 3.1%\n",
      "Progress: 495 / 500 total iterations (99.000%)\n",
      "==============================\n",
      "Hall of Fame:\n",
      "-----------------------------------------\n",
      "Complexity  Loss       Score     Equation\n",
      "1           4.135e-03  -1.670e-08  0.0010684069\n",
      "3           3.640e-03  6.368e-02  (xs1 * 0.03826543)\n",
      "5           3.160e-06  3.525e+00  ((xs1 - xt1) * 0.1686402)\n",
      "7           1.706e-06  3.082e-01  ((xs1 * 0.16973302) - (xt1 * 0.16753876))\n",
      "9           1.705e-06  1.474e-04  (((xt1 * -0.1675899) + 6.0115566e-5) + (xs1 * 0.16968225))\n",
      "11          1.147e-06  1.984e-01  (((xs1 * (-1.0358567 - (xt1 * -0.03862887))) + xt1) * -0.16557974)\n",
      "13          1.147e-06  2.098e-07  (((xs1 * (-0.9963642 - ((xt1 - 1.0223414) * -0.03862944))) + xt1) * -0.16557977)\n",
      "17          1.147e-06  1.049e-07  (((((xt1 / xs1) + (((xs1 - xt1) - xs1) * -0.038628872)) + -1.0358567) * xs1) * -0.16557974)\n",
      "\n",
      "==============================\n",
      "Press 'q' and then <enter> to stop execution early.\n",
      "Started!\n",
      "\n",
      "Cycles per second: 3.480e+03\n",
      "Head worker occupation: 0.5%\n",
      "Progress: 18 / 500 total iterations (3.600%)\n",
      "==============================\n",
      "Hall of Fame:\n",
      "-----------------------------------------\n",
      "Complexity  Loss       Score     Equation\n",
      "1           1.016e-01  1.025e-07  0.8239417\n",
      "3           2.843e-02  6.366e-01  (a1 + 0.297675)\n",
      "5           5.613e-05  3.114e+00  (a1 + (xt1 * 0.5957515))\n",
      "7           5.581e-05  2.889e-03  (((xt1 * 0.59400415) + a1) + 0.0011506522)\n",
      "9           5.581e-05  3.177e-07  (xt1 * (((a1 - -0.0011509878) / xt1) - -0.59400356))\n",
      "11          5.046e-05  5.036e-02  (((xt1 * 0.5949687) + (1.3719701e-5 / a1)) + (a1 + 0.00041779946))\n",
      "15          4.951e-05  4.753e-03  ((a1 + (((((a1 * -0.008623218) / 0.5540474) * a1) + -0.399058) * xt1)) + xt1)\n",
      "\n",
      "==============================\n",
      "Press 'q' and then <enter> to stop execution early.\n",
      "\n",
      "Cycles per second: 1.360e+04\n",
      "Head worker occupation: 2.8%\n",
      "Progress: 139 / 500 total iterations (27.800%)\n",
      "==============================\n",
      "Hall of Fame:\n",
      "-----------------------------------------\n",
      "Complexity  Loss       Score     Equation\n",
      "1           1.016e-01  1.025e-07  0.8239417\n",
      "3           2.843e-02  6.366e-01  (a1 + 0.297675)\n",
      "5           5.613e-05  3.114e+00  (a1 + (xt1 / 1.6785852))\n",
      "7           5.581e-05  2.889e-03  ((a1 - (xt1 * -0.59400135)) - -0.0011520762)\n",
      "9           5.050e-05  4.995e-02  ((a1 + (1.3916181e-5 / a1)) + (xt1 * 0.59559923))\n",
      "11          4.749e-05  3.077e-02  ((a1 + (0.0008323416 / (a1 + xt1))) + (xt1 * 0.59450394))\n",
      "15          4.653e-05  5.112e-03  ((xt1 * 0.5994697) - (((xt1 * a1) * (a1 * 0.023782438)) - (a1 * 1.0054487)))\n",
      "\n",
      "==============================\n",
      "Press 'q' and then <enter> to stop execution early.\n",
      "\n",
      "Cycles per second: 1.870e+04\n",
      "Head worker occupation: 3.3%\n",
      "Progress: 286 / 500 total iterations (57.200%)\n",
      "==============================\n",
      "Hall of Fame:\n",
      "-----------------------------------------\n",
      "Complexity  Loss       Score     Equation\n",
      "1           1.016e-01  1.025e-07  0.8239417\n",
      "3           2.843e-02  6.366e-01  (a1 + 0.297675)\n",
      "5           5.613e-05  3.114e+00  (a1 + (xt1 / 1.6785852))\n",
      "7           5.581e-05  2.889e-03  ((a1 - (xt1 * -0.59400135)) - -0.0011520762)\n",
      "9           5.050e-05  4.995e-02  ((a1 + (1.3916181e-5 / a1)) + (xt1 * 0.59559923))\n",
      "11          4.749e-05  3.077e-02  ((a1 + (0.0008323416 / (a1 + xt1))) + (xt1 * 0.59450394))\n",
      "15          4.653e-05  5.112e-03  ((xt1 * 0.5994697) - (((xt1 * a1) * (a1 * 0.023782438)) - (a1 * 1.0054487)))\n",
      "\n",
      "==============================\n",
      "Press 'q' and then <enter> to stop execution early.\n",
      "\n",
      "Cycles per second: 2.150e+04\n",
      "Head worker occupation: 3.7%\n",
      "Progress: 436 / 500 total iterations (87.200%)\n",
      "==============================\n",
      "Hall of Fame:\n",
      "-----------------------------------------\n",
      "Complexity  Loss       Score     Equation\n",
      "1           1.016e-01  1.025e-07  0.8239417\n",
      "3           2.843e-02  6.366e-01  (a1 + 0.297675)\n",
      "5           5.613e-05  3.114e+00  (a1 + (xt1 / 1.6785852))\n",
      "7           5.581e-05  2.889e-03  ((a1 - (xt1 * -0.59400135)) - -0.0011520762)\n",
      "9           5.050e-05  4.995e-02  (((1.3908475e-5 / a1) - (xt1 * -0.59559923)) + a1)\n",
      "11          4.749e-05  3.077e-02  ((a1 + (0.0008323416 / (a1 + xt1))) + (xt1 * 0.59450394))\n",
      "15          4.653e-05  5.112e-03  ((xt1 * 0.5994697) - (((xt1 * a1) * (a1 * 0.023782438)) - (a1 * 1.0054487)))\n",
      "\n",
      "==============================\n",
      "Press 'q' and then <enter> to stop execution early.\n"
     ]
    }
   ],
   "source": [
    "rules = find_rules_for_model(model1)"
   ]
  },
  {
   "cell_type": "code",
   "execution_count": 18,
   "id": "6f8b65eb-fbc1-4b42-861a-e75a679c3361",
   "metadata": {},
   "outputs": [
    {
     "data": {
      "text/plain": [
       "(complexity                                                    5\n",
       " loss                                                   0.000003\n",
       " score                                                  3.524658\n",
       " equation                              ((xs1 - xt1) * 0.1686402)\n",
       " sympy_format                      0.1686402*xs1 - 0.1686402*xt1\n",
       " lambda_format    PySRFunction(X=>0.1686402*xs1 - 0.1686402*xt1)\n",
       " Name: 2, dtype: object,\n",
       " complexity                                                 5\n",
       " loss                                                0.000056\n",
       " score                                               3.113708\n",
       " equation                            ((xt1 / 1.6785522) + a1)\n",
       " sympy_format                      a1 + 0.595751505374691*xt1\n",
       " lambda_format    PySRFunction(X=>a1 + 0.595751505374691*xt1)\n",
       " Name: 2, dtype: object)"
      ]
     },
     "execution_count": 18,
     "metadata": {},
     "output_type": "execute_result"
    }
   ],
   "source": [
    "rules"
   ]
  },
  {
   "cell_type": "code",
   "execution_count": 21,
   "id": "71b05973-b188-4cf7-85fe-fabf11fa6dbc",
   "metadata": {},
   "outputs": [
    {
     "data": {
      "text/plain": [
       "'((xs1 - xt1) * 0.1686402)'"
      ]
     },
     "execution_count": 21,
     "metadata": {},
     "output_type": "execute_result"
    }
   ],
   "source": [
    "rules[0].equation"
   ]
  },
  {
   "cell_type": "code",
   "execution_count": 22,
   "id": "17aa7f2a-8605-4c5f-8b5b-250bb69ad0b2",
   "metadata": {},
   "outputs": [
    {
     "data": {
      "text/plain": [
       "'((xt1 / 1.6785522) + a1)'"
      ]
     },
     "execution_count": 22,
     "metadata": {},
     "output_type": "execute_result"
    }
   ],
   "source": [
    "rules[1].equation"
   ]
  },
  {
   "cell_type": "code",
   "execution_count": null,
   "id": "78505969-4137-4935-a11f-3c7709bf5932",
   "metadata": {},
   "outputs": [],
   "source": []
  },
  {
   "cell_type": "code",
   "execution_count": null,
   "id": "5fcf1df5-de04-4676-8de8-d85437e8e170",
   "metadata": {},
   "outputs": [],
   "source": []
  },
  {
   "cell_type": "code",
   "execution_count": 33,
   "id": "23001650-97cc-4557-a659-72ec9058a01b",
   "metadata": {},
   "outputs": [
    {
     "data": {
      "text/plain": [
       "1"
      ]
     },
     "execution_count": 33,
     "metadata": {},
     "output_type": "execute_result"
    }
   ],
   "source": [
    "model2.message_features"
   ]
  },
  {
   "cell_type": "code",
   "execution_count": 34,
   "id": "5488eacb-8f06-42c2-af0d-6abcccd6d3da",
   "metadata": {},
   "outputs": [
    {
     "data": {
      "text/plain": [
       "1"
      ]
     },
     "execution_count": 34,
     "metadata": {},
     "output_type": "execute_result"
    }
   ],
   "source": [
    "model2.node_features"
   ]
  },
  {
   "cell_type": "code",
   "execution_count": 28,
   "id": "e145b2e6-17c3-4524-b5ed-c552fb043590",
   "metadata": {
    "scrolled": true,
    "tags": []
   },
   "outputs": [
    {
     "name": "stdout",
     "output_type": "stream",
     "text": [
      "Started!\n",
      "\n",
      "Cycles per second: 2.370e+03\n",
      "Head worker occupation: 0.4%\n",
      "Progress: 12 / 500 total iterations (2.400%)\n",
      "==============================\n",
      "Hall of Fame:\n",
      "-----------------------------------------\n",
      "Complexity  Loss       Score     Equation\n",
      "1           4.448e-03  -1.670e-08  0.008218786\n",
      "3           3.620e-03  1.029e-01  (xs * 0.05068744)\n",
      "5           4.613e-04  1.030e+00  (-0.116665736 * (xt - xs))\n",
      "7           9.569e-07  3.089e+00  ((xs - (xt - 0.00551764)) * 0.17106901)\n",
      "9           9.319e-07  1.320e-02  ((xt - ((xs + 0.0032426675) * 1.0045929)) * -0.1706668)\n",
      "11          5.869e-07  2.312e-01  ((((xs - xt) * (xt + -13.055408)) * -3.4643996) / 255.59908)\n",
      "15          2.545e-07  2.089e-01  ((((xs - xt) * (((xt + -0.7035951) * -0.08175417) + 1.7184651)) * 0.09829087) + 0.0003649739)\n",
      "\n",
      "==============================\n",
      "Press 'q' and then <enter> to stop execution early.\n",
      "\n",
      "Cycles per second: 1.210e+04\n",
      "Head worker occupation: 2.1%\n",
      "Progress: 123 / 500 total iterations (24.600%)\n",
      "==============================\n",
      "Hall of Fame:\n",
      "-----------------------------------------\n",
      "Complexity  Loss       Score     Equation\n",
      "1           4.448e-03  -1.670e-08  0.008218786\n",
      "3           3.620e-03  1.029e-01  (xs * 0.05068744)\n",
      "5           1.838e-06  3.793e+00  ((xt - xs) * -0.17133075)\n",
      "7           9.569e-07  3.263e-01  (((xs - xt) - -0.005518708) * 0.17106877)\n",
      "9           9.319e-07  1.320e-02  ((((xt * -0.99542665) + xs) + 0.0032406226) * 0.17144994)\n",
      "11          3.432e-07  4.995e-01  ((((xt - xs) / (xt - -32.71386)) * -5.6703734) + 0.0005729572)\n",
      "15          2.545e-07  7.480e-02  ((((xs - xt) * (((xt + -0.7035951) * -0.08175417) + 1.7184651)) * 0.09829087) + 0.0003649739)\n",
      "17          2.523e-07  4.155e-03  ((((xs - xt) - -0.0021227805) * 0.5145447) / (((xs / xs) + 1.9468206) + (xt * 0.14224872)))\n",
      "\n",
      "==============================\n",
      "Press 'q' and then <enter> to stop execution early.\n",
      "\n",
      "Cycles per second: 1.740e+04\n",
      "Head worker occupation: 2.6%\n",
      "Progress: 264 / 500 total iterations (52.800%)\n",
      "==============================\n",
      "Hall of Fame:\n",
      "-----------------------------------------\n",
      "Complexity  Loss       Score     Equation\n",
      "1           4.448e-03  -1.670e-08  0.008218786\n",
      "3           3.620e-03  1.029e-01  (xs * 0.05068744)\n",
      "5           1.838e-06  3.793e+00  ((xt - xs) * -0.17133075)\n",
      "7           9.569e-07  3.263e-01  (((xt - xs) + -0.0055186483) * -0.17106941)\n",
      "9           4.205e-07  4.111e-01  (((xs - xt) * 3.9289117) / (xt + 22.520042))\n",
      "11          3.432e-07  1.016e-01  ((((xt - xs) / (xt - -32.71386)) * -5.6703734) + 0.0005729572)\n",
      "15          2.545e-07  7.480e-02  ((((xs - xt) * (((xt + -0.7035951) * -0.08175417) + 1.7184651)) * 0.09829087) + 0.0003649739)\n",
      "17          2.523e-07  4.155e-03  ((((xs - xt) - -0.0021227805) * 0.5145447) / (((xs / xs) + 1.9468206) + (xt * 0.14224872)))\n",
      "\n",
      "==============================\n",
      "Press 'q' and then <enter> to stop execution early.\n",
      "\n",
      "Cycles per second: 2.060e+04\n",
      "Head worker occupation: 3.2%\n",
      "Progress: 415 / 500 total iterations (83.000%)\n",
      "==============================\n",
      "Hall of Fame:\n",
      "-----------------------------------------\n",
      "Complexity  Loss       Score     Equation\n",
      "1           4.448e-03  -1.670e-08  0.008218786\n",
      "3           3.620e-03  1.029e-01  (xs * 0.05068744)\n",
      "5           1.838e-06  3.793e+00  ((xt - xs) * -0.17133075)\n",
      "7           9.569e-07  3.263e-01  (((xt - xs) + -0.0055186483) * -0.17106941)\n",
      "9           3.439e-07  5.116e-01  ((xs - xt) * ((xt * -0.009658572) - -0.17533739))\n",
      "11          3.432e-07  1.066e-03  ((((xt - xs) / (xt - -32.71386)) * -5.6703734) + 0.0005729572)\n",
      "15          2.545e-07  7.480e-02  ((((xs - xt) * (((xt + -0.7035951) * -0.08175417) + 1.7184651)) * 0.09829087) + 0.0003649739)\n",
      "17          2.523e-07  4.155e-03  ((((xs - xt) - -0.0021227805) * 0.5145447) / (((xs / xs) + 1.9468206) + (xt * 0.14224872)))\n",
      "\n",
      "==============================\n",
      "Press 'q' and then <enter> to stop execution early.\n",
      "Started!\n",
      "\n",
      "Cycles per second: 9.210e+02\n",
      "Head worker occupation: 0.3%\n",
      "Progress: 5 / 500 total iterations (1.000%)\n",
      "==============================\n",
      "Hall of Fame:\n",
      "-----------------------------------------\n",
      "Complexity  Loss       Score     Equation\n",
      "1           1.096e-01  -1.670e-08  0.8577451\n",
      "3           2.668e-02  7.063e-01  (a + 0.32006827)\n",
      "5           4.142e-05  3.234e+00  (a - (xt * -0.5790615))\n",
      "7           4.134e-05  9.992e-04  ((a - 0.0006335122) + (xt * 0.57997143))\n",
      "9           3.046e-05  1.528e-01  ((a * 0.9908982) - ((xt * 0.67740655) / -1.1555955))\n",
      "13          2.762e-05  2.445e-02  (a - ((xt * (((a - -0.041361276) * -0.01966346) - -0.53159404)) / -0.897866))\n",
      "17          2.350e-05  4.038e-02  (a - ((xt * (((0.012149074 / (a + -1.5058931)) * (a - -0.027912246)) - -0.5600408)) / -0.9512821))\n",
      "\n",
      "==============================\n",
      "Press 'q' and then <enter> to stop execution early.\n",
      "\n",
      "Cycles per second: 1.110e+04\n",
      "Head worker occupation: 1.5%\n",
      "Progress: 112 / 500 total iterations (22.400%)\n",
      "==============================\n",
      "Hall of Fame:\n",
      "-----------------------------------------\n",
      "Complexity  Loss       Score     Equation\n",
      "1           1.096e-01  -1.670e-08  0.8577451\n",
      "3           2.668e-02  7.063e-01  (a + 0.32006827)\n",
      "5           4.142e-05  3.234e+00  ((xt / 1.7269235) + a)\n",
      "7           3.046e-05  1.538e-01  ((a + (xt * 0.59159887)) * 0.9908863)\n",
      "9           2.507e-05  9.739e-02  (((a * 0.9857014) + 0.0065923487) - (xt * -0.58080685))\n",
      "11          1.756e-05  1.780e-01  ((a + (xt * 0.5779417)) / ((a * 0.023090433) - -0.9846735))\n",
      "\n",
      "==============================\n",
      "Press 'q' and then <enter> to stop execution early.\n",
      "\n",
      "Cycles per second: 1.630e+04\n",
      "Head worker occupation: 3.0%\n",
      "Progress: 248 / 500 total iterations (49.600%)\n",
      "==============================\n",
      "Hall of Fame:\n",
      "-----------------------------------------\n",
      "Complexity  Loss       Score     Equation\n",
      "1           1.096e-01  -1.670e-08  0.8577451\n",
      "3           2.668e-02  7.063e-01  (a + 0.32006827)\n",
      "5           4.142e-05  3.234e+00  ((xt / 1.7269235) + a)\n",
      "7           3.046e-05  1.538e-01  (((xt * 0.5915948) + a) * 0.9908905)\n",
      "9           2.507e-05  9.739e-02  (((a + (xt * 0.589231)) * 0.9856976) + 0.0065963594)\n",
      "11          1.756e-05  1.780e-01  ((a + (xt * 0.5779417)) / ((a * 0.023090433) - -0.9846735))\n",
      "17          1.413e-05  3.626e-02  ((a * 1.0275283) + (((xt * 0.8605162) - ((a + a) * (a * 0.030682227))) * 0.67367053))\n",
      "\n",
      "==============================\n",
      "Press 'q' and then <enter> to stop execution early.\n",
      "\n",
      "Cycles per second: 1.930e+04\n",
      "Head worker occupation: 3.0%\n",
      "Progress: 394 / 500 total iterations (78.800%)\n",
      "==============================\n",
      "Hall of Fame:\n",
      "-----------------------------------------\n",
      "Complexity  Loss       Score     Equation\n",
      "1           1.096e-01  -1.670e-08  0.8577451\n",
      "3           2.668e-02  7.063e-01  (a + 0.32006827)\n",
      "5           4.142e-05  3.234e+00  ((xt / 1.7269235) + a)\n",
      "7           3.046e-05  1.538e-01  (((xt * 0.5915948) + a) * 0.9908905)\n",
      "9           2.507e-05  9.739e-02  (((a + (xt * 0.589231)) * 0.9856976) + 0.0065963594)\n",
      "11          1.756e-05  1.780e-01  ((a + (xt * 0.5779417)) / ((a * 0.023090433) - -0.9846735))\n",
      "17          1.413e-05  3.626e-02  ((a * 1.0275283) + (((xt * 0.8605162) - ((a + a) * (a * 0.030682227))) * 0.67367053))\n",
      "\n",
      "==============================\n",
      "Press 'q' and then <enter> to stop execution early.\n"
     ]
    }
   ],
   "source": [
    "rules2 = find_rules_for_model(model2)"
   ]
  },
  {
   "cell_type": "code",
   "execution_count": 31,
   "id": "2aa39a2f-b215-42a1-986e-738dd1333d13",
   "metadata": {},
   "outputs": [
    {
     "data": {
      "text/plain": [
       "'((xt - xs) * -0.17133075)'"
      ]
     },
     "execution_count": 31,
     "metadata": {},
     "output_type": "execute_result"
    }
   ],
   "source": [
    "rules2[0].equation"
   ]
  },
  {
   "cell_type": "code",
   "execution_count": 32,
   "id": "808ce726-1461-4fee-8254-e7bd4176a824",
   "metadata": {},
   "outputs": [
    {
     "data": {
      "text/plain": [
       "'((xt / 1.7269235) + a)'"
      ]
     },
     "execution_count": 32,
     "metadata": {},
     "output_type": "execute_result"
    }
   ],
   "source": [
    "rules2[1].equation"
   ]
  },
  {
   "cell_type": "code",
   "execution_count": null,
   "id": "e08f106a-b503-45a7-80e6-991880ddf611",
   "metadata": {},
   "outputs": [],
   "source": []
  }
 ],
 "metadata": {
  "kernelspec": {
   "display_name": "Python 3 (ipykernel)",
   "language": "python",
   "name": "python3"
  },
  "language_info": {
   "codemirror_mode": {
    "name": "ipython",
    "version": 3
   },
   "file_extension": ".py",
   "mimetype": "text/x-python",
   "name": "python",
   "nbconvert_exporter": "python",
   "pygments_lexer": "ipython3",
   "version": "3.9.10"
  }
 },
 "nbformat": 4,
 "nbformat_minor": 5
}

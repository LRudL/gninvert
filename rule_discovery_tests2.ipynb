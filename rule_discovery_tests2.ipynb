{
 "cells": [
  {
   "cell_type": "code",
   "execution_count": 1,
   "id": "eaa3da83-3766-4ab2-9b5e-a3f372ce824c",
   "metadata": {},
   "outputs": [],
   "source": [
    "%load_ext autoreload\n",
    "%autoreload 2\n",
    "\n",
    "import torch as t\n",
    "import torch_geometric as ptgeo\n",
    "import matplotlib.pyplot as plt\n",
    "\n",
    "from gninvert.rule_discovery import invert_gn\n",
    "from gninvert.gns import *"
   ]
  },
  {
   "cell_type": "code",
   "execution_count": 2,
   "id": "defb3a6e-9eca-4a64-858a-2ae06433fd19",
   "metadata": {},
   "outputs": [],
   "source": [
    "diff_gn1 = SingleDiffusionGN(\n",
    "    diffusion_constant=0.1\n",
    ")\n",
    "diff_gn2 = MultiDiffusionGN(\n",
    "    diffusion_constants=[0.1, 0.1]\n",
    ")"
   ]
  },
  {
   "cell_type": "code",
   "execution_count": 6,
   "id": "c738527a-af03-4334-8f95-64fbdbdd25da",
   "metadata": {
    "scrolled": true,
    "tags": []
   },
   "outputs": [
    {
     "name": "stdout",
     "output_type": "stream",
     "text": [
      "TRAINING\n",
      "Number of node features: 1\n",
      "Defaulting to 1 message features\n",
      "Only one hyperparameter setting found; will not run a hyperparameter search.\n"
     ]
    },
    {
     "data": {
      "application/vnd.jupyter.widget-view+json": {
       "model_id": "dc249600df274756af55ce4050d1ad74",
       "version_major": 2,
       "version_minor": 0
      },
      "text/plain": [
       "  0%|          | 0/1 [00:00<?, ?it/s]"
      ]
     },
     "metadata": {},
     "output_type": "display_data"
    },
    {
     "data": {
      "application/vnd.jupyter.widget-view+json": {
       "model_id": "4b24a818a88b4e39bf01f02d68f74e0d",
       "version_major": 2,
       "version_minor": 0
      },
      "text/plain": [
       "  0%|          | 0/100 [00:00<?, ?it/s]"
      ]
     },
     "metadata": {},
     "output_type": "display_data"
    },
    {
     "name": "stdout",
     "output_type": "stream",
     "text": [
      "Saved model results list to runs/gninversion_2022-04-02_14:27:16/hpsearch\n",
      "Saved model with lowest validation loss to runs/gninversion_2022-04-02_14:27:16/model\n",
      "INVERTING\n"
     ]
    },
    {
     "name": "stderr",
     "output_type": "stream",
     "text": [
      "  Activating project at `~/.julia/environments/pysr-0.7.9`\n",
      "    Updating registry at `~/.julia/registries/General.toml`\n",
      "   Resolving package versions...\n",
      "  No Changes to `~/.julia/environments/pysr-0.7.9/Project.toml`\n",
      "  No Changes to `~/.julia/environments/pysr-0.7.9/Manifest.toml`\n",
      "  No Changes to `~/.julia/environments/pysr-0.7.9/Project.toml`\n",
      "  No Changes to `~/.julia/environments/pysr-0.7.9/Manifest.toml`\n",
      "┌ Warning: Replacing module `Parsers`\n",
      "└ @ Base loading.jl:1036\n",
      "┌ Warning: Replacing module `MacroTools`\n",
      "└ @ Base loading.jl:1036\n"
     ]
    },
    {
     "name": "stdout",
     "output_type": "stream",
     "text": [
      "Started!\n",
      "\n",
      "Cycles per second: 6.350e+04\n",
      "Head worker occupation: 7.6%\n",
      "Progress: 318 / 500 total iterations (63.600%)\n",
      "==============================\n",
      "Hall of Fame:\n",
      "-----------------------------------------\n",
      "Complexity  Loss       Score     Equation\n",
      "1           NaN       NaN       xt\n",
      "\n",
      "==============================\n",
      "Press 'q' and then <enter> to stop execution early.\n",
      "Started!\n",
      "\n",
      "Cycles per second: 5.880e+02\n",
      "Head worker occupation: 5.7%\n",
      "Progress: 3 / 500 total iterations (0.600%)\n",
      "==============================\n",
      "Hall of Fame:\n",
      "-----------------------------------------\n",
      "Complexity  Loss       Score     Equation\n",
      "1           2.704e-02  9.804e-02  a\n",
      "3           1.506e-02  2.928e-01  (a - -0.10947846)\n",
      "5           1.022e-02  1.940e-01  (0.28908268 * (a + 1.637624))\n",
      "7           2.651e-03  6.745e-01  ((a - -0.3054446) + (a * -0.40321594))\n",
      "9           2.651e-03  2.287e-08  ((a - ((2.2301824 - a) * -0.40321788)) + -0.59380335)\n",
      "11          1.815e-03  1.893e-01  (((a * 0.49983346) + 0.30902722) + (xt * (a / 6.076546)))\n",
      "13          1.815e-03  9.337e-06  (((a * 0.4992159) + 0.30905017) + (xt * ((a / 1.0723935) * 0.17760599)))\n",
      "17          8.312e-04  1.953e-01  ((((-0.043303303 - xt) * -0.14437073) + 0.23113038) + (a * (a / ((a * 1.3259816) / 0.7696321))))\n",
      "\n",
      "==============================\n",
      "Press 'q' and then <enter> to stop execution early.\n",
      "\n",
      "Cycles per second: 5.550e+03\n",
      "Head worker occupation: 3.6%\n",
      "Progress: 56 / 500 total iterations (11.200%)\n",
      "==============================\n",
      "Hall of Fame:\n",
      "-----------------------------------------\n",
      "Complexity  Loss       Score     Equation\n",
      "1           2.704e-02  9.804e-02  a\n",
      "3           1.506e-02  2.928e-01  (a - -0.10947846)\n",
      "5           2.651e-03  8.685e-01  ((a + 0.5118123) * 0.5967884)\n",
      "7           1.894e-03  1.682e-01  ((a + xt) / (xt + 1.1412166))\n",
      "9           8.312e-04  4.117e-01  (((a * 0.5804369) + 0.23737182) + (xt * 0.14436905))\n",
      "13          8.312e-04  1.065e-07  ((((0.07350823 - (xt * -0.1443697)) + a) + 0.16386347) - (a * 0.41956368))\n",
      "15          7.684e-04  3.928e-02  ((((xt * a) * ((xt / xt) - a)) + (a - -0.4192181)) / 1.6730002)\n",
      "17          7.010e-04  4.591e-02  (((((xt - 0.18895043) * a) * ((xt / xt) - a)) + (a - -0.45001328)) / 1.6696434)\n",
      "\n",
      "==============================\n",
      "Press 'q' and then <enter> to stop execution early.\n",
      "\n",
      "Cycles per second: 6.750e+03\n",
      "Head worker occupation: 3.0%\n",
      "Progress: 105 / 500 total iterations (21.000%)\n",
      "==============================\n",
      "Hall of Fame:\n",
      "-----------------------------------------\n",
      "Complexity  Loss       Score     Equation\n",
      "1           2.704e-02  9.804e-02  a\n",
      "3           1.506e-02  2.928e-01  (a - -0.10947846)\n",
      "5           2.651e-03  8.685e-01  ((a + 0.5118123) * 0.5967884)\n",
      "7           1.894e-03  1.682e-01  ((a + xt) / (xt + 1.1412166))\n",
      "9           8.312e-04  4.117e-01  (((a * 0.5804369) + 0.23737182) + (xt * 0.14436905))\n",
      "13          5.352e-04  1.100e-01  (0.18364379 - ((((a * 0.20264594) - 0.24896024) * xt) + (a * -0.68797666)))\n",
      "\n",
      "==============================\n",
      "Press 'q' and then <enter> to stop execution early.\n",
      "\n",
      "Cycles per second: 7.130e+03\n",
      "Head worker occupation: 2.6%\n",
      "Progress: 148 / 500 total iterations (29.600%)\n",
      "==============================\n",
      "Hall of Fame:\n",
      "-----------------------------------------\n",
      "Complexity  Loss       Score     Equation\n",
      "1           2.704e-02  9.804e-02  a\n",
      "3           1.506e-02  2.928e-01  (a - -0.10947846)\n",
      "5           2.651e-03  8.685e-01  ((a + 0.5118123) * 0.5967884)\n",
      "7           1.894e-03  1.682e-01  ((a + xt) / (xt + 1.1412166))\n",
      "9           8.312e-04  4.117e-01  ((-0.40893775 - (a - (xt * -0.24870645))) * -0.58044934)\n",
      "13          5.352e-04  1.100e-01  (0.18364379 - ((((a * 0.20264594) - 0.24896024) * xt) + (a * -0.68797666)))\n",
      "17          4.538e-04  4.127e-02  (((((a - -0.15116) * xt) * ((xt / xt) - a)) + (a - -0.3258891)) / 1.5827973)\n",
      "\n",
      "==============================\n",
      "Press 'q' and then <enter> to stop execution early.\n",
      "\n",
      "Cycles per second: 7.360e+03\n",
      "Head worker occupation: 2.8%\n",
      "Progress: 191 / 500 total iterations (38.200%)\n",
      "==============================\n",
      "Hall of Fame:\n",
      "-----------------------------------------\n",
      "Complexity  Loss       Score     Equation\n",
      "1           2.704e-02  9.804e-02  a\n",
      "3           1.506e-02  2.928e-01  (a - -0.10947846)\n",
      "5           2.651e-03  8.685e-01  ((a + 0.5118123) * 0.5967884)\n",
      "7           1.894e-03  1.682e-01  ((a + xt) / (xt + 1.1412166))\n",
      "9           8.312e-04  4.117e-01  ((-0.40893775 - (a - (xt * -0.24870645))) * -0.58044934)\n",
      "11          6.363e-04  1.336e-01  (((a + (xt * 0.7484871)) / (xt + 1.2929975)) - -0.12167362)\n",
      "13          5.352e-04  8.650e-02  (0.18364379 - ((((a * 0.20264594) - 0.24896024) * xt) + (a * -0.68797666)))\n",
      "17          4.538e-04  4.127e-02  (((((a - -0.15116) * xt) * ((xt / xt) - a)) + (a - -0.3258891)) / 1.5827973)\n",
      "\n",
      "==============================\n",
      "Press 'q' and then <enter> to stop execution early.\n",
      "\n",
      "Cycles per second: 7.520e+03\n",
      "Head worker occupation: 2.6%\n",
      "Progress: 236 / 500 total iterations (47.200%)\n",
      "==============================\n",
      "Hall of Fame:\n",
      "-----------------------------------------\n",
      "Complexity  Loss       Score     Equation\n",
      "1           2.704e-02  9.804e-02  a\n",
      "3           1.506e-02  2.928e-01  (a - -0.10947846)\n",
      "5           2.651e-03  8.685e-01  ((a + 0.5118123) * 0.5967884)\n",
      "7           1.894e-03  1.682e-01  ((a + xt) / (xt + 1.1412166))\n",
      "9           8.312e-04  4.117e-01  ((-0.40893775 - (a - (xt * -0.24870645))) * -0.58044934)\n",
      "11          6.363e-04  1.336e-01  (((a + (xt * 0.7484871)) / (xt + 1.2929975)) - -0.12167362)\n",
      "13          5.352e-04  8.650e-02  (0.18364379 - ((((a * 0.20264594) - 0.24896024) * xt) + (a * -0.68797666)))\n",
      "15          5.122e-04  2.198e-02  ((a - -0.05595014) - (((xt / (a + xt)) - (a * a)) * -0.26677942))\n",
      "17          4.538e-04  6.057e-02  (((((a - -0.15116) * xt) * ((xt / xt) - a)) + (a - -0.3258891)) / 1.5827973)\n",
      "\n",
      "==============================\n",
      "Press 'q' and then <enter> to stop execution early.\n",
      "\n",
      "Cycles per second: 7.590e+03\n",
      "Head worker occupation: 2.7%\n",
      "Progress: 279 / 500 total iterations (55.800%)\n",
      "==============================\n",
      "Hall of Fame:\n",
      "-----------------------------------------\n",
      "Complexity  Loss       Score     Equation\n",
      "1           2.704e-02  9.804e-02  a\n",
      "3           1.506e-02  2.928e-01  (a - -0.10947846)\n",
      "5           2.651e-03  8.685e-01  ((a + 0.5118123) * 0.5967884)\n",
      "7           1.894e-03  1.682e-01  ((a + xt) / (xt + 1.1412166))\n",
      "9           8.312e-04  4.117e-01  ((-0.40893775 - (a - (xt * -0.24870645))) * -0.58044934)\n",
      "11          6.363e-04  1.336e-01  (((a + (xt * 0.7484711)) / (xt + 1.2929071)) - -0.121657856)\n",
      "13          4.721e-04  1.492e-01  (((((a * 1.5730582) + -0.4118013) + xt) + 0.7690893) / (xt + 2.2118695))\n",
      "17          4.235e-04  2.718e-02  (a - (((((xt - -1.05706) - ((a * a) * xt)) - a) - 0.5076179) * -0.2628806))\n",
      "19          3.285e-04  1.270e-01  ((((((a * -1.0160987) * ((a * xt) - 0.40253735)) + xt) * 0.3653932) + (a + 0.28523016)) * 0.61273706)\n",
      "\n",
      "==============================\n",
      "Press 'q' and then <enter> to stop execution early.\n",
      "\n",
      "Cycles per second: 7.710e+03\n",
      "Head worker occupation: 2.5%\n",
      "Progress: 325 / 500 total iterations (65.000%)\n",
      "==============================\n",
      "Hall of Fame:\n",
      "-----------------------------------------\n",
      "Complexity  Loss       Score     Equation\n",
      "1           2.704e-02  9.804e-02  a\n",
      "3           1.506e-02  2.928e-01  (a - -0.10947846)\n",
      "5           2.651e-03  8.685e-01  ((a + 0.5118123) * 0.5967884)\n",
      "7           1.894e-03  1.682e-01  ((a + xt) / (xt + 1.1412166))\n",
      "9           8.312e-04  4.117e-01  ((-0.40893775 - (a - (xt * -0.24870645))) * -0.58044934)\n",
      "11          6.363e-04  1.336e-01  (((a + (xt * 0.7484711)) / (xt + 1.2929071)) - -0.121657856)\n",
      "13          4.721e-04  1.492e-01  (((((a * 1.5730582) + -0.4118013) + xt) + 0.7690893) / (xt + 2.2118695))\n",
      "17          4.235e-04  2.718e-02  (a - (((((xt - -1.05706) - ((a * a) * xt)) - a) - 0.5076179) * -0.2628806))\n",
      "19          3.285e-04  1.270e-01  ((((((a * -1.0160987) * ((a * xt) - 0.40253735)) + xt) * 0.3653932) + (a + 0.28523016)) * 0.61273706)\n",
      "\n",
      "==============================\n",
      "Press 'q' and then <enter> to stop execution early.\n",
      "\n",
      "Cycles per second: 7.730e+03\n",
      "Head worker occupation: 2.4%\n",
      "Progress: 366 / 500 total iterations (73.200%)\n",
      "==============================\n",
      "Hall of Fame:\n",
      "-----------------------------------------\n",
      "Complexity  Loss       Score     Equation\n",
      "1           2.704e-02  9.804e-02  a\n",
      "3           1.506e-02  2.928e-01  (a - -0.10947846)\n",
      "5           2.651e-03  8.685e-01  ((a + 0.5118123) * 0.5967884)\n",
      "7           1.894e-03  1.682e-01  ((a + xt) / (xt + 1.1412166))\n",
      "9           8.312e-04  4.117e-01  ((-0.40893775 - (a - (xt * -0.24870645))) * -0.58044934)\n",
      "11          6.363e-04  1.336e-01  (((a + (xt * 0.7484711)) / (xt + 1.2929071)) - -0.121657856)\n",
      "13          4.721e-04  1.492e-01  (((((a * 1.5730582) + -0.4118013) + xt) + 0.7690893) / (xt + 2.2118695))\n",
      "15          4.235e-04  5.437e-02  (a - ((((xt - -0.5494368) - ((a * a) * xt)) - a) * -0.26288182))\n",
      "19          3.285e-04  6.350e-02  ((((((a * -1.0160987) * ((a * xt) - 0.40253735)) + xt) * 0.3653932) + (a + 0.28523016)) * 0.61273706)\n",
      "\n",
      "==============================\n",
      "Press 'q' and then <enter> to stop execution early.\n",
      "\n",
      "Cycles per second: 7.710e+03\n",
      "Head worker occupation: 2.3%\n",
      "Progress: 405 / 500 total iterations (81.000%)\n",
      "==============================\n",
      "Hall of Fame:\n",
      "-----------------------------------------\n",
      "Complexity  Loss       Score     Equation\n",
      "1           2.704e-02  9.804e-02  a\n",
      "3           1.506e-02  2.928e-01  (a - -0.10947846)\n",
      "5           2.651e-03  8.685e-01  ((a + 0.5118123) * 0.5967884)\n",
      "7           1.894e-03  1.682e-01  ((a + xt) / (xt + 1.1412166))\n",
      "9           8.312e-04  4.117e-01  ((-0.40893775 - (a - (xt * -0.24870645))) * -0.58044934)\n",
      "11          6.363e-04  1.336e-01  (((a + (xt * 0.7484711)) / (xt + 1.2929071)) - -0.121657856)\n",
      "13          4.721e-04  1.492e-01  (((((a * 1.5730582) + -0.4118013) + xt) + 0.7690893) / (xt + 2.2118695))\n",
      "15          4.235e-04  5.437e-02  (a - ((((xt - -0.5494368) - ((a * a) * xt)) - a) * -0.26288182))\n",
      "17          4.071e-04  1.975e-02  ((a - -0.07013777) - (((xt / ((a + 0.11857861) + xt)) - (a * a)) * -0.29019243))\n",
      "19          3.285e-04  1.073e-01  ((((((a * -1.0160987) * ((a * xt) - 0.40253735)) + xt) * 0.3653932) + (a + 0.28523016)) * 0.61273706)\n",
      "\n",
      "==============================\n",
      "Press 'q' and then <enter> to stop execution early.\n",
      "\n",
      "Cycles per second: 8.450e+03\n",
      "Head worker occupation: 2.2%\n",
      "Progress: 450 / 500 total iterations (90.000%)\n",
      "==============================\n",
      "Hall of Fame:\n",
      "-----------------------------------------\n",
      "Complexity  Loss       Score     Equation\n",
      "1           2.704e-02  9.804e-02  a\n",
      "3           1.506e-02  2.928e-01  (a - -0.10947846)\n",
      "5           2.651e-03  8.685e-01  ((a + 0.5118123) * 0.5967884)\n",
      "7           1.894e-03  1.682e-01  ((a + xt) / (xt + 1.1412166))\n",
      "9           8.312e-04  4.117e-01  ((-0.40893775 - (a - (xt * -0.24870645))) * -0.58044934)\n",
      "11          6.363e-04  1.336e-01  (((a + (xt * 0.7484711)) / (xt + 1.2929071)) - -0.121657856)\n",
      "13          4.721e-04  1.492e-01  (((((a * 1.5730582) + -0.4118013) + xt) + 0.7690893) / (xt + 2.2118695))\n",
      "15          4.235e-04  5.437e-02  (a - ((((xt - -0.5494368) - ((a * a) * xt)) - a) * -0.26288182))\n",
      "17          1.841e-04  4.165e-01  (((a - ((((a * xt) * (xt * a)) - xt) * 0.3422055)) + 0.2626252) * 0.6725748)\n",
      "19          1.818e-04  6.323e-03  (((a - (((((a * xt) - 0.046517394) * (xt * a)) - xt) * 0.3390929)) + 0.27000028) * 0.6648371)\n",
      "\n",
      "==============================\n",
      "Press 'q' and then <enter> to stop execution early.\n",
      "\n",
      "Cycles per second: 8.170e+03\n",
      "Head worker occupation: 2.1%\n",
      "Progress: 490 / 500 total iterations (98.000%)\n",
      "==============================\n",
      "Hall of Fame:\n",
      "-----------------------------------------\n",
      "Complexity  Loss       Score     Equation\n",
      "1           2.704e-02  9.804e-02  a\n",
      "3           1.506e-02  2.928e-01  (a - -0.10947846)\n",
      "5           2.651e-03  8.685e-01  ((a + 0.5118123) * 0.5967884)\n",
      "7           1.894e-03  1.682e-01  ((a + xt) / (xt + 1.1412166))\n",
      "9           8.312e-04  4.117e-01  ((-0.40893775 - (a - (xt * -0.24870645))) * -0.58044934)\n",
      "11          6.363e-04  1.336e-01  (((a + (xt * 0.748527)) / (xt + 1.2927305)) - -0.12160251)\n",
      "13          4.721e-04  1.492e-01  (((((a * 1.5730582) + -0.4118013) + xt) + 0.7690893) / (xt + 2.2118695))\n",
      "15          3.560e-04  1.412e-01  ((0.16450706 - (a * -0.6928486)) + ((xt - ((xt * xt) * a)) * 0.27959076))\n",
      "17          1.841e-04  3.297e-01  (((a - ((((a * xt) * (xt * a)) - xt) * 0.3422055)) + 0.2626252) * 0.6725748)\n",
      "19          1.818e-04  6.323e-03  (((a - (((((a * xt) - 0.046517394) * (xt * a)) - xt) * 0.3390929)) + 0.27000028) * 0.6648371)\n",
      "\n",
      "==============================\n",
      "Press 'q' and then <enter> to stop execution early.\n"
     ]
    },
    {
     "data": {
      "text/plain": [
       "(complexity                         1\n",
       " loss                             NaN\n",
       " score                            0.0\n",
       " equation                          xt\n",
       " sympy_format                      xt\n",
       " lambda_format    PySRFunction(X=>xt)\n",
       " Name: 0, dtype: object,\n",
       " complexity                                                     5\n",
       " loss                                                    0.002651\n",
       " score                                                   0.868478\n",
       " equation                           ((a + 0.5118123) * 0.5967884)\n",
       " sympy_format                      0.5967884*a + 0.30544364361732\n",
       " lambda_format    PySRFunction(X=>0.5967884*a + 0.30544364361732)\n",
       " Name: 2, dtype: object)"
      ]
     },
     "execution_count": 6,
     "metadata": {},
     "output_type": "execute_result"
    },
    {
     "data": {
      "image/png": "[encoded data removed]",
      "text/plain": [
       "<Figure size 432x288 with 1 Axes>"
      ]
     },
     "metadata": {
      "needs_background": "light"
     },
     "output_type": "display_data"
    }
   ],
   "source": [
    "invert_gn(diff_gn1, models_per_hp_setting=1)"
   ]
  },
  {
   "cell_type": "code",
   "execution_count": 7,
   "id": "f3c15dce-b08d-45c8-89d9-c555b31ef6f0",
   "metadata": {},
   "outputs": [
    {
     "name": "stdout",
     "output_type": "stream",
     "text": [
      "TRAINING\n",
      "Number of node features: 1\n",
      "Defaulting to 1 message features\n",
      "Only one hyperparameter setting found; will not run a hyperparameter search.\n"
     ]
    },
    {
     "data": {
      "application/vnd.jupyter.widget-view+json": {
       "model_id": "79ec2732ea05404b8d5888b0fe4083c3",
       "version_major": 2,
       "version_minor": 0
      },
      "text/plain": [
       "  0%|          | 0/1 [00:00<?, ?it/s]"
      ]
     },
     "metadata": {},
     "output_type": "display_data"
    },
    {
     "data": {
      "application/vnd.jupyter.widget-view+json": {
       "model_id": "5c3f5e72671e42adaa48b73929f85b27",
       "version_major": 2,
       "version_minor": 0
      },
      "text/plain": [
       "  0%|          | 0/100 [00:00<?, ?it/s]"
      ]
     },
     "metadata": {},
     "output_type": "display_data"
    },
    {
     "data": {
      "application/vnd.jupyter.widget-view+json": {
       "model_id": "9d18bbcf7ca8480aa22dbd03ffb3cfcb",
       "version_major": 2,
       "version_minor": 0
      },
      "text/plain": [
       "  0%|          | 0/100 [00:00<?, ?it/s]"
      ]
     },
     "metadata": {},
     "output_type": "display_data"
    },
    {
     "data": {
      "application/vnd.jupyter.widget-view+json": {
       "model_id": "de35adb5eb6243c793dd12886bf3f970",
       "version_major": 2,
       "version_minor": 0
      },
      "text/plain": [
       "  0%|          | 0/100 [00:00<?, ?it/s]"
      ]
     },
     "metadata": {},
     "output_type": "display_data"
    },
    {
     "data": {
      "application/vnd.jupyter.widget-view+json": {
       "model_id": "f553fce5350f41228a09dc9f4b37c467",
       "version_major": 2,
       "version_minor": 0
      },
      "text/plain": [
       "  0%|          | 0/100 [00:00<?, ?it/s]"
      ]
     },
     "metadata": {},
     "output_type": "display_data"
    },
    {
     "name": "stdout",
     "output_type": "stream",
     "text": [
      "Saved model results list to runs/gninversion_2022-04-02_14:30:03/hpsearch\n",
      "Saved model with lowest validation loss to runs/gninversion_2022-04-02_14:30:03/model\n",
      "INVERTING\n",
      "Started!\n",
      "\n",
      "Cycles per second: 3.660e+02\n",
      "Head worker occupation: 0.0%\n",
      "Progress: 2 / 500 total iterations (0.400%)\n",
      "==============================\n",
      "Hall of Fame:\n",
      "-----------------------------------------\n",
      "Complexity  Loss       Score     Equation\n",
      "1           3.371e-03  -1.670e-08  -0.06995112\n",
      "5           6.853e-05  9.739e-01  ((xs - 0.87753975) * 0.1957831)\n",
      "9           6.853e-05  7.728e-08  (((xt / xt) - (xs + 0.12246112)) * -0.19578338)\n",
      "11          6.853e-05  5.435e-08  ((((xt / xt) - (xs + 0.12251387)) * -0.19578747) - 8.130133e-6)\n",
      "\n",
      "==============================\n",
      "Press 'q' and then <enter> to stop execution early.\n",
      "\n",
      "Cycles per second: 4.060e+03\n",
      "Head worker occupation: 0.5%\n",
      "Progress: 42 / 500 total iterations (8.400%)\n",
      "==============================\n",
      "Hall of Fame:\n",
      "-----------------------------------------\n",
      "Complexity  Loss       Score     Equation\n",
      "1           3.371e-03  -1.670e-08  -0.06995112\n",
      "5           6.853e-05  9.739e-01  ((xs - 0.87753975) * 0.1957831)\n",
      "7           6.853e-05  6.041e-07  ((xs * 1.1957823) + (-0.1718113 - xs))\n",
      "9           5.246e-05  1.336e-01  (((xs + 0.6551708) - 1.5423383) / (xs + 4.967072))\n",
      "13          4.294e-05  5.010e-02  (((0.8059762 - (((xs * -0.1769692) * xs) * xt)) - xs) * -0.21849775)\n",
      "15          3.357e-05  1.231e-01  ((((xs * (((xs - -0.5636748) / xs) - 1.4092908)) * xs) * xs) + -0.15926799)\n",
      "\n",
      "==============================\n",
      "Press 'q' and then <enter> to stop execution early.\n",
      "\n",
      "Cycles per second: 5.580e+03\n",
      "Head worker occupation: 0.8%\n",
      "Progress: 87 / 500 total iterations (17.400%)\n",
      "==============================\n",
      "Hall of Fame:\n",
      "-----------------------------------------\n",
      "Complexity  Loss       Score     Equation\n",
      "1           3.371e-03  -1.670e-08  -0.06995112\n",
      "5           6.853e-05  9.739e-01  ((xs * 0.19578326) + -0.17180791)\n",
      "7           6.853e-05  7.873e-07  (((xs * 1.1957811) + -0.17180678) - xs)\n",
      "9           5.106e-05  1.471e-01  ((-0.56005067 / (xs + 2.743034)) * (0.8977356 - xs))\n",
      "13          4.294e-05  4.333e-02  (((0.8059762 - (((xs * -0.1769692) * xs) * xt)) - xs) * -0.21849775)\n",
      "15          3.357e-05  1.231e-01  ((((xs * (((xs - -0.5636748) / xs) - 1.4092908)) * xs) * xs) + -0.15926799)\n",
      "\n",
      "==============================\n",
      "Press 'q' and then <enter> to stop execution early.\n",
      "\n",
      "Cycles per second: 6.250e+03\n",
      "Head worker occupation: 1.1%\n",
      "Progress: 133 / 500 total iterations (26.600%)\n",
      "==============================\n",
      "Hall of Fame:\n",
      "-----------------------------------------\n",
      "Complexity  Loss       Score     Equation\n",
      "1           3.371e-03  -1.670e-08  -0.06995112\n",
      "5           6.853e-05  9.739e-01  ((xs * 0.19578326) + -0.17180791)\n",
      "7           5.246e-05  1.336e-01  ((xs - 0.8871603) / (xs + 4.967011))\n",
      "9           5.106e-05  1.354e-02  ((-0.56005067 / (xs + 2.743034)) * (0.8977356 - xs))\n",
      "11          4.854e-05  2.528e-02  ((xs + (-0.81087905 - ((xs * 0.13692424) * xt))) * 0.21297112)\n",
      "13          4.294e-05  6.137e-02  (((0.8059756 - (((xt * xs) * -0.1769696) * xs)) - xs) * -0.21849784)\n",
      "15          3.357e-05  1.231e-01  ((((xs * (((xs - -0.5636748) / xs) - 1.4092908)) * xs) * xs) + -0.15926799)\n",
      "\n",
      "==============================\n",
      "Press 'q' and then <enter> to stop execution early.\n",
      "\n",
      "Cycles per second: 6.570e+03\n",
      "Head worker occupation: 1.2%\n",
      "Progress: 179 / 500 total iterations (35.800%)\n",
      "==============================\n",
      "Hall of Fame:\n",
      "-----------------------------------------\n",
      "Complexity  Loss       Score     Equation\n",
      "1           3.371e-03  -1.670e-08  -0.06995112\n",
      "5           6.853e-05  9.739e-01  ((xs * 0.19578326) + -0.17180791)\n",
      "7           5.246e-05  1.336e-01  ((xs - 0.8871603) / (xs + 4.967011))\n",
      "9           5.106e-05  1.354e-02  ((-0.56005067 / (xs + 2.743034)) * (0.8977356 - xs))\n",
      "11          4.854e-05  2.528e-02  ((xs + (-0.81087905 - ((xs * 0.13692424) * xt))) * 0.21297112)\n",
      "13          4.294e-05  6.137e-02  (((0.8059756 - (((xt * xs) * -0.1769696) * xs)) - xs) * -0.21849784)\n",
      "15          3.357e-05  1.231e-01  ((((xs * (((xs - -0.5636748) / xs) - 1.4092908)) * xs) * xs) + -0.15926799)\n",
      "\n",
      "==============================\n",
      "Press 'q' and then <enter> to stop execution early.\n",
      "\n",
      "Cycles per second: 6.660e+03\n",
      "Head worker occupation: 1.2%\n",
      "Progress: 216 / 500 total iterations (43.200%)\n",
      "==============================\n",
      "Hall of Fame:\n",
      "-----------------------------------------\n",
      "Complexity  Loss       Score     Equation\n",
      "1           3.371e-03  -1.670e-08  -0.06995112\n",
      "5           6.853e-05  9.739e-01  ((xs * 0.19578326) + -0.17180791)\n",
      "7           5.246e-05  1.336e-01  ((xs - 0.8871603) / (xs + 4.967011))\n",
      "9           5.106e-05  1.354e-02  ((-0.56005067 / (xs + 2.743034)) * (0.8977356 - xs))\n",
      "11          4.854e-05  2.528e-02  ((xs + (-0.81087905 - ((xs * 0.13692424) * xt))) * 0.21297112)\n",
      "13          4.294e-05  6.137e-02  (((0.8059756 - (((xt * xs) * -0.1769696) * xs)) - xs) * -0.21849784)\n",
      "15          3.357e-05  1.231e-01  ((((xs * (((xs - -0.5636748) / xs) - 1.4092908)) * xs) * xs) + -0.15926799)\n",
      "17          3.127e-05  3.539e-02  (((0.79123276 - (((((xs * -0.1919008) * xs) * xs) * xs) * xs)) - xs) * -0.228038)\n",
      "\n",
      "==============================\n",
      "Press 'q' and then <enter> to stop execution early.\n",
      "\n",
      "Cycles per second: 6.920e+03\n",
      "Head worker occupation: 1.3%\n",
      "Progress: 259 / 500 total iterations (51.800%)\n",
      "==============================\n",
      "Hall of Fame:\n",
      "-----------------------------------------\n",
      "Complexity  Loss       Score     Equation\n",
      "1           3.371e-03  -1.670e-08  -0.06995112\n",
      "5           6.853e-05  9.739e-01  ((xs * 0.19578326) + -0.17180791)\n",
      "7           5.246e-05  1.336e-01  ((xs - 0.8871603) / (xs + 4.967011))\n",
      "9           5.106e-05  1.354e-02  ((-0.56005067 / (xs + 2.743034)) * (0.8977356 - xs))\n",
      "11          4.854e-05  2.528e-02  (((xs * 0.21297117) - ((xt * 0.029161008) * xs)) + -0.17269382)\n",
      "13          4.167e-05  7.636e-02  (((xs + 0.08453957) - 0.97297275) / ((xs * (xs + xs)) + 5.039877))\n",
      "15          3.357e-05  1.081e-01  ((((xs * (((xs - -0.5636748) / xs) - 1.4092908)) * xs) * xs) + -0.15926799)\n",
      "17          3.127e-05  3.539e-02  (((0.79123276 - (((((xs * -0.1919008) * xs) * xs) * xs) * xs)) - xs) * -0.228038)\n",
      "19          2.420e-05  1.283e-01  (((xs + ((((0.004753514 - xt) - ((xs * xs) * xs)) * xs) * 0.12878911)) + -0.7488691) * 0.23920515)\n",
      "\n",
      "==============================\n",
      "Press 'q' and then <enter> to stop execution early.\n",
      "\n",
      "Cycles per second: 6.940e+03\n",
      "Head worker occupation: 1.3%\n",
      "Progress: 300 / 500 total iterations (60.000%)\n",
      "==============================\n",
      "Hall of Fame:\n",
      "-----------------------------------------\n",
      "Complexity  Loss       Score     Equation\n",
      "1           3.371e-03  -1.670e-08  -0.06995112\n",
      "5           6.853e-05  9.739e-01  ((xs * 0.19578326) + -0.17180791)\n",
      "7           5.246e-05  1.336e-01  ((xs - 0.8871603) / (xs + 4.967011))\n",
      "9           4.757e-05  4.892e-02  ((((xs * -0.062209394) + 0.25899932) * xs) + -0.18249846)\n",
      "13          4.167e-05  3.313e-02  (((xs + 0.08453957) - 0.97297275) / ((xs * (xs + xs)) + 5.039877))\n",
      "15          3.357e-05  1.081e-01  ((((xs * (((xs - -0.5636748) / xs) - 1.4092908)) * xs) * xs) + -0.15926799)\n",
      "17          3.127e-05  3.539e-02  (((0.79123276 - (((((xs * -0.1919008) * xs) * xs) * xs) * xs)) - xs) * -0.228038)\n",
      "19          2.420e-05  1.283e-01  (((xs + ((((0.004753514 - xt) - ((xs * xs) * xs)) * xs) * 0.12878911)) + -0.7488691) * 0.23920515)\n",
      "\n",
      "==============================\n",
      "Press 'q' and then <enter> to stop execution early.\n",
      "\n",
      "Cycles per second: 6.980e+03\n",
      "Head worker occupation: 1.4%\n",
      "Progress: 340 / 500 total iterations (68.000%)\n",
      "==============================\n",
      "Hall of Fame:\n",
      "-----------------------------------------\n",
      "Complexity  Loss       Score     Equation\n",
      "1           3.371e-03  -1.670e-08  -0.06995112\n",
      "5           6.853e-05  9.739e-01  ((xs * 0.19578326) + -0.17180791)\n",
      "7           5.246e-05  1.336e-01  ((xs - 0.8871603) / (xs + 4.967011))\n",
      "9           4.757e-05  4.892e-02  ((((xs * -0.062209394) + 0.25899932) * xs) + -0.18249846)\n",
      "13          4.021e-05  4.205e-02  (((0.7571973 - ((xs * -0.19950563) * (xs * xs))) - xs) * -0.24001011)\n",
      "15          3.357e-05  9.027e-02  ((((xs * (((xs - -0.5636748) / xs) - 1.4092908)) * xs) * xs) + -0.15926799)\n",
      "17          3.127e-05  3.539e-02  (((0.79123276 - (((((xs * -0.1919008) * xs) * xs) * xs) * xs)) - xs) * -0.228038)\n",
      "19          2.111e-05  1.966e-01  (((xs + (((((xs * (xs * xs)) * xs) + xt) * -0.13035762) * xs)) + -0.75544804) * 0.23671545)\n",
      "\n",
      "==============================\n",
      "Press 'q' and then <enter> to stop execution early.\n",
      "\n",
      "Cycles per second: 6.970e+03\n",
      "Head worker occupation: 1.4%\n",
      "Progress: 375 / 500 total iterations (75.000%)\n",
      "==============================\n",
      "Hall of Fame:\n",
      "-----------------------------------------\n",
      "Complexity  Loss       Score     Equation\n",
      "1           3.371e-03  -1.670e-08  -0.06995112\n",
      "5           6.853e-05  9.739e-01  ((xs * 0.19578326) + -0.17180791)\n",
      "7           5.246e-05  1.336e-01  ((xs - 0.8871603) / (xs + 4.967011))\n",
      "9           4.757e-05  4.892e-02  ((((xs * -0.062209394) + 0.25899932) * xs) + -0.18249846)\n",
      "11          3.216e-05  1.958e-01  (((0.0258403 / (xs + -1.294958)) + -0.1611332) - (xs * -0.25123137))\n",
      "17          3.127e-05  4.666e-03  (((0.79123276 - (((((xs * -0.1919008) * xs) * xs) * xs) * xs)) - xs) * -0.228038)\n",
      "19          2.111e-05  1.966e-01  (((xs + (((((xs * (xs * xs)) * xs) + xt) * -0.13035762) * xs)) + -0.75544804) * 0.23671545)\n",
      "\n",
      "==============================\n",
      "Press 'q' and then <enter> to stop execution early.\n",
      "\n",
      "Cycles per second: 7.660e+03\n",
      "Head worker occupation: 1.3%\n",
      "Progress: 416 / 500 total iterations (83.200%)\n",
      "==============================\n",
      "Hall of Fame:\n",
      "-----------------------------------------\n",
      "Complexity  Loss       Score     Equation\n",
      "1           3.371e-03  -1.670e-08  -0.06995112\n",
      "5           6.853e-05  9.739e-01  ((xs * 0.19578326) + -0.17180791)\n",
      "7           5.246e-05  1.336e-01  ((xs - 0.8871603) / (xs + 4.967011))\n",
      "9           4.757e-05  4.892e-02  ((((xs * -0.06220918) + 0.25899914) * xs) + -0.18249846)\n",
      "11          3.216e-05  1.958e-01  (((0.0258403 / (xs + -1.294958)) + -0.1611332) - (xs * -0.25123137))\n",
      "13          3.137e-05  1.238e-02  (((((xs * (xs + xt)) * -0.029644998) + 0.24057867) * xs) + -0.18124796)\n",
      "15          2.885e-05  4.186e-02  (((0.73801714 - ((xs * -0.12799723) * ((xs * xs) + xt))) - xs) * -0.24280533)\n",
      "19          2.111e-05  7.817e-02  (((xs + (((((xs * (xs * xs)) * xs) + xt) * -0.13035762) * xs)) + -0.75544804) * 0.23671545)\n",
      "\n",
      "==============================\n",
      "Press 'q' and then <enter> to stop execution early.\n",
      "\n",
      "Cycles per second: 7.570e+03\n",
      "Head worker occupation: 1.3%\n",
      "Progress: 455 / 500 total iterations (91.000%)\n",
      "==============================\n",
      "Hall of Fame:\n",
      "-----------------------------------------\n",
      "Complexity  Loss       Score     Equation\n",
      "1           3.371e-03  -1.670e-08  -0.06995112\n",
      "5           6.853e-05  9.739e-01  ((xs * 0.19578326) + -0.17180791)\n",
      "7           5.246e-05  1.336e-01  ((xs - 0.8871603) / (xs + 4.967011))\n",
      "9           4.757e-05  4.892e-02  ((((xs * -0.06220918) + 0.25899914) * xs) + -0.18249846)\n",
      "11          3.216e-05  1.958e-01  (((0.0258403 / (xs + -1.294958)) + -0.1611332) - (xs * -0.25123137))\n",
      "13          3.137e-05  1.238e-02  (((((xs * (xs + xt)) * -0.029644998) + 0.24057867) * xs) + -0.18124796)\n",
      "15          2.885e-05  4.186e-02  (((0.73801714 - ((xs * -0.12799723) * ((xs * xs) + xt))) - xs) * -0.24280533)\n",
      "17          2.420e-05  8.804e-02  (((xs + (((((xs * xs) * xs) + xt) * -0.12870769) * xs)) + -0.7484171) * 0.23934954)\n",
      "19          2.111e-05  6.831e-02  (((xs + (((((xs * (xs * xs)) * xs) + xt) * -0.1303585) * xs)) + -0.7554471) * 0.23671569)\n",
      "\n",
      "==============================\n",
      "Press 'q' and then <enter> to stop execution early.\n",
      "\n",
      "Cycles per second: 7.380e+03\n",
      "Head worker occupation: 1.3%\n",
      "Progress: 491 / 500 total iterations (98.200%)\n",
      "==============================\n",
      "Hall of Fame:\n",
      "-----------------------------------------\n",
      "Complexity  Loss       Score     Equation\n",
      "1           3.371e-03  -1.670e-08  -0.06995112\n",
      "5           6.853e-05  9.739e-01  ((xs * 0.19578326) + -0.17180791)\n",
      "7           5.246e-05  1.336e-01  ((xs - 0.8871603) / (xs + 4.967011))\n",
      "9           4.757e-05  4.892e-02  ((((xs * -0.06220918) + 0.25899914) * xs) + -0.18249846)\n",
      "11          3.216e-05  1.958e-01  (((0.0258403 / (xs + -1.294958)) + -0.1611332) - (xs * -0.25123137))\n",
      "13          3.137e-05  1.238e-02  (((((xs * (xs + xt)) * -0.029644998) + 0.24057867) * xs) + -0.18124796)\n",
      "15          2.885e-05  4.186e-02  (((0.73801714 - ((xs * -0.12799723) * ((xs * xs) + xt))) - xs) * -0.24280533)\n",
      "17          2.420e-05  8.804e-02  (((xs + (((((xs * xs) * xs) + xt) * -0.12870769) * xs)) + -0.7484171) * 0.23934954)\n",
      "19          2.111e-05  6.831e-02  (((xs + (((((xs * (xs * xs)) * xs) + xt) * -0.1303585) * xs)) + -0.7554471) * 0.23671569)\n",
      "\n",
      "==============================\n",
      "Press 'q' and then <enter> to stop execution early.\n",
      "Started!\n",
      "\n",
      "Cycles per second: 3.830e+02\n",
      "Head worker occupation: 0.1%\n",
      "Progress: 2 / 500 total iterations (0.400%)\n",
      "==============================\n",
      "Hall of Fame:\n",
      "-----------------------------------------\n",
      "Complexity  Loss       Score     Equation\n",
      "1           2.579e-02  -1.670e-08  0.7353666\n",
      "5           6.073e-03  3.615e-01  (0.49155632 - (a * -0.46887156))\n",
      "7           6.073e-03  2.442e-08  (0.49155664 - ((a * -0.97234493) / 2.0738292))\n",
      "\n",
      "==============================\n",
      "Press 'q' and then <enter> to stop execution early.\n",
      "\n",
      "Cycles per second: 4.060e+03\n",
      "Head worker occupation: 0.9%\n",
      "Progress: 42 / 500 total iterations (8.400%)\n",
      "==============================\n",
      "Hall of Fame:\n",
      "-----------------------------------------\n",
      "Complexity  Loss       Score     Equation\n",
      "1           2.579e-02  -1.670e-08  0.7353666\n",
      "5           6.073e-03  3.615e-01  ((a * 0.4688713) + 0.49155492)\n",
      "9           5.087e-03  4.430e-02  (a + ((0.7722265 - (a * a)) * 0.52253187))\n",
      "13          4.208e-03  4.741e-02  (a + (xt * (((0.17333297 / xt) + -0.5946629) - (a + -1.1963122))))\n",
      "15          3.523e-03  8.890e-02  ((((a + xt) - -0.51764584) / (((xt + -0.14017975) * -0.44475245) + -0.6468367)) / -2.5791907)\n",
      "19          3.374e-03  1.077e-02  (((((xt + (xt - xt)) - a) - ((xt * (xt * a)) - 0.75617117)) * 0.3876856) + a)\n",
      "\n",
      "==============================\n",
      "Press 'q' and then <enter> to stop execution early.\n",
      "\n",
      "Cycles per second: 5.720e+03\n",
      "Head worker occupation: 1.1%\n",
      "Progress: 88 / 500 total iterations (17.600%)\n",
      "==============================\n",
      "Hall of Fame:\n",
      "-----------------------------------------\n",
      "Complexity  Loss       Score     Equation\n",
      "1           2.579e-02  -1.670e-08  0.7353666\n",
      "5           6.073e-03  3.615e-01  ((a * 0.4688713) + 0.49155492)\n",
      "9           5.087e-03  4.430e-02  (a + ((0.7722265 - (a * a)) * 0.52253187))\n",
      "11          3.801e-03  1.457e-01  (a - (((a - 0.16943921) + -0.7379693) / (2.3558471 - xt)))\n",
      "13          3.730e-03  9.353e-03  ((((a + 0.4180857) - (a * 0.15009174)) + xt) / (xt - -1.3211373))\n",
      "15          3.523e-03  2.864e-02  ((((a + xt) - -0.51764584) / (((xt + -0.14017975) * -0.44475245) + -0.6468367)) / -2.5791907)\n",
      "19          3.374e-03  1.077e-02  (((((xt + (xt - xt)) - a) - ((xt * (xt * a)) - 0.75617117)) * 0.3876856) + a)\n",
      "\n",
      "==============================\n",
      "Press 'q' and then <enter> to stop execution early.\n",
      "\n",
      "Cycles per second: 6.270e+03\n",
      "Head worker occupation: 1.1%\n",
      "Progress: 131 / 500 total iterations (26.200%)\n",
      "==============================\n",
      "Hall of Fame:\n",
      "-----------------------------------------\n",
      "Complexity  Loss       Score     Equation\n",
      "1           2.579e-02  -1.670e-08  0.7353666\n",
      "5           6.073e-03  3.615e-01  ((a * 0.4688713) + 0.49155492)\n",
      "7           6.073e-03  1.510e-07  (5.268864 - ((a - 10.189426) * -0.4688516))\n",
      "9           5.087e-03  8.859e-02  (a + ((0.7722265 - (a * a)) * 0.52253187))\n",
      "11          3.221e-03  2.285e-01  (0.2655514 - ((((0.6160438 - a) * xt) + a) * -0.8257235))\n",
      "13          2.444e-03  1.380e-01  (a + ((0.7530247 - (a * a)) * ((xt * 0.3535824) + 0.36493233)))\n",
      "15          2.382e-03  1.288e-02  (0.39236557 - (((((0.7313177 - a) * (xt + xt)) * a) + a) * -0.6316887))\n",
      "17          1.895e-03  1.144e-01  (((((xt * -0.3556877) + 0.7757615) - ((a * 0.9752653) * a)) * xt) + (a - -0.12033176))\n",
      "\n",
      "==============================\n",
      "Press 'q' and then <enter> to stop execution early.\n",
      "\n",
      "Cycles per second: 6.660e+03\n",
      "Head worker occupation: 1.1%\n",
      "Progress: 172 / 500 total iterations (34.400%)\n",
      "==============================\n",
      "Hall of Fame:\n",
      "-----------------------------------------\n",
      "Complexity  Loss       Score     Equation\n",
      "1           2.579e-02  -1.670e-08  0.7353666\n",
      "5           6.073e-03  3.615e-01  ((a * 0.4688713) + 0.49155492)\n",
      "7           6.073e-03  1.510e-07  (5.268864 - ((a - 10.189426) * -0.4688516))\n",
      "9           3.782e-03  2.367e-01  (((a + 0.54087627) + xt) / (xt - -1.598806))\n",
      "11          3.221e-03  8.038e-02  (0.2655514 - ((((0.6160438 - a) * xt) + a) * -0.8257235))\n",
      "13          2.444e-03  1.380e-01  (a + ((0.7530247 - (a * a)) * ((xt * 0.3535824) + 0.36493233)))\n",
      "15          2.382e-03  1.288e-02  (0.39236557 - (((((0.7313177 - a) * (xt + xt)) * a) + a) * -0.6316887))\n",
      "17          1.620e-03  1.927e-01  ((a - ((((a - 0.20334563) / 1.1969364) + -0.43126526) / (2.436506 - (xt + a)))) - -0.12995034)\n",
      "19          1.112e-03  1.883e-01  ((((xt + a) + a) * (((((1.0653287 - xt) - a) + -1.2645714) * 0.20836237) - -0.63695294)) - -0.20049095)\n",
      "\n",
      "==============================\n",
      "Press 'q' and then <enter> to stop execution early.\n",
      "\n",
      "Cycles per second: 6.860e+03\n",
      "Head worker occupation: 1.1%\n",
      "Progress: 214 / 500 total iterations (42.800%)\n",
      "==============================\n",
      "Hall of Fame:\n",
      "-----------------------------------------\n",
      "Complexity  Loss       Score     Equation\n",
      "1           2.579e-02  -1.670e-08  0.7353666\n",
      "5           6.073e-03  3.615e-01  ((a * 0.4688713) + 0.49155492)\n",
      "7           5.877e-03  1.637e-02  ((a / (a + 1.4086258)) - -0.4915726)\n",
      "9           3.782e-03  2.204e-01  (((a + 0.54087627) + xt) / (xt - -1.598806))\n",
      "11          3.221e-03  8.038e-02  (0.2655514 - ((((0.6160438 - a) * xt) + a) * -0.8257235))\n",
      "13          2.444e-03  1.380e-01  (a + ((0.7530247 - (a * a)) * ((xt * 0.3535824) + 0.36493233)))\n",
      "15          1.936e-03  1.164e-01  (((((xt * -0.3556877) + 0.7757615) - (a * a)) * xt) + (a - -0.12033176))\n",
      "17          1.620e-03  8.911e-02  ((a - ((((a - 0.20334563) / 1.1969364) + -0.43126526) / (2.436506 - (xt + a)))) - -0.12995034)\n",
      "19          1.112e-03  1.883e-01  ((((xt + a) + a) * (((((1.0653287 - xt) - a) + -1.2645714) * 0.20836237) - -0.63695294)) - -0.20049095)\n",
      "\n",
      "==============================\n",
      "Press 'q' and then <enter> to stop execution early.\n",
      "\n",
      "Cycles per second: 6.910e+03\n",
      "Head worker occupation: 1.2%\n",
      "Progress: 254 / 500 total iterations (50.800%)\n",
      "==============================\n",
      "Hall of Fame:\n",
      "-----------------------------------------\n",
      "Complexity  Loss       Score     Equation\n",
      "1           2.579e-02  -1.670e-08  0.7353666\n",
      "5           6.073e-03  3.615e-01  ((a * 0.4688713) + 0.49155492)\n",
      "7           5.877e-03  1.637e-02  ((a / (a + 1.4086258)) - -0.4915726)\n",
      "9           3.782e-03  2.204e-01  (((a + 0.54087627) + xt) / (xt - -1.598806))\n",
      "11          3.221e-03  8.038e-02  (0.2655514 - ((((0.6160438 - a) * xt) + a) * -0.8257235))\n",
      "13          2.444e-03  1.380e-01  (a + ((0.7530255 - (a * a)) * ((xt * 0.35358104) + 0.3649355)))\n",
      "15          1.244e-03  3.375e-01  (a + ((1.3109081 - (a * (a + xt))) * ((xt * 0.33156654) + 0.16759692)))\n",
      "19          6.681e-04  1.555e-01  ((((a * (-1.048055 - (a * ((xt * xt) * -1.0893085)))) + (xt * -0.5035606)) - 0.44829732) * -0.6592304)\n",
      "\n",
      "==============================\n",
      "Press 'q' and then <enter> to stop execution early.\n",
      "\n",
      "Cycles per second: 7.110e+03\n",
      "Head worker occupation: 1.3%\n",
      "Progress: 299 / 500 total iterations (59.800%)\n",
      "==============================\n",
      "Hall of Fame:\n",
      "-----------------------------------------\n",
      "Complexity  Loss       Score     Equation\n",
      "1           2.579e-02  -1.670e-08  0.7353666\n",
      "5           6.073e-03  3.615e-01  ((a * 0.4688713) + 0.49155492)\n",
      "7           5.877e-03  1.637e-02  ((a / (a + 1.4086258)) - -0.4915726)\n",
      "9           3.782e-03  2.204e-01  (((a + 0.54054546) + xt) / (xt - -1.5982813))\n",
      "11          3.221e-03  8.038e-02  (0.2655514 - ((((0.6160438 - a) * xt) + a) * -0.8257235))\n",
      "13          2.444e-03  1.380e-01  (a + ((0.7530255 - (a * a)) * ((xt * 0.35358104) + 0.3649355)))\n",
      "15          1.244e-03  3.375e-01  (a + ((1.3109081 - (a * (a + xt))) * ((xt * 0.33156654) + 0.16759692)))\n",
      "19          6.681e-04  1.555e-01  ((((a * (-1.048055 - (a * ((xt * xt) * -1.0893085)))) + (xt * -0.5035606)) - 0.44829732) * -0.6592304)\n",
      "\n",
      "==============================\n",
      "Press 'q' and then <enter> to stop execution early.\n",
      "\n",
      "Cycles per second: 7.080e+03\n",
      "Head worker occupation: 1.3%\n",
      "Progress: 338 / 500 total iterations (67.600%)\n",
      "==============================\n",
      "Hall of Fame:\n",
      "-----------------------------------------\n",
      "Complexity  Loss       Score     Equation\n",
      "1           2.579e-02  -1.670e-08  0.7353666\n",
      "5           6.073e-03  3.615e-01  ((a * 0.4688713) + 0.49155492)\n",
      "7           5.877e-03  1.637e-02  ((a / (a + 1.4086258)) - -0.4915726)\n",
      "9           3.782e-03  2.204e-01  (((a + 0.54054546) + xt) / (xt - -1.5982813))\n",
      "11          3.221e-03  8.038e-02  (0.2655514 - ((((0.6160438 - a) * xt) + a) * -0.8257235))\n",
      "13          2.444e-03  1.380e-01  (a + ((0.7530255 - (a * a)) * ((xt * 0.35358104) + 0.3649355)))\n",
      "15          1.244e-03  3.375e-01  (a + ((1.3109081 - (a * (a + xt))) * ((xt * 0.33156654) + 0.16759692)))\n",
      "19          6.681e-04  1.555e-01  ((((a * (-1.048055 - (a * ((xt * xt) * -1.0893085)))) + (xt * -0.5035606)) - 0.44829732) * -0.6592304)\n",
      "\n",
      "==============================\n",
      "Press 'q' and then <enter> to stop execution early.\n",
      "\n",
      "Cycles per second: 7.210e+03\n",
      "Head worker occupation: 1.3%\n",
      "Progress: 384 / 500 total iterations (76.800%)\n",
      "==============================\n",
      "Hall of Fame:\n",
      "-----------------------------------------\n",
      "Complexity  Loss       Score     Equation\n",
      "1           2.579e-02  -1.670e-08  0.7353666\n",
      "5           6.073e-03  3.615e-01  ((a * 0.4688713) + 0.49155492)\n",
      "7           5.877e-03  1.637e-02  ((a / (a + 1.4086258)) - -0.4915726)\n",
      "9           3.782e-03  2.204e-01  (((a + 0.54054546) + xt) / (xt - -1.5982813))\n",
      "11          3.221e-03  8.038e-02  (0.2655514 - ((((0.6160438 - a) * xt) + a) * -0.8257235))\n",
      "13          2.444e-03  1.380e-01  (a + ((0.7530255 - (a * a)) * ((xt * 0.35358104) + 0.3649355)))\n",
      "15          1.244e-03  3.375e-01  (a + ((1.3109081 - (a * (a + xt))) * ((xt * 0.33156654) + 0.16759692)))\n",
      "19          6.681e-04  1.555e-01  ((((a * (-1.048055 - (a * ((xt * xt) * -1.0893085)))) + (xt * -0.5035606)) - 0.44829732) * -0.6592304)\n",
      "\n",
      "==============================\n",
      "Press 'q' and then <enter> to stop execution early.\n",
      "\n",
      "Cycles per second: 7.850e+03\n",
      "Head worker occupation: 1.3%\n",
      "Progress: 421 / 500 total iterations (84.200%)\n",
      "==============================\n",
      "Hall of Fame:\n",
      "-----------------------------------------\n",
      "Complexity  Loss       Score     Equation\n",
      "1           2.579e-02  -1.670e-08  0.7353666\n",
      "5           6.073e-03  3.615e-01  ((a * 0.4688713) + 0.49155492)\n",
      "7           5.877e-03  1.637e-02  ((a / (a + 1.4086258)) - -0.4915726)\n",
      "9           3.782e-03  2.204e-01  (((a + 0.54054546) + xt) / (xt - -1.5982813))\n",
      "11          3.221e-03  8.038e-02  (0.2655514 - ((((0.6160438 - a) * xt) + a) * -0.8257235))\n",
      "13          2.444e-03  1.380e-01  (a + ((0.7530255 - (a * a)) * ((xt * 0.35358104) + 0.3649355)))\n",
      "15          1.244e-03  3.375e-01  (a + ((1.3109081 - (a * (a + xt))) * ((xt * 0.33156654) + 0.16759692)))\n",
      "17          1.229e-03  6.360e-03  ((((xt - ((xt * (a + xt)) * a)) * 0.49097636) + (a + 0.37138835)) * 0.7622404)\n",
      "19          6.681e-04  3.046e-01  ((((a * (-1.048055 - (a * ((xt * xt) * -1.0893085)))) + (xt * -0.5035606)) - 0.44829732) * -0.6592304)\n",
      "\n",
      "==============================\n",
      "Press 'q' and then <enter> to stop execution early.\n",
      "\n",
      "Cycles per second: 7.870e+03\n",
      "Head worker occupation: 1.3%\n",
      "Progress: 462 / 500 total iterations (92.400%)\n",
      "==============================\n",
      "Hall of Fame:\n",
      "-----------------------------------------\n",
      "Complexity  Loss       Score     Equation\n",
      "1           2.579e-02  -1.670e-08  0.7353666\n",
      "5           6.073e-03  3.615e-01  ((a * 0.4688713) + 0.49155492)\n",
      "7           5.877e-03  1.637e-02  ((a / (a + 1.4086258)) - -0.4915726)\n",
      "9           3.782e-03  2.204e-01  (((a + 0.54043114) + xt) / (xt - -1.5981714))\n",
      "11          3.221e-03  8.038e-02  (0.2655514 - ((((0.6160438 - a) * xt) + a) * -0.8257235))\n",
      "13          1.667e-03  3.293e-01  ((a * (0.43767506 - (((a * xt) - 0.7157489) * xt))) - -0.44093367)\n",
      "15          1.244e-03  1.463e-01  (a + ((1.3109081 - (a * (a + xt))) * ((xt * 0.33156654) + 0.16759692)))\n",
      "17          1.084e-03  6.896e-02  (a + (((1.6304518 - (a * (a + xt))) * ((xt * 0.25352383) + 0.22188677)) - 0.12642197))\n",
      "19          6.681e-04  2.420e-01  ((((a * (-1.048055 - (a * ((xt * xt) * -1.0893085)))) + (xt * -0.5035606)) - 0.44829732) * -0.6592304)\n",
      "\n",
      "==============================\n",
      "Press 'q' and then <enter> to stop execution early.\n"
     ]
    },
    {
     "data": {
      "image/png": "[encoded data removed]",
      "text/plain": [
       "<Figure size 432x288 with 1 Axes>"
      ]
     },
     "metadata": {
      "needs_background": "light"
     },
     "output_type": "display_data"
    }
   ],
   "source": [
    "s1 = invert_gn(diff_gn1, models_per_hp_setting=4)"
   ]
  },
  {
   "cell_type": "code",
   "execution_count": 9,
   "id": "ac070f8f-fe32-40c9-9a3e-6a5fd809eda8",
   "metadata": {},
   "outputs": [
    {
     "data": {
      "text/plain": [
       "('((xs * 0.19578326) + -0.17180791)', '((a * 0.4688713) + 0.49155492)')"
      ]
     },
     "execution_count": 9,
     "metadata": {},
     "output_type": "execute_result"
    }
   ],
   "source": [
    "(s1[0].equation, s1[1].equation)"
   ]
  },
  {
   "cell_type": "code",
   "execution_count": 10,
   "id": "acbeaaf9-4d24-4539-8123-777ebd6d0ab8",
   "metadata": {},
   "outputs": [
    {
     "name": "stdout",
     "output_type": "stream",
     "text": [
      "TRAINING\n",
      "Number of node features: 2\n",
      "Defaulting to 2 message features\n",
      "Only one hyperparameter setting found; will not run a hyperparameter search.\n"
     ]
    },
    {
     "data": {
      "application/vnd.jupyter.widget-view+json": {
       "model_id": "e863f19bd8544a76af818ecb6471c76b",
       "version_major": 2,
       "version_minor": 0
      },
      "text/plain": [
       "  0%|          | 0/1 [00:00<?, ?it/s]"
      ]
     },
     "metadata": {},
     "output_type": "display_data"
    },
    {
     "data": {
      "application/vnd.jupyter.widget-view+json": {
       "model_id": "25635ea14ac740dbabfbc7ca10b7c814",
       "version_major": 2,
       "version_minor": 0
      },
      "text/plain": [
       "  0%|          | 0/100 [00:00<?, ?it/s]"
      ]
     },
     "metadata": {},
     "output_type": "display_data"
    },
    {
     "data": {
      "application/vnd.jupyter.widget-view+json": {
       "model_id": "ac315958f04f4551b9ca0c13117ad2e9",
       "version_major": 2,
       "version_minor": 0
      },
      "text/plain": [
       "  0%|          | 0/100 [00:00<?, ?it/s]"
      ]
     },
     "metadata": {},
     "output_type": "display_data"
    },
    {
     "data": {
      "application/vnd.jupyter.widget-view+json": {
       "model_id": "beab0a8e3110427e90828a8ee5d66722",
       "version_major": 2,
       "version_minor": 0
      },
      "text/plain": [
       "  0%|          | 0/100 [00:00<?, ?it/s]"
      ]
     },
     "metadata": {},
     "output_type": "display_data"
    },
    {
     "data": {
      "application/vnd.jupyter.widget-view+json": {
       "model_id": "390e413c03114ea5a373756ce90cc6cb",
       "version_major": 2,
       "version_minor": 0
      },
      "text/plain": [
       "  0%|          | 0/100 [00:00<?, ?it/s]"
      ]
     },
     "metadata": {},
     "output_type": "display_data"
    },
    {
     "name": "stdout",
     "output_type": "stream",
     "text": [
      "Saved model results list to runs/gninversion_2022-04-02_14:34:48/hpsearch\n",
      "Saved model with lowest validation loss to runs/gninversion_2022-04-02_14:34:48/model\n",
      "INVERTING\n"
     ]
    },
    {
     "name": "stderr",
     "output_type": "stream",
     "text": [
      "/home/lrudl/.pyenv/versions/3.9.10/lib/python3.9/site-packages/pysr/sr.py:567: UserWarning: Note: it looks like you are running in Jupyter. The progress bar will be turned off.\n",
      "  warnings.warn(\n",
      "/home/lrudl/.pyenv/versions/3.9.10/lib/python3.9/site-packages/pysr/sr.py:567: UserWarning: Note: it looks like you are running in Jupyter. The progress bar will be turned off.\n",
      "  warnings.warn(\n"
     ]
    },
    {
     "data": {
      "image/png": "[encoded data removed]",
      "text/plain": [
       "<Figure size 432x288 with 1 Axes>"
      ]
     },
     "metadata": {
      "needs_background": "light"
     },
     "output_type": "display_data"
    }
   ],
   "source": [
    "s2 = invert_gn(diff_gn2, models_per_hp_setting=4)"
   ]
  },
  {
   "cell_type": "code",
   "execution_count": 17,
   "id": "b4995170-efbd-42ed-8667-f7c6e3aafd62",
   "metadata": {},
   "outputs": [
    {
     "data": {
      "text/plain": [
       "('((xs1 * 0.2022656) - 0.1306786)', '((xs1 * 0.2022656) - 0.1306786)')"
      ]
     },
     "execution_count": 17,
     "metadata": {},
     "output_type": "execute_result"
    }
   ],
   "source": [
    "s2[0][0].equation, s2[0][0].equation"
   ]
  },
  {
   "cell_type": "code",
   "execution_count": 18,
   "id": "179a1804-531b-46a3-b927-412a117a6208",
   "metadata": {},
   "outputs": [
    {
     "data": {
      "text/plain": [
       "('((a1 - xt2) + 0.37685394)', '((a1 - xt2) + 0.37685394)')"
      ]
     },
     "execution_count": 18,
     "metadata": {},
     "output_type": "execute_result"
    }
   ],
   "source": [
    "s2[1][0].equation, s2[1][0].equation"
   ]
  },
  {
   "cell_type": "code",
   "execution_count": null,
   "id": "e68d98ba-bb22-4844-8329-367a50e2abdf",
   "metadata": {},
   "outputs": [],
   "source": []
  },
  {
   "cell_type": "code",
   "execution_count": null,
   "id": "5d614136-52a9-44dc-9fb2-21c5889dd1ac",
   "metadata": {},
   "outputs": [],
   "source": []
  },
  {
   "cell_type": "code",
   "execution_count": null,
   "id": "e2c663ee-40b7-4224-9fe8-fda5b83f1a1a",
   "metadata": {},
   "outputs": [],
   "source": []
  }
 ],
 "metadata": {
  "kernelspec": {
   "display_name": "Python 3 (ipykernel)",
   "language": "python",
   "name": "python3"
  },
  "language_info": {
   "codemirror_mode": {
    "name": "ipython",
    "version": 3
   },
   "file_extension": ".py",
   "mimetype": "text/x-python",
   "name": "python",
   "nbconvert_exporter": "python",
   "pygments_lexer": "ipython3",
   "version": "3.9.10"
  }
 },
 "nbformat": 4,
 "nbformat_minor": 5
}

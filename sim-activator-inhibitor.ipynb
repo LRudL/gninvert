{
 "cells": [
  {
   "cell_type": "code",
   "execution_count": 216,
   "id": "f6f1a696-c54f-4fdf-8315-d1da37ced3c0",
   "metadata": {},
   "outputs": [
    {
     "name": "stdout",
     "output_type": "stream",
     "text": [
      "The autoreload extension is already loaded. To reload it, use:\n",
      "  %reload_ext autoreload\n"
     ]
    }
   ],
   "source": [
    "%load_ext autoreload\n",
    "%autoreload 2\n",
    "\n",
    "import numpy as np\n",
    "import matplotlib.pyplot as plt\n",
    "import matplotlib.colors as pltcolors\n",
    "\n",
    "import torch as t\n",
    "import torch_geometric as ptgeo\n",
    "\n",
    "from torch_geometric.utils import to_networkx, from_networkx\n",
    "import networkx as nx\n",
    "\n",
    "from gninvert.functions import run_GN, gn_time_series, make_color_scale,\\\n",
    "gdisplay, run_and_draw, generate_training_data,\\\n",
    "generate_graphs_from_connections, generate_grid_edge_index\n",
    "from gninvert.gns import MultiDiffusionGN, EquationGN, ActivatorInhibitorGN\n",
    "from gninvert.gnns import LinearGNN\n",
    "from gninvert.graph_compare import graph_compare, model_compare, model_steps_compare\n",
    "from gninvert.data_generation import get_TrainingData\n",
    "from gninvert.gnns import GNN_3Layer\n",
    "from gninvert.training import fit\n",
    "from gninvert.hyperparamsearch import hpsearch\n",
    "import gninvert\n",
    "\n",
    "import ipywidgets as widgets"
   ]
  },
  {
   "cell_type": "code",
   "execution_count": 94,
   "id": "62cd5642-34af-4818-9feb-22620cba142e",
   "metadata": {},
   "outputs": [],
   "source": [
    "plt.rcParams['figure.figsize'] = [10, 4] # set plot size below"
   ]
  },
  {
   "cell_type": "code",
   "execution_count": 95,
   "id": "b1094bea-8cc8-439d-a483-40f1247fddb7",
   "metadata": {},
   "outputs": [],
   "source": [
    "gn = ActivatorInhibitorGN(0.16, 0.10, 0.3)\n",
    "gdata = generate_graphs_from_connections(\n",
    "    generate_grid_edge_index(6),\n",
    "    node_feature_num=3,\n",
    "    num=1\n",
    ")[0]\n",
    "\n",
    "# make the cell sizes homogenous\n",
    "gdata.x[:, 0] = 0.5\n",
    "\n",
    "# activator/inhibitor all start in one corner\n",
    "gdata.x[:, 1] = 0\n",
    "gdata.x[:, 2] = 0\n",
    "gdata.x[0, 1] = 4\n",
    "gdata.x[1, 1] = 1\n",
    "gdata.x[0, 2] = 4\n",
    "gdata.x[1, 2] = 1\n",
    "\n",
    "time_series = gn_time_series(gn, 300, gdata)"
   ]
  },
  {
   "cell_type": "code",
   "execution_count": 96,
   "id": "33949bf7-6bbf-4c17-91b7-a026226c63bf",
   "metadata": {},
   "outputs": [
    {
     "data": {
      "application/vnd.jupyter.widget-view+json": {
       "model_id": "66ba71fa2cdb4eaf9ab1097f3ab72b02",
       "version_major": 2,
       "version_minor": 0
      },
      "text/plain": [
       "interactive(children=(IntSlider(value=0, description='x', max=300), Output()), _dom_classes=('widget-interact'…"
      ]
     },
     "metadata": {},
     "output_type": "display_data"
    },
    {
     "data": {
      "text/plain": [
       "<function __main__.f(x)>"
      ]
     },
     "execution_count": 96,
     "metadata": {},
     "output_type": "execute_result"
    }
   ],
   "source": [
    "def f(x):\n",
    "    gdisplay(\n",
    "        time_series[x],\n",
    "        color_scales = [\n",
    "            make_color_scale(0, 1, plt.cm.Greys),\n",
    "            make_color_scale(0, 1, plt.cm.BuGn),\n",
    "            make_color_scale(0, 1, plt.cm.Reds)\n",
    "        ]\n",
    "    )\n",
    "    print(x)\n",
    "\n",
    "widgets.interact(\n",
    "    f,\n",
    "    x=widgets.IntSlider(min=0, max=len(time_series)-1, step=1, value=0)\n",
    ")"
   ]
  },
  {
   "cell_type": "code",
   "execution_count": 187,
   "id": "9d7193df-6eb7-4d45-9fba-8508e1c47ce1",
   "metadata": {},
   "outputs": [],
   "source": [
    "params = {\n",
    "    'starting_lr': [1e-1, 5e-2],\n",
    "    'lr_scheduler_dec_factor': [0.2],\n",
    "    'lr_scheduler_patience': [20],\n",
    "    'lr_scheduler_cooldown': [10],\n",
    "    'batch_size': [10, 50],\n",
    "    'adam_weight_decay': [5e-8],\n",
    "    'epochs': [500],\n",
    "    'loss_func': [t.nn.L1Loss(), t.nn.MSELoss()],\n",
    "    'regularization_coefficient': [False, 1e-5, 1e-3],\n",
    "    'regularization_norm': [1, 2]\n",
    "}"
   ]
  },
  {
   "cell_type": "code",
   "execution_count": 188,
   "id": "783a7917-16c8-4819-b25f-877513f55c7c",
   "metadata": {},
   "outputs": [
    {
     "data": {
      "application/vnd.jupyter.widget-view+json": {
       "model_id": "9e55df0cbda241e686bbab7ba55ffe2b",
       "version_major": 2,
       "version_minor": 0
      },
      "text/plain": [
       "  0%|          | 0/48 [00:00<?, ?it/s]"
      ]
     },
     "metadata": {},
     "output_type": "display_data"
    },
    {
     "data": {
      "application/vnd.jupyter.widget-view+json": {
       "model_id": "e77fee87ee574f0e8ec31ea5a3ca4750",
       "version_major": 2,
       "version_minor": 0
      },
      "text/plain": [
       "  0%|          | 0/500 [00:00<?, ?it/s]"
      ]
     },
     "metadata": {},
     "output_type": "display_data"
    },
    {
     "data": {
      "application/vnd.jupyter.widget-view+json": {
       "model_id": "cee9d607568b4823b07e20a0feebe4e9",
       "version_major": 2,
       "version_minor": 0
      },
      "text/plain": [
       "  0%|          | 0/500 [00:00<?, ?it/s]"
      ]
     },
     "metadata": {},
     "output_type": "display_data"
    },
    {
     "data": {
      "application/vnd.jupyter.widget-view+json": {
       "model_id": "5280a2e4d7bc467493dbb0249c7e3c69",
       "version_major": 2,
       "version_minor": 0
      },
      "text/plain": [
       "  0%|          | 0/500 [00:00<?, ?it/s]"
      ]
     },
     "metadata": {},
     "output_type": "display_data"
    },
    {
     "data": {
      "application/vnd.jupyter.widget-view+json": {
       "model_id": "1ba4b32bd185486687df0ec0ae89f988",
       "version_major": 2,
       "version_minor": 0
      },
      "text/plain": [
       "  0%|          | 0/500 [00:00<?, ?it/s]"
      ]
     },
     "metadata": {},
     "output_type": "display_data"
    },
    {
     "data": {
      "application/vnd.jupyter.widget-view+json": {
       "model_id": "16730e1f6b9a46a2bf37a0926adc5132",
       "version_major": 2,
       "version_minor": 0
      },
      "text/plain": [
       "  0%|          | 0/500 [00:00<?, ?it/s]"
      ]
     },
     "metadata": {},
     "output_type": "display_data"
    },
    {
     "data": {
      "application/vnd.jupyter.widget-view+json": {
       "model_id": "66040f4bf38544d7b6d0b25cf84ab36e",
       "version_major": 2,
       "version_minor": 0
      },
      "text/plain": [
       "  0%|          | 0/500 [00:00<?, ?it/s]"
      ]
     },
     "metadata": {},
     "output_type": "display_data"
    },
    {
     "data": {
      "application/vnd.jupyter.widget-view+json": {
       "model_id": "9315463a9e084af0bbfa3ffb4b6cdfac",
       "version_major": 2,
       "version_minor": 0
      },
      "text/plain": [
       "  0%|          | 0/500 [00:00<?, ?it/s]"
      ]
     },
     "metadata": {},
     "output_type": "display_data"
    },
    {
     "data": {
      "application/vnd.jupyter.widget-view+json": {
       "model_id": "e94ce9772b0a4fcfa51280c7d40e2162",
       "version_major": 2,
       "version_minor": 0
      },
      "text/plain": [
       "  0%|          | 0/500 [00:00<?, ?it/s]"
      ]
     },
     "metadata": {},
     "output_type": "display_data"
    },
    {
     "data": {
      "application/vnd.jupyter.widget-view+json": {
       "model_id": "d903fee952944195be070a29cd7b1120",
       "version_major": 2,
       "version_minor": 0
      },
      "text/plain": [
       "  0%|          | 0/500 [00:00<?, ?it/s]"
      ]
     },
     "metadata": {},
     "output_type": "display_data"
    },
    {
     "data": {
      "application/vnd.jupyter.widget-view+json": {
       "model_id": "4fd7e3f38b5f42d2b5279c53bb4f6cd7",
       "version_major": 2,
       "version_minor": 0
      },
      "text/plain": [
       "  0%|          | 0/500 [00:00<?, ?it/s]"
      ]
     },
     "metadata": {},
     "output_type": "display_data"
    },
    {
     "data": {
      "application/vnd.jupyter.widget-view+json": {
       "model_id": "fe45827e841f4f84aa3b875b806edaaa",
       "version_major": 2,
       "version_minor": 0
      },
      "text/plain": [
       "  0%|          | 0/500 [00:00<?, ?it/s]"
      ]
     },
     "metadata": {},
     "output_type": "display_data"
    },
    {
     "data": {
      "application/vnd.jupyter.widget-view+json": {
       "model_id": "fd7ef3b7c95f48f99865db5d696a7873",
       "version_major": 2,
       "version_minor": 0
      },
      "text/plain": [
       "  0%|          | 0/500 [00:00<?, ?it/s]"
      ]
     },
     "metadata": {},
     "output_type": "display_data"
    },
    {
     "data": {
      "application/vnd.jupyter.widget-view+json": {
       "model_id": "35f9d11d29e0477bac5cbb6157c2e12c",
       "version_major": 2,
       "version_minor": 0
      },
      "text/plain": [
       "  0%|          | 0/500 [00:00<?, ?it/s]"
      ]
     },
     "metadata": {},
     "output_type": "display_data"
    },
    {
     "data": {
      "application/vnd.jupyter.widget-view+json": {
       "model_id": "65f37c4499c249fe87c9bdc82915662f",
       "version_major": 2,
       "version_minor": 0
      },
      "text/plain": [
       "  0%|          | 0/500 [00:00<?, ?it/s]"
      ]
     },
     "metadata": {},
     "output_type": "display_data"
    },
    {
     "data": {
      "application/vnd.jupyter.widget-view+json": {
       "model_id": "35a8450bddc3454fb54d878d28b31f3a",
       "version_major": 2,
       "version_minor": 0
      },
      "text/plain": [
       "  0%|          | 0/500 [00:00<?, ?it/s]"
      ]
     },
     "metadata": {},
     "output_type": "display_data"
    },
    {
     "data": {
      "application/vnd.jupyter.widget-view+json": {
       "model_id": "a9818459c93741f4af5b5c8ca53774b8",
       "version_major": 2,
       "version_minor": 0
      },
      "text/plain": [
       "  0%|          | 0/500 [00:00<?, ?it/s]"
      ]
     },
     "metadata": {},
     "output_type": "display_data"
    },
    {
     "data": {
      "application/vnd.jupyter.widget-view+json": {
       "model_id": "426335269ceb479daf675d2c785844b6",
       "version_major": 2,
       "version_minor": 0
      },
      "text/plain": [
       "  0%|          | 0/500 [00:00<?, ?it/s]"
      ]
     },
     "metadata": {},
     "output_type": "display_data"
    },
    {
     "data": {
      "application/vnd.jupyter.widget-view+json": {
       "model_id": "ad4bf7aa2cff4a139a57ac4e9b7e8208",
       "version_major": 2,
       "version_minor": 0
      },
      "text/plain": [
       "  0%|          | 0/500 [00:00<?, ?it/s]"
      ]
     },
     "metadata": {},
     "output_type": "display_data"
    },
    {
     "data": {
      "application/vnd.jupyter.widget-view+json": {
       "model_id": "9afe3ea3ba8f4bb4b493483304eb5178",
       "version_major": 2,
       "version_minor": 0
      },
      "text/plain": [
       "  0%|          | 0/500 [00:00<?, ?it/s]"
      ]
     },
     "metadata": {},
     "output_type": "display_data"
    },
    {
     "data": {
      "application/vnd.jupyter.widget-view+json": {
       "model_id": "8462cd59a9474f29bb1bf485f124568b",
       "version_major": 2,
       "version_minor": 0
      },
      "text/plain": [
       "  0%|          | 0/500 [00:00<?, ?it/s]"
      ]
     },
     "metadata": {},
     "output_type": "display_data"
    },
    {
     "data": {
      "application/vnd.jupyter.widget-view+json": {
       "model_id": "f0060f7ab3654cf9995095144ac5a2d7",
       "version_major": 2,
       "version_minor": 0
      },
      "text/plain": [
       "  0%|          | 0/500 [00:00<?, ?it/s]"
      ]
     },
     "metadata": {},
     "output_type": "display_data"
    },
    {
     "data": {
      "application/vnd.jupyter.widget-view+json": {
       "model_id": "a1cd60cc06b645c48f0c49bbe545c317",
       "version_major": 2,
       "version_minor": 0
      },
      "text/plain": [
       "  0%|          | 0/500 [00:00<?, ?it/s]"
      ]
     },
     "metadata": {},
     "output_type": "display_data"
    },
    {
     "data": {
      "application/vnd.jupyter.widget-view+json": {
       "model_id": "4fe858f193ac48939a57410fe8e29710",
       "version_major": 2,
       "version_minor": 0
      },
      "text/plain": [
       "  0%|          | 0/500 [00:00<?, ?it/s]"
      ]
     },
     "metadata": {},
     "output_type": "display_data"
    },
    {
     "data": {
      "application/vnd.jupyter.widget-view+json": {
       "model_id": "3db48c529eb24137bf9fe0506989ae4c",
       "version_major": 2,
       "version_minor": 0
      },
      "text/plain": [
       "  0%|          | 0/500 [00:00<?, ?it/s]"
      ]
     },
     "metadata": {},
     "output_type": "display_data"
    },
    {
     "data": {
      "application/vnd.jupyter.widget-view+json": {
       "model_id": "76060b00f31145459a0e18bbcee480ad",
       "version_major": 2,
       "version_minor": 0
      },
      "text/plain": [
       "  0%|          | 0/500 [00:00<?, ?it/s]"
      ]
     },
     "metadata": {},
     "output_type": "display_data"
    },
    {
     "data": {
      "application/vnd.jupyter.widget-view+json": {
       "model_id": "e06e532a0e6c4fe4a4e3efe0e049998e",
       "version_major": 2,
       "version_minor": 0
      },
      "text/plain": [
       "  0%|          | 0/500 [00:00<?, ?it/s]"
      ]
     },
     "metadata": {},
     "output_type": "display_data"
    },
    {
     "data": {
      "application/vnd.jupyter.widget-view+json": {
       "model_id": "332dfab271014b498fe71fb004c8b578",
       "version_major": 2,
       "version_minor": 0
      },
      "text/plain": [
       "  0%|          | 0/500 [00:00<?, ?it/s]"
      ]
     },
     "metadata": {},
     "output_type": "display_data"
    },
    {
     "data": {
      "application/vnd.jupyter.widget-view+json": {
       "model_id": "b2cd6b30acb9419ea1c4153854d9fe39",
       "version_major": 2,
       "version_minor": 0
      },
      "text/plain": [
       "  0%|          | 0/500 [00:00<?, ?it/s]"
      ]
     },
     "metadata": {},
     "output_type": "display_data"
    },
    {
     "data": {
      "application/vnd.jupyter.widget-view+json": {
       "model_id": "744b5e78ced844749e94602d86f4d05d",
       "version_major": 2,
       "version_minor": 0
      },
      "text/plain": [
       "  0%|          | 0/500 [00:00<?, ?it/s]"
      ]
     },
     "metadata": {},
     "output_type": "display_data"
    },
    {
     "data": {
      "application/vnd.jupyter.widget-view+json": {
       "model_id": "73695c545f7644c094f4240c67e8a389",
       "version_major": 2,
       "version_minor": 0
      },
      "text/plain": [
       "  0%|          | 0/500 [00:00<?, ?it/s]"
      ]
     },
     "metadata": {},
     "output_type": "display_data"
    },
    {
     "data": {
      "application/vnd.jupyter.widget-view+json": {
       "model_id": "0d73b92849694cdd8a16d32579ac2dc4",
       "version_major": 2,
       "version_minor": 0
      },
      "text/plain": [
       "  0%|          | 0/500 [00:00<?, ?it/s]"
      ]
     },
     "metadata": {},
     "output_type": "display_data"
    },
    {
     "data": {
      "application/vnd.jupyter.widget-view+json": {
       "model_id": "977a1b21425f4f8ba339eb48e2300198",
       "version_major": 2,
       "version_minor": 0
      },
      "text/plain": [
       "  0%|          | 0/500 [00:00<?, ?it/s]"
      ]
     },
     "metadata": {},
     "output_type": "display_data"
    },
    {
     "data": {
      "application/vnd.jupyter.widget-view+json": {
       "model_id": "ee10398968d5487092fb1557547dfde3",
       "version_major": 2,
       "version_minor": 0
      },
      "text/plain": [
       "  0%|          | 0/500 [00:00<?, ?it/s]"
      ]
     },
     "metadata": {},
     "output_type": "display_data"
    },
    {
     "data": {
      "application/vnd.jupyter.widget-view+json": {
       "model_id": "81fa7fccaa3a4fcfb0a5a57bc4e3ec8f",
       "version_major": 2,
       "version_minor": 0
      },
      "text/plain": [
       "  0%|          | 0/500 [00:00<?, ?it/s]"
      ]
     },
     "metadata": {},
     "output_type": "display_data"
    },
    {
     "data": {
      "application/vnd.jupyter.widget-view+json": {
       "model_id": "150790846f24420dbec0cf928454b4c1",
       "version_major": 2,
       "version_minor": 0
      },
      "text/plain": [
       "  0%|          | 0/500 [00:00<?, ?it/s]"
      ]
     },
     "metadata": {},
     "output_type": "display_data"
    },
    {
     "data": {
      "application/vnd.jupyter.widget-view+json": {
       "model_id": "c8be3ef4aee541f1bfd53ee932d17f3b",
       "version_major": 2,
       "version_minor": 0
      },
      "text/plain": [
       "  0%|          | 0/500 [00:00<?, ?it/s]"
      ]
     },
     "metadata": {},
     "output_type": "display_data"
    },
    {
     "data": {
      "application/vnd.jupyter.widget-view+json": {
       "model_id": "49c434aaf73f4636a69cb1e22a62abab",
       "version_major": 2,
       "version_minor": 0
      },
      "text/plain": [
       "  0%|          | 0/500 [00:00<?, ?it/s]"
      ]
     },
     "metadata": {},
     "output_type": "display_data"
    },
    {
     "data": {
      "application/vnd.jupyter.widget-view+json": {
       "model_id": "3eef123a70584bc998002a246f9016e3",
       "version_major": 2,
       "version_minor": 0
      },
      "text/plain": [
       "  0%|          | 0/500 [00:00<?, ?it/s]"
      ]
     },
     "metadata": {},
     "output_type": "display_data"
    },
    {
     "data": {
      "application/vnd.jupyter.widget-view+json": {
       "model_id": "def6ce94385449f0a97c4e7503a3f36a",
       "version_major": 2,
       "version_minor": 0
      },
      "text/plain": [
       "  0%|          | 0/500 [00:00<?, ?it/s]"
      ]
     },
     "metadata": {},
     "output_type": "display_data"
    },
    {
     "data": {
      "application/vnd.jupyter.widget-view+json": {
       "model_id": "4db4a9199b8147d1b595a500ee5be4ce",
       "version_major": 2,
       "version_minor": 0
      },
      "text/plain": [
       "  0%|          | 0/500 [00:00<?, ?it/s]"
      ]
     },
     "metadata": {},
     "output_type": "display_data"
    },
    {
     "data": {
      "application/vnd.jupyter.widget-view+json": {
       "model_id": "65b1fd0a6ef440cd917e55fe1fa4f791",
       "version_major": 2,
       "version_minor": 0
      },
      "text/plain": [
       "  0%|          | 0/500 [00:00<?, ?it/s]"
      ]
     },
     "metadata": {},
     "output_type": "display_data"
    },
    {
     "data": {
      "application/vnd.jupyter.widget-view+json": {
       "model_id": "cb63a8d11c8e4e40830b3fd77ef13116",
       "version_major": 2,
       "version_minor": 0
      },
      "text/plain": [
       "  0%|          | 0/500 [00:00<?, ?it/s]"
      ]
     },
     "metadata": {},
     "output_type": "display_data"
    },
    {
     "data": {
      "application/vnd.jupyter.widget-view+json": {
       "model_id": "a815fcd8fbad4ecbbc54ecce891160e0",
       "version_major": 2,
       "version_minor": 0
      },
      "text/plain": [
       "  0%|          | 0/500 [00:00<?, ?it/s]"
      ]
     },
     "metadata": {},
     "output_type": "display_data"
    },
    {
     "data": {
      "application/vnd.jupyter.widget-view+json": {
       "model_id": "faae1aa0dfdc4d669247e817442128d2",
       "version_major": 2,
       "version_minor": 0
      },
      "text/plain": [
       "  0%|          | 0/500 [00:00<?, ?it/s]"
      ]
     },
     "metadata": {},
     "output_type": "display_data"
    },
    {
     "data": {
      "application/vnd.jupyter.widget-view+json": {
       "model_id": "a5f240e7c2df44db9c337704bfcb5d84",
       "version_major": 2,
       "version_minor": 0
      },
      "text/plain": [
       "  0%|          | 0/500 [00:00<?, ?it/s]"
      ]
     },
     "metadata": {},
     "output_type": "display_data"
    },
    {
     "data": {
      "application/vnd.jupyter.widget-view+json": {
       "model_id": "f9481e830d15400fb5d953951ebb28e5",
       "version_major": 2,
       "version_minor": 0
      },
      "text/plain": [
       "  0%|          | 0/500 [00:00<?, ?it/s]"
      ]
     },
     "metadata": {},
     "output_type": "display_data"
    },
    {
     "data": {
      "application/vnd.jupyter.widget-view+json": {
       "model_id": "c24bf334c5e4405db75d07383ce11114",
       "version_major": 2,
       "version_minor": 0
      },
      "text/plain": [
       "  0%|          | 0/500 [00:00<?, ?it/s]"
      ]
     },
     "metadata": {},
     "output_type": "display_data"
    },
    {
     "data": {
      "application/vnd.jupyter.widget-view+json": {
       "model_id": "2628c82146294fae88df09c26189c530",
       "version_major": 2,
       "version_minor": 0
      },
      "text/plain": [
       "  0%|          | 0/500 [00:00<?, ?it/s]"
      ]
     },
     "metadata": {},
     "output_type": "display_data"
    }
   ],
   "source": [
    "results = hpsearch(\n",
    "    params,\n",
    "    model_constructor = lambda : GNN_3Layer(node_features=3, message_features=3, hidden_size=10, final_gelu = False),\n",
    "    model_score_fn = lambda model : model_steps_compare(model, gn, gdata)['absolute']['avg_difs'][-1],\n",
    "    training_data = get_TrainingData(gn)\n",
    ")"
   ]
  },
  {
   "cell_type": "code",
   "execution_count": 194,
   "id": "a8850f54-5971-46cd-a6af-708976c5a8f2",
   "metadata": {},
   "outputs": [],
   "source": [
    "t.save(results, 'act-inh-hp-results')"
   ]
  },
  {
   "cell_type": "code",
   "execution_count": 199,
   "id": "9d025beb-b678-498a-a987-f22b50258858",
   "metadata": {},
   "outputs": [
    {
     "data": {
      "text/plain": [
       "[(12.160135269165039, 0.253412663936615),\n",
       " (11.907604217529297, 0.3613283634185791),\n",
       " (12.036587715148926, 0.3895931541919708),\n",
       " (12.419591903686523, 0.39027583599090576),\n",
       " (11.964486122131348, 0.3928111791610718),\n",
       " (12.28510856628418, 0.4564442038536072),\n",
       " (267.87237548828125, 0.4783591032028198),\n",
       " (138.570068359375, 0.5132623314857483),\n",
       " (1334.86328125, 0.5170754790306091),\n",
       " (1610.4862060546875, 0.5179049372673035),\n",
       " (1608.7225341796875, 0.5183786749839783),\n",
       " (39.209354400634766, 0.5187198519706726),\n",
       " (12.250833511352539, 0.5217769742012024),\n",
       " (137.64024353027344, 0.5466455817222595),\n",
       " (133.62071228027344, 0.5490640997886658),\n",
       " (1573.0972900390625, 0.5518168210983276),\n",
       " (1353.137939453125, 0.5607702136039734),\n",
       " (12.135756492614746, 0.581545352935791),\n",
       " (435.3558349609375, 0.5965348482131958),\n",
       " (133.24232482910156, 0.630486249923706)]"
      ]
     },
     "execution_count": 199,
     "metadata": {},
     "output_type": "execute_result"
    }
   ],
   "source": [
    "[(results[i]['val_loss_history'][-1], results[i]['score']) for i in range(20)]"
   ]
  },
  {
   "cell_type": "code",
   "execution_count": 189,
   "id": "f54e6124-0dde-4dca-9520-40fe3c5f87cf",
   "metadata": {},
   "outputs": [
    {
     "data": {
      "image/png": "[encoded data removed]",
      "text/plain": [
       "<Figure size 720x288 with 1 Axes>"
      ]
     },
     "metadata": {
      "needs_background": "light"
     },
     "output_type": "display_data"
    }
   ],
   "source": [
    "plots = [res['val_loss_history'] for res in results]\n",
    "for p in plots:\n",
    "    plt.plot(p)\n",
    "plt.yscale('log')"
   ]
  },
  {
   "cell_type": "code",
   "execution_count": null,
   "id": "6cf32e51-7fe5-4f83-b582-2d972859006f",
   "metadata": {},
   "outputs": [],
   "source": []
  },
  {
   "cell_type": "code",
   "execution_count": 191,
   "id": "a990b33d-4e1b-4a2e-9e10-e6d026284983",
   "metadata": {},
   "outputs": [
    {
     "name": "stdout",
     "output_type": "stream",
     "text": [
      "Stats for 20 steps for node features:\n",
      "Greatest relative difference: 15996157.8125%\n",
      "Average relative difference: 552524.0019607544%\n",
      "Smallest relative difference: 100.01331567764282%\n",
      "Greatest absolute difference: 21.569419860839844\n",
      "Average absolute difference: 0.18669495736248792\n",
      "Smallest absolute difference: 4.678452114603715e-06%\n"
     ]
    },
    {
     "data": {
      "image/png": "[encoded data removed]",
      "text/plain": [
       "<Figure size 720x288 with 1 Axes>"
      ]
     },
     "metadata": {
      "needs_background": "light"
     },
     "output_type": "display_data"
    },
    {
     "data": {
      "image/png": "[encoded data removed]",
      "text/plain": [
       "<Figure size 720x288 with 1 Axes>"
      ]
     },
     "metadata": {
      "needs_background": "light"
     },
     "output_type": "display_data"
    },
    {
     "name": "stdout",
     "output_type": "stream",
     "text": [
      "The model being tested finished the run outputting this graph:\n"
     ]
    },
    {
     "data": {
      "image/png": "[encoded data removed]",
      "text/plain": [
       "<Figure size 720x288 with 3 Axes>"
      ]
     },
     "metadata": {},
     "output_type": "display_data"
    },
    {
     "name": "stdout",
     "output_type": "stream",
     "text": [
      "tensor([[-3.6351e+00,  4.7608e-01,  8.3255e-01],\n",
      "        [-3.0257e-01,  4.1661e-01,  6.4543e-01],\n",
      "        [ 4.1556e-01,  3.2422e-01,  4.1290e-01],\n",
      "        [ 6.8552e-01,  2.2972e-01,  2.3495e-01],\n",
      "        [ 6.9158e-01,  1.5320e-01,  1.2686e-01],\n",
      "        [ 7.4777e-01,  1.0563e-01,  6.1770e-02],\n",
      "        [-2.4361e-01,  4.1350e-01,  6.3613e-01],\n",
      "        [ 2.4271e-01,  3.6465e-01,  5.0281e-01],\n",
      "        [ 6.1972e-01,  2.8695e-01,  3.3418e-01],\n",
      "        [ 6.2905e-01,  2.0646e-01,  2.0614e-01],\n",
      "        [ 5.9618e-01,  1.4070e-01,  1.2590e-01],\n",
      "        [ 6.5472e-01,  9.9462e-02,  7.2024e-02],\n",
      "        [ 5.6474e-01,  3.1756e-01,  3.9618e-01],\n",
      "        [ 6.4509e-01,  2.8317e-01,  3.2585e-01],\n",
      "        [ 6.3588e-01,  2.2680e-01,  2.3498e-01],\n",
      "        [ 5.7435e-01,  1.6692e-01,  1.6261e-01],\n",
      "        [ 5.4726e-01,  1.1700e-01,  1.1007e-01],\n",
      "        [ 6.1523e-01,  8.4691e-02,  6.6764e-02],\n",
      "        [ 7.1740e-01,  2.2081e-01,  2.1831e-01],\n",
      "        [ 6.3452e-01,  2.0004e-01,  1.9594e-01],\n",
      "        [ 5.7357e-01,  1.6399e-01,  1.5886e-01],\n",
      "        [ 5.2761e-01,  1.2454e-01,  1.2276e-01],\n",
      "        [ 5.2585e-01,  9.0608e-02,  8.8347e-02],\n",
      "        [ 6.0798e-01,  6.7232e-02,  5.2319e-02],\n",
      "        [ 6.9643e-01,  1.4318e-01,  1.1322e-01],\n",
      "        [ 5.9584e-01,  1.3302e-01,  1.1661e-01],\n",
      "        [ 5.4582e-01,  1.1253e-01,  1.0533e-01],\n",
      "        [ 5.2529e-01,  8.8936e-02,  8.6738e-02],\n",
      "        [ 5.4495e-01,  6.7447e-02,  6.1919e-02],\n",
      "        [ 6.3778e-01,  5.0999e-02,  3.0343e-02],\n",
      "        [ 7.4875e-01,  9.5176e-02,  4.9647e-02],\n",
      "        [ 6.5461e-01,  9.1317e-02,  6.3153e-02],\n",
      "        [ 6.1459e-01,  7.9700e-02,  6.1729e-02],\n",
      "        [ 6.0765e-01,  6.4954e-02,  5.0163e-02],\n",
      "        [ 6.3772e-01,  5.0349e-02,  2.9750e-02],\n",
      "        [ 7.2880e-01,  3.7968e-02,  1.1712e-03]], grad_fn=<AddmmBackward0>)\n",
      "The ground truth model finished the run outputting this graph:\n"
     ]
    },
    {
     "data": {
      "image/png": "[encoded data removed]",
      "text/plain": [
       "<Figure size 720x288 with 3 Axes>"
      ]
     },
     "metadata": {},
     "output_type": "display_data"
    },
    {
     "name": "stdout",
     "output_type": "stream",
     "text": [
      "tensor([[-2.3280e+01,  4.4410e-01,  6.8289e-01],\n",
      "        [-3.0953e-01,  3.8660e-01,  5.4899e-01],\n",
      "        [ 5.6463e-01,  2.9345e-01,  3.5644e-01],\n",
      "        [ 8.0276e-01,  1.9588e-01,  1.8861e-01],\n",
      "        [ 7.4677e-01,  1.1983e-01,  8.3681e-02],\n",
      "        [ 6.7331e-01,  7.9422e-02,  3.7924e-02],\n",
      "        [ 2.6579e-01,  3.8326e-01,  5.3660e-01],\n",
      "        [ 4.5221e-01,  3.3332e-01,  4.3039e-01],\n",
      "        [ 8.0780e-01,  2.5252e-01,  2.7816e-01],\n",
      "        [ 8.1500e-01,  1.6802e-01,  1.4618e-01],\n",
      "        [ 7.2308e-01,  1.0230e-01,  6.4227e-02],\n",
      "        [ 6.4828e-01,  6.7438e-02,  2.8730e-02],\n",
      "        [ 7.7291e-01,  2.8584e-01,  3.3369e-01],\n",
      "        [ 8.4305e-01,  2.4811e-01,  2.6644e-01],\n",
      "        [ 8.4546e-01,  1.8721e-01,  1.7068e-01],\n",
      "        [ 7.6786e-01,  1.2376e-01,  8.8518e-02],\n",
      "        [ 6.6942e-01,  7.4621e-02,  3.8173e-02],\n",
      "        [ 6.0528e-01,  4.8652e-02,  1.6652e-02],\n",
      "        [ 8.3907e-01,  1.8557e-01,  1.6624e-01],\n",
      "        [ 8.2008e-01,  1.6057e-01,  1.3187e-01],\n",
      "        [ 7.6380e-01,  1.2038e-01,  8.3388e-02],\n",
      "        [ 6.8132e-01,  7.8768e-02,  4.2425e-02],\n",
      "        [ 6.0482e-01,  4.6765e-02,  1.7812e-02],\n",
      "        [ 5.6087e-01,  2.9955e-02,  7.4946e-03],\n",
      "        [ 7.3693e-01,  1.0901e-01,  6.8219e-02],\n",
      "        [ 7.0920e-01,  9.3882e-02,  5.3627e-02],\n",
      "        [ 6.5831e-01,  6.9711e-02,  3.3318e-02],\n",
      "        [ 6.0010e-01,  4.4914e-02,  1.6516e-02],\n",
      "        [ 5.5348e-01,  2.6055e-02,  6.6908e-03],\n",
      "        [ 5.2907e-01,  1.6243e-02,  2.6828e-03],\n",
      "        [ 6.5020e-01,  6.9030e-02,  2.8052e-02],\n",
      "        [ 6.2805e-01,  5.9127e-02,  2.1784e-02],\n",
      "        [ 5.9172e-01,  4.3410e-02,  1.3216e-02],\n",
      "        [ 5.5447e-01,  2.7461e-02,  6.3256e-03],\n",
      "        [ 5.2727e-01,  1.5490e-02,  2.4423e-03],\n",
      "        [ 5.1394e-01,  9.3334e-03,  9.1703e-04]])\n"
     ]
    },
    {
     "data": {
      "image/png": "[encoded data removed]",
      "text/plain": [
       "<Figure size 720x288 with 1 Axes>"
      ]
     },
     "metadata": {
      "needs_background": "light"
     },
     "output_type": "display_data"
    },
    {
     "data": {
      "text/plain": [
       "(Data(x=[36, 3], edge_index=[2, 120]), Data(x=[36, 3], edge_index=[2, 120]))"
      ]
     },
     "execution_count": 191,
     "metadata": {},
     "output_type": "execute_result"
    }
   ],
   "source": [
    "model_compare(results[0]['model'], gn, gdata)"
   ]
  },
  {
   "cell_type": "code",
   "execution_count": 213,
   "id": "a9dce57b-843a-4c22-807e-b8265d82e4e2",
   "metadata": {},
   "outputs": [],
   "source": [
    "time_series = gn_time_series(gn, 10, gdata)\n",
    "time_series_pred = gn_time_series(results_m2[0]['model'], 10, gdata)"
   ]
  },
  {
   "cell_type": "code",
   "execution_count": 214,
   "id": "60b1cc59-e86d-4c88-af68-8c123aa27772",
   "metadata": {},
   "outputs": [
    {
     "data": {
      "application/vnd.jupyter.widget-view+json": {
       "model_id": "f23c1b00fb6340b5ab72809fd88202b3",
       "version_major": 2,
       "version_minor": 0
      },
      "text/plain": [
       "interactive(children=(IntSlider(value=0, description='x', max=10), Output()), _dom_classes=('widget-interact',…"
      ]
     },
     "metadata": {},
     "output_type": "display_data"
    },
    {
     "data": {
      "text/plain": [
       "<function __main__.g(x)>"
      ]
     },
     "execution_count": 214,
     "metadata": {},
     "output_type": "execute_result"
    }
   ],
   "source": [
    "def g(x):\n",
    "    gdisplay(\n",
    "        time_series[x],\n",
    "        color_scales = [\n",
    "            make_color_scale(0, 1, plt.cm.Greys),\n",
    "            make_color_scale(0, 1, plt.cm.BuGn),\n",
    "            make_color_scale(0, 1, plt.cm.Reds)\n",
    "        ]\n",
    "    )\n",
    "    gdisplay(\n",
    "        time_series_pred[x],\n",
    "        color_scales = [\n",
    "            make_color_scale(0, 1, plt.cm.Greys),\n",
    "            make_color_scale(0, 1, plt.cm.BuGn),\n",
    "            make_color_scale(0, 1, plt.cm.Reds)\n",
    "        ]\n",
    "    )\n",
    "    print(x)\n",
    "\n",
    "widgets.interact(\n",
    "    g,\n",
    "    x=widgets.IntSlider(min=0, max=len(time_series)-1, step=1, value=0)\n",
    ")"
   ]
  },
  {
   "cell_type": "code",
   "execution_count": null,
   "id": "5630e905-f706-40b9-bb37-67f4230bb227",
   "metadata": {},
   "outputs": [],
   "source": []
  },
  {
   "cell_type": "code",
   "execution_count": null,
   "id": "9c66995f-8661-4506-b76d-feb188d7344d",
   "metadata": {},
   "outputs": [],
   "source": []
  },
  {
   "cell_type": "code",
   "execution_count": null,
   "id": "fcfe64e9-440d-4cd6-aaaf-67608e7bc8ad",
   "metadata": {},
   "outputs": [],
   "source": []
  },
  {
   "cell_type": "code",
   "execution_count": null,
   "id": "e1d431ae-9d9b-46ed-88ba-ae5e125a73ac",
   "metadata": {},
   "outputs": [],
   "source": []
  },
  {
   "cell_type": "code",
   "execution_count": 209,
   "id": "6104e93d-7b59-4077-be85-40ae465b1143",
   "metadata": {},
   "outputs": [],
   "source": [
    "params2 = params\n",
    "params2['epochs'] = [150]\n"
   ]
  },
  {
   "cell_type": "code",
   "execution_count": 210,
   "id": "0d7fbc29-4777-4302-8d70-a057a850b930",
   "metadata": {},
   "outputs": [
    {
     "data": {
      "text/plain": [
       "{'starting_lr': [0.1, 0.05],\n",
       " 'lr_scheduler_dec_factor': [0.2],\n",
       " 'lr_scheduler_patience': [20],\n",
       " 'lr_scheduler_cooldown': [10],\n",
       " 'batch_size': [10, 50],\n",
       " 'adam_weight_decay': [5e-08],\n",
       " 'epochs': [150],\n",
       " 'loss_func': [L1Loss(), MSELoss()],\n",
       " 'regularization_coefficient': [False, 1e-05, 0.001],\n",
       " 'regularization_norm': [1, 2]}"
      ]
     },
     "execution_count": 210,
     "metadata": {},
     "output_type": "execute_result"
    }
   ],
   "source": [
    "params2"
   ]
  },
  {
   "cell_type": "code",
   "execution_count": 211,
   "id": "b06804c5-be20-4dde-9485-bb2d54fd00cd",
   "metadata": {},
   "outputs": [
    {
     "data": {
      "application/vnd.jupyter.widget-view+json": {
       "model_id": "1ef31c2430d748f1bf82897d290c8d7b",
       "version_major": 2,
       "version_minor": 0
      },
      "text/plain": [
       "  0%|          | 0/48 [00:00<?, ?it/s]"
      ]
     },
     "metadata": {},
     "output_type": "display_data"
    },
    {
     "data": {
      "application/vnd.jupyter.widget-view+json": {
       "model_id": "a7bbfa2c7c044afd9ea72cf577439af4",
       "version_major": 2,
       "version_minor": 0
      },
      "text/plain": [
       "  0%|          | 0/150 [00:00<?, ?it/s]"
      ]
     },
     "metadata": {},
     "output_type": "display_data"
    },
    {
     "data": {
      "application/vnd.jupyter.widget-view+json": {
       "model_id": "157985dda602438f8b5dafb6fccd0e73",
       "version_major": 2,
       "version_minor": 0
      },
      "text/plain": [
       "  0%|          | 0/150 [00:00<?, ?it/s]"
      ]
     },
     "metadata": {},
     "output_type": "display_data"
    },
    {
     "data": {
      "application/vnd.jupyter.widget-view+json": {
       "model_id": "ad01706f96e44db78a75217b8d553cb9",
       "version_major": 2,
       "version_minor": 0
      },
      "text/plain": [
       "  0%|          | 0/150 [00:00<?, ?it/s]"
      ]
     },
     "metadata": {},
     "output_type": "display_data"
    },
    {
     "data": {
      "application/vnd.jupyter.widget-view+json": {
       "model_id": "a1cfa86d3b764fd0ac5d97eeaed2716e",
       "version_major": 2,
       "version_minor": 0
      },
      "text/plain": [
       "  0%|          | 0/150 [00:00<?, ?it/s]"
      ]
     },
     "metadata": {},
     "output_type": "display_data"
    },
    {
     "data": {
      "application/vnd.jupyter.widget-view+json": {
       "model_id": "85409407e1944cbf8daa67b562d96525",
       "version_major": 2,
       "version_minor": 0
      },
      "text/plain": [
       "  0%|          | 0/150 [00:00<?, ?it/s]"
      ]
     },
     "metadata": {},
     "output_type": "display_data"
    },
    {
     "data": {
      "application/vnd.jupyter.widget-view+json": {
       "model_id": "617011fc0a434810886b769dc3f4dee5",
       "version_major": 2,
       "version_minor": 0
      },
      "text/plain": [
       "  0%|          | 0/150 [00:00<?, ?it/s]"
      ]
     },
     "metadata": {},
     "output_type": "display_data"
    },
    {
     "data": {
      "application/vnd.jupyter.widget-view+json": {
       "model_id": "ac87f4b951624fa3a47c6e52ef3bc50f",
       "version_major": 2,
       "version_minor": 0
      },
      "text/plain": [
       "  0%|          | 0/150 [00:00<?, ?it/s]"
      ]
     },
     "metadata": {},
     "output_type": "display_data"
    },
    {
     "data": {
      "application/vnd.jupyter.widget-view+json": {
       "model_id": "06c1278fa2464d2db9afba5e1e0b50f2",
       "version_major": 2,
       "version_minor": 0
      },
      "text/plain": [
       "  0%|          | 0/150 [00:00<?, ?it/s]"
      ]
     },
     "metadata": {},
     "output_type": "display_data"
    },
    {
     "data": {
      "application/vnd.jupyter.widget-view+json": {
       "model_id": "1f0f4bbf6cf9482cbafbac5a9fc90141",
       "version_major": 2,
       "version_minor": 0
      },
      "text/plain": [
       "  0%|          | 0/150 [00:00<?, ?it/s]"
      ]
     },
     "metadata": {},
     "output_type": "display_data"
    },
    {
     "data": {
      "application/vnd.jupyter.widget-view+json": {
       "model_id": "db2e62b5256b42b285e923d1f6bd0e15",
       "version_major": 2,
       "version_minor": 0
      },
      "text/plain": [
       "  0%|          | 0/150 [00:00<?, ?it/s]"
      ]
     },
     "metadata": {},
     "output_type": "display_data"
    },
    {
     "data": {
      "application/vnd.jupyter.widget-view+json": {
       "model_id": "2b0e85e44eed4c17a2b5d20cdc5cfb36",
       "version_major": 2,
       "version_minor": 0
      },
      "text/plain": [
       "  0%|          | 0/150 [00:00<?, ?it/s]"
      ]
     },
     "metadata": {},
     "output_type": "display_data"
    },
    {
     "data": {
      "application/vnd.jupyter.widget-view+json": {
       "model_id": "c55f7e6391664623ad717c9081b5e5dd",
       "version_major": 2,
       "version_minor": 0
      },
      "text/plain": [
       "  0%|          | 0/150 [00:00<?, ?it/s]"
      ]
     },
     "metadata": {},
     "output_type": "display_data"
    },
    {
     "data": {
      "application/vnd.jupyter.widget-view+json": {
       "model_id": "efc7c95d6b5d439cb935f88e590106cc",
       "version_major": 2,
       "version_minor": 0
      },
      "text/plain": [
       "  0%|          | 0/150 [00:00<?, ?it/s]"
      ]
     },
     "metadata": {},
     "output_type": "display_data"
    },
    {
     "data": {
      "application/vnd.jupyter.widget-view+json": {
       "model_id": "3dd7e85da04345fb83fc0a4a6d164ba9",
       "version_major": 2,
       "version_minor": 0
      },
      "text/plain": [
       "  0%|          | 0/150 [00:00<?, ?it/s]"
      ]
     },
     "metadata": {},
     "output_type": "display_data"
    },
    {
     "data": {
      "application/vnd.jupyter.widget-view+json": {
       "model_id": "04b6120145e44905a3e7c37ea6c23378",
       "version_major": 2,
       "version_minor": 0
      },
      "text/plain": [
       "  0%|          | 0/150 [00:00<?, ?it/s]"
      ]
     },
     "metadata": {},
     "output_type": "display_data"
    },
    {
     "data": {
      "application/vnd.jupyter.widget-view+json": {
       "model_id": "e894fb2e623a457ebf8b05ccebb264d8",
       "version_major": 2,
       "version_minor": 0
      },
      "text/plain": [
       "  0%|          | 0/150 [00:00<?, ?it/s]"
      ]
     },
     "metadata": {},
     "output_type": "display_data"
    },
    {
     "data": {
      "application/vnd.jupyter.widget-view+json": {
       "model_id": "4491639550a845a88990cd8ab7baa59c",
       "version_major": 2,
       "version_minor": 0
      },
      "text/plain": [
       "  0%|          | 0/150 [00:00<?, ?it/s]"
      ]
     },
     "metadata": {},
     "output_type": "display_data"
    },
    {
     "data": {
      "application/vnd.jupyter.widget-view+json": {
       "model_id": "7c385a2a948844dfb9f533584d1b964a",
       "version_major": 2,
       "version_minor": 0
      },
      "text/plain": [
       "  0%|          | 0/150 [00:00<?, ?it/s]"
      ]
     },
     "metadata": {},
     "output_type": "display_data"
    },
    {
     "data": {
      "application/vnd.jupyter.widget-view+json": {
       "model_id": "aa5466f849ce49a8b9937f3bc5aa9aad",
       "version_major": 2,
       "version_minor": 0
      },
      "text/plain": [
       "  0%|          | 0/150 [00:00<?, ?it/s]"
      ]
     },
     "metadata": {},
     "output_type": "display_data"
    },
    {
     "data": {
      "application/vnd.jupyter.widget-view+json": {
       "model_id": "1d3829ffc49c4fa7b4a0d86917182480",
       "version_major": 2,
       "version_minor": 0
      },
      "text/plain": [
       "  0%|          | 0/150 [00:00<?, ?it/s]"
      ]
     },
     "metadata": {},
     "output_type": "display_data"
    },
    {
     "data": {
      "application/vnd.jupyter.widget-view+json": {
       "model_id": "c8eb986ee5b44bb786d2e39450251716",
       "version_major": 2,
       "version_minor": 0
      },
      "text/plain": [
       "  0%|          | 0/150 [00:00<?, ?it/s]"
      ]
     },
     "metadata": {},
     "output_type": "display_data"
    },
    {
     "data": {
      "application/vnd.jupyter.widget-view+json": {
       "model_id": "e324704a8f0b4c0d9ad5419ab6ed0a57",
       "version_major": 2,
       "version_minor": 0
      },
      "text/plain": [
       "  0%|          | 0/150 [00:00<?, ?it/s]"
      ]
     },
     "metadata": {},
     "output_type": "display_data"
    },
    {
     "data": {
      "application/vnd.jupyter.widget-view+json": {
       "model_id": "7ce2373dabd748d3a8bc403257702d3c",
       "version_major": 2,
       "version_minor": 0
      },
      "text/plain": [
       "  0%|          | 0/150 [00:00<?, ?it/s]"
      ]
     },
     "metadata": {},
     "output_type": "display_data"
    },
    {
     "data": {
      "application/vnd.jupyter.widget-view+json": {
       "model_id": "5b54ba1cbb864620bb454c47544e4181",
       "version_major": 2,
       "version_minor": 0
      },
      "text/plain": [
       "  0%|          | 0/150 [00:00<?, ?it/s]"
      ]
     },
     "metadata": {},
     "output_type": "display_data"
    },
    {
     "data": {
      "application/vnd.jupyter.widget-view+json": {
       "model_id": "be4369394b2d422da93190ea3bca7e4d",
       "version_major": 2,
       "version_minor": 0
      },
      "text/plain": [
       "  0%|          | 0/150 [00:00<?, ?it/s]"
      ]
     },
     "metadata": {},
     "output_type": "display_data"
    },
    {
     "data": {
      "application/vnd.jupyter.widget-view+json": {
       "model_id": "cfc0d843cf3e4585b473e9970242342b",
       "version_major": 2,
       "version_minor": 0
      },
      "text/plain": [
       "  0%|          | 0/150 [00:00<?, ?it/s]"
      ]
     },
     "metadata": {},
     "output_type": "display_data"
    },
    {
     "data": {
      "application/vnd.jupyter.widget-view+json": {
       "model_id": "4a4cf24d06ad48f3934500b35c3578e5",
       "version_major": 2,
       "version_minor": 0
      },
      "text/plain": [
       "  0%|          | 0/150 [00:00<?, ?it/s]"
      ]
     },
     "metadata": {},
     "output_type": "display_data"
    },
    {
     "data": {
      "application/vnd.jupyter.widget-view+json": {
       "model_id": "fb6acef09ea34924811eb9c6b265e1bb",
       "version_major": 2,
       "version_minor": 0
      },
      "text/plain": [
       "  0%|          | 0/150 [00:00<?, ?it/s]"
      ]
     },
     "metadata": {},
     "output_type": "display_data"
    },
    {
     "data": {
      "application/vnd.jupyter.widget-view+json": {
       "model_id": "63e31ce1bb08464e9d29709964501f6b",
       "version_major": 2,
       "version_minor": 0
      },
      "text/plain": [
       "  0%|          | 0/150 [00:00<?, ?it/s]"
      ]
     },
     "metadata": {},
     "output_type": "display_data"
    },
    {
     "data": {
      "application/vnd.jupyter.widget-view+json": {
       "model_id": "80cb6e6678bc46679e74ae07d2337745",
       "version_major": 2,
       "version_minor": 0
      },
      "text/plain": [
       "  0%|          | 0/150 [00:00<?, ?it/s]"
      ]
     },
     "metadata": {},
     "output_type": "display_data"
    },
    {
     "data": {
      "application/vnd.jupyter.widget-view+json": {
       "model_id": "0d5ebb7a70d14807b89949ac6e76c51c",
       "version_major": 2,
       "version_minor": 0
      },
      "text/plain": [
       "  0%|          | 0/150 [00:00<?, ?it/s]"
      ]
     },
     "metadata": {},
     "output_type": "display_data"
    },
    {
     "data": {
      "application/vnd.jupyter.widget-view+json": {
       "model_id": "1d8733fc1696420fa706765b0a62f158",
       "version_major": 2,
       "version_minor": 0
      },
      "text/plain": [
       "  0%|          | 0/150 [00:00<?, ?it/s]"
      ]
     },
     "metadata": {},
     "output_type": "display_data"
    },
    {
     "data": {
      "application/vnd.jupyter.widget-view+json": {
       "model_id": "9bd2da1d5bd74e7d964a55ec240debcc",
       "version_major": 2,
       "version_minor": 0
      },
      "text/plain": [
       "  0%|          | 0/150 [00:00<?, ?it/s]"
      ]
     },
     "metadata": {},
     "output_type": "display_data"
    },
    {
     "data": {
      "application/vnd.jupyter.widget-view+json": {
       "model_id": "358e4768623e481db30b5baa40367704",
       "version_major": 2,
       "version_minor": 0
      },
      "text/plain": [
       "  0%|          | 0/150 [00:00<?, ?it/s]"
      ]
     },
     "metadata": {},
     "output_type": "display_data"
    },
    {
     "data": {
      "application/vnd.jupyter.widget-view+json": {
       "model_id": "30134b257a3b432d81ad36736a8bdee0",
       "version_major": 2,
       "version_minor": 0
      },
      "text/plain": [
       "  0%|          | 0/150 [00:00<?, ?it/s]"
      ]
     },
     "metadata": {},
     "output_type": "display_data"
    },
    {
     "data": {
      "application/vnd.jupyter.widget-view+json": {
       "model_id": "80ced7381fa4462eaf52d17c98593d43",
       "version_major": 2,
       "version_minor": 0
      },
      "text/plain": [
       "  0%|          | 0/150 [00:00<?, ?it/s]"
      ]
     },
     "metadata": {},
     "output_type": "display_data"
    },
    {
     "data": {
      "application/vnd.jupyter.widget-view+json": {
       "model_id": "dc1482664fcc42c4ae59b3584f16f107",
       "version_major": 2,
       "version_minor": 0
      },
      "text/plain": [
       "  0%|          | 0/150 [00:00<?, ?it/s]"
      ]
     },
     "metadata": {},
     "output_type": "display_data"
    },
    {
     "data": {
      "application/vnd.jupyter.widget-view+json": {
       "model_id": "63bf1eaf4abf47bab5a37a304d0f9297",
       "version_major": 2,
       "version_minor": 0
      },
      "text/plain": [
       "  0%|          | 0/150 [00:00<?, ?it/s]"
      ]
     },
     "metadata": {},
     "output_type": "display_data"
    },
    {
     "data": {
      "application/vnd.jupyter.widget-view+json": {
       "model_id": "190e91974fd446d3ab1a2e2b72affb43",
       "version_major": 2,
       "version_minor": 0
      },
      "text/plain": [
       "  0%|          | 0/150 [00:00<?, ?it/s]"
      ]
     },
     "metadata": {},
     "output_type": "display_data"
    },
    {
     "data": {
      "application/vnd.jupyter.widget-view+json": {
       "model_id": "7622b8b0a7ff4d2db7d38ec6471aaac4",
       "version_major": 2,
       "version_minor": 0
      },
      "text/plain": [
       "  0%|          | 0/150 [00:00<?, ?it/s]"
      ]
     },
     "metadata": {},
     "output_type": "display_data"
    },
    {
     "data": {
      "application/vnd.jupyter.widget-view+json": {
       "model_id": "151a27288cd94c36865f2e1b43cf1c3b",
       "version_major": 2,
       "version_minor": 0
      },
      "text/plain": [
       "  0%|          | 0/150 [00:00<?, ?it/s]"
      ]
     },
     "metadata": {},
     "output_type": "display_data"
    },
    {
     "data": {
      "application/vnd.jupyter.widget-view+json": {
       "model_id": "ee3371763b8b44b99c8f88c92c87eddf",
       "version_major": 2,
       "version_minor": 0
      },
      "text/plain": [
       "  0%|          | 0/150 [00:00<?, ?it/s]"
      ]
     },
     "metadata": {},
     "output_type": "display_data"
    },
    {
     "data": {
      "application/vnd.jupyter.widget-view+json": {
       "model_id": "c44d8e27677c409196ef8f1695477442",
       "version_major": 2,
       "version_minor": 0
      },
      "text/plain": [
       "  0%|          | 0/150 [00:00<?, ?it/s]"
      ]
     },
     "metadata": {},
     "output_type": "display_data"
    },
    {
     "data": {
      "application/vnd.jupyter.widget-view+json": {
       "model_id": "3a3c351446c5440ba6ba8d510102194e",
       "version_major": 2,
       "version_minor": 0
      },
      "text/plain": [
       "  0%|          | 0/150 [00:00<?, ?it/s]"
      ]
     },
     "metadata": {},
     "output_type": "display_data"
    },
    {
     "data": {
      "application/vnd.jupyter.widget-view+json": {
       "model_id": "ef698a2c5f4945139d1050e4cbf5690f",
       "version_major": 2,
       "version_minor": 0
      },
      "text/plain": [
       "  0%|          | 0/150 [00:00<?, ?it/s]"
      ]
     },
     "metadata": {},
     "output_type": "display_data"
    },
    {
     "data": {
      "application/vnd.jupyter.widget-view+json": {
       "model_id": "b34c7f1ea4c34eea9fe51007ac82b3e0",
       "version_major": 2,
       "version_minor": 0
      },
      "text/plain": [
       "  0%|          | 0/150 [00:00<?, ?it/s]"
      ]
     },
     "metadata": {},
     "output_type": "display_data"
    },
    {
     "data": {
      "application/vnd.jupyter.widget-view+json": {
       "model_id": "af1dc91b0be34e3bbae45dbb9032d66f",
       "version_major": 2,
       "version_minor": 0
      },
      "text/plain": [
       "  0%|          | 0/150 [00:00<?, ?it/s]"
      ]
     },
     "metadata": {},
     "output_type": "display_data"
    },
    {
     "data": {
      "application/vnd.jupyter.widget-view+json": {
       "model_id": "cf07845b525049f99a0f480161fc0c09",
       "version_major": 2,
       "version_minor": 0
      },
      "text/plain": [
       "  0%|          | 0/150 [00:00<?, ?it/s]"
      ]
     },
     "metadata": {},
     "output_type": "display_data"
    }
   ],
   "source": [
    "results_m2 = hpsearch(\n",
    "    params2,\n",
    "    model_constructor = lambda : GNN_3Layer(node_features=3, message_features=2, hidden_size=10, final_gelu = False),\n",
    "    model_score_fn = lambda model : model_steps_compare(model, gn, gdata)['absolute']['avg_difs'][-1],\n",
    "    training_data = get_TrainingData(gn)\n",
    ")"
   ]
  },
  {
   "cell_type": "code",
   "execution_count": 212,
   "id": "c708c420-a68d-4f9a-8383-08fe7dc5d09d",
   "metadata": {},
   "outputs": [
    {
     "data": {
      "image/png": "[encoded data removed]",
      "text/plain": [
       "<Figure size 720x288 with 1 Axes>"
      ]
     },
     "metadata": {
      "needs_background": "light"
     },
     "output_type": "display_data"
    }
   ],
   "source": [
    "plots = [res['val_loss_history'] for res in results_m2]\n",
    "for p in plots:\n",
    "    plt.plot(p)\n",
    "plt.yscale('log')"
   ]
  },
  {
   "cell_type": "code",
   "execution_count": null,
   "id": "f710bffa-6b90-4ab5-bcb6-757099690a99",
   "metadata": {},
   "outputs": [],
   "source": []
  }
 ],
 "metadata": {
  "kernelspec": {
   "display_name": "Python 3 (ipykernel)",
   "language": "python",
   "name": "python3"
  },
  "language_info": {
   "codemirror_mode": {
    "name": "ipython",
    "version": 3
   },
   "file_extension": ".py",
   "mimetype": "text/x-python",
   "name": "python",
   "nbconvert_exporter": "python",
   "pygments_lexer": "ipython3",
   "version": "3.9.10"
  }
 },
 "nbformat": 4,
 "nbformat_minor": 5
}

{
 "cells": [
  {
   "cell_type": "code",
   "execution_count": 10,
   "id": "f6f1a696-c54f-4fdf-8315-d1da37ced3c0",
   "metadata": {},
   "outputs": [
    {
     "name": "stdout",
     "output_type": "stream",
     "text": [
      "The autoreload extension is already loaded. To reload it, use:\n",
      "  %reload_ext autoreload\n"
     ]
    }
   ],
   "source": [
    "%load_ext autoreload\n",
    "%autoreload 2\n",
    "\n",
    "import numpy as np\n",
    "import matplotlib.pyplot as plt\n",
    "import matplotlib.colors as pltcolors\n",
    "\n",
    "import torch as t\n",
    "import torch_geometric as ptgeo\n",
    "\n",
    "from torch_geometric.utils import to_networkx, from_networkx\n",
    "import networkx as nx\n",
    "\n",
    "from gninvert.functions import run_GN, gn_time_series, make_color_scale,\\\n",
    "gdisplay, run_and_draw, generate_training_data,\\\n",
    "generate_graphs_from_connections, generate_grid_edge_index\n",
    "from gninvert.gns import MultiDiffusionGN, EquationGN, ActivatorInhibitorGN\n",
    "from gninvert.gnns import LinearGNN\n",
    "from gninvert.graph_compare import graph_compare, model_compare\n",
    "import gninvert\n",
    "\n",
    "import ipywidgets as widgets"
   ]
  },
  {
   "cell_type": "code",
   "execution_count": 32,
   "id": "62cd5642-34af-4818-9feb-22620cba142e",
   "metadata": {},
   "outputs": [],
   "source": [
    "plt.rcParams['figure.figsize'] = [10, 4] # set plot size below"
   ]
  },
  {
   "cell_type": "code",
   "execution_count": 87,
   "id": "b1094bea-8cc8-439d-a483-40f1247fddb7",
   "metadata": {},
   "outputs": [],
   "source": [
    "gn = ActivatorInhibitorGN(0.16, 0.10, 0.3)\n",
    "gdata = generate_graphs_from_connections(\n",
    "    generate_grid_edge_index(6),\n",
    "    node_feature_num=3,\n",
    "    num=1\n",
    ")[0]\n",
    "\n",
    "# make the cell sizes homogenous\n",
    "gdata.x[:, 0] = 0.5\n",
    "\n",
    "# activator/inhibitor all start in one corner\n",
    "gdata.x[:, 1] = 0\n",
    "gdata.x[:, 2] = 0\n",
    "gdata.x[0, 1] = 4\n",
    "gdata.x[1, 1] = 1\n",
    "gdata.x[0, 2] = 4\n",
    "gdata.x[1, 2] = 1\n",
    "\n",
    "time_series = gn_time_series(gn, 300, gdata)"
   ]
  },
  {
   "cell_type": "code",
   "execution_count": 88,
   "id": "33949bf7-6bbf-4c17-91b7-a026226c63bf",
   "metadata": {},
   "outputs": [
    {
     "data": {
      "application/vnd.jupyter.widget-view+json": {
       "model_id": "948f0502e96e4c63a0b82b0348b2a290",
       "version_major": 2,
       "version_minor": 0
      },
      "text/plain": [
       "interactive(children=(IntSlider(value=0, description='x', max=300), Output()), _dom_classes=('widget-interact'…"
      ]
     },
     "metadata": {},
     "output_type": "display_data"
    },
    {
     "data": {
      "text/plain": [
       "<function __main__.f(x)>"
      ]
     },
     "execution_count": 88,
     "metadata": {},
     "output_type": "execute_result"
    }
   ],
   "source": [
    "def f(x):\n",
    "    gdisplay(\n",
    "        time_series[x],\n",
    "        color_scales = [\n",
    "            make_color_scale(0, 1, plt.cm.Greys),\n",
    "            make_color_scale(0, 1, plt.cm.BuGn),\n",
    "            make_color_scale(0, 1, plt.cm.Reds)\n",
    "        ]\n",
    "    )\n",
    "    print(x)\n",
    "\n",
    "widgets.interact(\n",
    "    f,\n",
    "    x=widgets.IntSlider(min=0, max=len(time_series)-1, step=1, value=0)\n",
    ")"
   ]
  },
  {
   "cell_type": "code",
   "execution_count": null,
   "id": "842e6574-52d9-4641-ba0c-f5abb5f48cef",
   "metadata": {},
   "outputs": [],
   "source": []
  }
 ],
 "metadata": {
  "kernelspec": {
   "display_name": "Python 3 (ipykernel)",
   "language": "python",
   "name": "python3"
  },
  "language_info": {
   "codemirror_mode": {
    "name": "ipython",
    "version": 3
   },
   "file_extension": ".py",
   "mimetype": "text/x-python",
   "name": "python",
   "nbconvert_exporter": "python",
   "pygments_lexer": "ipython3",
   "version": "3.9.10"
  }
 },
 "nbformat": 4,
 "nbformat_minor": 5
}

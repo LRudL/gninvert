{
 "cells": [
  {
   "cell_type": "code",
   "execution_count": 71,
   "id": "5e381112-c53a-44f3-9e9e-f855b9f14fc3",
   "metadata": {},
   "outputs": [
    {
     "name": "stdout",
     "output_type": "stream",
     "text": [
      "The autoreload extension is already loaded. To reload it, use:\n",
      "  %reload_ext autoreload\n"
     ]
    }
   ],
   "source": [
    "%load_ext autoreload\n",
    "%autoreload 2\n",
    "\n",
    "import numpy as np\n",
    "import matplotlib.pyplot as plt\n",
    "import matplotlib.colors as pltcolors\n",
    "\n",
    "import torch as t\n",
    "import torch_geometric as ptgeo\n",
    "\n",
    "from torch_geometric.utils import to_networkx, from_networkx\n",
    "import networkx as nx\n",
    "\n",
    "from gninvert.functions import run_GN, gn_time_series, make_color_scale,\\\n",
    "gdisplay, run_and_draw, generate_training_data,\\\n",
    "generate_graphs_from_connections, generate_grid_edge_index\n",
    "from gninvert.gns import MultiDiffusionGN, EquationGN, FullActInhGN\n",
    "from gninvert.gnns import LinearGNN\n",
    "from gninvert.graph_compare import graph_compare, model_compare, model_steps_compare\n",
    "from gninvert.data_generation import get_TrainingData\n",
    "from gninvert.gnns import GNN_3Layer\n",
    "from gninvert.training import fit\n",
    "from gninvert.hyperparamsearch import hpsearch\n",
    "import gninvert\n",
    "\n",
    "import ipywidgets as widgets\n",
    "\n",
    "plt.rcParams['figure.figsize'] = [10, 4] # set plot size below"
   ]
  },
  {
   "cell_type": "code",
   "execution_count": 114,
   "id": "42f56460-0e7d-473b-8959-479d2f51b38b",
   "metadata": {},
   "outputs": [],
   "source": [
    "gn = FullActInhGN(\n",
    "    spatial_const = 10,\n",
    "    temporal_const = 0.01,\n",
    "    growth_alpha = 10,\n",
    "    growth_rho = 1,\n",
    "    growth_scale = 0.05,\n",
    "    reaction_const = 0.2,\n",
    "    reference_conc = 2\n",
    ")\n",
    "gdata = generate_graphs_from_connections(\n",
    "    generate_grid_edge_index(6),\n",
    "    node_feature_num=3,\n",
    "    num=1)[0]\n",
    "# make the cell sizes homogenous\n",
    "gdata.x[:, 0] = 0.1\n",
    "# activator/inhibitor all start in one corner\n",
    "gdata.x[:, 1] = 0\n",
    "gdata.x[:, 2] = 0\n",
    "gdata.x[0, 1] = 1\n",
    "gdata.x[1, 1] = 0.5\n",
    "gdata.x[1, 2] = 0\n",
    "gdata.x[2, 2] = 0\n",
    "time_series = gn_time_series(gn, 300, gdata)"
   ]
  },
  {
   "cell_type": "code",
   "execution_count": 121,
   "id": "49fe1029-0c87-40c4-ba06-2254aa7b89c8",
   "metadata": {},
   "outputs": [
    {
     "data": {
      "application/vnd.jupyter.widget-view+json": {
       "model_id": "e296b5e2a4694ce387e411c76bb985db",
       "version_major": 2,
       "version_minor": 0
      },
      "text/plain": [
       "interactive(children=(IntSlider(value=0, description='x', max=300), Output()), _dom_classes=('widget-interact'…"
      ]
     },
     "metadata": {},
     "output_type": "display_data"
    },
    {
     "data": {
      "text/plain": [
       "<function __main__.f(x)>"
      ]
     },
     "execution_count": 121,
     "metadata": {},
     "output_type": "execute_result"
    }
   ],
   "source": [
    "def f(x):\n",
    "    gdisplay(\n",
    "        time_series[x],\n",
    "        color_scales = [\n",
    "            make_color_scale(0, 3, plt.cm.plasma),\n",
    "            make_color_scale(0, 1, plt.cm.BuGn),\n",
    "            make_color_scale(0, 1, plt.cm.Reds)\n",
    "        ]\n",
    "    )\n",
    "    print(x)\n",
    "\n",
    "widgets.interact(\n",
    "    f,\n",
    "    x=widgets.IntSlider(min=0, max=len(time_series)-1, step=1, value=0)\n",
    ")"
   ]
  },
  {
   "cell_type": "code",
   "execution_count": 120,
   "id": "5e87919a-400c-4a19-9e86-0cca6ac6b095",
   "metadata": {},
   "outputs": [
    {
     "data": {
      "text/plain": [
       "tensor([[1.3002e+00, 8.0193e+00, 3.3766e+00],\n",
       "        [1.4115e+00, 9.3922e+00, 4.4328e+01],\n",
       "        [1.4627e+00, 8.1790e+00, 9.8059e+01],\n",
       "        [1.7303e+00, 3.9275e+00, 1.4093e+01],\n",
       "        [1.4762e+00, 4.8246e+00, 3.0750e+01],\n",
       "        [1.1934e+00, 9.3632e+00, 4.8286e+01],\n",
       "        [1.3698e+00, 6.5719e+00, 3.2597e+01],\n",
       "        [1.3996e+00, 9.6389e+00, 1.2086e+02],\n",
       "        [1.2936e+00, 1.9511e+01, 1.2942e+03],\n",
       "        [1.4484e+00, 8.3313e+00, 7.5066e+01],\n",
       "        [1.2596e+00, 9.9029e+00, 1.0675e+02],\n",
       "        [1.0565e+00, 1.8305e+01, 8.0378e+01],\n",
       "        [1.4564e+00, 5.8130e+00, 1.1678e+02],\n",
       "        [1.5647e+00, 5.7004e+00, 4.6897e+01],\n",
       "        [1.3487e+00, 1.0736e+01, 1.4659e+02],\n",
       "        [1.2174e+00, 1.1970e+01, 1.2751e+02],\n",
       "        [1.0879e+00, 2.0438e+01, 1.4253e+02],\n",
       "        [8.7526e-01, 1.1110e+01, 1.5366e+00],\n",
       "        [1.4438e+00, 7.0980e+00, 1.0086e+02],\n",
       "        [1.3864e+00, 7.5982e+00, 9.1879e+01],\n",
       "        [1.1904e+00, 1.5023e+01, 2.2218e+02],\n",
       "        [1.0461e+00, 2.4416e+01, 1.7315e+02],\n",
       "        [9.2118e-01, 1.1413e+01, 1.7638e+00],\n",
       "        [8.1321e-01, 1.8161e-01, 8.5294e-02],\n",
       "        [1.2165e+00, 1.0140e+01, 8.2188e+01],\n",
       "        [1.2002e+00, 1.0869e+01, 7.0986e+01],\n",
       "        [1.0331e+00, 2.4607e+01, 1.2385e+02],\n",
       "        [8.8211e-01, 9.1572e+00, 1.0071e+00],\n",
       "        [8.3500e-01, 1.6892e-01, 8.7469e-02],\n",
       "        [8.0240e-01, 3.3885e-02, 1.6445e-01],\n",
       "        [9.9120e-01, 1.6155e+01, 1.4741e+01],\n",
       "        [9.5886e-01, 1.2552e+01, 4.6380e+00],\n",
       "        [8.3454e-01, 2.6558e+00, 2.3795e-01],\n",
       "        [8.2499e-01, 1.0575e-01, 8.4009e-02],\n",
       "        [8.0455e-01, 3.7548e-02, 1.5369e-01],\n",
       "        [7.7575e-01, 4.0917e-02, 2.9306e-01]])"
      ]
     },
     "execution_count": 120,
     "metadata": {},
     "output_type": "execute_result"
    }
   ],
   "source": [
    "time_series[55].x"
   ]
  },
  {
   "cell_type": "code",
   "execution_count": null,
   "id": "d5e7d875-75bd-4df8-8ec6-8cc359a3dd3f",
   "metadata": {},
   "outputs": [],
   "source": []
  }
 ],
 "metadata": {
  "kernelspec": {
   "display_name": "Python 3 (ipykernel)",
   "language": "python",
   "name": "python3"
  },
  "language_info": {
   "codemirror_mode": {
    "name": "ipython",
    "version": 3
   },
   "file_extension": ".py",
   "mimetype": "text/x-python",
   "name": "python",
   "nbconvert_exporter": "python",
   "pygments_lexer": "ipython3",
   "version": "3.9.10"
  }
 },
 "nbformat": 4,
 "nbformat_minor": 5
}

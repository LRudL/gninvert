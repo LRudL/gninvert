{
 "cells": [
  {
   "cell_type": "code",
   "execution_count": 13,
   "id": "b77c9b76-2bb2-41e0-83bd-d06bb82e3ad4",
   "metadata": {},
   "outputs": [
    {
     "name": "stdout",
     "output_type": "stream",
     "text": [
      "The autoreload extension is already loaded. To reload it, use:\n",
      "  %reload_ext autoreload\n"
     ]
    }
   ],
   "source": [
    "%load_ext autoreload\n",
    "%autoreload 2\n",
    "import torch as t\n",
    "import matplotlib.pyplot as plt\n",
    "from gninvert.functions import sort_with, gn_time_series\n",
    "from gninvert.graph_compare import model_compare\n",
    "from gninvert.rule_discovery import *\n",
    "from gninvert.hyperparamsearch import get_hyperparam_dtree, view_hp_results_graph, hp_stats\n",
    "from gninvert.dtree import decision_tree_paths\n",
    "from gninvert.gns import *\n",
    "import pandas as pd\n",
    "import pysr"
   ]
  },
  {
   "cell_type": "raw",
   "id": "67adbee6-cf6f-4bb6-9c20-56ab0f5c1857",
   "metadata": {},
   "source": [
    "sr_on_gn_diff1 = t.load('runs/SR_diff1/sr')\n",
    "sr_on_gn_diff1"
   ]
  },
  {
   "cell_type": "code",
   "execution_count": 4,
   "id": "53a993b1-ed92-46a7-b947-7bed0bcc7c35",
   "metadata": {},
   "outputs": [
    {
     "data": {
      "text/plain": [
       "{'message_sr_result': [complexity                                    5\n",
       "  loss                                        0.0\n",
       "  score                                       inf\n",
       "  equation             ((xs1 - xt1) * 0.10000013)\n",
       "  sympy_format    0.10000013*xs1 - 0.10000013*xt1\n",
       "  Name: 2, dtype: object,\n",
       "  complexity                         5\n",
       "  loss                             0.0\n",
       "  score                            inf\n",
       "  equation        ((xt2 - xs2) * -0.1)\n",
       "  sympy_format       0.1*xs2 - 0.1*xt2\n",
       "  Name: 2, dtype: object],\n",
       " 'update_sr_result': [complexity               3\n",
       "  loss                   0.0\n",
       "  score                  inf\n",
       "  equation        (xt1 + a1)\n",
       "  sympy_format      a1 + xt1\n",
       "  Name: 1, dtype: object,\n",
       "  complexity               3\n",
       "  loss                   0.0\n",
       "  score                  inf\n",
       "  equation        (xt2 + a2)\n",
       "  sympy_format      a2 + xt2\n",
       "  Name: 1, dtype: object],\n",
       " 'message_variable_order': [[xt1, xt2, xs1, xs2], [xt1, xt2, xs1, xs2]],\n",
       " 'update_variable_order': [[xt1, xt2, a1, a2], [xt1, xt2, a1, a2]],\n",
       " 'data_trained_on': <gninvert.data_generation.TrainingData, 6 train size / 2 validation size / shuffle False>}"
      ]
     },
     "execution_count": 4,
     "metadata": {},
     "output_type": "execute_result"
    }
   ],
   "source": [
    "sr_on_gn_diff2 = t.load('runs/SR_diff2/sr')\n",
    "sr_on_gn_diff2"
   ]
  },
  {
   "cell_type": "code",
   "execution_count": null,
   "id": "a28074e9-5a51-47cf-9564-d9f672a0b6b6",
   "metadata": {},
   "outputs": [],
   "source": []
  },
  {
   "cell_type": "code",
   "execution_count": 5,
   "id": "5a8912fd-5119-4465-ae23-973929bedfc6",
   "metadata": {},
   "outputs": [
    {
     "data": {
      "text/plain": [
       "{'message_sr_result': [complexity                         5\n",
       "  loss                             0.0\n",
       "  score                            inf\n",
       "  equation        ((xt1 - xs1) * -0.1)\n",
       "  sympy_format       0.1*xs1 - 0.1*xt1\n",
       "  Name: 2, dtype: object,\n",
       "  complexity                                    5\n",
       "  loss                                        0.0\n",
       "  score                                       inf\n",
       "  equation             ((xs2 - xt2) * 0.09999987)\n",
       "  sympy_format    0.09999987*xs2 - 0.09999987*xt2\n",
       "  Name: 2, dtype: object,\n",
       "  complexity                                      5\n",
       "  loss                                          0.0\n",
       "  score                                         inf\n",
       "  equation             ((xt3 - xs3) * -0.099999994)\n",
       "  sympy_format    0.099999994*xs3 - 0.099999994*xt3\n",
       "  Name: 2, dtype: object],\n",
       " 'update_sr_result': [complexity               3\n",
       "  loss                   0.0\n",
       "  score                  inf\n",
       "  equation        (a1 + xt1)\n",
       "  sympy_format      a1 + xt1\n",
       "  Name: 1, dtype: object,\n",
       "  complexity               3\n",
       "  loss                   0.0\n",
       "  score                  inf\n",
       "  equation        (xt2 + a2)\n",
       "  sympy_format      a2 + xt2\n",
       "  Name: 1, dtype: object,\n",
       "  complexity               3\n",
       "  loss                   0.0\n",
       "  score                  inf\n",
       "  equation        (a3 + xt3)\n",
       "  sympy_format      a3 + xt3\n",
       "  Name: 1, dtype: object],\n",
       " 'message_variable_order': [[xt1, xt2, xt3, xs1, xs2, xs3],\n",
       "  [xt1, xt2, xt3, xs1, xs2, xs3],\n",
       "  [xt1, xt2, xt3, xs1, xs2, xs3]],\n",
       " 'update_variable_order': [[xt1, xt2, xt3, a1, a2, a3],\n",
       "  [xt1, xt2, xt3, a1, a2, a3],\n",
       "  [xt1, xt2, xt3, a1, a2, a3]],\n",
       " 'data_trained_on': <gninvert.data_generation.TrainingData, 6 train size / 2 validation size / shuffle False>}"
      ]
     },
     "execution_count": 5,
     "metadata": {},
     "output_type": "execute_result"
    }
   ],
   "source": [
    "sr_on_gn_diff3 = t.load('runs/SR_diff3/sr')\n",
    "sr_on_gn_diff3"
   ]
  },
  {
   "cell_type": "code",
   "execution_count": 6,
   "id": "1fa3b304-df20-4d37-ace4-151c5de922e7",
   "metadata": {},
   "outputs": [
    {
     "data": {
      "text/plain": [
       "{'message_sr_result': [complexity                         5\n",
       "  loss                             0.0\n",
       "  score                            inf\n",
       "  equation        ((xt2 - xs2) * -0.1)\n",
       "  sympy_format       0.1*xs2 - 0.1*xt2\n",
       "  Name: 2, dtype: object,\n",
       "  complexity                                    5\n",
       "  loss                                        0.0\n",
       "  score                                       inf\n",
       "  equation             ((xs3 - xt3) * 0.04999993)\n",
       "  sympy_format    0.04999993*xs3 - 0.04999993*xt3\n",
       "  Name: 2, dtype: object],\n",
       " 'update_sr_result': [complexity                                      9\n",
       "  loss                                          0.0\n",
       "  score                                         inf\n",
       "  equation        (a1 + (((a3 - a2) * -0.05) / a1))\n",
       "  sympy_format          a1 + (0.05*a2 - 0.05*a3)/a1\n",
       "  Name: 4, dtype: object,\n",
       "  complexity               3\n",
       "  loss                   0.0\n",
       "  score                  inf\n",
       "  equation        (xt1 + a2)\n",
       "  sympy_format      a2 + xt1\n",
       "  Name: 1, dtype: object,\n",
       "  complexity               3\n",
       "  loss                   0.0\n",
       "  score                  inf\n",
       "  equation        (xt2 + a3)\n",
       "  sympy_format      a3 + xt2\n",
       "  Name: 1, dtype: object],\n",
       " 'message_variable_order': [[xt1, xt2, xt3, xs1, xs2, xs3],\n",
       "  [xt1, xt2, xt3, xs1, xs2, xs3]],\n",
       " 'update_variable_order': [[xt1, xt2, a1, a2, a3],\n",
       "  [xt1, xt2, a1, a2, a3],\n",
       "  [xt1, xt2, a1, a2, a3]],\n",
       " 'data_trained_on': <gninvert.data_generation.TrainingData, 6 train size / 2 validation size / shuffle False>}"
      ]
     },
     "execution_count": 6,
     "metadata": {},
     "output_type": "execute_result"
    }
   ],
   "source": [
    "sr_on_gn_actinh = t.load('runs/SR_act_inh_simple/sr')\n",
    "sr_on_gn_actinh\n",
    "# NOTE! Below, the a and xt variables are swapped in the update equations\n",
    "# (this bug, purely about naming, existed when the runs were made but has since been fixed)"
   ]
  },
  {
   "cell_type": "code",
   "execution_count": 7,
   "id": "f92a2889-72d5-4886-8651-008b58922f3d",
   "metadata": {},
   "outputs": [
    {
     "data": {
      "text/plain": [
       "{'message_sr_result': [complexity                                    5\n",
       "  loss                                        0.0\n",
       "  score                                       inf\n",
       "  equation             ((xs2 - xt2) * 0.10000013)\n",
       "  sympy_format    0.10000013*xs2 - 0.10000013*xt2\n",
       "  Name: 2, dtype: object,\n",
       "  complexity                         5\n",
       "  loss                             0.0\n",
       "  score                            inf\n",
       "  equation        ((xs3 - xt3) * 0.01)\n",
       "  sympy_format     0.01*xs3 - 0.01*xt3\n",
       "  Name: 2, dtype: object],\n",
       " 'update_sr_result': [complexity                       3\n",
       "  loss                      0.000512\n",
       "  score                     0.366335\n",
       "  equation        (a1 + 0.023522463)\n",
       "  sympy_format      a1 + 0.023522463\n",
       "  Name: 1, dtype: object,\n",
       "  complexity                                                     11\n",
       "  loss                                                     0.006075\n",
       "  score                                                    0.884396\n",
       "  equation        ((a2 * ((a2 * 0.18499938) / (a3 + 0.009190684)...\n",
       "  sympy_format             0.18499938*a2**2/(a3 + 0.009190684) + a2\n",
       "  Name: 5, dtype: object,\n",
       "  complexity                                                   9\n",
       "  loss                                                  0.016005\n",
       "  score                                                 0.862718\n",
       "  equation        ((a2 / ((a1 / 0.0775183) + 0.076068014)) + a3)\n",
       "  sympy_format       a2/(12.9001796995032*a1 + 0.076068014) + a3\n",
       "  Name: 4, dtype: object],\n",
       " 'message_variable_order': [[xt1, xt2, xt3, xs1, xs2, xs3],\n",
       "  [xt1, xt2, xt3, xs1, xs2, xs3]],\n",
       " 'update_variable_order': [[xt1, xt2, a1, a2, a3],\n",
       "  [xt1, xt2, a1, a2, a3],\n",
       "  [xt1, xt2, a1, a2, a3]],\n",
       " 'data_trained_on': <gninvert.data_generation.TrainingData, 6 train size / 2 validation size / shuffle False>}"
      ]
     },
     "execution_count": 7,
     "metadata": {},
     "output_type": "execute_result"
    }
   ],
   "source": [
    "sr_on_gn_actinh_full = t.load('runs/SR_act_inh_full/sr')\n",
    "sr_on_gn_actinh_full\n",
    "# NOTE! Below, the a and xt variables are swapped in the update equations\n",
    "# (this bug, purely about naming, existed when the runs were made but has since been fixed)"
   ]
  },
  {
   "cell_type": "code",
   "execution_count": null,
   "id": "33cbb29d-2969-42e9-8a5a-d62011e9702e",
   "metadata": {},
   "outputs": [],
   "source": []
  },
  {
   "cell_type": "code",
   "execution_count": null,
   "id": "7c47fb55-f151-46ea-9e8e-7a5b9d08c204",
   "metadata": {},
   "outputs": [],
   "source": []
  },
  {
   "cell_type": "code",
   "execution_count": 8,
   "id": "c57193f2-5c92-4035-a263-21f95a2edd83",
   "metadata": {},
   "outputs": [
    {
     "data": {
      "text/plain": [
       "{'message_sr_result': complexity                                   5\n",
       " loss                                  0.059278\n",
       " score                                 0.767715\n",
       " equation        ((xs * -2.6309328) + 1.650251)\n",
       " sympy_format           1.650251 - 2.6309328*xs\n",
       " Name: 2, dtype: object,\n",
       " 'update_sr_result': complexity                                     5\n",
       " loss                                    0.000389\n",
       " score                                   1.543834\n",
       " equation        ((a * 0.67616796) - -0.18268661)\n",
       " sympy_format           0.67616796*a + 0.18268661\n",
       " Name: 2, dtype: object,\n",
       " 'message_variable_order': [xt, xs],\n",
       " 'update_variable_order': [xt, a],\n",
       " 'data_trained_on': <gninvert.data_generation.TrainingData, 6 train size / 2 validation size / shuffle True>}"
      ]
     },
     "execution_count": 8,
     "metadata": {},
     "output_type": "execute_result"
    }
   ],
   "source": [
    "sr_diff1 = t.load('runs/PAPER_diff1/sr')\n",
    "sr_diff1"
   ]
  },
  {
   "cell_type": "code",
   "execution_count": 9,
   "id": "c129bbcc-2d27-4470-b2c0-55d82c0c9458",
   "metadata": {},
   "outputs": [
    {
     "data": {
      "text/plain": [
       "{'message_sr_result': [complexity                     1\n",
       "  loss                         NaN\n",
       "  score                        0.0\n",
       "  equation               14.854478\n",
       "  sympy_format    14.8544780000000\n",
       "  Name: 0, dtype: object,\n",
       "  complexity                        1\n",
       "  loss                            0.0\n",
       "  score                           0.0\n",
       "  equation                  -0.051855\n",
       "  sympy_format    -0.0518554500000000\n",
       "  Name: 0, dtype: object],\n",
       " 'update_sr_result': [complexity                                       7\n",
       "  loss                                      0.190139\n",
       "  score                                     0.461045\n",
       "  equation         (((xt1 - a1) * -2.4951134) - xt2)\n",
       "  sympy_format    2.4951134*a1 - 2.4951134*xt1 - xt2\n",
       "  Name: 3, dtype: object,\n",
       "  complexity                                                    11\n",
       "  loss                                                    0.047891\n",
       "  score                                                   0.286759\n",
       "  equation        ((a2 + ((a1 + (xt1 * -1.7825565)) * xt1)) - xt2)\n",
       "  sympy_format                 a2 + xt1*(a1 - 1.7825565*xt1) - xt2\n",
       "  Name: 5, dtype: object],\n",
       " 'message_variable_order': [[xt1, xt2, xs1, xs2], [xt1, xt2, xs1, xs2]],\n",
       " 'update_variable_order': [[xt1, xt2, a1, a2], [xt1, xt2, a1, a2]],\n",
       " 'data_trained_on': <gninvert.data_generation.TrainingData, 6 train size / 2 validation size / shuffle True>}"
      ]
     },
     "execution_count": 9,
     "metadata": {},
     "output_type": "execute_result"
    }
   ],
   "source": [
    "sr_diff2 = t.load('runs/PAPER_diff2/sr')\n",
    "sr_diff2"
   ]
  },
  {
   "cell_type": "code",
   "execution_count": 10,
   "id": "54cb28d8-2e22-4341-8d78-4693b1e488bd",
   "metadata": {},
   "outputs": [
    {
     "data": {
      "text/plain": [
       "{'message_sr_result': [complexity                       1\n",
       "  loss                           0.0\n",
       "  score                          0.0\n",
       "  equation                 -0.137347\n",
       "  sympy_format    -0.137347010000000\n",
       "  Name: 0, dtype: object,\n",
       "  complexity                        1\n",
       "  loss                            0.0\n",
       "  score                           0.0\n",
       "  equation                  -0.018358\n",
       "  sympy_format    -0.0183582120000000\n",
       "  Name: 0, dtype: object],\n",
       " 'update_sr_result': [complexity                       3\n",
       "  loss                      0.861248\n",
       "  score                     0.426507\n",
       "  equation        (xt2 * -3.4968727)\n",
       "  sympy_format        -3.4968727*xt2\n",
       "  Name: 1, dtype: object,\n",
       "  complexity               3\n",
       "  loss              0.094009\n",
       "  score             0.629874\n",
       "  equation        (a2 - xt2)\n",
       "  sympy_format      a2 - xt2\n",
       "  Name: 1, dtype: object,\n",
       "  complexity                              5\n",
       "  loss                             0.324998\n",
       "  score                            0.641364\n",
       "  equation          ((xt3 + xt2) * 2.53517)\n",
       "  sympy_format    2.53517*xt2 + 2.53517*xt3\n",
       "  Name: 2, dtype: object],\n",
       " 'message_variable_order': [[xt1, xt2, xt3, xs1, xs2, xs3],\n",
       "  [xt1, xt2, xt3, xs1, xs2, xs3]],\n",
       " 'update_variable_order': [[xt1, xt2, xt3, a1, a2],\n",
       "  [xt1, xt2, xt3, a1, a2],\n",
       "  [xt1, xt2, xt3, a1, a2]],\n",
       " 'data_trained_on': <gninvert.data_generation.TrainingData, 6 train size / 2 validation size / shuffle True>}"
      ]
     },
     "execution_count": 10,
     "metadata": {},
     "output_type": "execute_result"
    }
   ],
   "source": [
    "sr_actinhs = t.load('runs/PAPER_act_inh_simple/sr')\n",
    "sr_actinhs"
   ]
  },
  {
   "cell_type": "markdown",
   "id": "94788678-49d2-42eb-ad39-969a7b8d6d1d",
   "metadata": {},
   "source": [
    "# HP settings: general"
   ]
  },
  {
   "cell_type": "code",
   "execution_count": 11,
   "id": "77776b83-ceac-48f3-8e93-5a47b0661c83",
   "metadata": {},
   "outputs": [
    {
     "data": {
      "text/plain": [
       "{'message_sr_result': complexity                                 5\n",
       " loss                                0.000559\n",
       " score                               1.849802\n",
       " equation             ((xt - xs) * 0.6246547)\n",
       " sympy_format    -0.6246547*xs + 0.6246547*xt\n",
       " Name: 2, dtype: object,\n",
       " 'update_sr_result': complexity                             5\n",
       " loss                            0.000046\n",
       " score                           1.907153\n",
       " equation        ((xt * -0.14862719) + a)\n",
       " sympy_format           a - 0.14862719*xt\n",
       " Name: 2, dtype: object,\n",
       " 'message_variable_order': [xt, xs],\n",
       " 'update_variable_order': [xt, a],\n",
       " 'data_trained_on': <gninvert.data_generation.TrainingData, 6 train size / 2 validation size / shuffle False>}"
      ]
     },
     "execution_count": 11,
     "metadata": {},
     "output_type": "execute_result"
    }
   ],
   "source": [
    "t.load('runs/GENERAL_diff1/sr')"
   ]
  },
  {
   "cell_type": "code",
   "execution_count": 16,
   "id": "d306b09c-8eee-416b-b2af-43fffddeb06e",
   "metadata": {},
   "outputs": [
    {
     "data": {
      "text/plain": [
       "'(((a1 + (xt1 * 0.1267788)) - -0.043961965) * 0.8946484)'"
      ]
     },
     "execution_count": 16,
     "metadata": {},
     "output_type": "execute_result"
    }
   ],
   "source": [
    "t.load('runs/GENERAL_diff2/sr')['update_sr_result'][0]['equation']"
   ]
  },
  {
   "cell_type": "code",
   "execution_count": 13,
   "id": "6473247a-8b14-4db2-9852-60c21d36a7c5",
   "metadata": {},
   "outputs": [
    {
     "data": {
      "text/plain": [
       "{'message_sr_result': [complexity                                      5\n",
       "  loss                                     0.002622\n",
       "  score                                     0.91558\n",
       "  equation        ((xs3 * -0.5886848) + 0.28470114)\n",
       "  sympy_format           0.28470114 - 0.5886848*xs3\n",
       "  Name: 2, dtype: object,\n",
       "  complexity                       3\n",
       "  loss                      0.006273\n",
       "  score                     1.224054\n",
       "  equation        (xs2 + -0.5105007)\n",
       "  sympy_format       xs2 - 0.5105007\n",
       "  Name: 1, dtype: object],\n",
       " 'update_sr_result': [complexity                                                     11\n",
       "  loss                                                     0.002345\n",
       "  score                                                    0.811291\n",
       "  equation        (a1 - ((xt1 - a2) / ((a1 / 0.071314014) + 0.47...\n",
       "  sympy_format    a1 - (-a2 + xt1)/(14.0224893244685*a1 + 0.4755...\n",
       "  Name: 5, dtype: object,\n",
       "  complexity                                                      9\n",
       "  loss                                                     0.000027\n",
       "  score                                                     1.87808\n",
       "  equation        (((a2 - (xt3 * -0.15865752)) - -0.20083672) * ...\n",
       "  sympy_format    0.7167498*a2 + 0.113717745728496*xt3 + 0.14394...\n",
       "  Name: 4, dtype: object,\n",
       "  complexity                                                      9\n",
       "  loss                                                     0.000064\n",
       "  score                                                    1.025012\n",
       "  equation        (((xt1 - (xt2 * 0.09780752)) - -0.084956154) *...\n",
       "  sympy_format    0.8673674*xt1 - 0.084835054322848*xt2 + 0.0736...\n",
       "  Name: 4, dtype: object],\n",
       " 'message_variable_order': [[xt1, xt2, xt3, xs1, xs2, xs3],\n",
       "  [xt1, xt2, xt3, xs1, xs2, xs3]],\n",
       " 'update_variable_order': [[xt1, xt2, xt3, a1, a2],\n",
       "  [xt1, xt2, xt3, a1, a2],\n",
       "  [xt1, xt2, xt3, a1, a2]],\n",
       " 'data_trained_on': <gninvert.data_generation.TrainingData, 6 train size / 2 validation size / shuffle False>}"
      ]
     },
     "execution_count": 13,
     "metadata": {},
     "output_type": "execute_result"
    }
   ],
   "source": [
    "t.load('runs/GENERAL_act_inh_simple/sr')"
   ]
  },
  {
   "cell_type": "markdown",
   "id": "953a64f2-a42e-44be-86b7-3b3bec8eccb6",
   "metadata": {},
   "source": [
    "## HP settings: fine-tuned"
   ]
  },
  {
   "cell_type": "code",
   "execution_count": 10,
   "id": "502533fc-1ce0-469a-9e64-e69758de2c26",
   "metadata": {},
   "outputs": [
    {
     "name": "stdout",
     "output_type": "stream",
     "text": [
      "message_sr_result | ((xt - xs) * -0.24516167) | loss 0.0002417058\n",
      "update_sr_result | (a + ((0.5053277 - (a * 0.37709332)) * xt)) | loss 0.0008162059\n"
     ]
    },
    {
     "data": {
      "text/plain": [
       "(RecoveredGN(), SingleDiffusionGN())"
      ]
     },
     "execution_count": 10,
     "metadata": {},
     "output_type": "execute_result"
    }
   ],
   "source": [
    "view_sr_results('runs/PRECISE1_diff1')"
   ]
  },
  {
   "cell_type": "code",
   "execution_count": 11,
   "id": "a9868daf-9cc9-4484-b0dd-1d788739ea99",
   "metadata": {},
   "outputs": [
    {
     "name": "stdout",
     "output_type": "stream",
     "text": [
      "message_sr_result | (((xs2 - xt2) - ((xt1 - xs1) * -0.46747714)) * 0.8181941) | loss 5.1728697e-05\n",
      "message_sr_result | ((xs1 - (xt1 - ((xs2 - xt2) * 0.56975317))) * 0.73078114) | loss 7.8720186e-05\n",
      "update_sr_result | (xt1 + (a2 * 0.06045175)) | loss 0.0005919318\n",
      "update_sr_result | (xt2 + 0.070513874) | loss 0.0010407806\n"
     ]
    },
    {
     "data": {
      "text/plain": [
       "(RecoveredGN(), MultiDiffusionGN())"
      ]
     },
     "execution_count": 11,
     "metadata": {},
     "output_type": "execute_result"
    }
   ],
   "source": [
    "view_sr_results('runs/PRECISE1_diff2')"
   ]
  },
  {
   "cell_type": "code",
   "execution_count": 14,
   "id": "ec4ccb3e-16f0-4433-a7c7-9f82131dd8b3",
   "metadata": {},
   "outputs": [
    {
     "name": "stdout",
     "output_type": "stream",
     "text": [
      "Data(x=[5, 2], edge_index=[2, 10])\n",
      "torch.Size([5, 2])\n",
      "Stats for 20 steps for node features:\n",
      "Greatest relative difference: 103.01936864852905%\n",
      "Average relative difference: 100.78579664230347%\n",
      "Smallest relative difference: 100.00301599502563%\n",
      "Greatest absolute difference: 0.018281280994415283\n",
      "Average absolute difference: 0.00481766756856814\n",
      "Smallest absolute difference: 1.2159347534179688e-05%\n"
     ]
    },
    {
     "data": {
      "image/png": "[encoded data removed]",
      "text/plain": [
       "<Figure size 432x288 with 2 Axes>"
      ]
     },
     "metadata": {
      "needs_background": "light"
     },
     "output_type": "display_data"
    },
    {
     "name": "stdout",
     "output_type": "stream",
     "text": [
      "Both models were ran for 20 steps\n",
      "The model being tested finished the run outputting this graph:\n"
     ]
    },
    {
     "data": {
      "image/png": "[encoded data removed]",
      "text/plain": [
       "<Figure size 432x288 with 2 Axes>"
      ]
     },
     "metadata": {},
     "output_type": "display_data"
    },
    {
     "name": "stdout",
     "output_type": "stream",
     "text": [
      "tensor([[0.5587, 0.7450],\n",
      "        [0.5583, 0.7451],\n",
      "        [0.5682, 0.7087],\n",
      "        [0.5989, 0.6172],\n",
      "        [0.6237, 0.5530]], grad_fn=<AddmmBackward0>)\n",
      "The ground truth model finished the run outputting this graph:\n"
     ]
    },
    {
     "data": {
      "image/png": "[encoded data removed]",
      "text/plain": [
       "<Figure size 432x288 with 2 Axes>"
      ]
     },
     "metadata": {},
     "output_type": "display_data"
    },
    {
     "name": "stdout",
     "output_type": "stream",
     "text": [
      "tensor([[0.5514, 0.7589],\n",
      "        [0.5511, 0.7589],\n",
      "        [0.5601, 0.7187],\n",
      "        [0.5848, 0.6177],\n",
      "        [0.6055, 0.5478]])\n"
     ]
    },
    {
     "data": {
      "text/plain": [
       "(Data(x=[5, 2], edge_index=[2, 10]), Data(x=[5, 2], edge_index=[2, 10]))"
      ]
     },
     "execution_count": 14,
     "metadata": {},
     "output_type": "execute_result"
    }
   ],
   "source": [
    "model_compare(t.load('runs/PRECISE1_diff2/model'), MultiDiffusionGN([0.1, 0.1]))"
   ]
  },
  {
   "cell_type": "code",
   "execution_count": 24,
   "id": "e4ddbddd-c69b-4cb1-ac6e-f0f62f1318d5",
   "metadata": {},
   "outputs": [
    {
     "name": "stdout",
     "output_type": "stream",
     "text": [
      "message_sr_result | ((xt - xs) * -0.24516167) | loss 0.0002417058\n",
      "update_sr_result | (a + ((0.5053277 - (a * 0.37709332)) * xt)) | loss 0.0008162059\n"
     ]
    },
    {
     "data": {
      "text/plain": [
       "(RecoveredGN(), SingleDiffusionGN())"
      ]
     },
     "execution_count": 24,
     "metadata": {},
     "output_type": "execute_result"
    }
   ],
   "source": [
    "view_sr_results('runs/PRECISE1_diff1')"
   ]
  },
  {
   "cell_type": "code",
   "execution_count": 28,
   "id": "7096e3d8-36d8-482c-aaa6-259ae8406bae",
   "metadata": {},
   "outputs": [
    {
     "name": "stdout",
     "output_type": "stream",
     "text": [
      "message_sr_result | (((xs2 - xt2) - ((xt1 - xs1) * -0.46833253)) * 0.8185371) | loss 5.719161e-05\n",
      "message_sr_result | (((xs1 - xt1) - ((xt2 - xs2) * 0.5707445)) * 0.729696) | loss 7.521203e-05\n",
      "update_sr_result | ((a2 * 0.102066934) + ((a1 * -0.055165563) + xt1)) | loss 0.00015401331\n",
      "update_sr_result | (xt2 + 0.06858979) | loss 0.0010544431\n"
     ]
    },
    {
     "data": {
      "text/plain": [
       "(RecoveredGN(), GNN_full())"
      ]
     },
     "execution_count": 28,
     "metadata": {},
     "output_type": "execute_result"
    }
   ],
   "source": [
    "view_sr_results('runs/PRECISE1_diff2')"
   ]
  },
  {
   "cell_type": "code",
   "execution_count": 27,
   "id": "175ffa44-05bb-4b4e-bc25-d83a0073d5e0",
   "metadata": {},
   "outputs": [
    {
     "name": "stdout",
     "output_type": "stream",
     "text": [
      "TRAINING\n",
      "INVERTING\n"
     ]
    },
    {
     "name": "stderr",
     "output_type": "stream",
     "text": [
      "/home/lrudl/.pyenv/versions/3.9.10/lib/python3.9/site-packages/pysr/sr.py:567: UserWarning: Note: it looks like you are running in Jupyter. The progress bar will be turned off.\n",
      "  warnings.warn(\n",
      "/home/lrudl/.pyenv/versions/3.9.10/lib/python3.9/site-packages/pysr/sr.py:567: UserWarning: Note: it looks like you are running in Jupyter. The progress bar will be turned off.\n",
      "  warnings.warn(\n"
     ]
    },
    {
     "name": "stdout",
     "output_type": "stream",
     "text": [
      "Everything saved at runs/PRECISE1_diff2\n"
     ]
    },
    {
     "data": {
      "text/plain": [
       "RecoveredGN()"
      ]
     },
     "execution_count": 27,
     "metadata": {},
     "output_type": "execute_result"
    }
   ],
   "source": [
    "rerun_sr('PRECISE1_diff2')"
   ]
  },
  {
   "cell_type": "code",
   "execution_count": 21,
   "id": "2ef243d8-686b-46ad-af8e-afe0b5a93279",
   "metadata": {},
   "outputs": [
    {
     "name": "stdout",
     "output_type": "stream",
     "text": [
      "message_sr_result | ((xs2 + -0.50588024) * -0.19902961) | loss 0.00038144074\n",
      "message_sr_result | ((xs3 - 0.48845932) * -0.13252312) | loss 0.00019964816\n",
      "update_sr_result | (a1 + (0.0004056322 / (xt1 - a2))) | loss 0.116216876\n",
      "update_sr_result | (a2 / (xt2 + 1.0717449)) | loss 0.010200492\n",
      "update_sr_result | (xt1 * 0.6320785) | loss 0.020773804\n"
     ]
    },
    {
     "data": {
      "text/plain": [
       "(RecoveredGN(), ActivatorInhibitorGN())"
      ]
     },
     "execution_count": 21,
     "metadata": {},
     "output_type": "execute_result"
    }
   ],
   "source": [
    "view_sr_results('runs/SEARCH3_act_inh_simple')"
   ]
  },
  {
   "cell_type": "code",
   "execution_count": 19,
   "id": "3e446fa8-be15-40ca-87d4-5e22747f63c0",
   "metadata": {},
   "outputs": [
    {
     "name": "stdout",
     "output_type": "stream",
     "text": [
      "message_sr_result | (xt2 - xs2) | loss 0.0034564934\n",
      "message_sr_result | ((xt3 - xs3) * 0.5274449) | loss 0.003646022\n",
      "update_sr_result | (xt1 + (((xt2 - xt3) * 0.057671707) / (xt1 + 0.14373495))) | loss 6.343419e-05\n",
      "update_sr_result | ((a1 * -0.081709415) + xt2) | loss 0.00012449919\n",
      "update_sr_result | ((a2 / -10.2089615) + xt3) | loss 0.00012020768\n"
     ]
    },
    {
     "data": {
      "text/plain": [
       "(RecoveredGN(), ActivatorInhibitorGN())"
      ]
     },
     "execution_count": 19,
     "metadata": {},
     "output_type": "execute_result"
    }
   ],
   "source": [
    "view_sr_results('runs/EPSSEARCH_act_inh_simple_with_eps')"
   ]
  },
  {
   "cell_type": "code",
   "execution_count": 18,
   "id": "bdd0f350-b310-40ce-b841-60cae82c07c6",
   "metadata": {},
   "outputs": [
    {
     "name": "stdout",
     "output_type": "stream",
     "text": [
      "TRAINING\n",
      "INVERTING\n"
     ]
    },
    {
     "name": "stderr",
     "output_type": "stream",
     "text": [
      "/home/lrudl/.pyenv/versions/3.9.10/lib/python3.9/site-packages/pysr/sr.py:567: UserWarning: Note: it looks like you are running in Jupyter. The progress bar will be turned off.\n",
      "  warnings.warn(\n",
      "/home/lrudl/.pyenv/versions/3.9.10/lib/python3.9/site-packages/pysr/sr.py:567: UserWarning: Note: it looks like you are running in Jupyter. The progress bar will be turned off.\n",
      "  warnings.warn(\n"
     ]
    },
    {
     "name": "stdout",
     "output_type": "stream",
     "text": [
      "Everything saved at runs/linear_diff2\n"
     ]
    },
    {
     "data": {
      "text/plain": [
       "RecoveredGN()"
      ]
     },
     "execution_count": 18,
     "metadata": {},
     "output_type": "execute_result"
    }
   ],
   "source": [
    "rerun_sr('linear_diff2')"
   ]
  },
  {
   "cell_type": "code",
   "execution_count": 29,
   "id": "5eb3ea06-b1bf-4ad3-98db-19fee55d0182",
   "metadata": {},
   "outputs": [
    {
     "name": "stdout",
     "output_type": "stream",
     "text": [
      "message_sr_result | -0.114095144 | loss 0.0\n",
      "message_sr_result | 0.11601054 | loss 0.0\n",
      "update_sr_result | ((((a2 - 1.0700171) * (xt2 / (1.0923223 - xt2))) / (xt1 + a1)) + 0.84002066) | loss 1.5243717\n",
      "update_sr_result | (-2.0491147 / (-0.027795915 - xt1)) | loss 77.45206\n",
      "update_sr_result | (((1.8339102 - a1) + xt3) + (xt2 / (-0.071735315 - xt1))) | loss 3.1957078\n"
     ]
    },
    {
     "data": {
      "text/plain": [
       "(RecoveredGN(), FullActInhGN())"
      ]
     },
     "execution_count": 29,
     "metadata": {},
     "output_type": "execute_result"
    }
   ],
   "source": [
    "view_sr_results('runs/PAPER_act_inh_full')"
   ]
  },
  {
   "cell_type": "markdown",
   "id": "c584b9b2-898f-4678-9319-0a83f9ab4a84",
   "metadata": {},
   "source": [
    "# DEBUGGING"
   ]
  },
  {
   "cell_type": "code",
   "execution_count": 121,
   "id": "85905ddf-c160-4c34-acd7-d78a186d84e7",
   "metadata": {},
   "outputs": [],
   "source": [
    "lf = pysr.sr.CallableEquation(\n",
    "    t.load('runs/PRECISE1_diff2/sr')['message_variable_order'],\n",
    "    t.load('runs/PRECISE1_diff2/sr')['message_sr_result'][0]['sympy_format'])"
   ]
  },
  {
   "cell_type": "code",
   "execution_count": 124,
   "id": "9c666af0-34e2-4a33-9834-79d3bb2bc76e",
   "metadata": {},
   "outputs": [
    {
     "ename": "TypeError",
     "evalue": "_lambdifygenerated() takes 2 positional arguments but 4 were given",
     "output_type": "error",
     "traceback": [
      "\u001b[0;31m---------------------------------------------------------------------------\u001b[0m",
      "\u001b[0;31mTypeError\u001b[0m                                 Traceback (most recent call last)",
      "Input \u001b[0;32mIn [124]\u001b[0m, in \u001b[0;36m<cell line: 1>\u001b[0;34m()\u001b[0m\n\u001b[0;32m----> 1\u001b[0m \u001b[43mlf\u001b[49m\u001b[43m(\u001b[49m\u001b[43mt\u001b[49m\u001b[38;5;241;43m.\u001b[39;49m\u001b[43mtensor\u001b[49m\u001b[43m(\u001b[49m\u001b[43m[\u001b[49m\u001b[43m[\u001b[49m\u001b[38;5;241;43m0.1\u001b[39;49m\u001b[43m,\u001b[49m\u001b[43m \u001b[49m\u001b[38;5;241;43m0.2\u001b[39;49m\u001b[43m,\u001b[49m\u001b[43m \u001b[49m\u001b[38;5;241;43m0.3\u001b[39;49m\u001b[43m,\u001b[49m\u001b[43m \u001b[49m\u001b[38;5;241;43m0.3\u001b[39;49m\u001b[43m]\u001b[49m\u001b[43m]\u001b[49m\u001b[43m)\u001b[49m\u001b[43m)\u001b[49m\n",
      "File \u001b[0;32m~/.pyenv/versions/3.9.10/lib/python3.9/site-packages/pysr/sr.py:279\u001b[0m, in \u001b[0;36mCallableEquation.__call__\u001b[0;34m(self, X)\u001b[0m\n\u001b[1;32m    277\u001b[0m \u001b[38;5;28;01melif\u001b[39;00m \u001b[38;5;28mself\u001b[39m\u001b[38;5;241m.\u001b[39m_selection \u001b[38;5;129;01mis\u001b[39;00m \u001b[38;5;129;01mnot\u001b[39;00m \u001b[38;5;28;01mNone\u001b[39;00m:\n\u001b[1;32m    278\u001b[0m     \u001b[38;5;28;01mreturn\u001b[39;00m \u001b[38;5;28mself\u001b[39m\u001b[38;5;241m.\u001b[39m_lambda(\u001b[38;5;241m*\u001b[39mX[:, \u001b[38;5;28mself\u001b[39m\u001b[38;5;241m.\u001b[39m_selection]\u001b[38;5;241m.\u001b[39mT)\n\u001b[0;32m--> 279\u001b[0m \u001b[38;5;28;01mreturn\u001b[39;00m \u001b[38;5;28;43mself\u001b[39;49m\u001b[38;5;241;43m.\u001b[39;49m\u001b[43m_lambda\u001b[49m\u001b[43m(\u001b[49m\u001b[38;5;241;43m*\u001b[39;49m\u001b[43mX\u001b[49m\u001b[38;5;241;43m.\u001b[39;49m\u001b[43mT\u001b[49m\u001b[43m)\u001b[49m\n",
      "\u001b[0;31mTypeError\u001b[0m: _lambdifygenerated() takes 2 positional arguments but 4 were given"
     ]
    }
   ],
   "source": [
    "lf(t.tensor([[0.1, 0.2, 0.3, 0.3]]))"
   ]
  },
  {
   "cell_type": "code",
   "execution_count": 126,
   "id": "b018ada4-daad-4a33-aefb-83b8c346c097",
   "metadata": {},
   "outputs": [
    {
     "ename": "TypeError",
     "evalue": "__call__() takes 2 positional arguments but 3 were given",
     "output_type": "error",
     "traceback": [
      "\u001b[0;31m---------------------------------------------------------------------------\u001b[0m",
      "\u001b[0;31mTypeError\u001b[0m                                 Traceback (most recent call last)",
      "Input \u001b[0;32mIn [126]\u001b[0m, in \u001b[0;36m<cell line: 1>\u001b[0;34m()\u001b[0m\n\u001b[0;32m----> 1\u001b[0m \u001b[43mlf\u001b[49m\u001b[43m(\u001b[49m\u001b[43mt\u001b[49m\u001b[38;5;241;43m.\u001b[39;49m\u001b[43mtensor\u001b[49m\u001b[43m(\u001b[49m\u001b[43m[\u001b[49m\u001b[43m[\u001b[49m\u001b[38;5;241;43m0.1\u001b[39;49m\u001b[43m,\u001b[49m\u001b[43m \u001b[49m\u001b[38;5;241;43m0.2\u001b[39;49m\u001b[43m]\u001b[49m\u001b[43m]\u001b[49m\u001b[43m)\u001b[49m\u001b[43m,\u001b[49m\u001b[43m \u001b[49m\u001b[43mt\u001b[49m\u001b[38;5;241;43m.\u001b[39;49m\u001b[43mtensor\u001b[49m\u001b[43m(\u001b[49m\u001b[43m[\u001b[49m\u001b[43m[\u001b[49m\u001b[38;5;241;43m0.2\u001b[39;49m\u001b[43m,\u001b[49m\u001b[43m \u001b[49m\u001b[38;5;241;43m0.3\u001b[39;49m\u001b[43m]\u001b[49m\u001b[43m]\u001b[49m\u001b[43m)\u001b[49m\u001b[43m)\u001b[49m\n",
      "\u001b[0;31mTypeError\u001b[0m: __call__() takes 2 positional arguments but 3 were given"
     ]
    }
   ],
   "source": [
    "lf(t.tensor([[0.1, 0.2]]),\n",
    "   t.tensor([[0.2, 0.3]]))"
   ]
  },
  {
   "cell_type": "code",
   "execution_count": 127,
   "id": "f78b52da-62e9-431a-88ec-d1ee08607ca8",
   "metadata": {},
   "outputs": [
    {
     "ename": "TypeError",
     "evalue": "_lambdifygenerated() takes 2 positional arguments but 4 were given",
     "output_type": "error",
     "traceback": [
      "\u001b[0;31m---------------------------------------------------------------------------\u001b[0m",
      "\u001b[0;31mTypeError\u001b[0m                                 Traceback (most recent call last)",
      "Input \u001b[0;32mIn [127]\u001b[0m, in \u001b[0;36m<cell line: 1>\u001b[0;34m()\u001b[0m\n\u001b[0;32m----> 1\u001b[0m \u001b[43mlf\u001b[49m\u001b[43m(\u001b[49m\u001b[43mt\u001b[49m\u001b[38;5;241;43m.\u001b[39;49m\u001b[43mtensor\u001b[49m\u001b[43m(\u001b[49m\u001b[43m[\u001b[49m\u001b[38;5;241;43m0.\u001b[39;49m\u001b[43m,\u001b[49m\u001b[43m \u001b[49m\u001b[38;5;241;43m0.1\u001b[39;49m\u001b[43m,\u001b[49m\u001b[43m \u001b[49m\u001b[38;5;241;43m0.2\u001b[39;49m\u001b[43m,\u001b[49m\u001b[43m \u001b[49m\u001b[38;5;241;43m0.3\u001b[39;49m\u001b[43m]\u001b[49m\u001b[43m)\u001b[49m\u001b[43m)\u001b[49m\n",
      "File \u001b[0;32m~/.pyenv/versions/3.9.10/lib/python3.9/site-packages/pysr/sr.py:279\u001b[0m, in \u001b[0;36mCallableEquation.__call__\u001b[0;34m(self, X)\u001b[0m\n\u001b[1;32m    277\u001b[0m \u001b[38;5;28;01melif\u001b[39;00m \u001b[38;5;28mself\u001b[39m\u001b[38;5;241m.\u001b[39m_selection \u001b[38;5;129;01mis\u001b[39;00m \u001b[38;5;129;01mnot\u001b[39;00m \u001b[38;5;28;01mNone\u001b[39;00m:\n\u001b[1;32m    278\u001b[0m     \u001b[38;5;28;01mreturn\u001b[39;00m \u001b[38;5;28mself\u001b[39m\u001b[38;5;241m.\u001b[39m_lambda(\u001b[38;5;241m*\u001b[39mX[:, \u001b[38;5;28mself\u001b[39m\u001b[38;5;241m.\u001b[39m_selection]\u001b[38;5;241m.\u001b[39mT)\n\u001b[0;32m--> 279\u001b[0m \u001b[38;5;28;01mreturn\u001b[39;00m \u001b[38;5;28;43mself\u001b[39;49m\u001b[38;5;241;43m.\u001b[39;49m\u001b[43m_lambda\u001b[49m\u001b[43m(\u001b[49m\u001b[38;5;241;43m*\u001b[39;49m\u001b[43mX\u001b[49m\u001b[38;5;241;43m.\u001b[39;49m\u001b[43mT\u001b[49m\u001b[43m)\u001b[49m\n",
      "\u001b[0;31mTypeError\u001b[0m: _lambdifygenerated() takes 2 positional arguments but 4 were given"
     ]
    }
   ],
   "source": [
    "lf(t.tensor([0., 0.1, 0.2, 0.3]))"
   ]
  },
  {
   "cell_type": "code",
   "execution_count": 128,
   "id": "cfc7fa3e-56b4-4bc4-8658-93e4fb279ed8",
   "metadata": {},
   "outputs": [
    {
     "ename": "TypeError",
     "evalue": "__call__() takes 2 positional arguments but 3 were given",
     "output_type": "error",
     "traceback": [
      "\u001b[0;31m---------------------------------------------------------------------------\u001b[0m",
      "\u001b[0;31mTypeError\u001b[0m                                 Traceback (most recent call last)",
      "Input \u001b[0;32mIn [128]\u001b[0m, in \u001b[0;36m<cell line: 1>\u001b[0;34m()\u001b[0m\n\u001b[0;32m----> 1\u001b[0m \u001b[43mlf\u001b[49m\u001b[43m(\u001b[49m\u001b[43mt\u001b[49m\u001b[38;5;241;43m.\u001b[39;49m\u001b[43mtensor\u001b[49m\u001b[43m(\u001b[49m\u001b[43m[\u001b[49m\u001b[38;5;241;43m0.1\u001b[39;49m\u001b[43m,\u001b[49m\u001b[43m \u001b[49m\u001b[38;5;241;43m0.2\u001b[39;49m\u001b[43m]\u001b[49m\u001b[43m)\u001b[49m\u001b[43m,\u001b[49m\u001b[43m \u001b[49m\u001b[43mt\u001b[49m\u001b[38;5;241;43m.\u001b[39;49m\u001b[43mtensor\u001b[49m\u001b[43m(\u001b[49m\u001b[43m[\u001b[49m\u001b[38;5;241;43m0.3\u001b[39;49m\u001b[43m,\u001b[49m\u001b[43m \u001b[49m\u001b[38;5;241;43m0.4\u001b[39;49m\u001b[43m]\u001b[49m\u001b[43m)\u001b[49m\u001b[43m)\u001b[49m\n",
      "\u001b[0;31mTypeError\u001b[0m: __call__() takes 2 positional arguments but 3 were given"
     ]
    }
   ],
   "source": [
    "lf(t.tensor([0.1, 0.2]), t.tensor([0.3, 0.4]))"
   ]
  },
  {
   "cell_type": "code",
   "execution_count": 133,
   "id": "bda6d114-252a-48f7-a868-0ae762781a7a",
   "metadata": {},
   "outputs": [
    {
     "ename": "ValueError",
     "evalue": "not enough values to unpack (expected 4, got 1)",
     "output_type": "error",
     "traceback": [
      "\u001b[0;31m---------------------------------------------------------------------------\u001b[0m",
      "\u001b[0;31mValueError\u001b[0m                                Traceback (most recent call last)",
      "Input \u001b[0;32mIn [133]\u001b[0m, in \u001b[0;36m<cell line: 1>\u001b[0;34m()\u001b[0m\n\u001b[0;32m----> 1\u001b[0m \u001b[43mlf\u001b[49m\u001b[43m(\u001b[49m\u001b[43mt\u001b[49m\u001b[38;5;241;43m.\u001b[39;49m\u001b[43mtensor\u001b[49m\u001b[43m(\u001b[49m\u001b[43m[\u001b[49m\u001b[43m[\u001b[49m\u001b[38;5;241;43m0.1\u001b[39;49m\u001b[43m,\u001b[49m\u001b[43m \u001b[49m\u001b[38;5;241;43m0.2\u001b[39;49m\u001b[43m]\u001b[49m\u001b[43m]\u001b[49m\u001b[43m)\u001b[49m\u001b[43m)\u001b[49m\n",
      "File \u001b[0;32m~/.pyenv/versions/3.9.10/lib/python3.9/site-packages/pysr/sr.py:279\u001b[0m, in \u001b[0;36mCallableEquation.__call__\u001b[0;34m(self, X)\u001b[0m\n\u001b[1;32m    277\u001b[0m \u001b[38;5;28;01melif\u001b[39;00m \u001b[38;5;28mself\u001b[39m\u001b[38;5;241m.\u001b[39m_selection \u001b[38;5;129;01mis\u001b[39;00m \u001b[38;5;129;01mnot\u001b[39;00m \u001b[38;5;28;01mNone\u001b[39;00m:\n\u001b[1;32m    278\u001b[0m     \u001b[38;5;28;01mreturn\u001b[39;00m \u001b[38;5;28mself\u001b[39m\u001b[38;5;241m.\u001b[39m_lambda(\u001b[38;5;241m*\u001b[39mX[:, \u001b[38;5;28mself\u001b[39m\u001b[38;5;241m.\u001b[39m_selection]\u001b[38;5;241m.\u001b[39mT)\n\u001b[0;32m--> 279\u001b[0m \u001b[38;5;28;01mreturn\u001b[39;00m \u001b[38;5;28;43mself\u001b[39;49m\u001b[38;5;241;43m.\u001b[39;49m\u001b[43m_lambda\u001b[49m\u001b[43m(\u001b[49m\u001b[38;5;241;43m*\u001b[39;49m\u001b[43mX\u001b[49m\u001b[38;5;241;43m.\u001b[39;49m\u001b[43mT\u001b[49m\u001b[43m)\u001b[49m\n",
      "File \u001b[0;32m<lambdifygenerated-69>:2\u001b[0m, in \u001b[0;36m_lambdifygenerated\u001b[0;34m(_Dummy_86, _Dummy_87)\u001b[0m\n\u001b[1;32m      1\u001b[0m \u001b[38;5;28;01mdef\u001b[39;00m \u001b[38;5;21m_lambdifygenerated\u001b[39m(_Dummy_86, _Dummy_87):\n\u001b[0;32m----> 2\u001b[0m     [xt1, xt2, xs1, xs2] \u001b[38;5;241m=\u001b[39m _Dummy_86\n\u001b[1;32m      3\u001b[0m     [xt1, xt2, xs1, xs2] \u001b[38;5;241m=\u001b[39m _Dummy_87\n\u001b[1;32m      4\u001b[0m     \u001b[38;5;28;01mreturn\u001b[39;00m \u001b[38;5;241m-\u001b[39m\u001b[38;5;241m0.381551048515743\u001b[39m\u001b[38;5;241m*\u001b[39mxs1 \u001b[38;5;241m+\u001b[39m \u001b[38;5;241m0.81755525\u001b[39m\u001b[38;5;241m*\u001b[39mxs2 \u001b[38;5;241m+\u001b[39m \u001b[38;5;241m0.381551048515743\u001b[39m\u001b[38;5;241m*\u001b[39mxt1 \u001b[38;5;241m-\u001b[39m \u001b[38;5;241m0.81755525\u001b[39m\u001b[38;5;241m*\u001b[39mxt2\n",
      "\u001b[0;31mValueError\u001b[0m: not enough values to unpack (expected 4, got 1)"
     ]
    }
   ],
   "source": [
    "lf(t.tensor([[0.1, 0.2]]))"
   ]
  },
  {
   "cell_type": "code",
   "execution_count": 140,
   "id": "6a537cd3-f663-4b5e-828b-0103daa6632f",
   "metadata": {},
   "outputs": [
    {
     "ename": "ImportError",
     "evalue": "cannot import name 'rerun_sr' from 'gninvert.rule_discovery' (/home/lrudl/github/gninvert/gninvert/rule_discovery.py)",
     "output_type": "error",
     "traceback": [
      "\u001b[0;31m---------------------------------------------------------------------------\u001b[0m",
      "\u001b[0;31mImportError\u001b[0m                               Traceback (most recent call last)",
      "Input \u001b[0;32mIn [140]\u001b[0m, in \u001b[0;36m<cell line: 1>\u001b[0;34m()\u001b[0m\n\u001b[0;32m----> 1\u001b[0m \u001b[38;5;28;01mfrom\u001b[39;00m \u001b[38;5;21;01mgninvert\u001b[39;00m\u001b[38;5;21;01m.\u001b[39;00m\u001b[38;5;21;01mrule_discovery\u001b[39;00m \u001b[38;5;28;01mimport\u001b[39;00m rerun_sr\n",
      "\u001b[0;31mImportError\u001b[0m: cannot import name 'rerun_sr' from 'gninvert.rule_discovery' (/home/lrudl/github/gninvert/gninvert/rule_discovery.py)"
     ]
    }
   ],
   "source": [
    "from gninvert.rule_discovery import rerun_sr"
   ]
  },
  {
   "cell_type": "code",
   "execution_count": 2,
   "id": "449a99af-1b21-4dfd-b202-6cc1e3a1a2f2",
   "metadata": {},
   "outputs": [
    {
     "name": "stdout",
     "output_type": "stream",
     "text": [
      "starting invert\n",
      "TRAINING\n",
      "INVERTING\n"
     ]
    },
    {
     "name": "stderr",
     "output_type": "stream",
     "text": [
      "/home/lrudl/.pyenv/versions/3.9.10/lib/python3.9/site-packages/pysr/sr.py:567: UserWarning: Note: it looks like you are running in Jupyter. The progress bar will be turned off.\n",
      "  warnings.warn(\n",
      "┌ Warning: Replacing module `Parsers`\n",
      "└ @ Base loading.jl:1036\n",
      "┌ Warning: Replacing module `MacroTools`\n",
      "└ @ Base loading.jl:1036\n",
      "/home/lrudl/.pyenv/versions/3.9.10/lib/python3.9/site-packages/pysr/sr.py:567: UserWarning: Note: it looks like you are running in Jupyter. The progress bar will be turned off.\n",
      "  warnings.warn(\n"
     ]
    },
    {
     "name": "stdout",
     "output_type": "stream",
     "text": [
      "Everything saved at runs/runs/PRECISE1_diff2\n"
     ]
    }
   ],
   "source": [
    "rerun_sr('runs/PRECISE1_diff2')"
   ]
  },
  {
   "cell_type": "code",
   "execution_count": 125,
   "id": "1a3121df-519a-4443-a309-372de0187e12",
   "metadata": {},
   "outputs": [
    {
     "data": {
      "text/plain": [
       "PySRFunction(X=>-0.381551048515743*xs1 + 0.81755525*xs2 + 0.381551048515743*xt1 - 0.81755525*xt2)"
      ]
     },
     "execution_count": 125,
     "metadata": {},
     "output_type": "execute_result"
    }
   ],
   "source": [
    "lf"
   ]
  },
  {
   "cell_type": "code",
   "execution_count": 67,
   "id": "a1808dd1-422a-400d-8688-386e4d107ec1",
   "metadata": {},
   "outputs": [
    {
     "data": {
      "text/plain": [
       "2"
      ]
     },
     "execution_count": 67,
     "metadata": {},
     "output_type": "execute_result"
    }
   ],
   "source": [
    "len(t.load('runs/PRECISE1_diff2/sr')['message_sr_result'])"
   ]
  },
  {
   "cell_type": "code",
   "execution_count": 9,
   "id": "46535999-1b88-4858-a668-e853f1483987",
   "metadata": {},
   "outputs": [
    {
     "name": "stdout",
     "output_type": "stream",
     "text": [
      "message_sr_result | (((xs2 - xt2) - ((xt1 - xs1) * -0.46747714)) * 0.8181941) | loss 5.1728697e-05\n",
      "message_sr_result | ((xs1 - (xt1 - ((xs2 - xt2) * 0.56975317))) * 0.73078114) | loss 7.8720186e-05\n",
      "update_sr_result | (xt1 + (a2 * 0.06045175)) | loss 0.0005919318\n",
      "update_sr_result | (xt2 + 0.070513874) | loss 0.0010407806\n"
     ]
    }
   ],
   "source": [
    "srgn, gn = view_sr_results('runs/PRECISE1_diff2')"
   ]
  },
  {
   "cell_type": "code",
   "execution_count": 93,
   "id": "44bdd902-7b1b-4a1f-9284-cb894cd6736a",
   "metadata": {},
   "outputs": [
    {
     "data": {
      "text/plain": [
       "[Data(x=[5, 2], edge_index=[2, 10]),\n",
       " Data(x=[5, 2], edge_index=[2, 10]),\n",
       " Data(x=[5, 2], edge_index=[2, 10]),\n",
       " Data(x=[5, 2], edge_index=[2, 10]),\n",
       " Data(x=[5, 2], edge_index=[2, 10]),\n",
       " Data(x=[5, 2], edge_index=[2, 10]),\n",
       " Data(x=[5, 2], edge_index=[2, 10]),\n",
       " Data(x=[5, 2], edge_index=[2, 10]),\n",
       " Data(x=[5, 2], edge_index=[2, 10]),\n",
       " Data(x=[5, 2], edge_index=[2, 10]),\n",
       " Data(x=[5, 2], edge_index=[2, 10])]"
      ]
     },
     "execution_count": 93,
     "metadata": {},
     "output_type": "execute_result"
    }
   ],
   "source": [
    "gn_time_series(gn, 10, sample_graph_from_gn(gn))"
   ]
  },
  {
   "cell_type": "code",
   "execution_count": 97,
   "id": "c634f124-ee42-4ed4-89c7-990f9dd3c89c",
   "metadata": {},
   "outputs": [
    {
     "data": {
      "text/plain": [
       "tensor([[0.5315, 0.1587],\n",
       "        [0.6542, 0.3278],\n",
       "        [0.6532, 0.3958],\n",
       "        [0.9147, 0.2036],\n",
       "        [0.2018, 0.2018]])"
      ]
     },
     "execution_count": 97,
     "metadata": {},
     "output_type": "execute_result"
    }
   ],
   "source": [
    "sample_graph_from_gn(gn).x"
   ]
  },
  {
   "cell_type": "code",
   "execution_count": 4,
   "id": "6c718073-1cdd-4367-9ee7-962a1125e905",
   "metadata": {},
   "outputs": [
    {
     "data": {
      "text/plain": [
       "tensor([[0.1281, 0.2732],\n",
       "        [0.5924, 0.1986],\n",
       "        [0.2761, 0.1855],\n",
       "        [0.8159, 0.2386],\n",
       "        [0.7756, 0.0286]])"
      ]
     },
     "execution_count": 4,
     "metadata": {},
     "output_type": "execute_result"
    }
   ],
   "source": [
    "sample_graph_from_gn(srgn).x"
   ]
  },
  {
   "cell_type": "code",
   "execution_count": 5,
   "id": "81b358c6-4784-4c1f-872d-da0accc24b3b",
   "metadata": {},
   "outputs": [
    {
     "ename": "TypeError",
     "evalue": "_lambdifygenerated() takes 2 positional arguments but 4 were given",
     "output_type": "error",
     "traceback": [
      "\u001b[0;31m---------------------------------------------------------------------------\u001b[0m",
      "\u001b[0;31mTypeError\u001b[0m                                 Traceback (most recent call last)",
      "Input \u001b[0;32mIn [5]\u001b[0m, in \u001b[0;36m<cell line: 1>\u001b[0;34m()\u001b[0m\n\u001b[0;32m----> 1\u001b[0m \u001b[43msrgn\u001b[49m\u001b[38;5;241;43m.\u001b[39;49m\u001b[43mmessage\u001b[49m\u001b[43m(\u001b[49m\u001b[43mt\u001b[49m\u001b[38;5;241;43m.\u001b[39;49m\u001b[43mtensor\u001b[49m\u001b[43m(\u001b[49m\u001b[43m[\u001b[49m\u001b[43m[\u001b[49m\u001b[38;5;241;43m0.1\u001b[39;49m\u001b[43m,\u001b[49m\u001b[43m \u001b[49m\u001b[38;5;241;43m0.2\u001b[39;49m\u001b[43m]\u001b[49m\u001b[43m]\u001b[49m\u001b[43m)\u001b[49m\u001b[43m,\u001b[49m\n\u001b[1;32m      2\u001b[0m \u001b[43m             \u001b[49m\u001b[43mt\u001b[49m\u001b[38;5;241;43m.\u001b[39;49m\u001b[43mtensor\u001b[49m\u001b[43m(\u001b[49m\u001b[43m[\u001b[49m\u001b[43m[\u001b[49m\u001b[38;5;241;43m0.2\u001b[39;49m\u001b[43m,\u001b[49m\u001b[43m \u001b[49m\u001b[38;5;241;43m0.3\u001b[39;49m\u001b[43m]\u001b[49m\u001b[43m]\u001b[49m\u001b[43m)\u001b[49m\u001b[43m)\u001b[49m\n",
      "File \u001b[0;32m~/github/gninvert/gninvert/gns.py:184\u001b[0m, in \u001b[0;36mEquationGN.message\u001b[0;34m(self, x_i, x_j)\u001b[0m\n\u001b[1;32m    183\u001b[0m \u001b[38;5;28;01mdef\u001b[39;00m \u001b[38;5;21mmessage\u001b[39m(\u001b[38;5;28mself\u001b[39m, x_i, x_j):\n\u001b[0;32m--> 184\u001b[0m     \u001b[38;5;28;01mreturn\u001b[39;00m \u001b[38;5;28;43mself\u001b[39;49m\u001b[38;5;241;43m.\u001b[39;49m\u001b[43mmessage_fn\u001b[49m\u001b[43m(\u001b[49m\u001b[43mt\u001b[49m\u001b[38;5;241;43m.\u001b[39;49m\u001b[43mcat\u001b[49m\u001b[43m(\u001b[49m\u001b[43m[\u001b[49m\u001b[43mx_i\u001b[49m\u001b[43m,\u001b[49m\u001b[43m \u001b[49m\u001b[43mx_j\u001b[49m\u001b[43m]\u001b[49m\u001b[43m,\u001b[49m\u001b[43m \u001b[49m\u001b[38;5;241;43m1\u001b[39;49m\u001b[43m)\u001b[49m\u001b[43m)\u001b[49m\n",
      "File \u001b[0;32m~/github/gninvert/gninvert/gns.py:168\u001b[0m, in \u001b[0;36mcomponent_fns_to_vector_fn.<locals>.fn\u001b[0;34m(in_tensor)\u001b[0m\n\u001b[1;32m    167\u001b[0m \u001b[38;5;28;01mdef\u001b[39;00m \u001b[38;5;21mfn\u001b[39m(in_tensor):\n\u001b[0;32m--> 168\u001b[0m     comps \u001b[38;5;241m=\u001b[39m [comp_fn(in_tensor) \u001b[38;5;28;01mfor\u001b[39;00m comp_fn \u001b[38;5;129;01min\u001b[39;00m component_fns]\n\u001b[1;32m    169\u001b[0m     stacked \u001b[38;5;241m=\u001b[39m t\u001b[38;5;241m.\u001b[39mstack(comps, dim\u001b[38;5;241m=\u001b[39m\u001b[38;5;241m1\u001b[39m)\u001b[38;5;241m.\u001b[39mclone()\u001b[38;5;241m.\u001b[39mdetach()\n\u001b[1;32m    170\u001b[0m     \u001b[38;5;28;01mreturn\u001b[39;00m stacked\n",
      "File \u001b[0;32m~/github/gninvert/gninvert/gns.py:168\u001b[0m, in \u001b[0;36m<listcomp>\u001b[0;34m(.0)\u001b[0m\n\u001b[1;32m    167\u001b[0m \u001b[38;5;28;01mdef\u001b[39;00m \u001b[38;5;21mfn\u001b[39m(in_tensor):\n\u001b[0;32m--> 168\u001b[0m     comps \u001b[38;5;241m=\u001b[39m [\u001b[43mcomp_fn\u001b[49m\u001b[43m(\u001b[49m\u001b[43min_tensor\u001b[49m\u001b[43m)\u001b[49m \u001b[38;5;28;01mfor\u001b[39;00m comp_fn \u001b[38;5;129;01min\u001b[39;00m component_fns]\n\u001b[1;32m    169\u001b[0m     stacked \u001b[38;5;241m=\u001b[39m t\u001b[38;5;241m.\u001b[39mstack(comps, dim\u001b[38;5;241m=\u001b[39m\u001b[38;5;241m1\u001b[39m)\u001b[38;5;241m.\u001b[39mclone()\u001b[38;5;241m.\u001b[39mdetach()\n\u001b[1;32m    170\u001b[0m     \u001b[38;5;28;01mreturn\u001b[39;00m stacked\n",
      "File \u001b[0;32m~/.pyenv/versions/3.9.10/lib/python3.9/site-packages/pysr/sr.py:279\u001b[0m, in \u001b[0;36mCallableEquation.__call__\u001b[0;34m(self, X)\u001b[0m\n\u001b[1;32m    277\u001b[0m \u001b[38;5;28;01melif\u001b[39;00m \u001b[38;5;28mself\u001b[39m\u001b[38;5;241m.\u001b[39m_selection \u001b[38;5;129;01mis\u001b[39;00m \u001b[38;5;129;01mnot\u001b[39;00m \u001b[38;5;28;01mNone\u001b[39;00m:\n\u001b[1;32m    278\u001b[0m     \u001b[38;5;28;01mreturn\u001b[39;00m \u001b[38;5;28mself\u001b[39m\u001b[38;5;241m.\u001b[39m_lambda(\u001b[38;5;241m*\u001b[39mX[:, \u001b[38;5;28mself\u001b[39m\u001b[38;5;241m.\u001b[39m_selection]\u001b[38;5;241m.\u001b[39mT)\n\u001b[0;32m--> 279\u001b[0m \u001b[38;5;28;01mreturn\u001b[39;00m \u001b[38;5;28;43mself\u001b[39;49m\u001b[38;5;241;43m.\u001b[39;49m\u001b[43m_lambda\u001b[49m\u001b[43m(\u001b[49m\u001b[38;5;241;43m*\u001b[39;49m\u001b[43mX\u001b[49m\u001b[38;5;241;43m.\u001b[39;49m\u001b[43mT\u001b[49m\u001b[43m)\u001b[49m\n",
      "\u001b[0;31mTypeError\u001b[0m: _lambdifygenerated() takes 2 positional arguments but 4 were given"
     ]
    }
   ],
   "source": [
    "srgn.message(t.tensor([[0.1, 0.2]]),\n",
    "             t.tensor([[0.2, 0.3]]))"
   ]
  },
  {
   "cell_type": "code",
   "execution_count": 117,
   "id": "05cfd9cd-9ed5-41b1-8131-881b5871041b",
   "metadata": {},
   "outputs": [
    {
     "ename": "IndexError",
     "evalue": "Dimension out of range (expected to be in range of [-1, 0], but got 1)",
     "output_type": "error",
     "traceback": [
      "\u001b[0;31m---------------------------------------------------------------------------\u001b[0m",
      "\u001b[0;31mIndexError\u001b[0m                                Traceback (most recent call last)",
      "Input \u001b[0;32mIn [117]\u001b[0m, in \u001b[0;36m<cell line: 1>\u001b[0;34m()\u001b[0m\n\u001b[0;32m----> 1\u001b[0m \u001b[43msrgn\u001b[49m\u001b[38;5;241;43m.\u001b[39;49m\u001b[43mmessage_fn\u001b[49m\u001b[43m(\u001b[49m\u001b[43mt\u001b[49m\u001b[38;5;241;43m.\u001b[39;49m\u001b[43mtensor\u001b[49m\u001b[43m(\u001b[49m\u001b[43m[\u001b[49m\u001b[43m[\u001b[49m\u001b[38;5;241;43m0.1\u001b[39;49m\u001b[43m,\u001b[49m\u001b[43m \u001b[49m\u001b[38;5;241;43m0.1\u001b[39;49m\u001b[43m]\u001b[49m\u001b[43m,\u001b[49m\u001b[43m \u001b[49m\u001b[43m[\u001b[49m\u001b[38;5;241;43m0.1\u001b[39;49m\u001b[43m,\u001b[49m\u001b[43m \u001b[49m\u001b[38;5;241;43m0.1\u001b[39;49m\u001b[43m]\u001b[49m\u001b[43m,\u001b[49m\u001b[43m \u001b[49m\u001b[43m[\u001b[49m\u001b[38;5;241;43m0.2\u001b[39;49m\u001b[43m,\u001b[49m\u001b[43m \u001b[49m\u001b[38;5;241;43m0.2\u001b[39;49m\u001b[43m]\u001b[49m\u001b[43m,\u001b[49m\u001b[43m \u001b[49m\u001b[43m[\u001b[49m\u001b[38;5;241;43m0.3\u001b[39;49m\u001b[43m,\u001b[49m\u001b[43m \u001b[49m\u001b[38;5;241;43m0.3\u001b[39;49m\u001b[43m]\u001b[49m\u001b[43m]\u001b[49m\u001b[43m)\u001b[49m\u001b[43m)\u001b[49m\n",
      "File \u001b[0;32m~/github/gninvert/gninvert/gns.py:169\u001b[0m, in \u001b[0;36mcomponent_fns_to_vector_fn.<locals>.fn\u001b[0;34m(in_tensor)\u001b[0m\n\u001b[1;32m    167\u001b[0m \u001b[38;5;28;01mdef\u001b[39;00m \u001b[38;5;21mfn\u001b[39m(in_tensor):\n\u001b[1;32m    168\u001b[0m     comps \u001b[38;5;241m=\u001b[39m [comp_fn(in_tensor) \u001b[38;5;28;01mfor\u001b[39;00m comp_fn \u001b[38;5;129;01min\u001b[39;00m component_fns]\n\u001b[0;32m--> 169\u001b[0m     stacked \u001b[38;5;241m=\u001b[39m \u001b[43mt\u001b[49m\u001b[38;5;241;43m.\u001b[39;49m\u001b[43mstack\u001b[49m\u001b[43m(\u001b[49m\u001b[43mcomps\u001b[49m\u001b[43m,\u001b[49m\u001b[43m \u001b[49m\u001b[43mdim\u001b[49m\u001b[38;5;241;43m=\u001b[39;49m\u001b[38;5;241;43m1\u001b[39;49m\u001b[43m)\u001b[49m\u001b[38;5;241m.\u001b[39mclone()\u001b[38;5;241m.\u001b[39mdetach()\n\u001b[1;32m    170\u001b[0m     \u001b[38;5;28;01mreturn\u001b[39;00m stacked\n",
      "\u001b[0;31mIndexError\u001b[0m: Dimension out of range (expected to be in range of [-1, 0], but got 1)"
     ]
    }
   ],
   "source": [
    "srgn.message_fn(t.tensor([[0.1, 0.1], [0.1, 0.1], [0.2, 0.2], [0.3, 0.3]]))"
   ]
  },
  {
   "cell_type": "code",
   "execution_count": 113,
   "id": "61ee0123-ce61-47e1-806e-058799259898",
   "metadata": {},
   "outputs": [
    {
     "data": {
      "text/plain": [
       "<function gninvert.gns.component_fns_to_vector_fn.<locals>.fn(in_tensor)>"
      ]
     },
     "execution_count": 113,
     "metadata": {},
     "output_type": "execute_result"
    }
   ],
   "source": [
    "srgn.message_fn"
   ]
  },
  {
   "cell_type": "code",
   "execution_count": 101,
   "id": "daaffcf3-b413-4d26-8475-b493f722d999",
   "metadata": {},
   "outputs": [
    {
     "data": {
      "text/plain": [
       "tensor([[0.0100, 0.0100]])"
      ]
     },
     "execution_count": 101,
     "metadata": {},
     "output_type": "execute_result"
    }
   ],
   "source": [
    "gn.message(t.tensor([[0.1, 0.2]]),\n",
    "           t.tensor([[0.2, 0.3]]))"
   ]
  },
  {
   "cell_type": "code",
   "execution_count": 94,
   "id": "a3a79027-444f-4665-ab86-33497de93080",
   "metadata": {},
   "outputs": [
    {
     "ename": "TypeError",
     "evalue": "_lambdifygenerated() takes 2 positional arguments but 4 were given",
     "output_type": "error",
     "traceback": [
      "\u001b[0;31m---------------------------------------------------------------------------\u001b[0m",
      "\u001b[0;31mTypeError\u001b[0m                                 Traceback (most recent call last)",
      "Input \u001b[0;32mIn [94]\u001b[0m, in \u001b[0;36m<cell line: 1>\u001b[0;34m()\u001b[0m\n\u001b[0;32m----> 1\u001b[0m \u001b[43mgn_time_series\u001b[49m\u001b[43m(\u001b[49m\u001b[43msrgn\u001b[49m\u001b[43m,\u001b[49m\u001b[43m \u001b[49m\u001b[38;5;241;43m10\u001b[39;49m\u001b[43m,\u001b[49m\u001b[43m \u001b[49m\u001b[43msample_graph_from_gn\u001b[49m\u001b[43m(\u001b[49m\u001b[43msrgn\u001b[49m\u001b[43m)\u001b[49m\u001b[43m)\u001b[49m\n",
      "File \u001b[0;32m~/github/gninvert/gninvert/functions.py:51\u001b[0m, in \u001b[0;36mgn_time_series\u001b[0;34m(gn, iterations, data)\u001b[0m\n\u001b[1;32m     49\u001b[0m \u001b[38;5;28;01mdef\u001b[39;00m \u001b[38;5;21mlog_graph\u001b[39m(i, gdata):\n\u001b[1;32m     50\u001b[0m     gdata_time_series\u001b[38;5;241m.\u001b[39mappend(gdata)\n\u001b[0;32m---> 51\u001b[0m \u001b[43mrun_GN\u001b[49m\u001b[43m(\u001b[49m\u001b[43mgn\u001b[49m\u001b[43m,\u001b[49m\u001b[43m \u001b[49m\u001b[43miterations\u001b[49m\u001b[43m,\u001b[49m\u001b[43m \u001b[49m\u001b[43mdata\u001b[49m\u001b[43m,\u001b[49m\u001b[43m \u001b[49m\u001b[43mlog_fn\u001b[49m\u001b[43m \u001b[49m\u001b[38;5;241;43m=\u001b[39;49m\u001b[43m \u001b[49m\u001b[43mlog_graph\u001b[49m\u001b[43m)\u001b[49m\n\u001b[1;32m     52\u001b[0m \u001b[38;5;28;01mreturn\u001b[39;00m gdata_time_series\n",
      "File \u001b[0;32m~/github/gninvert/gninvert/functions.py:42\u001b[0m, in \u001b[0;36mrun_GN\u001b[0;34m(gn, iterations, data, log_fn)\u001b[0m\n\u001b[1;32m     40\u001b[0m edge_index \u001b[38;5;241m=\u001b[39m data\u001b[38;5;241m.\u001b[39medge_index\n\u001b[1;32m     41\u001b[0m \u001b[38;5;28;01mfor\u001b[39;00m i \u001b[38;5;129;01min\u001b[39;00m \u001b[38;5;28mrange\u001b[39m(iterations):\n\u001b[0;32m---> 42\u001b[0m     node_attr_tensor \u001b[38;5;241m=\u001b[39m \u001b[43mgn\u001b[49m\u001b[38;5;241;43m.\u001b[39;49m\u001b[43mforward\u001b[49m\u001b[43m(\u001b[49m\u001b[43mdata\u001b[49m\u001b[43m)\u001b[49m\n\u001b[1;32m     43\u001b[0m     data \u001b[38;5;241m=\u001b[39m ptgeo\u001b[38;5;241m.\u001b[39mdata\u001b[38;5;241m.\u001b[39mData(x\u001b[38;5;241m=\u001b[39mnode_attr_tensor, edge_index\u001b[38;5;241m=\u001b[39medge_index)\n\u001b[1;32m     44\u001b[0m     log_fn(i\u001b[38;5;241m+\u001b[39m\u001b[38;5;241m1\u001b[39m, data)\n",
      "File \u001b[0;32m~/github/gninvert/gninvert/gns.py:190\u001b[0m, in \u001b[0;36mEquationGN.forward\u001b[0;34m(self, gdata)\u001b[0m\n\u001b[1;32m    189\u001b[0m \u001b[38;5;28;01mdef\u001b[39;00m \u001b[38;5;21mforward\u001b[39m(\u001b[38;5;28mself\u001b[39m, gdata):\n\u001b[0;32m--> 190\u001b[0m     \u001b[38;5;28;01mreturn\u001b[39;00m \u001b[38;5;28;43mself\u001b[39;49m\u001b[38;5;241;43m.\u001b[39;49m\u001b[43mpropagate\u001b[49m\u001b[43m(\u001b[49m\u001b[43mgdata\u001b[49m\u001b[38;5;241;43m.\u001b[39;49m\u001b[43medge_index\u001b[49m\u001b[43m,\u001b[49m\u001b[43m \u001b[49m\u001b[43mx\u001b[49m\u001b[38;5;241;43m=\u001b[39;49m\u001b[43mgdata\u001b[49m\u001b[38;5;241;43m.\u001b[39;49m\u001b[43mx\u001b[49m\u001b[43m)\u001b[49m\n",
      "File \u001b[0;32m~/.pyenv/versions/3.9.10/lib/python3.9/site-packages/torch_geometric/nn/conv/message_passing.py:317\u001b[0m, in \u001b[0;36mMessagePassing.propagate\u001b[0;34m(self, edge_index, size, **kwargs)\u001b[0m\n\u001b[1;32m    315\u001b[0m     \u001b[38;5;28;01mif\u001b[39;00m res \u001b[38;5;129;01mis\u001b[39;00m \u001b[38;5;129;01mnot\u001b[39;00m \u001b[38;5;28;01mNone\u001b[39;00m:\n\u001b[1;32m    316\u001b[0m         msg_kwargs \u001b[38;5;241m=\u001b[39m res[\u001b[38;5;241m0\u001b[39m] \u001b[38;5;28;01mif\u001b[39;00m \u001b[38;5;28misinstance\u001b[39m(res, \u001b[38;5;28mtuple\u001b[39m) \u001b[38;5;28;01melse\u001b[39;00m res\n\u001b[0;32m--> 317\u001b[0m out \u001b[38;5;241m=\u001b[39m \u001b[38;5;28;43mself\u001b[39;49m\u001b[38;5;241;43m.\u001b[39;49m\u001b[43mmessage\u001b[49m\u001b[43m(\u001b[49m\u001b[38;5;241;43m*\u001b[39;49m\u001b[38;5;241;43m*\u001b[39;49m\u001b[43mmsg_kwargs\u001b[49m\u001b[43m)\u001b[49m\n\u001b[1;32m    318\u001b[0m \u001b[38;5;28;01mfor\u001b[39;00m hook \u001b[38;5;129;01min\u001b[39;00m \u001b[38;5;28mself\u001b[39m\u001b[38;5;241m.\u001b[39m_message_forward_hooks\u001b[38;5;241m.\u001b[39mvalues():\n\u001b[1;32m    319\u001b[0m     res \u001b[38;5;241m=\u001b[39m hook(\u001b[38;5;28mself\u001b[39m, (msg_kwargs, ), out)\n",
      "File \u001b[0;32m~/github/gninvert/gninvert/gns.py:184\u001b[0m, in \u001b[0;36mEquationGN.message\u001b[0;34m(self, x_i, x_j)\u001b[0m\n\u001b[1;32m    183\u001b[0m \u001b[38;5;28;01mdef\u001b[39;00m \u001b[38;5;21mmessage\u001b[39m(\u001b[38;5;28mself\u001b[39m, x_i, x_j):\n\u001b[0;32m--> 184\u001b[0m     \u001b[38;5;28;01mreturn\u001b[39;00m \u001b[38;5;28;43mself\u001b[39;49m\u001b[38;5;241;43m.\u001b[39;49m\u001b[43mmessage_fn\u001b[49m\u001b[43m(\u001b[49m\u001b[43mt\u001b[49m\u001b[38;5;241;43m.\u001b[39;49m\u001b[43mcat\u001b[49m\u001b[43m(\u001b[49m\u001b[43m[\u001b[49m\u001b[43mx_i\u001b[49m\u001b[43m,\u001b[49m\u001b[43m \u001b[49m\u001b[43mx_j\u001b[49m\u001b[43m]\u001b[49m\u001b[43m,\u001b[49m\u001b[43m \u001b[49m\u001b[38;5;241;43m1\u001b[39;49m\u001b[43m)\u001b[49m\u001b[43m)\u001b[49m\n",
      "File \u001b[0;32m~/github/gninvert/gninvert/gns.py:168\u001b[0m, in \u001b[0;36mcomponent_fns_to_vector_fn.<locals>.fn\u001b[0;34m(in_tensor)\u001b[0m\n\u001b[1;32m    167\u001b[0m \u001b[38;5;28;01mdef\u001b[39;00m \u001b[38;5;21mfn\u001b[39m(in_tensor):\n\u001b[0;32m--> 168\u001b[0m     comps \u001b[38;5;241m=\u001b[39m [comp_fn(in_tensor) \u001b[38;5;28;01mfor\u001b[39;00m comp_fn \u001b[38;5;129;01min\u001b[39;00m component_fns]\n\u001b[1;32m    169\u001b[0m     stacked \u001b[38;5;241m=\u001b[39m t\u001b[38;5;241m.\u001b[39mstack(comps, dim\u001b[38;5;241m=\u001b[39m\u001b[38;5;241m1\u001b[39m)\u001b[38;5;241m.\u001b[39mclone()\u001b[38;5;241m.\u001b[39mdetach()\n\u001b[1;32m    170\u001b[0m     \u001b[38;5;28;01mreturn\u001b[39;00m stacked\n",
      "File \u001b[0;32m~/github/gninvert/gninvert/gns.py:168\u001b[0m, in \u001b[0;36m<listcomp>\u001b[0;34m(.0)\u001b[0m\n\u001b[1;32m    167\u001b[0m \u001b[38;5;28;01mdef\u001b[39;00m \u001b[38;5;21mfn\u001b[39m(in_tensor):\n\u001b[0;32m--> 168\u001b[0m     comps \u001b[38;5;241m=\u001b[39m [\u001b[43mcomp_fn\u001b[49m\u001b[43m(\u001b[49m\u001b[43min_tensor\u001b[49m\u001b[43m)\u001b[49m \u001b[38;5;28;01mfor\u001b[39;00m comp_fn \u001b[38;5;129;01min\u001b[39;00m component_fns]\n\u001b[1;32m    169\u001b[0m     stacked \u001b[38;5;241m=\u001b[39m t\u001b[38;5;241m.\u001b[39mstack(comps, dim\u001b[38;5;241m=\u001b[39m\u001b[38;5;241m1\u001b[39m)\u001b[38;5;241m.\u001b[39mclone()\u001b[38;5;241m.\u001b[39mdetach()\n\u001b[1;32m    170\u001b[0m     \u001b[38;5;28;01mreturn\u001b[39;00m stacked\n",
      "File \u001b[0;32m~/.pyenv/versions/3.9.10/lib/python3.9/site-packages/pysr/sr.py:279\u001b[0m, in \u001b[0;36mCallableEquation.__call__\u001b[0;34m(self, X)\u001b[0m\n\u001b[1;32m    277\u001b[0m \u001b[38;5;28;01melif\u001b[39;00m \u001b[38;5;28mself\u001b[39m\u001b[38;5;241m.\u001b[39m_selection \u001b[38;5;129;01mis\u001b[39;00m \u001b[38;5;129;01mnot\u001b[39;00m \u001b[38;5;28;01mNone\u001b[39;00m:\n\u001b[1;32m    278\u001b[0m     \u001b[38;5;28;01mreturn\u001b[39;00m \u001b[38;5;28mself\u001b[39m\u001b[38;5;241m.\u001b[39m_lambda(\u001b[38;5;241m*\u001b[39mX[:, \u001b[38;5;28mself\u001b[39m\u001b[38;5;241m.\u001b[39m_selection]\u001b[38;5;241m.\u001b[39mT)\n\u001b[0;32m--> 279\u001b[0m \u001b[38;5;28;01mreturn\u001b[39;00m \u001b[38;5;28;43mself\u001b[39;49m\u001b[38;5;241;43m.\u001b[39;49m\u001b[43m_lambda\u001b[49m\u001b[43m(\u001b[49m\u001b[38;5;241;43m*\u001b[39;49m\u001b[43mX\u001b[49m\u001b[38;5;241;43m.\u001b[39;49m\u001b[43mT\u001b[49m\u001b[43m)\u001b[49m\n",
      "\u001b[0;31mTypeError\u001b[0m: _lambdifygenerated() takes 2 positional arguments but 4 were given"
     ]
    }
   ],
   "source": [
    "gn_time_series(srgn, 10, sample_graph_from_gn(srgn))"
   ]
  },
  {
   "cell_type": "code",
   "execution_count": 75,
   "id": "1ed080c9-c07f-4efe-8c6a-cd34f63dda71",
   "metadata": {},
   "outputs": [
    {
     "data": {
      "text/plain": [
       "1"
      ]
     },
     "execution_count": 75,
     "metadata": {},
     "output_type": "execute_result"
    }
   ],
   "source": [
    "gn.message_features"
   ]
  },
  {
   "cell_type": "code",
   "execution_count": 77,
   "id": "1f63a922-7608-40c1-b05a-1025617f87ba",
   "metadata": {},
   "outputs": [
    {
     "data": {
      "text/plain": [
       "1"
      ]
     },
     "execution_count": 77,
     "metadata": {},
     "output_type": "execute_result"
    }
   ],
   "source": [
    "srgn.message_features"
   ]
  },
  {
   "cell_type": "code",
   "execution_count": 22,
   "id": "9eb01abf-432b-4851-8935-439e8ebb959d",
   "metadata": {},
   "outputs": [
    {
     "data": {
      "text/plain": [
       "{'message_sr_result': [complexity                                                      9\n",
       "  loss                                                     0.000568\n",
       "  score                                                    1.825053\n",
       "  equation               ((xt2 + (xt1 - (xs1 + xs2))) * 0.63471156)\n",
       "  sympy_format    -0.63471156*xs1 - 0.63471156*xs2 + 0.63471156*...\n",
       "  Name: 4, dtype: object,\n",
       "  complexity                                                     15\n",
       "  loss                                                     0.000234\n",
       "  score                                                    0.828622\n",
       "  equation        ((xs2 - ((((xs1 - (xt1 - xt3)) - xs3) / -1.759...\n",
       "  sympy_format    0.144221327244743*xs1 + 0.25371775*xs2 - 0.144...\n",
       "  Name: 7, dtype: object,\n",
       "  complexity                                                     11\n",
       "  loss                                                     0.000079\n",
       "  score                                                    2.151794\n",
       "  equation        (((xt1 - ((xt2 - xs2) * 0.55725837)) - xs1) * ...\n",
       "  sympy_format    -0.58220094*xs1 + 0.324436346836868*xs2 + 0.58...\n",
       "  Name: 5, dtype: object],\n",
       " 'update_sr_result': [complexity                       3\n",
       "  loss                      0.003094\n",
       "  score                     0.787751\n",
       "  equation        (a1 + -0.10890031)\n",
       "  sympy_format       a1 - 0.10890031\n",
       "  Name: 1, dtype: object,\n",
       "  complexity                                                      9\n",
       "  loss                                                     0.000234\n",
       "  score                                                    0.424626\n",
       "  equation        ((a2 + 0.017680613) + ((xt3 - xt1) * 0.09690612))\n",
       "  sympy_format    a2 - 0.09690612*xt1 + 0.09690612*xt3 + 0.01768...\n",
       "  Name: 4, dtype: object,\n",
       "  complexity                               5\n",
       "  loss                              0.001154\n",
       "  score                             0.820232\n",
       "  equation        ((xt2 * -0.27702004) + a3)\n",
       "  sympy_format           a3 - 0.27702004*xt2\n",
       "  Name: 2, dtype: object],\n",
       " 'message_variable_order': [[xt1, xt2, xt3, xs1, xs2, xs3],\n",
       "  [xt1, xt2, xt3, xs1, xs2, xs3],\n",
       "  [xt1, xt2, xt3, xs1, xs2, xs3]],\n",
       " 'update_variable_order': [[xt1, xt2, xt3, a1, a2, a3],\n",
       "  [xt1, xt2, xt3, a1, a2, a3],\n",
       "  [xt1, xt2, xt3, a1, a2, a3]],\n",
       " 'data_trained_on': <gninvert.data_generation.TrainingData, 6 train size / 2 validation size / shuffle False>}"
      ]
     },
     "execution_count": 22,
     "metadata": {},
     "output_type": "execute_result"
    }
   ],
   "source": [
    "t.load('runs/three_vardiff3/sr')"
   ]
  },
  {
   "cell_type": "code",
   "execution_count": 18,
   "id": "c43b25d5-2a91-4cc2-b8b1-61f625dc8cc9",
   "metadata": {},
   "outputs": [
    {
     "data": {
      "text/plain": [
       "{'message_sr_result': [complexity                                        5\n",
       "  loss                                       0.000381\n",
       "  score                                      1.033665\n",
       "  equation        ((xs2 + -0.50588024) * -0.19902961)\n",
       "  sympy_format     0.100685146873906 - 0.19902961*xs2\n",
       "  Name: 2, dtype: object,\n",
       "  complexity                                        5\n",
       "  loss                                         0.0002\n",
       "  score                                      0.887728\n",
       "  equation         ((xs3 - 0.48845932) * -0.13252312)\n",
       "  sympy_format    0.0647321530794784 - 0.13252312*xs3\n",
       "  Name: 2, dtype: object],\n",
       " 'update_sr_result': [complexity                                       7\n",
       "  loss                                      0.116217\n",
       "  score                                     0.053427\n",
       "  equation        (a1 + (0.0004056322 / (xt1 - a2)))\n",
       "  sympy_format         a1 + 0.0004056322/(-a2 + xt1)\n",
       "  Name: 3, dtype: object,\n",
       "  complexity                             5\n",
       "  loss                              0.0102\n",
       "  score                            0.35698\n",
       "  equation        (a2 / (xt2 + 1.0717449))\n",
       "  sympy_format        a2/(xt2 + 1.0717449)\n",
       "  Name: 2, dtype: object,\n",
       "  complexity                      3\n",
       "  loss                     0.020774\n",
       "  score                    0.342323\n",
       "  equation        (xt1 * 0.6320785)\n",
       "  sympy_format        0.6320785*xt1\n",
       "  Name: 1, dtype: object],\n",
       " 'message_variable_order': [[xt1, xt2, xt3, xs1, xs2, xs3],\n",
       "  [xt1, xt2, xt3, xs1, xs2, xs3]],\n",
       " 'update_variable_order': [[xt1, xt2, xt3, a1, a2],\n",
       "  [xt1, xt2, xt3, a1, a2],\n",
       "  [xt1, xt2, xt3, a1, a2]],\n",
       " 'data_trained_on': <gninvert.data_generation.TrainingData, 6 train size / 2 validation size / shuffle False>}"
      ]
     },
     "execution_count": 18,
     "metadata": {},
     "output_type": "execute_result"
    }
   ],
   "source": [
    "t.load('runs/SEARCH3_act_inh_simple/sr')"
   ]
  },
  {
   "cell_type": "code",
   "execution_count": null,
   "id": "2158f3c0-eba7-4120-b988-e28ae10af13f",
   "metadata": {},
   "outputs": [],
   "source": []
  },
  {
   "cell_type": "code",
   "execution_count": null,
   "id": "dad6c04f-d855-4a50-bdf5-4647a2aa6d24",
   "metadata": {},
   "outputs": [],
   "source": []
  },
  {
   "cell_type": "code",
   "execution_count": null,
   "id": "08eb1561-a631-4f3a-95de-5bacd78c9b6e",
   "metadata": {},
   "outputs": [],
   "source": []
  },
  {
   "cell_type": "code",
   "execution_count": null,
   "id": "f53713c0-dd49-432a-ac68-e91c81ff5cf2",
   "metadata": {},
   "outputs": [],
   "source": []
  },
  {
   "cell_type": "code",
   "execution_count": null,
   "id": "fbac69a8-e703-4039-9cc3-6783ea2927a9",
   "metadata": {},
   "outputs": [],
   "source": []
  },
  {
   "cell_type": "code",
   "execution_count": null,
   "id": "66fde87f-020b-4f9c-b929-2452f454dc60",
   "metadata": {},
   "outputs": [],
   "source": []
  },
  {
   "cell_type": "code",
   "execution_count": null,
   "id": "665a2269-4344-4f11-894a-3c6116d3dd23",
   "metadata": {},
   "outputs": [],
   "source": []
  },
  {
   "cell_type": "code",
   "execution_count": null,
   "id": "49e4ed1f-ddfe-4fd6-8573-e70623bdc256",
   "metadata": {},
   "outputs": [],
   "source": []
  },
  {
   "cell_type": "code",
   "execution_count": null,
   "id": "bff77e42-292b-466f-94f8-662906421cf1",
   "metadata": {},
   "outputs": [],
   "source": []
  },
  {
   "cell_type": "code",
   "execution_count": null,
   "id": "0a78bf69-1e16-4d33-8801-808c7eb0c498",
   "metadata": {},
   "outputs": [],
   "source": []
  }
 ],
 "metadata": {
  "kernelspec": {
   "display_name": "Python 3 (ipykernel)",
   "language": "python",
   "name": "python3"
  },
  "language_info": {
   "codemirror_mode": {
    "name": "ipython",
    "version": 3
   },
   "file_extension": ".py",
   "mimetype": "text/x-python",
   "name": "python",
   "nbconvert_exporter": "python",
   "pygments_lexer": "ipython3",
   "version": "3.9.10"
  }
 },
 "nbformat": 4,
 "nbformat_minor": 5
}

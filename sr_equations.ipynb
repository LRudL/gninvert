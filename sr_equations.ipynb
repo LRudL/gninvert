{
 "cells": [
  {
   "cell_type": "code",
   "execution_count": 1,
   "id": "b77c9b76-2bb2-41e0-83bd-d06bb82e3ad4",
   "metadata": {},
   "outputs": [],
   "source": [
    "%load_ext autoreload\n",
    "%autoreload 2\n",
    "import torch as t\n",
    "import matplotlib.pyplot as plt\n",
    "from gninvert.functions import sort_with\n",
    "from gninvert.graph_compare import model_compare\n",
    "from gninvert.rule_discovery import *\n",
    "from gninvert.hyperparamsearch import get_hyperparam_dtree, view_hp_results_graph, hp_stats\n",
    "from gninvert.dtree import decision_tree_paths\n",
    "from gninvert.gns import RecoveredGN"
   ]
  },
  {
   "cell_type": "code",
   "execution_count": 5,
   "id": "6e10585a-88f6-43ca-9994-db82e440a894",
   "metadata": {},
   "outputs": [
    {
     "data": {
      "text/plain": [
       "{'message_sr_result': complexity                      5\n",
       " loss                          0.0\n",
       " score                         inf\n",
       " equation        ((xs - xt) * 0.1)\n",
       " sympy_format      0.1*xs - 0.1*xt\n",
       " Name: 2, dtype: object,\n",
       " 'update_sr_result': complexity             3\n",
       " loss                 0.0\n",
       " score                inf\n",
       " equation        (xt + a)\n",
       " sympy_format      a + xt\n",
       " Name: 1, dtype: object,\n",
       " 'message_variable_order': [xt, xs],\n",
       " 'update_variable_order': [xt, a],\n",
       " 'data_trained_on': <gninvert.data_generation.TrainingData, 6 train size / 2 validation size / shuffle False>}"
      ]
     },
     "execution_count": 5,
     "metadata": {},
     "output_type": "execute_result"
    }
   ],
   "source": [
    "sr_on_gn_diff1 = t.load('runs/SR_diff1/sr')\n",
    "sr_on_gn_diff1"
   ]
  },
  {
   "cell_type": "code",
   "execution_count": 7,
   "id": "53a993b1-ed92-46a7-b947-7bed0bcc7c35",
   "metadata": {},
   "outputs": [
    {
     "data": {
      "text/plain": [
       "{'message_sr_result': [complexity                                    5\n",
       "  loss                                        0.0\n",
       "  score                                       inf\n",
       "  equation             ((xs1 - xt1) * 0.10000013)\n",
       "  sympy_format    0.10000013*xs1 - 0.10000013*xt1\n",
       "  Name: 2, dtype: object,\n",
       "  complexity                         5\n",
       "  loss                             0.0\n",
       "  score                            inf\n",
       "  equation        ((xt2 - xs2) * -0.1)\n",
       "  sympy_format       0.1*xs2 - 0.1*xt2\n",
       "  Name: 2, dtype: object],\n",
       " 'update_sr_result': [complexity               3\n",
       "  loss                   0.0\n",
       "  score                  inf\n",
       "  equation        (xt1 + a1)\n",
       "  sympy_format      a1 + xt1\n",
       "  Name: 1, dtype: object,\n",
       "  complexity               3\n",
       "  loss                   0.0\n",
       "  score                  inf\n",
       "  equation        (xt2 + a2)\n",
       "  sympy_format      a2 + xt2\n",
       "  Name: 1, dtype: object],\n",
       " 'message_variable_order': [[xt1, xt2, xs1, xs2], [xt1, xt2, xs1, xs2]],\n",
       " 'update_variable_order': [[xt1, xt2, a1, a2], [xt1, xt2, a1, a2]],\n",
       " 'data_trained_on': <gninvert.data_generation.TrainingData, 6 train size / 2 validation size / shuffle False>}"
      ]
     },
     "execution_count": 7,
     "metadata": {},
     "output_type": "execute_result"
    }
   ],
   "source": [
    "sr_on_gn_diff2 = t.load('runs/SR_diff2/sr')\n",
    "sr_on_gn_diff2"
   ]
  },
  {
   "cell_type": "code",
   "execution_count": null,
   "id": "a28074e9-5a51-47cf-9564-d9f672a0b6b6",
   "metadata": {},
   "outputs": [],
   "source": []
  },
  {
   "cell_type": "code",
   "execution_count": 8,
   "id": "5a8912fd-5119-4465-ae23-973929bedfc6",
   "metadata": {},
   "outputs": [
    {
     "data": {
      "text/plain": [
       "{'message_sr_result': [complexity                         5\n",
       "  loss                             0.0\n",
       "  score                            inf\n",
       "  equation        ((xt1 - xs1) * -0.1)\n",
       "  sympy_format       0.1*xs1 - 0.1*xt1\n",
       "  Name: 2, dtype: object,\n",
       "  complexity                                    5\n",
       "  loss                                        0.0\n",
       "  score                                       inf\n",
       "  equation             ((xs2 - xt2) * 0.09999987)\n",
       "  sympy_format    0.09999987*xs2 - 0.09999987*xt2\n",
       "  Name: 2, dtype: object,\n",
       "  complexity                                      5\n",
       "  loss                                          0.0\n",
       "  score                                         inf\n",
       "  equation             ((xt3 - xs3) * -0.099999994)\n",
       "  sympy_format    0.099999994*xs3 - 0.099999994*xt3\n",
       "  Name: 2, dtype: object],\n",
       " 'update_sr_result': [complexity               3\n",
       "  loss                   0.0\n",
       "  score                  inf\n",
       "  equation        (a1 + xt1)\n",
       "  sympy_format      a1 + xt1\n",
       "  Name: 1, dtype: object,\n",
       "  complexity               3\n",
       "  loss                   0.0\n",
       "  score                  inf\n",
       "  equation        (xt2 + a2)\n",
       "  sympy_format      a2 + xt2\n",
       "  Name: 1, dtype: object,\n",
       "  complexity               3\n",
       "  loss                   0.0\n",
       "  score                  inf\n",
       "  equation        (a3 + xt3)\n",
       "  sympy_format      a3 + xt3\n",
       "  Name: 1, dtype: object],\n",
       " 'message_variable_order': [[xt1, xt2, xt3, xs1, xs2, xs3],\n",
       "  [xt1, xt2, xt3, xs1, xs2, xs3],\n",
       "  [xt1, xt2, xt3, xs1, xs2, xs3]],\n",
       " 'update_variable_order': [[xt1, xt2, xt3, a1, a2, a3],\n",
       "  [xt1, xt2, xt3, a1, a2, a3],\n",
       "  [xt1, xt2, xt3, a1, a2, a3]],\n",
       " 'data_trained_on': <gninvert.data_generation.TrainingData, 6 train size / 2 validation size / shuffle False>}"
      ]
     },
     "execution_count": 8,
     "metadata": {},
     "output_type": "execute_result"
    }
   ],
   "source": [
    "sr_on_gn_diff3 = t.load('runs/SR_diff3/sr')\n",
    "sr_on_gn_diff3"
   ]
  },
  {
   "cell_type": "code",
   "execution_count": 11,
   "id": "1fa3b304-df20-4d37-ace4-151c5de922e7",
   "metadata": {},
   "outputs": [
    {
     "data": {
      "text/plain": [
       "{'message_sr_result': [complexity                         5\n",
       "  loss                             0.0\n",
       "  score                            inf\n",
       "  equation        ((xt2 - xs2) * -0.1)\n",
       "  sympy_format       0.1*xs2 - 0.1*xt2\n",
       "  Name: 2, dtype: object,\n",
       "  complexity                                    5\n",
       "  loss                                        0.0\n",
       "  score                                       inf\n",
       "  equation             ((xs3 - xt3) * 0.04999993)\n",
       "  sympy_format    0.04999993*xs3 - 0.04999993*xt3\n",
       "  Name: 2, dtype: object],\n",
       " 'update_sr_result': [complexity                                      9\n",
       "  loss                                          0.0\n",
       "  score                                         inf\n",
       "  equation        (a1 + (((a3 - a2) * -0.05) / a1))\n",
       "  sympy_format          a1 + (0.05*a2 - 0.05*a3)/a1\n",
       "  Name: 4, dtype: object,\n",
       "  complexity               3\n",
       "  loss                   0.0\n",
       "  score                  inf\n",
       "  equation        (xt1 + a2)\n",
       "  sympy_format      a2 + xt1\n",
       "  Name: 1, dtype: object,\n",
       "  complexity               3\n",
       "  loss                   0.0\n",
       "  score                  inf\n",
       "  equation        (xt2 + a3)\n",
       "  sympy_format      a3 + xt2\n",
       "  Name: 1, dtype: object],\n",
       " 'message_variable_order': [[xt1, xt2, xt3, xs1, xs2, xs3],\n",
       "  [xt1, xt2, xt3, xs1, xs2, xs3]],\n",
       " 'update_variable_order': [[xt1, xt2, a1, a2, a3],\n",
       "  [xt1, xt2, a1, a2, a3],\n",
       "  [xt1, xt2, a1, a2, a3]],\n",
       " 'data_trained_on': <gninvert.data_generation.TrainingData, 6 train size / 2 validation size / shuffle False>}"
      ]
     },
     "execution_count": 11,
     "metadata": {},
     "output_type": "execute_result"
    }
   ],
   "source": [
    "sr_on_gn_actinh = t.load('runs/SR_act_inh_simple/sr')\n",
    "sr_on_gn_actinh\n",
    "# NOTE! Below, the a and xt variables are swapped in the update equations\n",
    "# (this bug, purely about naming, existed when the runs were made but has since been fixed)"
   ]
  },
  {
   "cell_type": "code",
   "execution_count": 12,
   "id": "f92a2889-72d5-4886-8651-008b58922f3d",
   "metadata": {},
   "outputs": [
    {
     "data": {
      "text/plain": [
       "{'message_sr_result': [complexity                                    5\n",
       "  loss                                        0.0\n",
       "  score                                       inf\n",
       "  equation             ((xs2 - xt2) * 0.10000013)\n",
       "  sympy_format    0.10000013*xs2 - 0.10000013*xt2\n",
       "  Name: 2, dtype: object,\n",
       "  complexity                         5\n",
       "  loss                             0.0\n",
       "  score                            inf\n",
       "  equation        ((xs3 - xt3) * 0.01)\n",
       "  sympy_format     0.01*xs3 - 0.01*xt3\n",
       "  Name: 2, dtype: object],\n",
       " 'update_sr_result': [complexity                       3\n",
       "  loss                      0.000512\n",
       "  score                     0.366335\n",
       "  equation        (a1 + 0.023522463)\n",
       "  sympy_format      a1 + 0.023522463\n",
       "  Name: 1, dtype: object,\n",
       "  complexity                                                     11\n",
       "  loss                                                     0.006075\n",
       "  score                                                    0.884396\n",
       "  equation        ((a2 * ((a2 * 0.18499938) / (a3 + 0.009190684)...\n",
       "  sympy_format             0.18499938*a2**2/(a3 + 0.009190684) + a2\n",
       "  Name: 5, dtype: object,\n",
       "  complexity                                                   9\n",
       "  loss                                                  0.016005\n",
       "  score                                                 0.862718\n",
       "  equation        ((a2 / ((a1 / 0.0775183) + 0.076068014)) + a3)\n",
       "  sympy_format       a2/(12.9001796995032*a1 + 0.076068014) + a3\n",
       "  Name: 4, dtype: object],\n",
       " 'message_variable_order': [[xt1, xt2, xt3, xs1, xs2, xs3],\n",
       "  [xt1, xt2, xt3, xs1, xs2, xs3]],\n",
       " 'update_variable_order': [[xt1, xt2, a1, a2, a3],\n",
       "  [xt1, xt2, a1, a2, a3],\n",
       "  [xt1, xt2, a1, a2, a3]],\n",
       " 'data_trained_on': <gninvert.data_generation.TrainingData, 6 train size / 2 validation size / shuffle False>}"
      ]
     },
     "execution_count": 12,
     "metadata": {},
     "output_type": "execute_result"
    }
   ],
   "source": [
    "sr_on_gn_actinh_full = t.load('runs/SR_act_inh_full/sr')\n",
    "sr_on_gn_actinh_full\n",
    "# NOTE! Below, the a and xt variables are swapped in the update equations\n",
    "# (this bug, purely about naming, existed when the runs were made but has since been fixed)"
   ]
  },
  {
   "cell_type": "code",
   "execution_count": null,
   "id": "33cbb29d-2969-42e9-8a5a-d62011e9702e",
   "metadata": {},
   "outputs": [],
   "source": []
  }
 ],
 "metadata": {
  "kernelspec": {
   "display_name": "Python 3 (ipykernel)",
   "language": "python",
   "name": "python3"
  },
  "language_info": {
   "codemirror_mode": {
    "name": "ipython",
    "version": 3
   },
   "file_extension": ".py",
   "mimetype": "text/x-python",
   "name": "python",
   "nbconvert_exporter": "python",
   "pygments_lexer": "ipython3",
   "version": "3.9.10"
  }
 },
 "nbformat": 4,
 "nbformat_minor": 5
}

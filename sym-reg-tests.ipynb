{
 "cells": [
  {
   "cell_type": "code",
   "execution_count": 9,
   "id": "5656cf9a-9d46-4430-9fd8-6dc0c703d38d",
   "metadata": {},
   "outputs": [],
   "source": [
    "from gplearn.genetic import SymbolicRegressor\n",
    "from symbolic_regression import get_equations\n",
    "import numpy as np\n",
    "import torch as t"
   ]
  },
  {
   "cell_type": "code",
   "execution_count": 10,
   "id": "fac76c17-97c0-4c8a-93d0-d2ae5b00dbc3",
   "metadata": {},
   "outputs": [],
   "source": [
    "def function(X):\n",
    "    return (X[:, 0]**2 + 4 * X[:, 1] + 4).unsqueeze(-1)"
   ]
  },
  {
   "cell_type": "code",
   "execution_count": 4,
   "id": "9ef89a2b-2382-471e-be77-ef7e79b26ce7",
   "metadata": {},
   "outputs": [
    {
     "name": "stdout",
     "output_type": "stream",
     "text": [
      "tensor([[0.0485, 0.7103],\n",
      "        [0.3329, 0.2843],\n",
      "        [0.1369, 0.9737]])\n",
      "tensor([[6.8437],\n",
      "        [5.2482],\n",
      "        [7.9135]])\n"
     ]
    }
   ],
   "source": [
    "X = t.rand((100, 2))\n",
    "print(X[:3])\n",
    "y = function(X)\n",
    "print(y[:3])"
   ]
  },
  {
   "cell_type": "code",
   "execution_count": 5,
   "id": "f26a6407-8315-4c15-83dd-6e12c6bdad21",
   "metadata": {},
   "outputs": [
    {
     "name": "stdout",
     "output_type": "stream",
     "text": [
      "    |   Population Average    |             Best Individual              |\n",
      "---- ------------------------- ------------------------------------------ ----------\n",
      " Gen   Length          Fitness   Length          Fitness      OOB Fitness  Time Left\n",
      "   0    38.13          23588.6        7          1.11315         0.889813      3.61m\n",
      "   1    19.26          9.73101       59         0.396989         0.591577      2.64m\n",
      "   2    23.44          11.8322       11         0.302933         0.285764      2.62m\n",
      "   3    19.03          6.12308       25         0.147765          0.19919      2.50m\n",
      "   4    18.52          4.95059       25         0.144579         0.227867      2.41m\n",
      "   5    18.05          4.53769       19         0.109481        0.0950109      2.43m\n",
      "   6    16.09          5.06936       25        0.0683383        0.0987907      2.23m\n",
      "   7    16.03          4.88351       25        0.0715555        0.0698358      2.31m\n",
      "   8    16.17           4.5423       25        0.0696828        0.0866901      2.06m\n",
      "   9    17.84          5.61091       25        0.0682831        0.0992874      2.07m\n",
      "  10    18.83          5.18435       25        0.0678204         0.103451      2.04m\n",
      "  11    18.71           7.0345       25        0.0688012        0.0946245      1.94m\n",
      "  12    17.85           7.8673       25        0.0702747        0.0813632      1.89m\n",
      "  13    16.00          9.78652       19        0.0974385        0.0896365      1.74m\n",
      "  14    15.03          275.183       19         0.093914         0.121357      1.64m\n",
      "  15    14.96           9.8284       15        0.0948587         0.116678      1.58m\n",
      "  16    15.04          11.5763       15        0.0951792         0.113793      1.56m\n",
      "  17    15.13          9.79011       17        0.0849445        0.0813626      1.61m\n",
      "  18    14.95           12.507       17        0.0828081          0.10059      1.39m\n",
      "  19    15.00          13.1435       17        0.0846224        0.0842609      1.30m\n",
      "  20    15.05          12.7351       17        0.0841871        0.0881792      1.29m\n",
      "  21    14.94          12.7185       15        0.0905764         0.155219      1.19m\n",
      "  22    15.03          9.85023       15        0.0909554         0.151808      1.19m\n",
      "  23    14.87          9.59591       15        0.0902785           0.1579      1.07m\n",
      "  24    14.98          10.7366       15        0.0909021         0.152287     59.16s\n",
      "  25    14.86          16.8377       15        0.0898483         0.161771     55.02s\n",
      "  26    15.03          10.3327       15        0.0906662          0.15441     51.95s\n",
      "  27    14.96          17.4926       15        0.0905663          0.15531     46.71s\n",
      "  28    15.03          10.2786       15        0.0907055          0.13984     43.60s\n",
      "  29    14.89          10.5359       15        0.0904721         0.156158     41.23s\n",
      "  30    14.83          9.03385       15        0.0900574         0.145673     36.29s\n",
      "  31    14.95          9.24612       15        0.0887096         0.154256     31.40s\n",
      "  32    15.01          10.7598       15        0.0894554         0.147543     28.70s\n",
      "  33    14.87          12.3435       15        0.0887281         0.154089     24.00s\n",
      "  34    15.02          17.9857       15        0.0893435          0.14855     19.60s\n",
      "  35    15.02          9.71995       15         0.089428         0.151337     16.01s\n",
      "  36    14.68          10.6551       15        0.0889524          0.15207     11.87s\n",
      "  37    14.95           9.8684       15        0.0896935           0.1454      8.04s\n",
      "  38    14.89          9.95517       15        0.0889916         0.155264      4.01s\n",
      "  39    14.77          19.2814       15         0.088723         0.154135      0.00s\n"
     ]
    },
    {
     "data": {
      "text/plain": [
       "SymbolicRegressor(generations=40, max_samples=0.9, p_crossover=0.7,\n",
       "                  p_hoist_mutation=0.05, p_point_mutation=0.1,\n",
       "                  p_subtree_mutation=0.1, parsimony_coefficient=0.01,\n",
       "                  population_size=5000, random_state=0, stopping_criteria=0.001,\n",
       "                  verbose=1)"
      ]
     },
     "execution_count": 5,
     "metadata": {},
     "output_type": "execute_result"
    }
   ],
   "source": [
    "sr = SymbolicRegressor(\n",
    "    population_size=5000,\n",
    "    generations=40, stopping_criteria=0.001,\n",
    "    p_crossover=0.7, p_subtree_mutation=0.1,\n",
    "    p_hoist_mutation=0.05, p_point_mutation=0.1,\n",
    "    max_samples=0.9, verbose=1,\n",
    "    parsimony_coefficient=0.01, random_state=0\n",
    ")\n",
    "sr.fit(X, y.squeeze(dim=-1))"
   ]
  },
  {
   "cell_type": "code",
   "execution_count": 12,
   "id": "986539c0-aec6-4026-9fb1-e88e4eb367dc",
   "metadata": {},
   "outputs": [
    {
     "name": "stdout",
     "output_type": "stream",
     "text": [
      "add(add(0.790, X0), mul(div(mul(-0.277, -0.797), sub(0.696, 0.645)), add(0.670, X1)))\n"
     ]
    }
   ],
   "source": [
    "print(sr)"
   ]
  },
  {
   "cell_type": "code",
   "execution_count": 13,
   "id": "0d59a455-7dbe-44a4-8c1d-e0449bc12036",
   "metadata": {},
   "outputs": [
    {
     "data": {
      "text/plain": [
       "tensor([14.2701], dtype=torch.float64)"
      ]
     },
     "execution_count": 13,
     "metadata": {},
     "output_type": "execute_result"
    }
   ],
   "source": [
    "sr._program.execute(t.tensor([[2, 2]]))"
   ]
  },
  {
   "cell_type": "code",
   "execution_count": 27,
   "id": "510e140b-7d17-45ee-a9e8-316ce0ef1eb6",
   "metadata": {},
   "outputs": [
    {
     "name": "stdout",
     "output_type": "stream",
     "text": [
      "add(div(0.581, 0.176), add(add(add(add(X1, X1), X1), add(0.543, X1)), sub(0.581, mul(-0.830, div(div(add(-0.442, mul(X0, X0)), div(0.578, 0.614)), div(0.578, 0.614))))))\n"
     ]
    }
   ],
   "source": [
    "print(srs[0])"
   ]
  },
  {
   "cell_type": "code",
   "execution_count": 28,
   "id": "7e60ccc2-c3dd-42ad-a604-768fbea1d040",
   "metadata": {},
   "outputs": [
    {
     "data": {
      "text/plain": [
       "array([ 8.00518886, 12.00518886,  8.94136859])"
      ]
     },
     "execution_count": 28,
     "metadata": {},
     "output_type": "execute_result"
    }
   ],
   "source": [
    "srs[0]._program.execute(np.array([[0, 1], [0, 2], [1, 1]]))"
   ]
  },
  {
   "cell_type": "code",
   "execution_count": null,
   "id": "3ad8066b-3005-447d-bf1c-a3b9b2df1e15",
   "metadata": {},
   "outputs": [],
   "source": []
  },
  {
   "cell_type": "code",
   "execution_count": null,
   "id": "daff7685-e030-4860-af28-2254eb28daf7",
   "metadata": {},
   "outputs": [],
   "source": []
  },
  {
   "cell_type": "code",
   "execution_count": 14,
   "id": "e0d2d36f-a260-4778-91f6-57ac9b2b5600",
   "metadata": {},
   "outputs": [],
   "source": [
    "x0 = np.arange(-1, 1, 1/10.)\n",
    "x1 = np.arange(-1, 1, 1/10.)\n",
    "x0, x1 = np.meshgrid(x0, x1)\n",
    "y_truth = x0**2 - x1**2 + x1 - 1\n"
   ]
  },
  {
   "cell_type": "code",
   "execution_count": 15,
   "id": "fb6d4eed-615a-4267-8662-4268f877f68d",
   "metadata": {},
   "outputs": [],
   "source": [
    "X_train = t.rand(100, 2).detach().numpy()\n",
    "y_train = X_train[:, 0]**2 - X_train[:, 1]**2 + X_train[:, 1] - 1"
   ]
  },
  {
   "cell_type": "code",
   "execution_count": 16,
   "id": "16c48c5c-cbd2-4f59-bbbf-3f0472b4b8ee",
   "metadata": {},
   "outputs": [
    {
     "name": "stdout",
     "output_type": "stream",
     "text": [
      "    |   Population Average    |             Best Individual              |\n",
      "---- ------------------------- ------------------------------------------ ----------\n",
      " Gen   Length          Fitness   Length          Fitness      OOB Fitness  Time Left\n",
      "   0    38.13          2669.81       11        0.0654363        0.0748386      1.73m\n",
      "   1     9.47           1.9699       11        0.0663953        0.0662079      1.10m\n",
      "   2     6.38          2.10702       11        0.0635211        0.0920751     57.15s\n",
      "   3     4.91           1.0223       11        0.0621707         0.104229     52.24s\n",
      "   4     3.40          0.63074        9        0.0682394        0.0656751     46.97s\n",
      "   5     3.48         0.667487        3         0.071136         0.140014     45.29s\n",
      "   6     3.32          1.12612        3        0.0698823         0.151297     41.47s\n",
      "   7     3.42         0.724485        3        0.0716385         0.135492     37.27s\n",
      "   8     3.35         0.676246        3        0.0705049         0.145694     35.53s\n",
      "   9     3.34          1.25423        3        0.0705764         0.144638     31.07s\n",
      "  10     3.31         0.650366        3        0.0703798          0.14682     28.24s\n",
      "  11     3.43          1.02812        3        0.0715406          0.13596     25.14s\n",
      "  12     3.44         0.867768        3        0.0711015         0.140325     22.91s\n",
      "  13     3.35         0.657017        3        0.0707421         0.143559     18.74s\n",
      "  14     3.41          1.15498        3        0.0702371         0.148104     15.93s\n",
      "  15     3.29         0.558527        3         0.070563         0.144759     12.95s\n",
      "  16     3.47          1.03687        3        0.0704336         0.146336      9.37s\n",
      "  17     3.38          1.20923        3        0.0702808         0.147299      6.29s\n",
      "  18     3.36          1.19777        3        0.0701688         0.148307      3.11s\n",
      "  19     3.34          1.45738        3        0.0708445         0.142637      0.00s\n"
     ]
    },
    {
     "data": {
      "text/plain": [
       "SymbolicRegressor(max_samples=0.9, p_crossover=0.7, p_hoist_mutation=0.05,\n",
       "                  p_point_mutation=0.1, p_subtree_mutation=0.1,\n",
       "                  parsimony_coefficient=0.01, population_size=5000,\n",
       "                  random_state=0, stopping_criteria=0.01, verbose=1)"
      ]
     },
     "execution_count": 16,
     "metadata": {},
     "output_type": "execute_result"
    }
   ],
   "source": [
    "est_gp = SymbolicRegressor(population_size=5000,\n",
    "                           generations=20, stopping_criteria=0.01,\n",
    "                           p_crossover=0.7, p_subtree_mutation=0.1,\n",
    "                           p_hoist_mutation=0.05, p_point_mutation=0.1,\n",
    "                           max_samples=0.9, verbose=1,\n",
    "                           parsimony_coefficient=0.01, random_state=0)\n",
    "est_gp.fit(X_train, y_train)\n"
   ]
  },
  {
   "cell_type": "code",
   "execution_count": 18,
   "id": "21969786-55e8-4314-863a-1871e6d40a30",
   "metadata": {},
   "outputs": [
    {
     "name": "stdout",
     "output_type": "stream",
     "text": [
      "sub(X0, 0.985)\n"
     ]
    }
   ],
   "source": [
    "print(est_gp._program)"
   ]
  },
  {
   "cell_type": "code",
   "execution_count": null,
   "id": "b8f5b5ea-5930-4100-9e01-9bef7dd5d289",
   "metadata": {},
   "outputs": [],
   "source": []
  },
  {
   "cell_type": "code",
   "execution_count": null,
   "id": "5aeaa1ed-f865-4c25-a7a8-c27f5d850076",
   "metadata": {},
   "outputs": [],
   "source": []
  },
  {
   "cell_type": "code",
   "execution_count": null,
   "id": "48ee3b17-703f-4936-a1c0-6abcb5904eae",
   "metadata": {},
   "outputs": [],
   "source": []
  },
  {
   "cell_type": "code",
   "execution_count": 113,
   "id": "e6b3a622-4bbb-4bef-8a2c-9d90af1df8fa",
   "metadata": {},
   "outputs": [
    {
     "name": "stdout",
     "output_type": "stream",
     "text": [
      "[[0.7056529  0.2468515  0.3755384 ]\n",
      " [0.7790533  0.5010682  0.15524495]\n",
      " [0.42188656 0.7039841  0.0691489 ]]\n",
      "[0.99164903 1.6090603  1.5859565 ]\n"
     ]
    }
   ],
   "source": [
    "est_gp = SymbolicRegressor(population_size=5000,\n",
    "                           generations=20, stopping_criteria=0.001,\n",
    "                           p_crossover=0.7, p_subtree_mutation=0.1,\n",
    "                           p_hoist_mutation=0.05, p_point_mutation=0.1,\n",
    "                           max_samples=0.9, verbose=1,\n",
    "                           parsimony_coefficient=0.01, random_state=0)\n",
    "\n",
    "x2 = t.rand((500, 3)).detach().numpy()\n",
    "print(x2[:3])\n",
    "y2 = x2[:,0] ** 2 + x2[:,1] * 2\n",
    "print(y2[:3])"
   ]
  },
  {
   "cell_type": "code",
   "execution_count": 114,
   "id": "b6392ee2-83a4-4941-be9e-4d762a4282c0",
   "metadata": {},
   "outputs": [
    {
     "name": "stdout",
     "output_type": "stream",
     "text": [
      "    |   Population Average    |             Best Individual              |\n",
      "---- ------------------------- ------------------------------------------ ----------\n",
      " Gen   Length          Fitness   Length          Fitness      OOB Fitness  Time Left\n",
      "   0    33.42      7.39237e+06        9        0.0845733        0.0833497      1.66m\n",
      "   1     8.55          1.96871        9        0.0835435        0.0926175      1.05m\n",
      "   2     6.20          1.28072        7                0                0     55.93s\n"
     ]
    },
    {
     "data": {
      "text/plain": [
       "SymbolicRegressor(max_samples=0.9, p_crossover=0.7, p_hoist_mutation=0.05,\n",
       "                  p_point_mutation=0.1, p_subtree_mutation=0.1,\n",
       "                  parsimony_coefficient=0.01, population_size=5000,\n",
       "                  random_state=0, stopping_criteria=0.001, verbose=1)"
      ]
     },
     "execution_count": 114,
     "metadata": {},
     "output_type": "execute_result"
    }
   ],
   "source": [
    "est_gp.fit(x2, y2)"
   ]
  },
  {
   "cell_type": "code",
   "execution_count": 115,
   "id": "67498e15-4900-493d-a97f-0c0a38b1fc65",
   "metadata": {},
   "outputs": [
    {
     "name": "stdout",
     "output_type": "stream",
     "text": [
      "add(mul(X0, X0), add(X1, X1))\n"
     ]
    }
   ],
   "source": [
    "print(est_gp)"
   ]
  },
  {
   "cell_type": "code",
   "execution_count": 108,
   "id": "96cb195f-68c5-4b00-9981-f6da46135686",
   "metadata": {},
   "outputs": [
    {
     "data": {
      "text/plain": [
       "array([27])"
      ]
     },
     "execution_count": 108,
     "metadata": {},
     "output_type": "execute_result"
    }
   ],
   "source": [
    "est_gp._program.execute(np.array([[5, 1]]))"
   ]
  },
  {
   "cell_type": "code",
   "execution_count": null,
   "id": "d18bd1f5-61dc-4046-9238-0c3e7e44596c",
   "metadata": {},
   "outputs": [],
   "source": []
  }
 ],
 "metadata": {
  "kernelspec": {
   "display_name": "Python 3 (ipykernel)",
   "language": "python",
   "name": "python3"
  },
  "language_info": {
   "codemirror_mode": {
    "name": "ipython",
    "version": 3
   },
   "file_extension": ".py",
   "mimetype": "text/x-python",
   "name": "python",
   "nbconvert_exporter": "python",
   "pygments_lexer": "ipython3",
   "version": "3.9.7"
  }
 },
 "nbformat": 4,
 "nbformat_minor": 5
}
